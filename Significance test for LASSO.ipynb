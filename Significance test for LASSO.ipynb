{
 "cells": [
  {
   "cell_type": "code",
   "execution_count": 1,
   "metadata": {
    "collapsed": false
   },
   "outputs": [
    {
     "name": "stderr",
     "output_type": "stream",
     "text": [
      "Loaded lars 1.2\n",
      "\n",
      "Loaded glmnet 2.0-5\n",
      "\n"
     ]
    }
   ],
   "source": [
    "libs <- c(\n",
    "    'covTest',\n",
    "    'tibble'\n",
    ")\n",
    "\n",
    "for (lib in libs) {\n",
    "        if (!require(lib, character.only = TRUE, quietly = TRUE)) {\n",
    "            install.packages(lib, repos='http://cran.us.r-project.org')\n",
    "        }\n",
    "}"
   ]
  },
  {
   "cell_type": "code",
   "execution_count": 13,
   "metadata": {
    "collapsed": false
   },
   "outputs": [],
   "source": [
    "p = 500 # number of betas\n",
    "n = 100 # number of samples\n",
    "\n",
    "# make scaled data mtrix of random noise\n",
    "X = matrix(rnorm(n*p),ncol=p)\n",
    "X = scale(X,TRUE,TRUE)/sqrt(n-1)\n",
    "\n",
    "# make y depend on x only through B nonzero betas\n",
    "B = 5\n",
    "nz_betas = c(1:B)\n",
    "beta = c(nz_betas,rep(0,p-length(nz_betas)))\n",
    "\n",
    "sigma = 0.25\n",
    "\n",
    "y = X%*%beta + sigma*rnorm(n)"
   ]
  },
  {
   "cell_type": "code",
   "execution_count": 1,
   "metadata": {
    "collapsed": false
   },
   "outputs": [
    {
     "ename": "ERROR",
     "evalue": "Error in str(X): object 'X' not found\n",
     "output_type": "error",
     "traceback": [
      "Error in str(X): object 'X' not found\nTraceback:\n",
      "1. str(X)"
     ]
    }
   ],
   "source": [
    "str(X)\n",
    "length(beta)\n",
    "length(y)"
   ]
  },
  {
   "cell_type": "code",
   "execution_count": 15,
   "metadata": {
    "collapsed": false
   },
   "outputs": [],
   "source": [
    "# fit a lasso regression path\n",
    "a = lars(X,y)\n",
    "\n",
    "# perform significance test for each beta\n",
    "cT = as_data_frame(covTest(a,X,y,sigma.est=sigma)$results)"
   ]
  },
  {
   "cell_type": "code",
   "execution_count": 16,
   "metadata": {
    "collapsed": false
   },
   "outputs": [
    {
     "data": {
      "text/html": [
       "<table>\n",
       "<thead><tr><th scope=col>Predictor_Number</th><th scope=col>Drop_in_covariance</th><th scope=col>P-value</th></tr></thead>\n",
       "<tbody>\n",
       "\t<tr><td>  5     </td><td>144.3922</td><td>0.0000  </td></tr>\n",
       "\t<tr><td>  4     </td><td> 59.5549</td><td>0.0000  </td></tr>\n",
       "\t<tr><td>  3     </td><td> 78.3134</td><td>0.0000  </td></tr>\n",
       "\t<tr><td>  2     </td><td>  9.2210</td><td>0.0001  </td></tr>\n",
       "\t<tr><td>172     </td><td>  0.5940</td><td>0.5521  </td></tr>\n",
       "\t<tr><td>  1     </td><td>  0.3530</td><td>0.7026  </td></tr>\n",
       "\t<tr><td>166     </td><td>  0.3260</td><td>0.7218  </td></tr>\n",
       "\t<tr><td>338     </td><td>  0.1807</td><td>0.8347  </td></tr>\n",
       "\t<tr><td> 18     </td><td>  0.1559</td><td>0.8557  </td></tr>\n",
       "\t<tr><td>229     </td><td>  0.1001</td><td>0.9047  </td></tr>\n",
       "\t<tr><td>346     </td><td>  0.0972</td><td>0.9074  </td></tr>\n",
       "\t<tr><td> 40     </td><td>  0.0934</td><td>0.9108  </td></tr>\n",
       "\t<tr><td>146     </td><td>  0.0699</td><td>0.9325  </td></tr>\n",
       "\t<tr><td>  7     </td><td>  0.0606</td><td>0.9412  </td></tr>\n",
       "\t<tr><td>162     </td><td>  0.0501</td><td>0.9512  </td></tr>\n",
       "</tbody>\n",
       "</table>\n"
      ],
      "text/latex": [
       "\\begin{tabular}{r|lll}\n",
       " Predictor\\_Number & Drop\\_in\\_covariance & P-value\\\\\n",
       "\\hline\n",
       "\t   5      & 144.3922 & 0.0000  \\\\\n",
       "\t   4      &  59.5549 & 0.0000  \\\\\n",
       "\t   3      &  78.3134 & 0.0000  \\\\\n",
       "\t   2      &   9.2210 & 0.0001  \\\\\n",
       "\t 172      &   0.5940 & 0.5521  \\\\\n",
       "\t   1      &   0.3530 & 0.7026  \\\\\n",
       "\t 166      &   0.3260 & 0.7218  \\\\\n",
       "\t 338      &   0.1807 & 0.8347  \\\\\n",
       "\t  18      &   0.1559 & 0.8557  \\\\\n",
       "\t 229      &   0.1001 & 0.9047  \\\\\n",
       "\t 346      &   0.0972 & 0.9074  \\\\\n",
       "\t  40      &   0.0934 & 0.9108  \\\\\n",
       "\t 146      &   0.0699 & 0.9325  \\\\\n",
       "\t   7      &   0.0606 & 0.9412  \\\\\n",
       "\t 162      &   0.0501 & 0.9512  \\\\\n",
       "\\end{tabular}\n"
      ],
      "text/plain": [
       "   Predictor_Number Drop_in_covariance P-value\n",
       "1    5              144.3922           0.0000 \n",
       "2    4               59.5549           0.0000 \n",
       "3    3               78.3134           0.0000 \n",
       "4    2                9.2210           0.0001 \n",
       "5  172                0.5940           0.5521 \n",
       "6    1                0.3530           0.7026 \n",
       "7  166                0.3260           0.7218 \n",
       "8  338                0.1807           0.8347 \n",
       "9   18                0.1559           0.8557 \n",
       "10 229                0.1001           0.9047 \n",
       "11 346                0.0972           0.9074 \n",
       "12  40                0.0934           0.9108 \n",
       "13 146                0.0699           0.9325 \n",
       "14   7                0.0606           0.9412 \n",
       "15 162                0.0501           0.9512 "
      ]
     },
     "metadata": {},
     "output_type": "display_data"
    }
   ],
   "source": [
    "# sort by p-value\n",
    "head(cT[with(cT, order(`P-value`)),], 15)"
   ]
  },
  {
   "cell_type": "code",
   "execution_count": 17,
   "metadata": {
    "collapsed": false
   },
   "outputs": [
    {
     "data": {
      "text/html": [
       "<table>\n",
       "<thead><tr><th scope=col>beta</th><th scope=col>value</th></tr></thead>\n",
       "<tbody>\n",
       "\t<tr><td>  5        </td><td> 5.04891628</td></tr>\n",
       "\t<tr><td>  4        </td><td> 3.46343138</td></tr>\n",
       "\t<tr><td>  3        </td><td> 2.17638707</td></tr>\n",
       "\t<tr><td>  2        </td><td> 1.73742389</td></tr>\n",
       "\t<tr><td>172        </td><td> 0.30407103</td></tr>\n",
       "\t<tr><td>166        </td><td> 0.20671363</td></tr>\n",
       "\t<tr><td>  1        </td><td> 0.19353645</td></tr>\n",
       "\t<tr><td>338        </td><td>-0.10290452</td></tr>\n",
       "\t<tr><td>346        </td><td> 0.09165105</td></tr>\n",
       "\t<tr><td> 40        </td><td> 0.08282886</td></tr>\n",
       "\t<tr><td>430        </td><td>-0.06875776</td></tr>\n",
       "\t<tr><td>162        </td><td> 0.06616947</td></tr>\n",
       "\t<tr><td>146        </td><td>-0.05838904</td></tr>\n",
       "\t<tr><td>201        </td><td> 0.05669310</td></tr>\n",
       "\t<tr><td>320        </td><td>-0.05654870</td></tr>\n",
       "</tbody>\n",
       "</table>\n"
      ],
      "text/latex": [
       "\\begin{tabular}{r|ll}\n",
       " beta & value\\\\\n",
       "\\hline\n",
       "\t   5         &  5.04891628\\\\\n",
       "\t   4         &  3.46343138\\\\\n",
       "\t   3         &  2.17638707\\\\\n",
       "\t   2         &  1.73742389\\\\\n",
       "\t 172         &  0.30407103\\\\\n",
       "\t 166         &  0.20671363\\\\\n",
       "\t   1         &  0.19353645\\\\\n",
       "\t 338         & -0.10290452\\\\\n",
       "\t 346         &  0.09165105\\\\\n",
       "\t  40         &  0.08282886\\\\\n",
       "\t 430         & -0.06875776\\\\\n",
       "\t 162         &  0.06616947\\\\\n",
       "\t 146         & -0.05838904\\\\\n",
       "\t 201         &  0.05669310\\\\\n",
       "\t 320         & -0.05654870\\\\\n",
       "\\end{tabular}\n"
      ],
      "text/plain": [
       "   beta value      \n",
       "1    5   5.04891628\n",
       "2    4   3.46343138\n",
       "3    3   2.17638707\n",
       "4    2   1.73742389\n",
       "5  172   0.30407103\n",
       "6  166   0.20671363\n",
       "7    1   0.19353645\n",
       "8  338  -0.10290452\n",
       "9  346   0.09165105\n",
       "10  40   0.08282886\n",
       "11 430  -0.06875776\n",
       "12 162   0.06616947\n",
       "13 146  -0.05838904\n",
       "14 201   0.05669310\n",
       "15 320  -0.05654870"
      ]
     },
     "metadata": {},
     "output_type": "display_data"
    }
   ],
   "source": [
    "# different than just threshholding?\n",
    "df = data_frame(beta=1:length(a$beta[10,]),value=a$beta[25,])\n",
    "head(df[with(df, order(-abs(value))),],15)"
   ]
  },
  {
   "cell_type": "code",
   "execution_count": null,
   "metadata": {
    "collapsed": true
   },
   "outputs": [],
   "source": []
  }
 ],
 "metadata": {
  "anaconda-cloud": {},
  "kernelspec": {
   "display_name": "R",
   "language": "R",
   "name": "ir"
  },
  "language_info": {
   "codemirror_mode": "r",
   "file_extension": ".r",
   "mimetype": "text/x-r-source",
   "name": "R",
   "pygments_lexer": "r",
   "version": "3.3.1"
  }
 },
 "nbformat": 4,
 "nbformat_minor": 0
}
