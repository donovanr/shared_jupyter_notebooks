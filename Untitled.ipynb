{
 "cells": [
  {
   "cell_type": "code",
   "execution_count": 23,
   "metadata": {
    "collapsed": false
   },
   "outputs": [],
   "source": [
    "libs <- c(\n",
    "    'RColorBrewer',\n",
    "    'ggplot2',\n",
    "    'xgboost',\n",
    "    'glmnet',\n",
    "    'dplyr',\n",
    "    'tidyr',\n",
    "    'pROC',\n",
    "    'stringr',\n",
    "    'caTools',\n",
    "    'RUnit',\n",
    "    'tibble',\n",
    "    'noncensus'\n",
    ")\n",
    "\n",
    "for (lib in libs) {\n",
    "        if (!require(lib, character.only = TRUE, quietly = TRUE)) {\n",
    "            install.packages(lib, repos='http://cran.us.r-project.org')\n",
    "        }\n",
    "}"
   ]
  },
  {
   "cell_type": "code",
   "execution_count": 26,
   "metadata": {
    "collapsed": false
   },
   "outputs": [
    {
     "data": {
      "text/html": [
       "<table>\n",
       "<thead><tr><th scope=col>county_name</th><th scope=col>state</th><th scope=col>state_fips</th><th scope=col>county_fips</th><th scope=col>fips_class</th><th scope=col>CSA</th><th scope=col>CBSA</th><th scope=col>population</th></tr></thead>\n",
       "<tbody>\n",
       "\t<tr><td>Autauga County</td><td>AL            </td><td>01            </td><td>001           </td><td>H1            </td><td>NA            </td><td>33860         </td><td> 54571        </td></tr>\n",
       "\t<tr><td>Baldwin County</td><td>AL            </td><td>01            </td><td>003           </td><td>H1            </td><td>380           </td><td>19300         </td><td>182265        </td></tr>\n",
       "\t<tr><td>Barbour County</td><td>AL            </td><td>01            </td><td>005           </td><td>H1            </td><td>NA            </td><td>NA            </td><td> 27457        </td></tr>\n",
       "\t<tr><td>Bibb County   </td><td>AL            </td><td>01            </td><td>007           </td><td>H1            </td><td>142           </td><td>13820         </td><td> 22915        </td></tr>\n",
       "\t<tr><td>Blount County </td><td>AL            </td><td>01            </td><td>009           </td><td>H1            </td><td>142           </td><td>13820         </td><td> 57322        </td></tr>\n",
       "\t<tr><td>Bullock County</td><td>AL            </td><td>01            </td><td>011           </td><td>H1            </td><td>NA            </td><td>NA            </td><td> 10914        </td></tr>\n",
       "</tbody>\n",
       "</table>\n"
      ],
      "text/latex": [
       "\\begin{tabular}{r|llllllll}\n",
       " county\\_name & state & state\\_fips & county\\_fips & fips\\_class & CSA & CBSA & population\\\\\n",
       "\\hline\n",
       "\t Autauga County & AL             & 01             & 001            & H1             & NA             & 33860          &  54571        \\\\\n",
       "\t Baldwin County & AL             & 01             & 003            & H1             & 380            & 19300          & 182265        \\\\\n",
       "\t Barbour County & AL             & 01             & 005            & H1             & NA             & NA             &  27457        \\\\\n",
       "\t Bibb County    & AL             & 01             & 007            & H1             & 142            & 13820          &  22915        \\\\\n",
       "\t Blount County  & AL             & 01             & 009            & H1             & 142            & 13820          &  57322        \\\\\n",
       "\t Bullock County & AL             & 01             & 011            & H1             & NA             & NA             &  10914        \\\\\n",
       "\\end{tabular}\n"
      ],
      "text/plain": [
       "  county_name    state state_fips county_fips fips_class CSA CBSA  population\n",
       "1 Autauga County AL    01         001         H1         NA  33860  54571    \n",
       "2 Baldwin County AL    01         003         H1         380 19300 182265    \n",
       "3 Barbour County AL    01         005         H1         NA  NA     27457    \n",
       "4 Bibb County    AL    01         007         H1         142 13820  22915    \n",
       "5 Blount County  AL    01         009         H1         142 13820  57322    \n",
       "6 Bullock County AL    01         011         H1         NA  NA     10914    "
      ]
     },
     "metadata": {},
     "output_type": "display_data"
    }
   ],
   "source": [
    "data(counties)\n",
    "head(counties)"
   ]
  },
  {
   "cell_type": "code",
   "execution_count": 2,
   "metadata": {
    "collapsed": false
   },
   "outputs": [],
   "source": [
    "foo <- read.csv(\"~/U.S._Chronic_Disease_Indicators__CDI_.csv\")"
   ]
  },
  {
   "cell_type": "code",
   "execution_count": 21,
   "metadata": {
    "collapsed": false
   },
   "outputs": [],
   "source": [
    "# str(foo)"
   ]
  },
  {
   "cell_type": "code",
   "execution_count": null,
   "metadata": {
    "collapsed": true
   },
   "outputs": [],
   "source": []
  }
 ],
 "metadata": {
  "anaconda-cloud": {},
  "kernelspec": {
   "display_name": "R",
   "language": "R",
   "name": "ir"
  },
  "language_info": {
   "codemirror_mode": "r",
   "file_extension": ".r",
   "mimetype": "text/x-r-source",
   "name": "R",
   "pygments_lexer": "r",
   "version": "3.3.1"
  }
 },
 "nbformat": 4,
 "nbformat_minor": 0
}
