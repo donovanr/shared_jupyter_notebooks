{
 "cells": [
  {
   "cell_type": "code",
   "execution_count": null,
   "metadata": {
    "collapsed": false
   },
   "outputs": [],
   "source": [
    "# alien_number source_language target_language\n",
    "\n",
    "\n",
    "# Input  \n",
    "# 4\n",
    "# 9 0123456789 oF8\n",
    "# Foo oF8 0123456789\n",
    "# 13 0123456789abcdef 01\n",
    "# CODE O!CDE? A?JM!.\n",
    "\n",
    "# Output\n",
    "# Case #1: Foo\n",
    "# Case #2: 9\n",
    "# Case #3: 10011\n",
    "# Case #4: JAM!"
   ]
  },
  {
   "cell_type": "code",
   "execution_count": 52,
   "metadata": {
    "collapsed": true
   },
   "outputs": [],
   "source": [
    "import numpy as np"
   ]
  },
  {
   "cell_type": "code",
   "execution_count": 30,
   "metadata": {
    "collapsed": false
   },
   "outputs": [],
   "source": [
    "with open (\"/users/rdonovan/A-small-practice.in.txt\", \"r\") as myfile:\n",
    "    data=myfile.read().splitlines() "
   ]
  },
  {
   "cell_type": "code",
   "execution_count": 31,
   "metadata": {
    "collapsed": false
   },
   "outputs": [],
   "source": [
    "n_tests = int(data[0])"
   ]
  },
  {
   "cell_type": "code",
   "execution_count": 119,
   "metadata": {
    "collapsed": false
   },
   "outputs": [
    {
     "name": "stdout",
     "output_type": "stream",
     "text": [
      "9 0123456789 9 oF8 Foo\n",
      "Foo oF8 100 0123456789 100\n",
      "13 0123456789abcdef 13 01 1101\n",
      "CODE O!CDE? 2034 A?JM!. ?MJMA\n",
      "0V I50VD 23 >Lg gLg\n",
      "}~PP ~P} 2011 AkB7D. k7k.k\n",
      "5W5 W5v 101 (o|2e< |e<\n",
      "l m:0ly 3 _* **\n",
      "O{{Q i{QLO 4112 V~\\%[L %~V~\\\n",
      "h]) )Dh]|7~ 230 #\\QcA@_~} Q~@\n",
      "} 4Q}% 2 F~Q Q\n",
      "x0x 0x 101 DH HHDDHDH\n",
      "` u` 1 5ScXVm S\n",
      "o}%} }o% 1020 X\\dE EEEEX\n",
      "tqt @Ptq 232 ty\" \"\"y\"y\n",
      "y___ _-y 2000 Nj6Z jZZjNN\n",
      "{{ 3{ 11 ?(z> z>\n",
      "|yoo y|o 1022 YIp< <<<<p\n",
      "? `?G# 1 ]5D 5\n",
      "( H(G8 1 %{ {\n",
      "\"\" x\"K*$ 11 2&/ &2/\n",
      "; ?; 1 dgH g\n",
      "@4b b4_@ 310 8oG@W: oG@W\n",
      "n}g }ng 102 ta} at}at\n",
      "0* *0 10 .q/ q.q\n",
      "NNfN fN 1101 ly ylllyllyyly\n",
      "n <n6G 1 0} }\n",
      "O +O 1 }m8\".U2 m\n",
      "S qLS4~# 2 ~?iNj i\n",
      "!s-! -!ts 1301 bA4xz 4b4bA\n",
      "p3pq qp3 1210 zJ JzzJzJJJzJz\n",
      "L: hAq~s;:>L 86 k5\\FsN \\\\\\\n",
      "SB_ B\"SQH_% 205 d?I I??I?\n",
      "qf fq 10 5Y Y5Y5\n",
      "yww wdy 200 svAk ksAs\n",
      "J} >0J} 23 Ne` `e`\n",
      "'I'' I' 1011 +KLA0 KA+LK\n",
      ": 1: 1 {,M3. ,\n",
      "YYC CY 110 U; ;;U;;;U\n",
      "xqqx qx 1001 f@Z1C @1ff@\n",
      "- lP`\\0Yv- 7 Sua9V ua\n",
      "D W:MlD<n6` 4 g2JRI\\ I\n",
      ">> T>- 11 W+ +W++\n",
      "8388 38 1011 !gIN[E [[!N\n",
      "i pi 1 N% %\n",
      "+7 7+f 10 wb9 bwb\n",
      "*& ~*a)v& 15 HJm{ {{\n",
      "PPPn nP 1110 H$ $HHH$H$H$$H\n",
      "((Q Q(N) 110 }si> si>i\n",
      "ur ru 10 HV- VHV\n",
      "R0 =0IRQ 31 }? ?????\n",
      ";; /; 11 !M M!MM\n",
      "XXX HXE_ 111 Z$\\ $$Z$Z\n",
      "DcWc Wc>wD 4101 yZ)W6 ZZ)6yZ\n",
      "tzzt zt 1001 ey yyyyyeyeey\n",
      "YYee eY 1100 Ew wEEEwEEwwEE\n",
      "hg gh 10 Qy yQyQ\n",
      "22 @2 11 >?BqXU ?U\n",
      "ds sqd_X[ 20 C-J JCJ\n",
      "> ~>) 1 LJs J\n",
      "FmM -)m^&U@FM 728 f_ _f__f__fff\n",
      "[ dij[\"(; 3 3Lui9/qPv i\n",
      "5(r r5( 120 6@ @@@@666\n",
      ",>s6 s6t,> 3401 F^7 ^^^77777\n",
      "c$c s:S$[4*cz 737 E</g[ <E[//\n",
      "333 +3 111 !1L{- -L1\n",
      "I88 iwI98 244 &uv u&&&&u\n",
      "7\"17 \\\";7'1 3153 Z= ==ZZZ=Z=ZZZ=\n",
      "jS5 aj5S) 132 Z~YzBL zBZ\n",
      "H 0H 1 ca a\n",
      "}PP #P}2 211 OB{1 1BO1\n",
      "pp<p sp< 1121 2:s`' :`'':\n",
      "n :n 1 r>GCxq.v >\n",
      "P #D0P 3 Z8 88\n",
      "% z% 1 rI I\n",
      "q L~q 2 ].GN G\n",
      "BB] ]B 110 *_ __*___*\n",
      "tr v:tr3B; 23 A5Za@` a`\n",
      "KZ wZ->A|%UK 81 6L,;d|}5 L,L\n",
      "XXw wfX 220 pZr&^U\" ^&&\n",
      "ggg 6g 111 {c cc{cccc\n",
      "< A<_W 1 fYt^U+. Y\n",
      "NNO 3NLHOf 114 mA AAAmmAm\n",
      "+R+ R+ 101 8#g #8g8g\n",
      "I NI 1 ?N: N\n",
      "RDBB DB6R 3011 )D D)DDDD))))DD\n",
      "m]] ]Am:E 200 7b!)EwpN| !E!\n",
      "F bFGa 1 q]Q'-` ]\n",
      "??S [?S 112 =U/x[} x=[\n",
      "xxx vx 111 7> >>7>>>>\n",
      ".: :. 10 4rs r4r\n",
      "2 g2j; 1 cwJj w\n",
      "p U,p 2 c>]B ]\n",
      "t! 7,!`:Q'tI 72 rR$. Rr$r\n",
      "IP ]JdOP6I 64 +& &++++++\n",
      "6o ]K76Gpo>= 36 az! zzaa\n",
      "-t- t- 101 EC;^ C;CC\n",
      "e roe5 2 {]gJwp g\n",
      "9 MA~59 4 8vQS v8\n",
      "0D D>asC0 50 a,$X}(F3z9 (a\n"
     ]
    }
   ],
   "source": [
    "for i in range(1,100+1):\n",
    "    alien_string, alien_language, new_language = data[i].split()\n",
    "    alien_base = len(alien_language)\n",
    "    new_base = len(new_language)\n",
    "    alien_intchars = [str(i) for i in range(alien_base)]\n",
    "    new_intchars = [str(i) for i in range(new_base)]\n",
    "    map_alien_to_intchars = dict(zip(alien_language, alien_intchars))\n",
    "    map_intchars_to_new = dict(zip(new_intchars, new_language))\n",
    "    alien_int = int(\"\".join([map_alien_to_intchars[alien_string[i]] for i,c in enumerate(alien_string)]))\n",
    "    new_int_list = np.base_repr(alien_int, base=new_base)\n",
    "    new_int_str = \"\".join([map_intchars_to_new[c] for c in new_int_list])\n",
    "    print(alien_string, alien_language, alien_int, new_language, new_int_str)"
   ]
  },
  {
   "cell_type": "code",
   "execution_count": null,
   "metadata": {
    "collapsed": true
   },
   "outputs": [],
   "source": []
  }
 ],
 "metadata": {
  "anaconda-cloud": {},
  "kernelspec": {
   "display_name": "Python [Root]",
   "language": "python",
   "name": "Python [Root]"
  },
  "language_info": {
   "codemirror_mode": {
    "name": "ipython",
    "version": 3
   },
   "file_extension": ".py",
   "mimetype": "text/x-python",
   "name": "python",
   "nbconvert_exporter": "python",
   "pygments_lexer": "ipython3",
   "version": "3.5.2"
  }
 },
 "nbformat": 4,
 "nbformat_minor": 0
}
