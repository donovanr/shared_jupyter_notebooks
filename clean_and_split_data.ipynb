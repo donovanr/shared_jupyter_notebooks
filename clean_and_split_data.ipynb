{
 "cells": [
  {
   "cell_type": "code",
   "execution_count": 1,
   "metadata": {
    "collapsed": false
   },
   "outputs": [
    {
     "name": "stderr",
     "output_type": "stream",
     "text": [
      "\n",
      "Attaching package: ‘dplyr’\n",
      "\n",
      "The following objects are masked from ‘package:stats’:\n",
      "\n",
      "    filter, lag\n",
      "\n",
      "The following objects are masked from ‘package:base’:\n",
      "\n",
      "    intersect, setdiff, setequal, union\n",
      "\n",
      "Loading required package: BSgenome\n",
      "Loading required package: BiocGenerics\n",
      "Loading required package: parallel\n",
      "\n",
      "Attaching package: ‘BiocGenerics’\n",
      "\n",
      "The following objects are masked from ‘package:parallel’:\n",
      "\n",
      "    clusterApply, clusterApplyLB, clusterCall, clusterEvalQ,\n",
      "    clusterExport, clusterMap, parApply, parCapply, parLapply,\n",
      "    parLapplyLB, parRapply, parSapply, parSapplyLB\n",
      "\n",
      "The following objects are masked from ‘package:dplyr’:\n",
      "\n",
      "    combine, intersect, setdiff, union\n",
      "\n",
      "The following objects are masked from ‘package:stats’:\n",
      "\n",
      "    IQR, mad, xtabs\n",
      "\n",
      "The following objects are masked from ‘package:base’:\n",
      "\n",
      "    anyDuplicated, append, as.data.frame, cbind, colnames, do.call,\n",
      "    duplicated, eval, evalq, Filter, Find, get, grep, grepl, intersect,\n",
      "    is.unsorted, lapply, lengths, Map, mapply, match, mget, order,\n",
      "    paste, pmax, pmax.int, pmin, pmin.int, Position, rank, rbind,\n",
      "    Reduce, rownames, sapply, setdiff, sort, table, tapply, union,\n",
      "    unique, unsplit\n",
      "\n",
      "Loading required package: S4Vectors\n",
      "Loading required package: stats4\n",
      "\n",
      "Attaching package: ‘S4Vectors’\n",
      "\n",
      "The following object is masked from ‘package:tidyr’:\n",
      "\n",
      "    expand\n",
      "\n",
      "The following objects are masked from ‘package:dplyr’:\n",
      "\n",
      "    first, rename\n",
      "\n",
      "The following objects are masked from ‘package:base’:\n",
      "\n",
      "    colMeans, colSums, expand.grid, rowMeans, rowSums\n",
      "\n",
      "Loading required package: IRanges\n",
      "\n",
      "Attaching package: ‘IRanges’\n",
      "\n",
      "The following objects are masked from ‘package:dplyr’:\n",
      "\n",
      "    collapse, desc, regroup, slice\n",
      "\n",
      "Loading required package: GenomeInfoDb\n",
      "Loading required package: GenomicRanges\n",
      "Loading required package: Biostrings\n",
      "Loading required package: XVector\n",
      "Loading required package: rtracklayer\n"
     ]
    }
   ],
   "source": [
    "libs <- c(\n",
    "    'dplyr',\n",
    "    'tidyr',\n",
    "    'stringr',\n",
    "    'ggplot2'\n",
    ")\n",
    "\n",
    "for (lib in libs) {\n",
    "        if (!require(lib, character.only = TRUE, quietly = TRUE)) {\n",
    "            install.packages(lib, repos='http://cran.us.r-project.org')\n",
    "        }\n",
    "}\n",
    "\n",
    "# source(\"http://bioconductor.org/biocLite.R\")\n",
    "# biocLite(\"BSgenome.Hsapiens.UCSC.hg38\")\n",
    "library(BSgenome.Hsapiens.UCSC.hg38)\n",
    "hg38 = BSgenome.Hsapiens.UCSC.hg38"
   ]
  },
  {
   "cell_type": "code",
   "execution_count": 2,
   "metadata": {
    "collapsed": false
   },
   "outputs": [
    {
     "name": "stderr",
     "output_type": "stream",
     "text": [
      "Loading required package: DBI\n"
     ]
    },
    {
     "name": "stdout",
     "output_type": "stream",
     "text": [
      "[1] --- test.locStringToBedTable\n",
      "[1] --- test.getFimoHits\n",
      "[1] --- test.getHits\n",
      "[1] --- test.createHintTable\n",
      "[1] found 194 hint hits in 101 bases\n",
      "[1] found 16 hint hits in 101 bases\n",
      "[1] found 14 hint hits in 101 bases\n",
      "[1] found 10 hint hits in 19 bases\n",
      "[1] found 995 hint hits in 20019 bases\n",
      "[1] --- test.createHintTable_ignoreStrand\n",
      "[1] found 44 hint hits in 12 bases\n",
      "[1] found 44 hint hits in 12 bases\n",
      "[1] eliminating 11 double-stranded hits\n",
      "[1] --- test.createWellingtonTable\n",
      "[1] found 126 wellington hits in 19 bases\n",
      "[1] found 378 wellington hits in 20019 bases\n",
      "[1] found 68 wellington hits in 12 bases\n",
      "[1] found 4 wellington hits in 12 bases\n",
      "[1] found 126 wellington hits in 19 bases\n",
      "[1] found 64 wellington hits in 19 bases\n",
      "[1] found 24 wellington hits in 19 bases\n",
      "[1] --- test.createWellingtonTable_ignoreStrand, deferred\n",
      "[1] found 26 wellington hits in 10 bases\n",
      "[1] found 26 wellington hits in 10 bases\n",
      "[1] eliminating 13 double-stranded hits\n",
      "[1] --- test.createPiqTable\n",
      "[1] found 342 piq hits in 101 bases\n"
     ]
    }
   ],
   "source": [
    "source(\"utility_functions.R\")\n",
    "source(\"stat_functions.R\")\n",
    "source(\"plot_functions.R\")\n",
    "source(\"~/git-repos/BDDS/trenadb/src/utils.R\")"
   ]
  },
  {
   "cell_type": "markdown",
   "metadata": {},
   "source": [
    "## cleaning and splitting functions"
   ]
  },
  {
   "cell_type": "code",
   "execution_count": 3,
   "metadata": {
    "collapsed": false
   },
   "outputs": [],
   "source": [
    "# function to split data into independent classifier work set and \n",
    "# ensemble classifier work set\n",
    "split.halves.physically <- function(df, p=0.5, buffer=100) {\n",
    "    # p is the portion of the data used for independent classifier work\n",
    "    # the rest is set aside for ensemble classifier work\n",
    "    \n",
    "    require(\"tibble\")\n",
    "    df <- as_data_frame(df)\n",
    "\n",
    "    df <- ft.clean.corymotifs.tfclasses\n",
    "    my.center <- (min(df$start) + max(df$end))/2\n",
    "\n",
    "    first.half.bool.inds <- df$end + buffer/2 < my.center\n",
    "    second.half.bool.inds <- df$start - buffer/2 > my.center\n",
    "\n",
    "    first.half.df <- df[first.half.bool.inds,]\n",
    "    second.half.df <- df[second.half.bool.inds,]\n",
    "    \n",
    "    out.list <- list()\n",
    "    out.list$first.half <- first.half.df\n",
    "    out.list$second.half <- second.half.df\n",
    "\n",
    "    return(out.list)\n",
    "}\n",
    "\n",
    "# function to split data in to training, testing, and validation sets\n",
    "split.test.train.valid.physically <- function(df, p.train=0.7, p.test=0.2, p.valid=0.1,\n",
    "                                              buffer=100, reverse.order=FALSE) {\n",
    "    \n",
    "    # physically split: train | test | valid\n",
    "    \n",
    "    require(\"tibble\")\n",
    "    stopifnot(p.train + p.test + p.valid <= 1)\n",
    "    \n",
    "    df <- as_data_frame(df[with(df, order(start, decreasing=reverse.order)), ])\n",
    "    \n",
    "    tt.split.ind <- round(p.train*nrow(df))\n",
    "    tv.split.ind <- round((p.train+p.test)*nrow(df))\n",
    "    \n",
    "    train.inds.bool <- 1:nrow(df) < tt.split.ind\n",
    "    valid.inds.bool <- 1:nrow(df) > tv.split.ind\n",
    "    test.inds.bool <- !(train.inds.bool | valid.inds.bool)\n",
    "    \n",
    "    train.df <- df[train.inds.bool,]\n",
    "    test.df <- df[test.inds.bool,]\n",
    "    valid.df <- df[valid.inds.bool,]\n",
    "    \n",
    "    out.list <- list()\n",
    "    out.list$train <- train.df\n",
    "    out.list$test <- test.df\n",
    "    out.list$valid <- valid.df\n",
    "    \n",
    "    return(out.list)\n",
    "}\n",
    "\n",
    "\n",
    "# # function to split data into independent classifier work set and \n",
    "# # ensemble classifier work set\n",
    "# split.ic.ec <- function(df, p=0.5) {\n",
    "#     # p is the portion of the data used for independent classifier work\n",
    "#     # the rest is set aside for ensemble classifier work\n",
    "    \n",
    "#     require(\"tibble\")\n",
    "    \n",
    "#     df <- as_data_frame(df)\n",
    "#     N.all <- dim(df)[1]\n",
    "    \n",
    "#     all.inds <- c(1:N.all)\n",
    "#     ic.inds <- sample(N.all, round(p*N.all), replace=FALSE)\n",
    "    \n",
    "#     ic.inds.bool <- all.inds %in% ic.inds\n",
    "#     ec.inds.bool <- !ic.inds.bool\n",
    "    \n",
    "#     ic.df <- df[ic.inds.bool,]\n",
    "#     ec.df <- df[ec.inds.bool,]\n",
    "    \n",
    "#     out.list <- list()\n",
    "#     out.list$ic <- ic.df\n",
    "#     out.list$ec <- ec.df\n",
    "\n",
    "#     return(out.list)\n",
    "# }\n",
    "\n",
    "\n",
    "# # function to split data in to training, testing, and validation sets\n",
    "# split.test.train.valid <- function(df, p.tt=0.75, p.valid=0.25) {\n",
    "#     # p.valid is the portion of the data set aside for validation\n",
    "#     # p.tt is the fraction of the remaining data used for training\n",
    "\n",
    "#     require(\"tibble\")\n",
    "    \n",
    "#     df <- as_data_frame(df)\n",
    "#     N.all <- nrow(df)\n",
    "\n",
    "#     all.inds <- c(1:N.all)\n",
    "#     valid.inds <- sample(N.all, round(p.valid*N.all), replace=FALSE)\n",
    "\n",
    "#     valid.inds.bool <- all.inds %in% valid.inds\n",
    "#     tt.inds.bool <- !valid.inds.bool\n",
    "    \n",
    "#     valid.df <- df[valid.inds.bool,]\n",
    "#     tt.df <- df[tt.inds.bool,]\n",
    "\n",
    "#     N.tt <- nrow(tt.df)\n",
    "#     tt.inds <- c(1:N.tt)\n",
    "#     train.inds <- sample(N.tt, round(p.tt*N.tt), replace=FALSE)\n",
    "\n",
    "#     train.inds.bool <- tt.inds %in% train.inds\n",
    "#     test.inds.bool <- !train.inds.bool\n",
    "\n",
    "#     train.df <- tt.df[train.inds.bool,]\n",
    "#     test.df <- tt.df[test.inds.bool,]\n",
    "\n",
    "#     out.list <- list()\n",
    "#     out.list$train <- train.df\n",
    "#     out.list$test <- test.df\n",
    "#     out.list$valid <- valid.df\n",
    "    \n",
    "#     return(out.list)\n",
    "# }"
   ]
  },
  {
   "cell_type": "markdown",
   "metadata": {},
   "source": [
    "## Load Data"
   ]
  },
  {
   "cell_type": "code",
   "execution_count": 4,
   "metadata": {
    "collapsed": true
   },
   "outputs": [],
   "source": [
    "# df loads as \"tb;\" variable\n",
    "load(\"~/git-repos/BDDS/trenadb/featureTable/lymphoblast/featureTableLymphoblast-chr19-entire.RData\")\n",
    "\n",
    "# remove any duplicate rows\n",
    "tbl.nodupes <- tbl[!duplicated(tbl),]\n",
    "\n",
    "# fix spurious zeros in piq score 2 \n",
    "tmp <- tbl.nodupes$score2.p\n",
    "tmp[tmp == 0] <- -999\n",
    "tbl.nodupes$score2.p <- tmp"
   ]
  },
  {
   "cell_type": "code",
   "execution_count": 5,
   "metadata": {
    "collapsed": true
   },
   "outputs": [],
   "source": [
    "# cory's motif to tf-class mapping\n",
    "tf.fams.file <- \"/local/Cory/for_Paul/motif_class_fam\"\n",
    "tf.fams.table <- read.delim(tf.fams.file, stringsAsFactors=FALSE)"
   ]
  },
  {
   "cell_type": "code",
   "execution_count": 6,
   "metadata": {
    "collapsed": false
   },
   "outputs": [
    {
     "data": {
      "text/html": [
       "510"
      ],
      "text/latex": [
       "510"
      ],
      "text/markdown": [
       "510"
      ],
      "text/plain": [
       "[1] 510"
      ]
     },
     "metadata": {},
     "output_type": "display_data"
    }
   ],
   "source": [
    "# check overlap of motif names from cory and paul\n",
    "\n",
    "motif.names.from.cory <- str_replace_all(string=tf.fams.table$ID, pattern=\"[[:space:]]\", repl=\"\")\n",
    "motif.names.from.paul <- unique(tbl.nodupes$motif)\n",
    "\n",
    "# motifs not occurring from sample data\n",
    "from.cory.not.in.paul <- motif.names.from.cory[!(motif.names.from.cory %in% motif.names.from.paul)]\n",
    "\n",
    "# motifs not mapped in cory's table\n",
    "from.paul.not.in.cory <- motif.names.from.paul[!(motif.names.from.paul %in% motif.names.from.cory)]\n",
    "\n",
    "# number of motifs that i'll use\n",
    "from.paul.in.cory <- sort(motif.names.from.paul[(motif.names.from.paul %in% motif.names.from.cory)])\n",
    "length(from.paul.in.cory)"
   ]
  },
  {
   "cell_type": "code",
   "execution_count": 7,
   "metadata": {
    "collapsed": false
   },
   "outputs": [],
   "source": [
    "# filter out the motifs in pauls' table that cory doesn' have tf classes for\n",
    "ft.clean.corymotifs <- tbl.nodupes %>% filter(motif %in% from.paul.in.cory)"
   ]
  },
  {
   "cell_type": "code",
   "execution_count": 8,
   "metadata": {
    "collapsed": false
   },
   "outputs": [
    {
     "data": {
      "text/html": [
       "30"
      ],
      "text/latex": [
       "30"
      ],
      "text/markdown": [
       "30"
      ],
      "text/plain": [
       "[1] 30"
      ]
     },
     "metadata": {},
     "output_type": "display_data"
    }
   ],
   "source": [
    "# find unique tf class names from cory's list\n",
    "\n",
    "class.names.nospaces <- str_replace_all(string=tf.fams.table$class, pattern=\"[[:space:]]\", repl=\"\")\n",
    "unique.class.names.nospaces <- unique(class.names.nospaces)\n",
    "double.entry.classes <- grep('::', unique.class.names.nospaces, value=TRUE)\n",
    "dedoubled.classes <- unique(unlist(strsplit(double.entry.classes,'::')))\n",
    "\n",
    "class.names.nospaces.minus.doubles <- unique.class.names.nospaces[!(unique.class.names.nospaces %in% double.entry.classes)]\n",
    "class.names.final <- sort(unique(c(class.names.nospaces.minus.doubles,dedoubled.classes)))\n",
    "length(class.names.final)"
   ]
  },
  {
   "cell_type": "code",
   "execution_count": 9,
   "metadata": {
    "collapsed": true
   },
   "outputs": [],
   "source": [
    "# cory's map: arrange so grepping on class column will yeild matches from paul's names\n",
    "\n",
    "tf.fams.table.renamed <- tf.fams.table\n",
    "tf.fams.table.renamed$ID <- str_replace_all(string=tf.fams.table.renamed$ID, pattern=\"[[:space:]]\", repl=\"\")\n",
    "tf.fams.table.renamed <- tf.fams.table.renamed %>% filter(ID %in% from.paul.in.cory)\n",
    "rownames(tf.fams.table.renamed) <- tf.fams.table.renamed$ID\n",
    "tf.class.foreach.motif <- tf.fams.table.renamed[,-c(1)]\n",
    "\n",
    "tf.class.foreach.motif$class <- str_replace_all(string=tf.class.foreach.motif$class, pattern=\"[[:space:]]\", repl=\"\")"
   ]
  },
  {
   "cell_type": "code",
   "execution_count": 10,
   "metadata": {
    "collapsed": true
   },
   "outputs": [],
   "source": [
    "# make sparse class / tf feature matrix map\n",
    "# all zeros to start, fill in ones below\n",
    "tf.motif.class.matrix <- matrix(0L, nrow = length(from.paul.in.cory), ncol = length(class.names.final))\n",
    "rownames(tf.motif.class.matrix) <- from.paul.in.cory\n",
    "colnames(tf.motif.class.matrix) <- class.names.final\n",
    "\n",
    "# loop through tfs and classes to fill in ones where there is a match\n",
    "\n",
    "for (tf.name in rownames(tf.motif.class.matrix)) {\n",
    "    for (class.name in colnames(tf.motif.class.matrix)) {\n",
    "        class.to.check <- tf.class.foreach.motif[tf.name,'class']\n",
    "        classes.match <- any(grep(class.name, class.to.check, value=FALSE, fixed=TRUE))\n",
    "        if (classes.match == 1) {\n",
    "            tf.motif.class.matrix[tf.name,class.name] <- 1\n",
    "        }\n",
    "    }\n",
    "    \n",
    "}"
   ]
  },
  {
   "cell_type": "code",
   "execution_count": 11,
   "metadata": {
    "collapsed": false
   },
   "outputs": [
    {
     "data": {
      "text/html": [
       "<ol class=list-inline>\n",
       "\t<li>510</li>\n",
       "\t<li>30</li>\n",
       "</ol>\n"
      ],
      "text/latex": [
       "\\begin{enumerate*}\n",
       "\\item 510\n",
       "\\item 30\n",
       "\\end{enumerate*}\n"
      ],
      "text/markdown": [
       "1. 510\n",
       "2. 30\n",
       "\n",
       "\n"
      ],
      "text/plain": [
       "[1] 510  30"
      ]
     },
     "metadata": {},
     "output_type": "display_data"
    },
    {
     "data": {
      "text/html": [
       "513"
      ],
      "text/latex": [
       "513"
      ],
      "text/markdown": [
       "513"
      ],
      "text/plain": [
       "[1] 513"
      ]
     },
     "metadata": {},
     "output_type": "display_data"
    },
    {
     "data": {
      "text/html": [],
      "text/latex": [],
      "text/markdown": [],
      "text/plain": [
       "character(0)"
      ]
     },
     "metadata": {},
     "output_type": "display_data"
    }
   ],
   "source": [
    "# number of motifs with extra entries is small:\n",
    "dim(tf.motif.class.matrix)\n",
    "sum(tf.motif.class.matrix)\n",
    "\n",
    "# check to see if any motifs didn't match\n",
    "rownames(tf.motif.class.matrix)[rowSums(tf.motif.class.matrix) == 0]"
   ]
  },
  {
   "cell_type": "code",
   "execution_count": 12,
   "metadata": {
    "collapsed": false
   },
   "outputs": [
    {
     "data": {
      "text/html": [
       "<ol class=list-inline>\n",
       "\t<li>510</li>\n",
       "\t<li>31</li>\n",
       "</ol>\n"
      ],
      "text/latex": [
       "\\begin{enumerate*}\n",
       "\\item 510\n",
       "\\item 31\n",
       "\\end{enumerate*}\n"
      ],
      "text/markdown": [
       "1. 510\n",
       "2. 31\n",
       "\n",
       "\n"
      ],
      "text/plain": [
       "[1] 510  31"
      ]
     },
     "metadata": {},
     "output_type": "display_data"
    },
    {
     "data": {
      "text/html": [
       "<ol class=list-inline>\n",
       "\t<li>1136194</li>\n",
       "\t<li>51</li>\n",
       "</ol>\n"
      ],
      "text/latex": [
       "\\begin{enumerate*}\n",
       "\\item 1136194\n",
       "\\item 51\n",
       "\\end{enumerate*}\n"
      ],
      "text/markdown": [
       "1. 1136194\n",
       "2. 51\n",
       "\n",
       "\n"
      ],
      "text/plain": [
       "[1] 1136194      51"
      ]
     },
     "metadata": {},
     "output_type": "display_data"
    }
   ],
   "source": [
    "# merging is a way saner way to... merge dataframes, who knew?\n",
    "tf.motif.class.df <- as.data.frame(tf.motif.class.matrix)\n",
    "tf.motif.class.df$motif <- rownames(tf.motif.class.df)\n",
    "dim(tf.motif.class.df)\n",
    "\n",
    "ft.clean.corymotifs.tfclasses <- merge(ft.clean.corymotifs, tf.motif.class.df, by=\"motif\", all.x=TRUE)\n",
    "dim(ft.clean.corymotifs.tfclasses)"
   ]
  },
  {
   "cell_type": "code",
   "execution_count": 13,
   "metadata": {
    "collapsed": false
   },
   "outputs": [
    {
     "data": {
      "text/html": [],
      "text/latex": [],
      "text/markdown": [],
      "text/plain": [
       "character(0)"
      ]
     },
     "metadata": {},
     "output_type": "display_data"
    }
   ],
   "source": [
    "# check to see if any loc/motifs didn't get a class\n",
    "rownames(ft.clean.corymotifs.tfclasses)[rowSums(ft.clean.corymotifs.tfclasses[,colnames(tf.motif.class.matrix)]) == 0]"
   ]
  },
  {
   "cell_type": "code",
   "execution_count": 14,
   "metadata": {
    "collapsed": false
   },
   "outputs": [
    {
     "data": {
      "text/html": [
       "1136194"
      ],
      "text/latex": [
       "1136194"
      ],
      "text/markdown": [
       "1136194"
      ],
      "text/plain": [
       "[1] 1136194"
      ]
     },
     "metadata": {},
     "output_type": "display_data"
    },
    {
     "data": {
      "text/html": [
       "1139416"
      ],
      "text/latex": [
       "1139416"
      ],
      "text/markdown": [
       "1139416"
      ],
      "text/plain": [
       "[1] 1139416"
      ]
     },
     "metadata": {},
     "output_type": "display_data"
    }
   ],
   "source": [
    "# most entries just have one class\n",
    "dim(ft.clean.corymotifs.tfclasses[,colnames(tf.motif.class.matrix)])[1]\n",
    "sum(ft.clean.corymotifs.tfclasses[,colnames(tf.motif.class.matrix)])"
   ]
  },
  {
   "cell_type": "markdown",
   "metadata": {},
   "source": [
    "## Split data into different sets"
   ]
  },
  {
   "cell_type": "code",
   "execution_count": 15,
   "metadata": {
    "collapsed": false
   },
   "outputs": [
    {
     "name": "stderr",
     "output_type": "stream",
     "text": [
      "Loading required package: tibble\n"
     ]
    }
   ],
   "source": [
    "# split into test, train, validation dfs for both\n",
    "# independent classifier (ic) and ensemble classifier(ec) work\n",
    "# ic and ec are on different halfs of the chromasome, so no potential for overlap\n",
    "\n",
    "halves.list <- split.halves.physically(ft.clean.corymotifs.tfclasses)\n",
    "\n",
    "first.half.df <- halves.list$first.half\n",
    "second.half.df <- halves.list$second.half"
   ]
  },
  {
   "cell_type": "code",
   "execution_count": 16,
   "metadata": {
    "collapsed": true
   },
   "outputs": [],
   "source": [
    "first.half.train.test.valid.list <- split.test.train.valid.physically(first.half.df, reverse.order = TRUE)\n",
    "second.half.train.test.valid.list <- split.test.train.valid.physically(second.half.df, reverse.order = FALSE)\n",
    "\n",
    "first.half.train.df <- first.half.train.test.valid.list$train\n",
    "first.half.test.df <- first.half.train.test.valid.list$test\n",
    "first.half.valid.df <- first.half.train.test.valid.list$valid\n",
    "\n",
    "second.half.train.df <- second.half.train.test.valid.list$train\n",
    "second.half.test.df <- second.half.train.test.valid.list$test\n",
    "second.half.valid.df <- second.half.train.test.valid.list$valid"
   ]
  },
  {
   "cell_type": "code",
   "execution_count": 17,
   "metadata": {
    "collapsed": false
   },
   "outputs": [
    {
     "data": {
      "text/html": [
       "1136194"
      ],
      "text/latex": [
       "1136194"
      ],
      "text/markdown": [
       "1136194"
      ],
      "text/plain": [
       "[1] 1136194"
      ]
     },
     "metadata": {},
     "output_type": "display_data"
    },
    {
     "data": {
      "text/html": [
       "585747"
      ],
      "text/latex": [
       "585747"
      ],
      "text/markdown": [
       "585747"
      ],
      "text/plain": [
       "[1] 585747"
      ]
     },
     "metadata": {},
     "output_type": "display_data"
    },
    {
     "data": {
      "text/html": [
       "550447"
      ],
      "text/latex": [
       "550447"
      ],
      "text/markdown": [
       "550447"
      ],
      "text/plain": [
       "[1] 550447"
      ]
     },
     "metadata": {},
     "output_type": "display_data"
    }
   ],
   "source": [
    "nrow(first.half.df) + nrow(second.half.df)\n",
    "\n",
    "nrow(first.half.train.df) + nrow(first.half.test.df) + nrow(first.half.valid.df)\n",
    "nrow(second.half.train.df) + nrow(second.half.test.df) + nrow(second.half.valid.df)"
   ]
  },
  {
   "cell_type": "code",
   "execution_count": 22,
   "metadata": {
    "collapsed": false
   },
   "outputs": [],
   "source": [
    "# can't just split on loc, need to sort on loc and then split by quantile...\n",
    "# no need for new computations, can just sort on start colunn then split\n",
    "\n",
    "tmp.first.half.train.df <- first.half.train.df\n",
    "tmp.first.half.test.df <- first.half.test.df\n",
    "tmp.first.half.valid.df <- first.half.valid.df\n",
    "tmp.second.half.train.df <- second.half.train.df\n",
    "tmp.second.half.test.df <- second.half.test.df\n",
    "tmp.second.half.valid.df <- second.half.valid.df\n",
    "\n",
    "tmp.first.half.train.df$type <- \"f.train\"\n",
    "tmp.first.half.test.df$type <- \"f.test\"\n",
    "tmp.first.half.valid.df$type <- \"f.valid\"\n",
    "tmp.second.half.train.df$type <- \"s.train\"\n",
    "tmp.second.half.test.df$type <- \"s.test\"\n",
    "tmp.second.half.valid.df$type <- \"s.valid\"\n",
    "\n",
    "tot.df <- rbind(\n",
    "    tmp.first.half.train.df,\n",
    "    tmp.first.half.test.df,\n",
    "    tmp.first.half.valid.df,\n",
    "    tmp.second.half.train.df,\n",
    "    tmp.second.half.test.df,\n",
    "    tmp.second.half.valid.df)\n",
    "\n",
    "# mean(first.half.train.df$csscore > 0)\n",
    "# mean(first.half.test.df$csscore > 0)\n",
    "# mean(first.half.valid.df$csscore > 0)\n",
    "# mean(second.half.train.df$csscore > 0)\n",
    "# mean(second.half.test.df$csscore > 0)\n",
    "# mean(second.half.valid.df$csscore > 0)"
   ]
  },
  {
   "cell_type": "code",
   "execution_count": 24,
   "metadata": {
    "collapsed": false
   },
   "outputs": [],
   "source": [
    "p <- ggplot(tot.df) +\n",
    "    geom_histogram(aes(x=start, fill=type), bins=1000) +\n",
    "    theme_minimal()"
   ]
  },
  {
   "cell_type": "code",
   "execution_count": 25,
   "metadata": {
    "collapsed": false
   },
   "outputs": [
    {
     "data": {},
     "metadata": {},
     "output_type": "display_data"
    },
    {
     "data": {
      "image/png": "[encoded data removed]",
      "text/plain": [
       "plot without title"
      ]
     },
     "metadata": {},
     "output_type": "display_data"
    }
   ],
   "source": [
    "p"
   ]
  },
  {
   "cell_type": "code",
   "execution_count": 26,
   "metadata": {
    "collapsed": false
   },
   "outputs": [],
   "source": [
    "save(first.half.train.df,\n",
    "     first.half.test.df,\n",
    "     first.half.valid.df,\n",
    "     second.half.train.df,\n",
    "     second.half.test.df,\n",
    "     second.half.valid.df,\n",
    "     file=\"train_test_valid_data_sets.Rdata\")"
   ]
  },
  {
   "cell_type": "code",
   "execution_count": null,
   "metadata": {
    "collapsed": true
   },
   "outputs": [],
   "source": []
  }
 ],
 "metadata": {
  "anaconda-cloud": {},
  "kernelspec": {
   "display_name": "R",
   "language": "R",
   "name": "ir"
  },
  "language_info": {
   "codemirror_mode": "r",
   "file_extension": ".r",
   "mimetype": "text/x-r-source",
   "name": "R",
   "pygments_lexer": "r",
   "version": "3.3.1"
  }
 },
 "nbformat": 4,
 "nbformat_minor": 0
}
