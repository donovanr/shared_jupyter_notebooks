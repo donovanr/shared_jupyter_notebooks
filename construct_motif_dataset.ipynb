{
 "cells": [
  {
   "cell_type": "code",
   "execution_count": 2,
   "metadata": {
    "collapsed": false
   },
   "outputs": [],
   "source": [
    "library(RPostgreSQL)\n",
    "library(dplyr)\n",
    "library(GenomicRanges)\n",
    "library(doParallel)"
   ]
  },
  {
   "cell_type": "code",
   "execution_count": 3,
   "metadata": {
    "collapsed": true
   },
   "outputs": [],
   "source": [
    "source(\"~/git-repos/BDDS/footprints/testdb/src/dbFunctions.R\")"
   ]
  },
  {
   "cell_type": "code",
   "execution_count": 4,
   "metadata": {
    "collapsed": false
   },
   "outputs": [],
   "source": [
    "# connect to databases\n",
    "\n",
    "# load chipseq traditionally -- will just put this in memory eventually\n",
    "if(!exists(\"db.chipseq\"))\n",
    "    dbname=\"chipseq\"\n",
    "    port=\"5432\"\n",
    "    driver=dbDriver(\"PostgreSQL\")\n",
    "    user=\"trena\"\n",
    "    password=\"trena\"\n",
    "    host=\"whovian\"\n",
    "    db.chipseq <- dbConnect(drv=driver, user=user, password=password, dbname=dbname, host=host, port=port)"
   ]
  },
  {
   "cell_type": "markdown",
   "metadata": {},
   "source": [
    "## create map: M[TF] = c(motif1,motif2,...)"
   ]
  },
  {
   "cell_type": "code",
   "execution_count": 5,
   "metadata": {
    "collapsed": false
   },
   "outputs": [],
   "source": [
    "# chipseq hits table can fit in memory so load it up\n",
    "chipseq.hits <- dbGetQuery(db.chipseq, \"select * from hits\")\n",
    "chipseq.hits <- as.tbl(chipseq.hits)\n",
    "\n",
    "# get chipseq regions data and change chrom notations from eg chr10 to just 10 as in fimo\n",
    "chipseq.regions <- dbGetQuery(db.chipseq, \"select * from regions\")\n",
    "chipseq.regions <- as.tbl(chipseq.regions)\n",
    "chr.list <- chipseq.regions$chrom\n",
    "cutoff <- nchar(\"chr\")+1\n",
    "no.chr.list <- substring(chr.list,cutoff)\n",
    "chipseq.regions$chrom <- no.chr.list"
   ]
  },
  {
   "cell_type": "code",
   "execution_count": 6,
   "metadata": {
    "collapsed": false
   },
   "outputs": [],
   "source": [
    "# see which of the TFs in the chipseq data are mapped to any motifs\n",
    "TF.motif.pairs <- read.csv(\"/local/sament/tfbs/human_brain/motif_to_tf_mappings_with_tfclass_include_multiple.csv\",\n",
    "                            stringsAsFactors=FALSE)\n",
    "\n",
    "unique.cs.tfs <- unique(chipseq.hits$name)\n",
    "cs.tf.nomatches <- unique.cs.tfs[!(unique(unique.cs.tfs) %in% unique(TF.motif.pairs$tfs))]\n",
    "cs.tf.matches <- unique.cs.tfs[unique(unique.cs.tfs) %in% unique(TF.motif.pairs$tfs)]"
   ]
  },
  {
   "cell_type": "code",
   "execution_count": 7,
   "metadata": {
    "collapsed": false
   },
   "outputs": [
    {
     "data": {
      "text/html": [
       "77"
      ],
      "text/latex": [
       "77"
      ],
      "text/markdown": [
       "77"
      ],
      "text/plain": [
       "[1] 77"
      ]
     },
     "metadata": {},
     "output_type": "display_data"
    },
    {
     "data": {
      "text/html": [
       "17"
      ],
      "text/latex": [
       "17"
      ],
      "text/markdown": [
       "17"
      ],
      "text/plain": [
       "[1] 17"
      ]
     },
     "metadata": {},
     "output_type": "display_data"
    },
    {
     "data": {
      "text/html": [
       "60"
      ],
      "text/latex": [
       "60"
      ],
      "text/markdown": [
       "60"
      ],
      "text/plain": [
       "[1] 60"
      ]
     },
     "metadata": {},
     "output_type": "display_data"
    }
   ],
   "source": [
    "length(unique.cs.tfs)\n",
    "length(cs.tf.nomatches)\n",
    "length(cs.tf.matches)"
   ]
  },
  {
   "cell_type": "code",
   "execution_count": 8,
   "metadata": {
    "collapsed": false
   },
   "outputs": [],
   "source": [
    "# create a list of lists (poor sub for dict) for TFs -> motifs and motifs -> TFs\n",
    "# only use jaspar motifs\n",
    "\n",
    "TF.motif.pairs <- as.tbl(read.csv(\"/local/sament/tfbs/human_brain/motif_to_tf_mappings_with_tfclass_include_multiple.csv\",\n",
    "                            stringsAsFactors=FALSE))\n",
    "\n",
    "TF.motif.pairs.jaspar <- subset(TF.motif.pairs, grepl(\"^MA[0-9]\", motif) )\n",
    "\n",
    "TFs.to.motifs <- list()\n",
    "for (TF in cs.tf.matches) {\n",
    "    this.TF.df <- subset(TF.motif.pairs.jaspar, tfs %in% TF)\n",
    "    TFs.to.motifs[TF] <- list(this.TF.df$motif)\n",
    "}\n",
    "TFs.to.motifs <- TFs.to.motifs[lapply(TFs.to.motifs,length) >= 1]\n",
    "\n",
    "motifs.to.TFs <- list()\n",
    "for (mtf in unique(TF.motif.pairs.jaspar$motif)) {\n",
    "    this.motif.df <- subset(TF.motif.pairs.jaspar, motif %in% mtf)\n",
    "    motifs.to.TFs[mtf] <- list(this.motif.df$tfs)\n",
    "}\n",
    "motifs.to.TFs <- motifs.to.TFs[lapply(motifs.to.TFs,length) >= 1]"
   ]
  },
  {
   "cell_type": "code",
   "execution_count": 9,
   "metadata": {
    "collapsed": false
   },
   "outputs": [
    {
     "data": {
      "text/html": [
       "55"
      ],
      "text/latex": [
       "55"
      ],
      "text/markdown": [
       "55"
      ],
      "text/plain": [
       "[1] 55"
      ]
     },
     "metadata": {},
     "output_type": "display_data"
    },
    {
     "data": {
      "text/html": [
       "514"
      ],
      "text/latex": [
       "514"
      ],
      "text/markdown": [
       "514"
      ],
      "text/plain": [
       "[1] 514"
      ]
     },
     "metadata": {},
     "output_type": "display_data"
    }
   ],
   "source": [
    "length(TFs.to.motifs)\n",
    "length(motifs.to.TFs)"
   ]
  },
  {
   "cell_type": "code",
   "execution_count": 10,
   "metadata": {
    "collapsed": false
   },
   "outputs": [
    {
     "data": {
      "text/html": [
       "195"
      ],
      "text/latex": [
       "195"
      ],
      "text/markdown": [
       "195"
      ],
      "text/plain": [
       "[1] 195"
      ]
     },
     "metadata": {},
     "output_type": "display_data"
    }
   ],
   "source": [
    "allmots <- c()\n",
    "\n",
    "for (TFname in names(TFs.to.motifs)) {\n",
    "    allmots  <-  c(allmots, TFs.to.motifs[[TFname]])\n",
    "}\n",
    "length(unique(allmots))"
   ]
  },
  {
   "cell_type": "markdown",
   "metadata": {},
   "source": [
    "## function to output df containing pos and neg examples for each TF"
   ]
  },
  {
   "cell_type": "code",
   "execution_count": 11,
   "metadata": {
    "collapsed": false
   },
   "outputs": [],
   "source": [
    "create.TF.df <- function(TF, neg.pos.ratio=10, verbose=FALSE) {\n",
    "    \n",
    "    db.fimo.dplyr <- src_postgres(drv=dbDriver(\"PostgreSQL\"),\n",
    "                                  user=\"trena\",\n",
    "                                  password=\"trena\",\n",
    "                                  dbname=\"fimo\",\n",
    "                                  host=\"whovian\",\n",
    "                                  port=\"5432\")\n",
    "    tbl.fimo.dplyr <- tbl(db.fimo.dplyr, \"fimo_hg38\")\n",
    "    \n",
    "    # regions locs we can compute on but hits have TF info so need both\n",
    "    chipseq.hits.TF <- subset(chipseq.hits, name == TF)\n",
    "    locs.TF <- chipseq.hits.TF$loc\n",
    "    chipseq.regions.TF <- subset(chipseq.regions, loc %in% locs.TF)\n",
    "    \n",
    "    # next step is slow, gives you some context\n",
    "    if (verbose == TRUE) {\n",
    "        if (length(TFs.to.motifs[[TF]])==1) {\n",
    "            message(paste(TF, \"- querying fimo database for\", length(TFs.to.motifs[[TF]]), \"motif\"))\n",
    "        } else {\n",
    "            message(paste(TF, \"- querying fimo database for\", length(TFs.to.motifs[[TF]]), \"motifs\"))\n",
    "        }       \n",
    "    }\n",
    "        \n",
    "    # this is the slow step -- doing SQL queries on tbl.fimo.dplyr = call to whole fimo database\n",
    "    # need branch since %in% conversion to SQL doesn't work on length == 1\n",
    "    if (length(TFs.to.motifs[[TF]]) > 1 ) {\n",
    "        fimo.motifs.for.TF <- as.tbl(as.data.frame(filter(tbl.fimo.dplyr, motifname %in% TFs.to.motifs[[TF]])))\n",
    "    } else {\n",
    "        fimo.motifs.for.TF <- as.tbl(as.data.frame(filter(tbl.fimo.dplyr, motifname  ==  TFs.to.motifs[[TF]])))\n",
    "    }\n",
    "    \n",
    "    # find intersect using fast genomic ranges data structure\n",
    "    gr.fimo.TF <- with(fimo.motifs.for.TF, GRanges(chrom, IRanges(start=start, end=endpos)))\n",
    "    gr.chipseq.TF <- with(chipseq.regions.TF, GRanges(chrom, IRanges(start=start, end=endpos)))\n",
    "    overlaps.gr.TF <- findOverlaps(gr.chipseq.TF, gr.fimo.TF, type=\"any\")\n",
    "    overlaps.TF <- as.tbl(as.data.frame(overlaps.gr.TF))\n",
    "    \n",
    "    # row numbers in fimo.motifs.for.TF where motifs overlap with chipseq peaks\n",
    "    positive.fimo.examples.rows.TF <- unique(overlaps.TF$subjectHits)\n",
    "    positive.fimo.examples.TF.df <- fimo.motifs.for.TF[positive.fimo.examples.rows.TF,]\n",
    "    \n",
    "    # figure out how many negative samples for each motif we want\n",
    "    tot.motif.counts.TF <- table(fimo.motifs.for.TF$motifname)\n",
    "    pos.motif.counts.TF <- table(fimo.motifs.for.TF[positive.fimo.examples.rows.TF,]$motifname)\n",
    "    nx.pos.motif.counts.TF <- pos.motif.counts.TF*neg.pos.ratio\n",
    "\n",
    "    # want neg samples in fimo.motifs.for.TF to be non overlapping with chipseq peaks or pos examples\n",
    "    neg.cands.for.single.TF.df <- subset(fimo.motifs.for.TF,\n",
    "                                         !(start %in% positive.fimo.examples.TF.df$start) &\n",
    "                                         !(endpos %in% positive.fimo.examples.TF.df$endpos))\n",
    "    neg.motif.counts.TF <- table(neg.cands.for.single.TF.df$motifname)\n",
    "\n",
    "    # don't try to sample more than the population\n",
    "    neg.sample.counts.TF <- pmin(nx.pos.motif.counts.TF,neg.motif.counts.TF)\n",
    "    \n",
    "    # for each motif this TF matches, sample some examples where no CS hit\n",
    "    negative.fimo.examples.TF.df <- tibble()\n",
    "    for (motname in names(neg.sample.counts.TF)) {\n",
    "        neg.cands.for.single.TF.df.single.motif <- subset(neg.cands.for.single.TF.df, motifname == motname)\n",
    "        negative.fimo.examples.TF.df <- rbind(negative.fimo.examples.TF.df,\n",
    "                                    sample_n(neg.cands.for.single.TF.df.single.motif, neg.sample.counts.TF[[motname]]))\n",
    "    }\n",
    "    \n",
    "    # annotate and collect all samples\n",
    "    positive.fimo.examples.TF.df <- as.tbl(cbind(positive.fimo.examples.TF.df, \"cs_hit\"=1))\n",
    "    negative.fimo.examples.TF.df <- as.tbl(cbind(negative.fimo.examples.TF.df, \"cs_hit\"=0))\n",
    "    all.fimo.examples.TF.df <- as.tbl(rbind(positive.fimo.examples.TF.df,negative.fimo.examples.TF.df))\n",
    "    \n",
    "    return(all.fimo.examples.TF.df)\n",
    "    \n",
    "}"
   ]
  },
  {
   "cell_type": "markdown",
   "metadata": {},
   "source": [
    "## create df of pos/neg samples for all TFs all together"
   ]
  },
  {
   "cell_type": "code",
   "execution_count": 54,
   "metadata": {
    "collapsed": true
   },
   "outputs": [],
   "source": [
    "# ratio of negative to positve examples in data set\n",
    "pnr=49"
   ]
  },
  {
   "cell_type": "code",
   "execution_count": 19,
   "metadata": {
    "collapsed": false
   },
   "outputs": [
    {
     "data": {
      "text/html": [
       "<ol>\n",
       "\t<li><ol class=list-inline>\n",
       "\t<li>'GenomicRanges'</li>\n",
       "\t<li>'GenomeInfoDb'</li>\n",
       "\t<li>'IRanges'</li>\n",
       "\t<li>'S4Vectors'</li>\n",
       "\t<li>'stats4'</li>\n",
       "\t<li>'BiocGenerics'</li>\n",
       "\t<li>'parallel'</li>\n",
       "\t<li>'dplyr'</li>\n",
       "\t<li>'RPostgreSQL'</li>\n",
       "\t<li>'DBI'</li>\n",
       "\t<li>'stats'</li>\n",
       "\t<li>'graphics'</li>\n",
       "\t<li>'grDevices'</li>\n",
       "\t<li>'utils'</li>\n",
       "\t<li>'datasets'</li>\n",
       "\t<li>'methods'</li>\n",
       "\t<li>'base'</li>\n",
       "</ol>\n",
       "</li>\n",
       "\t<li><ol class=list-inline>\n",
       "\t<li>'GenomicRanges'</li>\n",
       "\t<li>'GenomeInfoDb'</li>\n",
       "\t<li>'IRanges'</li>\n",
       "\t<li>'S4Vectors'</li>\n",
       "\t<li>'stats4'</li>\n",
       "\t<li>'BiocGenerics'</li>\n",
       "\t<li>'parallel'</li>\n",
       "\t<li>'dplyr'</li>\n",
       "\t<li>'RPostgreSQL'</li>\n",
       "\t<li>'DBI'</li>\n",
       "\t<li>'stats'</li>\n",
       "\t<li>'graphics'</li>\n",
       "\t<li>'grDevices'</li>\n",
       "\t<li>'utils'</li>\n",
       "\t<li>'datasets'</li>\n",
       "\t<li>'methods'</li>\n",
       "\t<li>'base'</li>\n",
       "</ol>\n",
       "</li>\n",
       "\t<li><ol class=list-inline>\n",
       "\t<li>'GenomicRanges'</li>\n",
       "\t<li>'GenomeInfoDb'</li>\n",
       "\t<li>'IRanges'</li>\n",
       "\t<li>'S4Vectors'</li>\n",
       "\t<li>'stats4'</li>\n",
       "\t<li>'BiocGenerics'</li>\n",
       "\t<li>'parallel'</li>\n",
       "\t<li>'dplyr'</li>\n",
       "\t<li>'RPostgreSQL'</li>\n",
       "\t<li>'DBI'</li>\n",
       "\t<li>'stats'</li>\n",
       "\t<li>'graphics'</li>\n",
       "\t<li>'grDevices'</li>\n",
       "\t<li>'utils'</li>\n",
       "\t<li>'datasets'</li>\n",
       "\t<li>'methods'</li>\n",
       "\t<li>'base'</li>\n",
       "</ol>\n",
       "</li>\n",
       "\t<li><ol class=list-inline>\n",
       "\t<li>'GenomicRanges'</li>\n",
       "\t<li>'GenomeInfoDb'</li>\n",
       "\t<li>'IRanges'</li>\n",
       "\t<li>'S4Vectors'</li>\n",
       "\t<li>'stats4'</li>\n",
       "\t<li>'BiocGenerics'</li>\n",
       "\t<li>'parallel'</li>\n",
       "\t<li>'dplyr'</li>\n",
       "\t<li>'RPostgreSQL'</li>\n",
       "\t<li>'DBI'</li>\n",
       "\t<li>'stats'</li>\n",
       "\t<li>'graphics'</li>\n",
       "\t<li>'grDevices'</li>\n",
       "\t<li>'utils'</li>\n",
       "\t<li>'datasets'</li>\n",
       "\t<li>'methods'</li>\n",
       "\t<li>'base'</li>\n",
       "</ol>\n",
       "</li>\n",
       "\t<li><ol class=list-inline>\n",
       "\t<li>'GenomicRanges'</li>\n",
       "\t<li>'GenomeInfoDb'</li>\n",
       "\t<li>'IRanges'</li>\n",
       "\t<li>'S4Vectors'</li>\n",
       "\t<li>'stats4'</li>\n",
       "\t<li>'BiocGenerics'</li>\n",
       "\t<li>'parallel'</li>\n",
       "\t<li>'dplyr'</li>\n",
       "\t<li>'RPostgreSQL'</li>\n",
       "\t<li>'DBI'</li>\n",
       "\t<li>'stats'</li>\n",
       "\t<li>'graphics'</li>\n",
       "\t<li>'grDevices'</li>\n",
       "\t<li>'utils'</li>\n",
       "\t<li>'datasets'</li>\n",
       "\t<li>'methods'</li>\n",
       "\t<li>'base'</li>\n",
       "</ol>\n",
       "</li>\n",
       "\t<li><ol class=list-inline>\n",
       "\t<li>'GenomicRanges'</li>\n",
       "\t<li>'GenomeInfoDb'</li>\n",
       "\t<li>'IRanges'</li>\n",
       "\t<li>'S4Vectors'</li>\n",
       "\t<li>'stats4'</li>\n",
       "\t<li>'BiocGenerics'</li>\n",
       "\t<li>'parallel'</li>\n",
       "\t<li>'dplyr'</li>\n",
       "\t<li>'RPostgreSQL'</li>\n",
       "\t<li>'DBI'</li>\n",
       "\t<li>'stats'</li>\n",
       "\t<li>'graphics'</li>\n",
       "\t<li>'grDevices'</li>\n",
       "\t<li>'utils'</li>\n",
       "\t<li>'datasets'</li>\n",
       "\t<li>'methods'</li>\n",
       "\t<li>'base'</li>\n",
       "</ol>\n",
       "</li>\n",
       "\t<li><ol class=list-inline>\n",
       "\t<li>'GenomicRanges'</li>\n",
       "\t<li>'GenomeInfoDb'</li>\n",
       "\t<li>'IRanges'</li>\n",
       "\t<li>'S4Vectors'</li>\n",
       "\t<li>'stats4'</li>\n",
       "\t<li>'BiocGenerics'</li>\n",
       "\t<li>'parallel'</li>\n",
       "\t<li>'dplyr'</li>\n",
       "\t<li>'RPostgreSQL'</li>\n",
       "\t<li>'DBI'</li>\n",
       "\t<li>'stats'</li>\n",
       "\t<li>'graphics'</li>\n",
       "\t<li>'grDevices'</li>\n",
       "\t<li>'utils'</li>\n",
       "\t<li>'datasets'</li>\n",
       "\t<li>'methods'</li>\n",
       "\t<li>'base'</li>\n",
       "</ol>\n",
       "</li>\n",
       "\t<li><ol class=list-inline>\n",
       "\t<li>'GenomicRanges'</li>\n",
       "\t<li>'GenomeInfoDb'</li>\n",
       "\t<li>'IRanges'</li>\n",
       "\t<li>'S4Vectors'</li>\n",
       "\t<li>'stats4'</li>\n",
       "\t<li>'BiocGenerics'</li>\n",
       "\t<li>'parallel'</li>\n",
       "\t<li>'dplyr'</li>\n",
       "\t<li>'RPostgreSQL'</li>\n",
       "\t<li>'DBI'</li>\n",
       "\t<li>'stats'</li>\n",
       "\t<li>'graphics'</li>\n",
       "\t<li>'grDevices'</li>\n",
       "\t<li>'utils'</li>\n",
       "\t<li>'datasets'</li>\n",
       "\t<li>'methods'</li>\n",
       "\t<li>'base'</li>\n",
       "</ol>\n",
       "</li>\n",
       "</ol>\n"
      ],
      "text/latex": [
       "\\begin{enumerate}\n",
       "\\item \\begin{enumerate*}\n",
       "\\item 'GenomicRanges'\n",
       "\\item 'GenomeInfoDb'\n",
       "\\item 'IRanges'\n",
       "\\item 'S4Vectors'\n",
       "\\item 'stats4'\n",
       "\\item 'BiocGenerics'\n",
       "\\item 'parallel'\n",
       "\\item 'dplyr'\n",
       "\\item 'RPostgreSQL'\n",
       "\\item 'DBI'\n",
       "\\item 'stats'\n",
       "\\item 'graphics'\n",
       "\\item 'grDevices'\n",
       "\\item 'utils'\n",
       "\\item 'datasets'\n",
       "\\item 'methods'\n",
       "\\item 'base'\n",
       "\\end{enumerate*}\n",
       "\n",
       "\\item \\begin{enumerate*}\n",
       "\\item 'GenomicRanges'\n",
       "\\item 'GenomeInfoDb'\n",
       "\\item 'IRanges'\n",
       "\\item 'S4Vectors'\n",
       "\\item 'stats4'\n",
       "\\item 'BiocGenerics'\n",
       "\\item 'parallel'\n",
       "\\item 'dplyr'\n",
       "\\item 'RPostgreSQL'\n",
       "\\item 'DBI'\n",
       "\\item 'stats'\n",
       "\\item 'graphics'\n",
       "\\item 'grDevices'\n",
       "\\item 'utils'\n",
       "\\item 'datasets'\n",
       "\\item 'methods'\n",
       "\\item 'base'\n",
       "\\end{enumerate*}\n",
       "\n",
       "\\item \\begin{enumerate*}\n",
       "\\item 'GenomicRanges'\n",
       "\\item 'GenomeInfoDb'\n",
       "\\item 'IRanges'\n",
       "\\item 'S4Vectors'\n",
       "\\item 'stats4'\n",
       "\\item 'BiocGenerics'\n",
       "\\item 'parallel'\n",
       "\\item 'dplyr'\n",
       "\\item 'RPostgreSQL'\n",
       "\\item 'DBI'\n",
       "\\item 'stats'\n",
       "\\item 'graphics'\n",
       "\\item 'grDevices'\n",
       "\\item 'utils'\n",
       "\\item 'datasets'\n",
       "\\item 'methods'\n",
       "\\item 'base'\n",
       "\\end{enumerate*}\n",
       "\n",
       "\\item \\begin{enumerate*}\n",
       "\\item 'GenomicRanges'\n",
       "\\item 'GenomeInfoDb'\n",
       "\\item 'IRanges'\n",
       "\\item 'S4Vectors'\n",
       "\\item 'stats4'\n",
       "\\item 'BiocGenerics'\n",
       "\\item 'parallel'\n",
       "\\item 'dplyr'\n",
       "\\item 'RPostgreSQL'\n",
       "\\item 'DBI'\n",
       "\\item 'stats'\n",
       "\\item 'graphics'\n",
       "\\item 'grDevices'\n",
       "\\item 'utils'\n",
       "\\item 'datasets'\n",
       "\\item 'methods'\n",
       "\\item 'base'\n",
       "\\end{enumerate*}\n",
       "\n",
       "\\item \\begin{enumerate*}\n",
       "\\item 'GenomicRanges'\n",
       "\\item 'GenomeInfoDb'\n",
       "\\item 'IRanges'\n",
       "\\item 'S4Vectors'\n",
       "\\item 'stats4'\n",
       "\\item 'BiocGenerics'\n",
       "\\item 'parallel'\n",
       "\\item 'dplyr'\n",
       "\\item 'RPostgreSQL'\n",
       "\\item 'DBI'\n",
       "\\item 'stats'\n",
       "\\item 'graphics'\n",
       "\\item 'grDevices'\n",
       "\\item 'utils'\n",
       "\\item 'datasets'\n",
       "\\item 'methods'\n",
       "\\item 'base'\n",
       "\\end{enumerate*}\n",
       "\n",
       "\\item \\begin{enumerate*}\n",
       "\\item 'GenomicRanges'\n",
       "\\item 'GenomeInfoDb'\n",
       "\\item 'IRanges'\n",
       "\\item 'S4Vectors'\n",
       "\\item 'stats4'\n",
       "\\item 'BiocGenerics'\n",
       "\\item 'parallel'\n",
       "\\item 'dplyr'\n",
       "\\item 'RPostgreSQL'\n",
       "\\item 'DBI'\n",
       "\\item 'stats'\n",
       "\\item 'graphics'\n",
       "\\item 'grDevices'\n",
       "\\item 'utils'\n",
       "\\item 'datasets'\n",
       "\\item 'methods'\n",
       "\\item 'base'\n",
       "\\end{enumerate*}\n",
       "\n",
       "\\item \\begin{enumerate*}\n",
       "\\item 'GenomicRanges'\n",
       "\\item 'GenomeInfoDb'\n",
       "\\item 'IRanges'\n",
       "\\item 'S4Vectors'\n",
       "\\item 'stats4'\n",
       "\\item 'BiocGenerics'\n",
       "\\item 'parallel'\n",
       "\\item 'dplyr'\n",
       "\\item 'RPostgreSQL'\n",
       "\\item 'DBI'\n",
       "\\item 'stats'\n",
       "\\item 'graphics'\n",
       "\\item 'grDevices'\n",
       "\\item 'utils'\n",
       "\\item 'datasets'\n",
       "\\item 'methods'\n",
       "\\item 'base'\n",
       "\\end{enumerate*}\n",
       "\n",
       "\\item \\begin{enumerate*}\n",
       "\\item 'GenomicRanges'\n",
       "\\item 'GenomeInfoDb'\n",
       "\\item 'IRanges'\n",
       "\\item 'S4Vectors'\n",
       "\\item 'stats4'\n",
       "\\item 'BiocGenerics'\n",
       "\\item 'parallel'\n",
       "\\item 'dplyr'\n",
       "\\item 'RPostgreSQL'\n",
       "\\item 'DBI'\n",
       "\\item 'stats'\n",
       "\\item 'graphics'\n",
       "\\item 'grDevices'\n",
       "\\item 'utils'\n",
       "\\item 'datasets'\n",
       "\\item 'methods'\n",
       "\\item 'base'\n",
       "\\end{enumerate*}\n",
       "\n",
       "\\end{enumerate}\n"
      ],
      "text/markdown": [
       "1. 1. 'GenomicRanges'\n",
       "2. 'GenomeInfoDb'\n",
       "3. 'IRanges'\n",
       "4. 'S4Vectors'\n",
       "5. 'stats4'\n",
       "6. 'BiocGenerics'\n",
       "7. 'parallel'\n",
       "8. 'dplyr'\n",
       "9. 'RPostgreSQL'\n",
       "10. 'DBI'\n",
       "11. 'stats'\n",
       "12. 'graphics'\n",
       "13. 'grDevices'\n",
       "14. 'utils'\n",
       "15. 'datasets'\n",
       "16. 'methods'\n",
       "17. 'base'\n",
       "\n",
       "\n",
       "\n",
       "2. 1. 'GenomicRanges'\n",
       "2. 'GenomeInfoDb'\n",
       "3. 'IRanges'\n",
       "4. 'S4Vectors'\n",
       "5. 'stats4'\n",
       "6. 'BiocGenerics'\n",
       "7. 'parallel'\n",
       "8. 'dplyr'\n",
       "9. 'RPostgreSQL'\n",
       "10. 'DBI'\n",
       "11. 'stats'\n",
       "12. 'graphics'\n",
       "13. 'grDevices'\n",
       "14. 'utils'\n",
       "15. 'datasets'\n",
       "16. 'methods'\n",
       "17. 'base'\n",
       "\n",
       "\n",
       "\n",
       "3. 1. 'GenomicRanges'\n",
       "2. 'GenomeInfoDb'\n",
       "3. 'IRanges'\n",
       "4. 'S4Vectors'\n",
       "5. 'stats4'\n",
       "6. 'BiocGenerics'\n",
       "7. 'parallel'\n",
       "8. 'dplyr'\n",
       "9. 'RPostgreSQL'\n",
       "10. 'DBI'\n",
       "11. 'stats'\n",
       "12. 'graphics'\n",
       "13. 'grDevices'\n",
       "14. 'utils'\n",
       "15. 'datasets'\n",
       "16. 'methods'\n",
       "17. 'base'\n",
       "\n",
       "\n",
       "\n",
       "4. 1. 'GenomicRanges'\n",
       "2. 'GenomeInfoDb'\n",
       "3. 'IRanges'\n",
       "4. 'S4Vectors'\n",
       "5. 'stats4'\n",
       "6. 'BiocGenerics'\n",
       "7. 'parallel'\n",
       "8. 'dplyr'\n",
       "9. 'RPostgreSQL'\n",
       "10. 'DBI'\n",
       "11. 'stats'\n",
       "12. 'graphics'\n",
       "13. 'grDevices'\n",
       "14. 'utils'\n",
       "15. 'datasets'\n",
       "16. 'methods'\n",
       "17. 'base'\n",
       "\n",
       "\n",
       "\n",
       "5. 1. 'GenomicRanges'\n",
       "2. 'GenomeInfoDb'\n",
       "3. 'IRanges'\n",
       "4. 'S4Vectors'\n",
       "5. 'stats4'\n",
       "6. 'BiocGenerics'\n",
       "7. 'parallel'\n",
       "8. 'dplyr'\n",
       "9. 'RPostgreSQL'\n",
       "10. 'DBI'\n",
       "11. 'stats'\n",
       "12. 'graphics'\n",
       "13. 'grDevices'\n",
       "14. 'utils'\n",
       "15. 'datasets'\n",
       "16. 'methods'\n",
       "17. 'base'\n",
       "\n",
       "\n",
       "\n",
       "6. 1. 'GenomicRanges'\n",
       "2. 'GenomeInfoDb'\n",
       "3. 'IRanges'\n",
       "4. 'S4Vectors'\n",
       "5. 'stats4'\n",
       "6. 'BiocGenerics'\n",
       "7. 'parallel'\n",
       "8. 'dplyr'\n",
       "9. 'RPostgreSQL'\n",
       "10. 'DBI'\n",
       "11. 'stats'\n",
       "12. 'graphics'\n",
       "13. 'grDevices'\n",
       "14. 'utils'\n",
       "15. 'datasets'\n",
       "16. 'methods'\n",
       "17. 'base'\n",
       "\n",
       "\n",
       "\n",
       "7. 1. 'GenomicRanges'\n",
       "2. 'GenomeInfoDb'\n",
       "3. 'IRanges'\n",
       "4. 'S4Vectors'\n",
       "5. 'stats4'\n",
       "6. 'BiocGenerics'\n",
       "7. 'parallel'\n",
       "8. 'dplyr'\n",
       "9. 'RPostgreSQL'\n",
       "10. 'DBI'\n",
       "11. 'stats'\n",
       "12. 'graphics'\n",
       "13. 'grDevices'\n",
       "14. 'utils'\n",
       "15. 'datasets'\n",
       "16. 'methods'\n",
       "17. 'base'\n",
       "\n",
       "\n",
       "\n",
       "8. 1. 'GenomicRanges'\n",
       "2. 'GenomeInfoDb'\n",
       "3. 'IRanges'\n",
       "4. 'S4Vectors'\n",
       "5. 'stats4'\n",
       "6. 'BiocGenerics'\n",
       "7. 'parallel'\n",
       "8. 'dplyr'\n",
       "9. 'RPostgreSQL'\n",
       "10. 'DBI'\n",
       "11. 'stats'\n",
       "12. 'graphics'\n",
       "13. 'grDevices'\n",
       "14. 'utils'\n",
       "15. 'datasets'\n",
       "16. 'methods'\n",
       "17. 'base'\n",
       "\n",
       "\n",
       "\n",
       "\n",
       "\n"
      ],
      "text/plain": [
       "[[1]]\n",
       " [1] \"GenomicRanges\" \"GenomeInfoDb\"  \"IRanges\"       \"S4Vectors\"    \n",
       " [5] \"stats4\"        \"BiocGenerics\"  \"parallel\"      \"dplyr\"        \n",
       " [9] \"RPostgreSQL\"   \"DBI\"           \"stats\"         \"graphics\"     \n",
       "[13] \"grDevices\"     \"utils\"         \"datasets\"      \"methods\"      \n",
       "[17] \"base\"         \n",
       "\n",
       "[[2]]\n",
       " [1] \"GenomicRanges\" \"GenomeInfoDb\"  \"IRanges\"       \"S4Vectors\"    \n",
       " [5] \"stats4\"        \"BiocGenerics\"  \"parallel\"      \"dplyr\"        \n",
       " [9] \"RPostgreSQL\"   \"DBI\"           \"stats\"         \"graphics\"     \n",
       "[13] \"grDevices\"     \"utils\"         \"datasets\"      \"methods\"      \n",
       "[17] \"base\"         \n",
       "\n",
       "[[3]]\n",
       " [1] \"GenomicRanges\" \"GenomeInfoDb\"  \"IRanges\"       \"S4Vectors\"    \n",
       " [5] \"stats4\"        \"BiocGenerics\"  \"parallel\"      \"dplyr\"        \n",
       " [9] \"RPostgreSQL\"   \"DBI\"           \"stats\"         \"graphics\"     \n",
       "[13] \"grDevices\"     \"utils\"         \"datasets\"      \"methods\"      \n",
       "[17] \"base\"         \n",
       "\n",
       "[[4]]\n",
       " [1] \"GenomicRanges\" \"GenomeInfoDb\"  \"IRanges\"       \"S4Vectors\"    \n",
       " [5] \"stats4\"        \"BiocGenerics\"  \"parallel\"      \"dplyr\"        \n",
       " [9] \"RPostgreSQL\"   \"DBI\"           \"stats\"         \"graphics\"     \n",
       "[13] \"grDevices\"     \"utils\"         \"datasets\"      \"methods\"      \n",
       "[17] \"base\"         \n",
       "\n",
       "[[5]]\n",
       " [1] \"GenomicRanges\" \"GenomeInfoDb\"  \"IRanges\"       \"S4Vectors\"    \n",
       " [5] \"stats4\"        \"BiocGenerics\"  \"parallel\"      \"dplyr\"        \n",
       " [9] \"RPostgreSQL\"   \"DBI\"           \"stats\"         \"graphics\"     \n",
       "[13] \"grDevices\"     \"utils\"         \"datasets\"      \"methods\"      \n",
       "[17] \"base\"         \n",
       "\n",
       "[[6]]\n",
       " [1] \"GenomicRanges\" \"GenomeInfoDb\"  \"IRanges\"       \"S4Vectors\"    \n",
       " [5] \"stats4\"        \"BiocGenerics\"  \"parallel\"      \"dplyr\"        \n",
       " [9] \"RPostgreSQL\"   \"DBI\"           \"stats\"         \"graphics\"     \n",
       "[13] \"grDevices\"     \"utils\"         \"datasets\"      \"methods\"      \n",
       "[17] \"base\"         \n",
       "\n",
       "[[7]]\n",
       " [1] \"GenomicRanges\" \"GenomeInfoDb\"  \"IRanges\"       \"S4Vectors\"    \n",
       " [5] \"stats4\"        \"BiocGenerics\"  \"parallel\"      \"dplyr\"        \n",
       " [9] \"RPostgreSQL\"   \"DBI\"           \"stats\"         \"graphics\"     \n",
       "[13] \"grDevices\"     \"utils\"         \"datasets\"      \"methods\"      \n",
       "[17] \"base\"         \n",
       "\n",
       "[[8]]\n",
       " [1] \"GenomicRanges\" \"GenomeInfoDb\"  \"IRanges\"       \"S4Vectors\"    \n",
       " [5] \"stats4\"        \"BiocGenerics\"  \"parallel\"      \"dplyr\"        \n",
       " [9] \"RPostgreSQL\"   \"DBI\"           \"stats\"         \"graphics\"     \n",
       "[13] \"grDevices\"     \"utils\"         \"datasets\"      \"methods\"      \n",
       "[17] \"base\"         \n"
      ]
     },
     "metadata": {},
     "output_type": "display_data"
    }
   ],
   "source": [
    "# make a cluster for parallel computing\n",
    "cl <- makePSOCKcluster(11)\n",
    "clusterEvalQ(cl, {\n",
    "    library(DBI)\n",
    "    library(RPostgreSQL)\n",
    "    library(dplyr)\n",
    "    library(GenomicRanges)\n",
    "})\n",
    "registerDoParallel(cl)\n",
    "\n",
    "# parallel loop over all TFs\n",
    "\n",
    "sorted.TF.names <- sort(names(TFs.to.motifs))\n",
    "N.TF <- length(sorted.TF.names)\n",
    "\n",
    "TF.df.foreach <- foreach(i.TF=1:N.TF, .inorder=FALSE,\n",
    "                          .packages=c(\"DBI\", \"RPostgreSQL\", \"dplyr\", \"GenomicRanges\")) %dopar% {    \n",
    "    TFname <- sorted.TF.names[[i.TF]]\n",
    "    create.TF.df(TFname, neg.pos.ratio=pnr, verbose=TRUE)\n",
    "}\n",
    "\n",
    "# clean up after parallel setup\n",
    "stopCluster(cl)\n",
    "registerDoSEQ()"
   ]
  },
  {
   "cell_type": "code",
   "execution_count": 26,
   "metadata": {
    "collapsed": false
   },
   "outputs": [],
   "source": [
    "all.TF.df <- tibble()\n",
    "for (df in TF.df.foreach) {\n",
    "    all.TF.df <- rbind(all.TF.df, df)\n",
    "}"
   ]
  },
  {
   "cell_type": "code",
   "execution_count": 56,
   "metadata": {
    "collapsed": true
   },
   "outputs": [],
   "source": [
    "fname=paste(\"/local/rory/all.TF.fimo.samples.ratio.\",pnr,\".df.RData\", sep=\"\")\n",
    "save(all.TF.df, file=fname)"
   ]
  },
  {
   "cell_type": "markdown",
   "metadata": {},
   "source": [
    "## serial version of production loop"
   ]
  },
  {
   "cell_type": "code",
   "execution_count": 57,
   "metadata": {
    "collapsed": false
   },
   "outputs": [],
   "source": [
    "# serial version -- hung on last TF, don't know why\n",
    "\n",
    "all.TF.df <- tibble()\n",
    "\n",
    "sorted.TF.names <- sort(names(TFs.to.motifs))\n",
    "for (TFname in sorted.TF.names) {\n",
    "    \n",
    "    TFnum <- which(sorted.TF.names %in% TFname)\n",
    "    message(paste(\"Processing TF\", TFnum,\"/\", length(sorted.TF.names)))\n",
    "    TF.df <- create.TF.df(TFname, neg.pos.ratio=9, verbose=TRUE)\n",
    "    all.TF.df <- rbind(all.TF.df,TF.df)\n",
    "    \n",
    "    save(all.TF.df, file=\"/local/rory/all.TF.fimo.samples.ratio.9.df.RData\")\n",
    "\n",
    "}"
   ]
  },
  {
   "cell_type": "markdown",
   "metadata": {},
   "source": [
    "## old code used to construct main function"
   ]
  },
  {
   "cell_type": "code",
   "execution_count": 14,
   "metadata": {
    "collapsed": true
   },
   "outputs": [],
   "source": [
    "# # eventual function parameters\n",
    "# TF=\"E2F4\"\n",
    "# neg.pos.ratio=10"
   ]
  },
  {
   "cell_type": "code",
   "execution_count": 15,
   "metadata": {
    "collapsed": false
   },
   "outputs": [],
   "source": [
    "# # regions locs we can compute on but hits have TF info so need both\n",
    "# chipseq.hits.TF <- subset(chipseq.hits, name == TF)\n",
    "# locs.TF <- chipseq.hits.TF$loc\n",
    "# chipseq.regions.TF <- subset(chipseq.regions, loc %in% locs.TF)"
   ]
  },
  {
   "cell_type": "code",
   "execution_count": 16,
   "metadata": {
    "collapsed": false
   },
   "outputs": [],
   "source": [
    "# str(chipseq.regions.TF)"
   ]
  },
  {
   "cell_type": "code",
   "execution_count": 17,
   "metadata": {
    "collapsed": false
   },
   "outputs": [],
   "source": [
    "# # this is the slow step -- doing SQL queries on tbl.fimo.dplyr = call to whole fimo database\n",
    "# fimo.motifs.for.TF <- as.tbl(as.data.frame(filter(tbl.fimo.dplyr, motifname %in% TFs.to.motifs[[TF]])))"
   ]
  },
  {
   "cell_type": "code",
   "execution_count": 18,
   "metadata": {
    "collapsed": false
   },
   "outputs": [],
   "source": [
    "# str(fimo.motifs.for.TF)"
   ]
  },
  {
   "cell_type": "code",
   "execution_count": 19,
   "metadata": {
    "collapsed": false
   },
   "outputs": [],
   "source": [
    "# # find intersect using fast genomic ranges data structure\n",
    "# gr.fimo.TF <- with(fimo.motifs.for.TF, GRanges(chrom, IRanges(start=start, end=endpos)))\n",
    "# gr.chipseq.TF <- with(chipseq.regions.TF, GRanges(chrom, IRanges(start=start, end=endpos)))\n",
    "# overlaps.gr.TF <- findOverlaps(gr.chipseq.TF, gr.fimo.TF, type=\"any\")"
   ]
  },
  {
   "cell_type": "code",
   "execution_count": 20,
   "metadata": {
    "collapsed": false
   },
   "outputs": [],
   "source": [
    "# overlaps.TF <- as.tbl(as.data.frame(overlaps.gr.TF))"
   ]
  },
  {
   "cell_type": "code",
   "execution_count": 21,
   "metadata": {
    "collapsed": false
   },
   "outputs": [],
   "source": [
    "# str(overlaps.TF)"
   ]
  },
  {
   "cell_type": "code",
   "execution_count": 1,
   "metadata": {
    "collapsed": false
   },
   "outputs": [],
   "source": [
    "# # row numbers in fimo.motifs.for.TF where motifs overlap with chipseq peaks\n",
    "# positive.fimo.examples.rows.TF <- unique(overlaps.TF$subjectHits)"
   ]
  },
  {
   "cell_type": "code",
   "execution_count": 2,
   "metadata": {
    "collapsed": false
   },
   "outputs": [],
   "source": [
    "# str(positive.fimo.examples.rows.TF)"
   ]
  },
  {
   "cell_type": "code",
   "execution_count": null,
   "metadata": {
    "collapsed": true
   },
   "outputs": [],
   "source": [
    "# positive.fimo.examples.TF.df <- fimo.motifs.for.TF[positive.fimo.examples.rows.TF,]"
   ]
  },
  {
   "cell_type": "code",
   "execution_count": null,
   "metadata": {
    "collapsed": false
   },
   "outputs": [],
   "source": [
    "# # figure out how many negative samples for each motif we want\n",
    "# tot.motif.counts.TF <- table(fimo.motifs.for.TF$motifname)\n",
    "# pos.motif.counts.TF <- table(fimo.motifs.for.TF[positive.fimo.examples.rows.TF,]$motifname)\n",
    "# nx.pos.motif.counts.TF <- pos.motif.counts.TF*neg.pos.ratio\n",
    "\n",
    "# # want neg samples in fimo.motifs.for.TF to be non overlapping with chipseq peaks or pos examples\n",
    "# neg.cands.for.single.TF.df <- subset(fimo.motifs.for.TF,\n",
    "#                                      !(start %in% positive.fimo.examples.TF.df$start) &\n",
    "#                                      !(endpos %in% positive.fimo.examples.TF.df$endpos))\n",
    "# neg.motif.counts.TF <- table(neg.cands.for.single.TF.df$motifname)\n",
    "\n",
    "# # don't try to sample more than the population\n",
    "# neg.sample.counts.TF <- pmin(nx.pos.motif.counts.TF,neg.motif.counts.TF)"
   ]
  },
  {
   "cell_type": "code",
   "execution_count": 23,
   "metadata": {
    "collapsed": false
   },
   "outputs": [],
   "source": [
    "# # for each motif this TF matches, sample some examples where no CS hit\n",
    "# negative.fimo.examples.TF.df <- tibble()\n",
    "# for (motname in names(neg.sample.counts.TF)) {\n",
    "#     neg.cands.for.single.TF.df.single.motif <- subset(neg.cands.for.single.TF.df, motifname == motname)\n",
    "#     negative.fimo.examples.TF.df <- rbind(negative.fimo.examples.TF.df,\n",
    "#                                 sample_n(neg.cands.for.single.TF.df.single.motif, neg.sample.counts.TF[[motname]]))\n",
    "# }"
   ]
  },
  {
   "cell_type": "code",
   "execution_count": 24,
   "metadata": {
    "collapsed": false
   },
   "outputs": [],
   "source": [
    "# str(negative.fimo.examples.TF.df)"
   ]
  },
  {
   "cell_type": "code",
   "execution_count": 28,
   "metadata": {
    "collapsed": false
   },
   "outputs": [],
   "source": [
    "# positive.fimo.examples.TF.df <- as.tbl(cbind(positive.fimo.examples.TF.df, \"cs_hit\"=1))\n",
    "# negative.fimo.examples.TF.df <- as.tbl(cbind(negative.fimo.examples.TF.df, \"cs_hit\"=0))\n",
    "# all.fimo.examples.TF.df <- as.tbl(rbind(positive.fimo.examples.TF.df,negative.fimo.examples.TF.df))"
   ]
  },
  {
   "cell_type": "code",
   "execution_count": 29,
   "metadata": {
    "collapsed": false
   },
   "outputs": [],
   "source": [
    "# str(all.fimo.examples.TF.df)"
   ]
  },
  {
   "cell_type": "code",
   "execution_count": 30,
   "metadata": {
    "collapsed": false
   },
   "outputs": [],
   "source": [
    "# sample_n(all.fimo.examples.TF.df,50)"
   ]
  },
  {
   "cell_type": "code",
   "execution_count": 31,
   "metadata": {
    "collapsed": true
   },
   "outputs": [],
   "source": [
    "# need to compile these pos+neg hits into new table and save -- per TF or all together?"
   ]
  },
  {
   "cell_type": "code",
   "execution_count": null,
   "metadata": {
    "collapsed": true
   },
   "outputs": [],
   "source": []
  }
 ],
 "metadata": {
  "anaconda-cloud": {},
  "kernelspec": {
   "display_name": "R",
   "language": "R",
   "name": "ir"
  },
  "language_info": {
   "codemirror_mode": "r",
   "file_extension": ".r",
   "mimetype": "text/x-r-source",
   "name": "R",
   "pygments_lexer": "r",
   "version": "3.3.1"
  }
 },
 "nbformat": 4,
 "nbformat_minor": 0
}
