{
 "cells": [
  {
   "cell_type": "code",
   "execution_count": 9,
   "metadata": {
    "collapsed": false
   },
   "outputs": [
    {
     "name": "stderr",
     "output_type": "stream",
     "text": [
      "Loading required package: grid\n",
      "Loading required package: futile.logger\n"
     ]
    }
   ],
   "source": [
    "library(RPostgreSQL)\n",
    "library(VennDiagram)\n",
    "library(GenomicRanges)\n"
   ]
  },
  {
   "cell_type": "code",
   "execution_count": 2,
   "metadata": {
    "collapsed": false
   },
   "outputs": [],
   "source": [
    "source(\"~/git-repos/BDDS/footprints/testdb/src/dbFunctions.R\")"
   ]
  },
  {
   "cell_type": "code",
   "execution_count": 3,
   "metadata": {
    "collapsed": false
   },
   "outputs": [],
   "source": [
    "if(!exists(\"db.cory\"))\n",
    "    db.cory <- getDBConnection(\"testcory_whovian\")"
   ]
  },
  {
   "cell_type": "code",
   "execution_count": 16,
   "metadata": {
    "collapsed": true
   },
   "outputs": [],
   "source": [
    "allcory.tbl.regions <- dbGetQuery(db.cory, \"select * from regions\")"
   ]
  },
  {
   "cell_type": "code",
   "execution_count": 17,
   "metadata": {
    "collapsed": false
   },
   "outputs": [
    {
     "data": {
      "text/html": [
       "<table>\n",
       "<thead><tr><th></th><th scope=col>1</th><th scope=col>2</th><th scope=col>3</th><th scope=col>4</th><th scope=col>5</th><th scope=col>6</th></tr></thead>\n",
       "<tbody>\n",
       "\t<tr><th scope=row>loc</th><td>chr1:1374909-1374919</td><td>chr1:1780137-1780147</td><td>chr1:2673795-2673805</td><td>chr1:2680018-2680028</td><td>chr1:2755701-2755711</td><td>chr1:2760113-2760123</td></tr>\n",
       "\t<tr><th scope=row>chrom</th><td>chr1                </td><td>chr1                </td><td>chr1                </td><td>chr1                </td><td>chr1                </td><td>chr1                </td></tr>\n",
       "\t<tr><th scope=row>start</th><td>1374909             </td><td>1780137             </td><td>2673795             </td><td>2680018             </td><td>2755701             </td><td>2760113             </td></tr>\n",
       "\t<tr><th scope=row>endpos</th><td>1374919             </td><td>1780147             </td><td>2673805             </td><td>2680028             </td><td>2755711             </td><td>2760123             </td></tr>\n",
       "</tbody>\n",
       "</table>\n"
      ],
      "text/latex": [
       "\\begin{tabular}{r|llllll}\n",
       "  & 1 & 2 & 3 & 4 & 5 & 6\\\\\n",
       "\\hline\n",
       "\tloc & chr1:1374909-1374919 & chr1:1780137-1780147 & chr1:2673795-2673805 & chr1:2680018-2680028 & chr1:2755701-2755711 & chr1:2760113-2760123\\\\\n",
       "\tchrom & chr1                 & chr1                 & chr1                 & chr1                 & chr1                 & chr1                \\\\\n",
       "\tstart & 1374909              & 1780137              & 2673795              & 2680018              & 2755701              & 2760113             \\\\\n",
       "\tendpos & 1374919              & 1780147              & 2673805              & 2680028              & 2755711              & 2760123             \\\\\n",
       "\\end{tabular}\n"
      ],
      "text/markdown": [
       "1. 'chr1:1374909-1374919'\n",
       "2. 'chr1'\n",
       "3. '1374909'\n",
       "4. '1374919'\n",
       "5. 'chr1:1780137-1780147'\n",
       "6. 'chr1'\n",
       "7. '1780137'\n",
       "8. '1780147'\n",
       "9. 'chr1:2673795-2673805'\n",
       "10. 'chr1'\n",
       "11. '2673795'\n",
       "12. '2673805'\n",
       "13. 'chr1:2680018-2680028'\n",
       "14. 'chr1'\n",
       "15. '2680018'\n",
       "16. '2680028'\n",
       "17. 'chr1:2755701-2755711'\n",
       "18. 'chr1'\n",
       "19. '2755701'\n",
       "20. '2755711'\n",
       "21. 'chr1:2760113-2760123'\n",
       "22. 'chr1'\n",
       "23. '2760113'\n",
       "24. '2760123'\n",
       "\n",
       "\n"
      ],
      "text/plain": [
       "       1                    2                    3                   \n",
       "loc    chr1:1374909-1374919 chr1:1780137-1780147 chr1:2673795-2673805\n",
       "chrom  chr1                 chr1                 chr1                \n",
       "start  1374909              1780137              2673795             \n",
       "endpos 1374919              1780147              2673805             \n",
       "       4                    5                    6                   \n",
       "loc    chr1:2680018-2680028 chr1:2755701-2755711 chr1:2760113-2760123\n",
       "chrom  chr1                 chr1                 chr1                \n",
       "start  2680018              2755701              2760113             \n",
       "endpos 2680028              2755711              2760123             "
      ]
     },
     "metadata": {},
     "output_type": "display_data"
    }
   ],
   "source": [
    "t(head(allcory.tbl.regions))"
   ]
  },
  {
   "cell_type": "code",
   "execution_count": 19,
   "metadata": {
    "collapsed": false
   },
   "outputs": [
    {
     "data": {
      "text/html": [
       "<ol class=list-inline>\n",
       "\t<li>2784914</li>\n",
       "\t<li>4</li>\n",
       "</ol>\n"
      ],
      "text/latex": [
       "\\begin{enumerate*}\n",
       "\\item 2784914\n",
       "\\item 4\n",
       "\\end{enumerate*}\n"
      ],
      "text/markdown": [
       "1. 2784914\n",
       "2. 4\n",
       "\n",
       "\n"
      ],
      "text/plain": [
       "[1] 2784914       4"
      ]
     },
     "metadata": {},
     "output_type": "display_data"
    }
   ],
   "source": [
    "dim(allcory.tbl.regions)"
   ]
  },
  {
   "cell_type": "code",
   "execution_count": 20,
   "metadata": {
    "collapsed": false
   },
   "outputs": [
    {
     "data": {
      "text/html": [
       "<ol class=list-inline>\n",
       "\t<li>5744887</li>\n",
       "\t<li>14</li>\n",
       "</ol>\n"
      ],
      "text/latex": [
       "\\begin{enumerate*}\n",
       "\\item 5744887\n",
       "\\item 14\n",
       "\\end{enumerate*}\n"
      ],
      "text/markdown": [
       "1. 5744887\n",
       "2. 14\n",
       "\n",
       "\n"
      ],
      "text/plain": [
       "[1] 5744887      14"
      ]
     },
     "metadata": {},
     "output_type": "display_data"
    }
   ],
   "source": [
    "length(allcory.tbl)"
   ]
  },
  {
   "cell_type": "code",
   "execution_count": 4,
   "metadata": {
    "collapsed": false
   },
   "outputs": [],
   "source": [
    "allcory.tbl <- dbGetQuery(db.cory, \"select * from hits\")"
   ]
  },
  {
   "cell_type": "code",
   "execution_count": 5,
   "metadata": {
    "collapsed": false
   },
   "outputs": [
    {
     "data": {
      "text/html": [
       "<table>\n",
       "<thead><tr><th></th><th scope=col>1</th><th scope=col>2</th><th scope=col>3</th><th scope=col>4</th><th scope=col>5</th><th scope=col>6</th></tr></thead>\n",
       "<tbody>\n",
       "\t<tr><th scope=row>loc</th><td>chr1:84988804-84988814</td><td>chr1:85201065-85201075</td><td>chr1:85201754-85201764</td><td>chr1:85276405-85276415</td><td>chr1:86396334-86396344</td><td>chr1:86914545-86914555</td></tr>\n",
       "\t<tr><th scope=row>type</th><td>motif.in.footprint    </td><td>motif.in.footprint    </td><td>motif.in.footprint    </td><td>motif.in.footprint    </td><td>motif.in.footprint    </td><td>motif.in.footprint    </td></tr>\n",
       "\t<tr><th scope=row>name</th><td>MA0746.1              </td><td>MA0746.1              </td><td>MA0746.1              </td><td>MA0746.1              </td><td>MA0746.1              </td><td>MA0746.1              </td></tr>\n",
       "\t<tr><th scope=row>length</th><td>11                    </td><td>11                    </td><td>11                    </td><td>11                    </td><td>11                    </td><td>11                    </td></tr>\n",
       "\t<tr><th scope=row>strand</th><td>+                     </td><td>+                     </td><td>-                     </td><td>+                     </td><td>+                     </td><td>-                     </td></tr>\n",
       "\t<tr><th scope=row>sample_id</th><td>ENCSR000EJGhint20     </td><td>ENCSR000EJGhint20     </td><td>ENCSR000EJGhint20     </td><td>ENCSR000EJGhint20     </td><td>ENCSR000EJGhint20     </td><td>ENCSR000EJGhint20     </td></tr>\n",
       "\t<tr><th scope=row>method</th><td>HINT                  </td><td>HINT                  </td><td>HINT                  </td><td>HINT                  </td><td>HINT                  </td><td>HINT                  </td></tr>\n",
       "\t<tr><th scope=row>provenance</th><td>testcory.filler.minid </td><td>testcory.filler.minid </td><td>testcory.filler.minid </td><td>testcory.filler.minid </td><td>testcory.filler.minid </td><td>testcory.filler.minid </td></tr>\n",
       "\t<tr><th scope=row>score1</th><td>32                    </td><td>34                    </td><td>20                    </td><td> 8                    </td><td>41                    </td><td>82                    </td></tr>\n",
       "\t<tr><th scope=row>score2</th><td>12.2276               </td><td>11.2033               </td><td>11.8293               </td><td>10.7317               </td><td>13.0000               </td><td>14.3740               </td></tr>\n",
       "\t<tr><th scope=row>score3</th><td>2.92e-05              </td><td>5.93e-05              </td><td>3.98e-05              </td><td>8.40e-05              </td><td>1.74e-05              </td><td>5.28e-06              </td></tr>\n",
       "\t<tr><th scope=row>score4</th><td>NA                    </td><td>NA                    </td><td>NA                    </td><td>NA                    </td><td>NA                    </td><td>NA                    </td></tr>\n",
       "\t<tr><th scope=row>score5</th><td>NA                    </td><td>NA                    </td><td>NA                    </td><td>NA                    </td><td>NA                    </td><td>NA                    </td></tr>\n",
       "\t<tr><th scope=row>score6</th><td>NA                    </td><td>NA                    </td><td>NA                    </td><td>NA                    </td><td>NA                    </td><td>NA                    </td></tr>\n",
       "</tbody>\n",
       "</table>\n"
      ],
      "text/latex": [
       "\\begin{tabular}{r|llllll}\n",
       "  & 1 & 2 & 3 & 4 & 5 & 6\\\\\n",
       "\\hline\n",
       "\tloc & chr1:84988804-84988814 & chr1:85201065-85201075 & chr1:85201754-85201764 & chr1:85276405-85276415 & chr1:86396334-86396344 & chr1:86914545-86914555\\\\\n",
       "\ttype & motif.in.footprint     & motif.in.footprint     & motif.in.footprint     & motif.in.footprint     & motif.in.footprint     & motif.in.footprint    \\\\\n",
       "\tname & MA0746.1               & MA0746.1               & MA0746.1               & MA0746.1               & MA0746.1               & MA0746.1              \\\\\n",
       "\tlength & 11                     & 11                     & 11                     & 11                     & 11                     & 11                    \\\\\n",
       "\tstrand & +                      & +                      & -                      & +                      & +                      & -                     \\\\\n",
       "\tsample\\_id & ENCSR000EJGhint20      & ENCSR000EJGhint20      & ENCSR000EJGhint20      & ENCSR000EJGhint20      & ENCSR000EJGhint20      & ENCSR000EJGhint20     \\\\\n",
       "\tmethod & HINT                   & HINT                   & HINT                   & HINT                   & HINT                   & HINT                  \\\\\n",
       "\tprovenance & testcory.filler.minid  & testcory.filler.minid  & testcory.filler.minid  & testcory.filler.minid  & testcory.filler.minid  & testcory.filler.minid \\\\\n",
       "\tscore1 & 32                     & 34                     & 20                     &  8                     & 41                     & 82                    \\\\\n",
       "\tscore2 & 12.2276                & 11.2033                & 11.8293                & 10.7317                & 13.0000                & 14.3740               \\\\\n",
       "\tscore3 & 2.92e-05               & 5.93e-05               & 3.98e-05               & 8.40e-05               & 1.74e-05               & 5.28e-06              \\\\\n",
       "\tscore4 & NA                     & NA                     & NA                     & NA                     & NA                     & NA                    \\\\\n",
       "\tscore5 & NA                     & NA                     & NA                     & NA                     & NA                     & NA                    \\\\\n",
       "\tscore6 & NA                     & NA                     & NA                     & NA                     & NA                     & NA                    \\\\\n",
       "\\end{tabular}\n"
      ],
      "text/markdown": [
       "1. 'chr1:84988804-84988814'\n",
       "2. 'motif.in.footprint'\n",
       "3. 'MA0746.1'\n",
       "4. '11'\n",
       "5. '+'\n",
       "6. 'ENCSR000EJGhint20'\n",
       "7. 'HINT'\n",
       "8. 'testcory.filler.minid'\n",
       "9. '32'\n",
       "10. '12.2276'\n",
       "11. '2.92e-05'\n",
       "12. 'NA'\n",
       "13. 'NA'\n",
       "14. 'NA'\n",
       "15. 'chr1:85201065-85201075'\n",
       "16. 'motif.in.footprint'\n",
       "17. 'MA0746.1'\n",
       "18. '11'\n",
       "19. '+'\n",
       "20. 'ENCSR000EJGhint20'\n",
       "21. 'HINT'\n",
       "22. 'testcory.filler.minid'\n",
       "23. '34'\n",
       "24. '11.2033'\n",
       "25. '5.93e-05'\n",
       "26. 'NA'\n",
       "27. 'NA'\n",
       "28. 'NA'\n",
       "29. 'chr1:85201754-85201764'\n",
       "30. 'motif.in.footprint'\n",
       "31. 'MA0746.1'\n",
       "32. '11'\n",
       "33. '-'\n",
       "34. 'ENCSR000EJGhint20'\n",
       "35. 'HINT'\n",
       "36. 'testcory.filler.minid'\n",
       "37. '20'\n",
       "38. '11.8293'\n",
       "39. '3.98e-05'\n",
       "40. 'NA'\n",
       "41. 'NA'\n",
       "42. 'NA'\n",
       "43. 'chr1:85276405-85276415'\n",
       "44. 'motif.in.footprint'\n",
       "45. 'MA0746.1'\n",
       "46. '11'\n",
       "47. '+'\n",
       "48. 'ENCSR000EJGhint20'\n",
       "49. 'HINT'\n",
       "50. 'testcory.filler.minid'\n",
       "51. ' 8'\n",
       "52. '10.7317'\n",
       "53. '8.40e-05'\n",
       "54. 'NA'\n",
       "55. 'NA'\n",
       "56. 'NA'\n",
       "57. 'chr1:86396334-86396344'\n",
       "58. 'motif.in.footprint'\n",
       "59. 'MA0746.1'\n",
       "60. '11'\n",
       "61. '+'\n",
       "62. 'ENCSR000EJGhint20'\n",
       "63. 'HINT'\n",
       "64. 'testcory.filler.minid'\n",
       "65. '41'\n",
       "66. '13.0000'\n",
       "67. '1.74e-05'\n",
       "68. 'NA'\n",
       "69. 'NA'\n",
       "70. 'NA'\n",
       "71. 'chr1:86914545-86914555'\n",
       "72. 'motif.in.footprint'\n",
       "73. 'MA0746.1'\n",
       "74. '11'\n",
       "75. '-'\n",
       "76. 'ENCSR000EJGhint20'\n",
       "77. 'HINT'\n",
       "78. 'testcory.filler.minid'\n",
       "79. '82'\n",
       "80. '14.3740'\n",
       "81. '5.28e-06'\n",
       "82. 'NA'\n",
       "83. 'NA'\n",
       "84. 'NA'\n",
       "\n",
       "\n"
      ],
      "text/plain": [
       "           1                      2                      3                     \n",
       "loc        chr1:84988804-84988814 chr1:85201065-85201075 chr1:85201754-85201764\n",
       "type       motif.in.footprint     motif.in.footprint     motif.in.footprint    \n",
       "name       MA0746.1               MA0746.1               MA0746.1              \n",
       "length     11                     11                     11                    \n",
       "strand     +                      +                      -                     \n",
       "sample_id  ENCSR000EJGhint20      ENCSR000EJGhint20      ENCSR000EJGhint20     \n",
       "method     HINT                   HINT                   HINT                  \n",
       "provenance testcory.filler.minid  testcory.filler.minid  testcory.filler.minid \n",
       "score1     32                     34                     20                    \n",
       "score2     12.2276                11.2033                11.8293               \n",
       "score3     2.92e-05               5.93e-05               3.98e-05              \n",
       "score4     NA                     NA                     NA                    \n",
       "score5     NA                     NA                     NA                    \n",
       "score6     NA                     NA                     NA                    \n",
       "           4                      5                      6                     \n",
       "loc        chr1:85276405-85276415 chr1:86396334-86396344 chr1:86914545-86914555\n",
       "type       motif.in.footprint     motif.in.footprint     motif.in.footprint    \n",
       "name       MA0746.1               MA0746.1               MA0746.1              \n",
       "length     11                     11                     11                    \n",
       "strand     +                      +                      -                     \n",
       "sample_id  ENCSR000EJGhint20      ENCSR000EJGhint20      ENCSR000EJGhint20     \n",
       "method     HINT                   HINT                   HINT                  \n",
       "provenance testcory.filler.minid  testcory.filler.minid  testcory.filler.minid \n",
       "score1      8                     41                     82                    \n",
       "score2     10.7317                13.0000                14.3740               \n",
       "score3     8.40e-05               1.74e-05               5.28e-06              \n",
       "score4     NA                     NA                     NA                    \n",
       "score5     NA                     NA                     NA                    \n",
       "score6     NA                     NA                     NA                    "
      ]
     },
     "metadata": {},
     "output_type": "display_data"
    }
   ],
   "source": [
    "t(head(allcory.tbl))"
   ]
  },
  {
   "cell_type": "code",
   "execution_count": 6,
   "metadata": {
    "collapsed": false
   },
   "outputs": [
    {
     "data": {
      "text/html": [
       "<ol class=list-inline>\n",
       "\t<li>'ENCSR000EJGhint20'</li>\n",
       "\t<li>'ENCSR000EMThint16'</li>\n",
       "\t<li>'ENCSR000EMThint20'</li>\n",
       "\t<li>'ENCSR000EJGhint16'</li>\n",
       "\t<li>'ENCSR000EJGhint18'</li>\n",
       "</ol>\n"
      ],
      "text/latex": [
       "\\begin{enumerate*}\n",
       "\\item 'ENCSR000EJGhint20'\n",
       "\\item 'ENCSR000EMThint16'\n",
       "\\item 'ENCSR000EMThint20'\n",
       "\\item 'ENCSR000EJGhint16'\n",
       "\\item 'ENCSR000EJGhint18'\n",
       "\\end{enumerate*}\n"
      ],
      "text/markdown": [
       "1. 'ENCSR000EJGhint20'\n",
       "2. 'ENCSR000EMThint16'\n",
       "3. 'ENCSR000EMThint20'\n",
       "4. 'ENCSR000EJGhint16'\n",
       "5. 'ENCSR000EJGhint18'\n",
       "\n",
       "\n"
      ],
      "text/plain": [
       "[1] \"ENCSR000EJGhint20\" \"ENCSR000EMThint16\" \"ENCSR000EMThint20\"\n",
       "[4] \"ENCSR000EJGhint16\" \"ENCSR000EJGhint18\""
      ]
     },
     "metadata": {},
     "output_type": "display_data"
    }
   ],
   "source": [
    "unique(allcory.tbl$sample_id)"
   ]
  },
  {
   "cell_type": "code",
   "execution_count": 7,
   "metadata": {
    "collapsed": false
   },
   "outputs": [],
   "source": [
    "EJ.16.locs <- allcory.tbl[allcory.tbl$sample_id == 'ENCSR000EJGhint16',\"loc\"]\n",
    "EJ.18.locs <- allcory.tbl[allcory.tbl$sample_id == 'ENCSR000EJGhint18',\"loc\"]\n",
    "EJ.20.locs <- allcory.tbl[allcory.tbl$sample_id == 'ENCSR000EJGhint20',\"loc\"]\n",
    "EM.16.locs <- allcory.tbl[allcory.tbl$sample_id == 'ENCSR000EMThint16',\"loc\"]\n",
    "EM.20.locs <- allcory.tbl[allcory.tbl$sample_id == 'ENCSR000EMThint20',\"loc\"]"
   ]
  },
  {
   "cell_type": "code",
   "execution_count": 10,
   "metadata": {
    "collapsed": false
   },
   "outputs": [
    {
     "data": {
      "image/png": "[encoded data removed]",
      "text/plain": [
       "plot without title"
      ]
     },
     "metadata": {},
     "output_type": "display_data"
    }
   ],
   "source": [
    "v.in <- list(EJ.16.locs,EJ.18.locs,EJ.20.locs)\n",
    "names(v.in) <- c(\"EJ seed 16\",\"EJ seed 18\",\"EJ seed 20\")\n",
    "venn.plot <- venn.diagram(v.in, NULL)\n",
    "grid.draw(venn.plot)"
   ]
  },
  {
   "cell_type": "code",
   "execution_count": 15,
   "metadata": {
    "collapsed": false
   },
   "outputs": [
    {
     "data": {
      "text/html": [
       "182030"
      ],
      "text/latex": [
       "182030"
      ],
      "text/markdown": [
       "182030"
      ],
      "text/plain": [
       "[1] 182030"
      ]
     },
     "metadata": {},
     "output_type": "display_data"
    },
    {
     "data": {
      "text/html": [
       "292939"
      ],
      "text/latex": [
       "292939"
      ],
      "text/markdown": [
       "292939"
      ],
      "text/plain": [
       "[1] 292939"
      ]
     },
     "metadata": {},
     "output_type": "display_data"
    },
    {
     "data": {
      "text/html": [
       "453284"
      ],
      "text/latex": [
       "453284"
      ],
      "text/markdown": [
       "453284"
      ],
      "text/plain": [
       "[1] 453284"
      ]
     },
     "metadata": {},
     "output_type": "display_data"
    }
   ],
   "source": [
    "length(unique(EJ.16.locs))\n",
    "length(unique(EJ.18.locs))\n",
    "length(unique(EJ.20.locs))"
   ]
  },
  {
   "cell_type": "code",
   "execution_count": 11,
   "metadata": {
    "collapsed": false
   },
   "outputs": [
    {
     "data": {
      "image/png": "[encoded data removed]",
      "text/plain": [
       "plot without title"
      ]
     },
     "metadata": {},
     "output_type": "display_data"
    }
   ],
   "source": [
    "v.in <- list(EM.16.locs, EM.20.locs)\n",
    "names(v.in) <- c(\"EM seed 16\",\"EM seed 20\")\n",
    "venn.plot <- venn.diagram(v.in, NULL)\n",
    "grid.draw(venn.plot)"
   ]
  },
  {
   "cell_type": "code",
   "execution_count": 14,
   "metadata": {
    "collapsed": false
   },
   "outputs": [
    {
     "data": {
      "text/html": [
       "1636311"
      ],
      "text/latex": [
       "1636311"
      ],
      "text/markdown": [
       "1636311"
      ],
      "text/plain": [
       "[1] 1636311"
      ]
     },
     "metadata": {},
     "output_type": "display_data"
    },
    {
     "data": {
      "text/html": [
       "1311061"
      ],
      "text/latex": [
       "1311061"
      ],
      "text/markdown": [
       "1311061"
      ],
      "text/plain": [
       "[1] 1311061"
      ]
     },
     "metadata": {},
     "output_type": "display_data"
    }
   ],
   "source": [
    "length(unique(EM.16.locs))\n",
    "length(unique(EM.20.locs))"
   ]
  },
  {
   "cell_type": "code",
   "execution_count": 21,
   "metadata": {
    "collapsed": true
   },
   "outputs": [],
   "source": [
    "if(!exists(\"db.chipseq\"))\n",
    "    dbname=\"chipseq\"\n",
    "    port = \"5432\"\n",
    "    driver = dbDriver(\"PostgreSQL\")\n",
    "    user= \"trena\"\n",
    "    password=\"trena\"\n",
    "    host=\"whovian\"\n",
    "    db.chipseq <- dbConnect(drv=driver, user=user, password=password, dbname=dbname, host=host, \n",
    "            port=port)"
   ]
  },
  {
   "cell_type": "code",
   "execution_count": 23,
   "metadata": {
    "collapsed": true
   },
   "outputs": [],
   "source": [
    "chipseq.hits <- dbGetQuery(db.chipseq, \"select * from hits\")\n",
    "chipseq.regions <- dbGetQuery(db.chipseq, \"select * from regions\")"
   ]
  },
  {
   "cell_type": "code",
   "execution_count": 25,
   "metadata": {
    "collapsed": false
   },
   "outputs": [],
   "source": [
    "chipseq.locs <- chipseq.regions$loc"
   ]
  },
  {
   "cell_type": "code",
   "execution_count": 27,
   "metadata": {
    "collapsed": false
   },
   "outputs": [
    {
     "data": {
      "text/html": [
       "<ol class=list-inline>\n",
       "\t<li>'chr1:1677841-1677991'</li>\n",
       "\t<li>'chr1:1678101-1678251'</li>\n",
       "\t<li>'chr1:1828321-1828471'</li>\n",
       "\t<li>'chr1:1828521-1828671'</li>\n",
       "\t<li>'chr1:1828761-1828911'</li>\n",
       "\t<li>'chr1:2255801-2255951'</li>\n",
       "</ol>\n"
      ],
      "text/latex": [
       "\\begin{enumerate*}\n",
       "\\item 'chr1:1677841-1677991'\n",
       "\\item 'chr1:1678101-1678251'\n",
       "\\item 'chr1:1828321-1828471'\n",
       "\\item 'chr1:1828521-1828671'\n",
       "\\item 'chr1:1828761-1828911'\n",
       "\\item 'chr1:2255801-2255951'\n",
       "\\end{enumerate*}\n"
      ],
      "text/markdown": [
       "1. 'chr1:1677841-1677991'\n",
       "2. 'chr1:1678101-1678251'\n",
       "3. 'chr1:1828321-1828471'\n",
       "4. 'chr1:1828521-1828671'\n",
       "5. 'chr1:1828761-1828911'\n",
       "6. 'chr1:2255801-2255951'\n",
       "\n",
       "\n"
      ],
      "text/plain": [
       "[1] \"chr1:1677841-1677991\" \"chr1:1678101-1678251\" \"chr1:1828321-1828471\"\n",
       "[4] \"chr1:1828521-1828671\" \"chr1:1828761-1828911\" \"chr1:2255801-2255951\""
      ]
     },
     "metadata": {},
     "output_type": "display_data"
    }
   ],
   "source": [
    "head(chipseq.locs)"
   ]
  },
  {
   "cell_type": "code",
   "execution_count": 28,
   "metadata": {
    "collapsed": false
   },
   "outputs": [
    {
     "data": {
      "text/html": [
       "<ol class=list-inline>\n",
       "\t<li>'chr1:586125-586135'</li>\n",
       "\t<li>'chr1:610118-610128'</li>\n",
       "\t<li>'chr1:976189-976199'</li>\n",
       "\t<li>'chr1:979394-979404'</li>\n",
       "\t<li>'chr1:1000472-1000482'</li>\n",
       "\t<li>'chr1:1013556-1013566'</li>\n",
       "</ol>\n"
      ],
      "text/latex": [
       "\\begin{enumerate*}\n",
       "\\item 'chr1:586125-586135'\n",
       "\\item 'chr1:610118-610128'\n",
       "\\item 'chr1:976189-976199'\n",
       "\\item 'chr1:979394-979404'\n",
       "\\item 'chr1:1000472-1000482'\n",
       "\\item 'chr1:1013556-1013566'\n",
       "\\end{enumerate*}\n"
      ],
      "text/markdown": [
       "1. 'chr1:586125-586135'\n",
       "2. 'chr1:610118-610128'\n",
       "3. 'chr1:976189-976199'\n",
       "4. 'chr1:979394-979404'\n",
       "5. 'chr1:1000472-1000482'\n",
       "6. 'chr1:1013556-1013566'\n",
       "\n",
       "\n"
      ],
      "text/plain": [
       "[1] \"chr1:586125-586135\"   \"chr1:610118-610128\"   \"chr1:976189-976199\"  \n",
       "[4] \"chr1:979394-979404\"   \"chr1:1000472-1000482\" \"chr1:1013556-1013566\""
      ]
     },
     "metadata": {},
     "output_type": "display_data"
    }
   ],
   "source": [
    "head(EM.16.locs)"
   ]
  },
  {
   "cell_type": "code",
   "execution_count": null,
   "metadata": {
    "collapsed": true
   },
   "outputs": [],
   "source": [
    "gr.EM.16 = with(x0, GRanges(chr, IRanges(start=start, end=stop)))"
   ]
  },
  {
   "cell_type": "code",
   "execution_count": null,
   "metadata": {
    "collapsed": true
   },
   "outputs": [],
   "source": [
    "gr.chipseq = with(x1, GRanges(chr, IRanges(start=start, end=stop)))"
   ]
  },
  {
   "cell_type": "code",
   "execution_count": 26,
   "metadata": {
    "collapsed": false
   },
   "outputs": [
    {
     "data": {
      "image/png": "[encoded data removed]",
      "text/plain": [
       "plot without title"
      ]
     },
     "metadata": {},
     "output_type": "display_data"
    }
   ],
   "source": [
    "v.in <- list(EM.16.locs, chipseq.locs)\n",
    "names(v.in) <- c(\"EM seed 16\",\"ChIP seq\")\n",
    "venn.plot <- venn.diagram(v.in, NULL)\n",
    "grid.draw(venn.plot)"
   ]
  },
  {
   "cell_type": "code",
   "execution_count": 66,
   "metadata": {
    "collapsed": false
   },
   "outputs": [],
   "source": [
    "# function to transform list of strings of the form chr1:84988804-84988814 into regino table compatible dataframes\n",
    "\n",
    "parse_loc_stings <- function(loc_strings) {\n",
    "    require(\"reshape2\")\n",
    "    parsed.data <- colsplit(loc_strings, \"[[:punct:]]\", names=c(\"chrom\", \"start\", \"endpos\"))\n",
    "    return(cbind(loc=loc_strings,parsed.data,stringsAsFactors=FALSE))\n",
    "}"
   ]
  },
  {
   "cell_type": "code",
   "execution_count": 67,
   "metadata": {
    "collapsed": false
   },
   "outputs": [],
   "source": [
    "EM.16.locs.regions <- parse_loc_stings(EM.16.locs)"
   ]
  },
  {
   "cell_type": "code",
   "execution_count": 68,
   "metadata": {
    "collapsed": true
   },
   "outputs": [],
   "source": [
    "EM.20.locs.regions <- parse_loc_stings(EM.20.locs)"
   ]
  },
  {
   "cell_type": "code",
   "execution_count": 69,
   "metadata": {
    "collapsed": false
   },
   "outputs": [
    {
     "name": "stdout",
     "output_type": "stream",
     "text": [
      "'data.frame':\t2394614 obs. of  4 variables:\n",
      " $ loc   : chr  \"chr1:586125-586135\" \"chr1:610118-610128\" \"chr1:976189-976199\" \"chr1:979394-979404\" ...\n",
      " $ chrom : chr  \"chr1\" \"chr1\" \"chr1\" \"chr1\" ...\n",
      " $ start : int  586125 610118 976189 979394 1000472 1013556 1013563 1172031 1489372 1600409 ...\n",
      " $ endpos: int  586135 610128 976199 979404 1000482 1013566 1013573 1172041 1489382 1600419 ...\n",
      "'data.frame':\t1926489 obs. of  4 variables:\n",
      " $ loc   : chr  \"chr1:267971-267981\" \"chr1:586125-586135\" \"chr1:630845-630855\" \"chr1:631103-631113\" ...\n",
      " $ chrom : chr  \"chr1\" \"chr1\" \"chr1\" \"chr1\" ...\n",
      " $ start : int  267971 586125 630845 631103 976189 1000472 1005185 1013556 1013563 1172031 ...\n",
      " $ endpos: int  267981 586135 630855 631113 976199 1000482 1005195 1013566 1013573 1172041 ...\n",
      "'data.frame':\t410427 obs. of  4 variables:\n",
      " $ loc   : chr  \"chr1:1677841-1677991\" \"chr1:1678101-1678251\" \"chr1:1828321-1828471\" \"chr1:1828521-1828671\" ...\n",
      " $ chrom : chr  \"chr1\" \"chr1\" \"chr1\" \"chr1\" ...\n",
      " $ start : int  1677841 1678101 1828321 1828521 1828761 2255801 2255961 2290721 2290881 2291061 ...\n",
      " $ endpos: int  1677991 1678251 1828471 1828671 1828911 2255951 2256251 2290871 2291031 2291211 ...\n"
     ]
    }
   ],
   "source": [
    "str(EM.16.locs.regions)\n",
    "str(EM.20.locs.regions)\n",
    "str(chipseq.regions)"
   ]
  },
  {
   "cell_type": "code",
   "execution_count": 71,
   "metadata": {
    "collapsed": false
   },
   "outputs": [],
   "source": [
    "EM.16.locs.gr = with(EM.16.locs.regions, GRanges(chrom, IRanges(start=start, end=endpos)))\n",
    "EM.20.locs.gr = with(EM.20.locs.regions, GRanges(chrom, IRanges(start=start, end=endpos)))\n",
    "chipseq.regions.gr = with(chipseq.regions, GRanges(chrom, IRanges(start=start, end=endpos)))"
   ]
  },
  {
   "cell_type": "code",
   "execution_count": 75,
   "metadata": {
    "collapsed": true
   },
   "outputs": [],
   "source": [
    "EM.16.chipseq.overlaps.gr <- findOverlaps(EM.16.locs.gr, chipseq.regions.gr, type=\"any\")\n",
    "EM.20.chipseq.overlaps.gr <- findOverlaps(EM.20.locs.gr, chipseq.regions.gr, type=\"any\")"
   ]
  },
  {
   "cell_type": "code",
   "execution_count": 88,
   "metadata": {
    "collapsed": false
   },
   "outputs": [],
   "source": [
    "EM.16.chipseq.overlap.regions <- EM.16.locs.regions[as.data.frame(EM.16.chipseq.overlaps.gr)$queryHits,]\n",
    "EM.20.chipseq.overlap.regions <- EM.20.locs.regions[as.data.frame(EM.20.chipseq.overlaps.gr)$queryHits,]"
   ]
  },
  {
   "cell_type": "code",
   "execution_count": 92,
   "metadata": {
    "collapsed": false
   },
   "outputs": [
    {
     "data": {
      "text/html": [
       "<ol class=list-inline>\n",
       "\t<li>2394614</li>\n",
       "\t<li>4</li>\n",
       "</ol>\n"
      ],
      "text/latex": [
       "\\begin{enumerate*}\n",
       "\\item 2394614\n",
       "\\item 4\n",
       "\\end{enumerate*}\n"
      ],
      "text/markdown": [
       "1. 2394614\n",
       "2. 4\n",
       "\n",
       "\n"
      ],
      "text/plain": [
       "[1] 2394614       4"
      ]
     },
     "metadata": {},
     "output_type": "display_data"
    },
    {
     "data": {
      "text/html": [
       "<ol class=list-inline>\n",
       "\t<li>1926489</li>\n",
       "\t<li>4</li>\n",
       "</ol>\n"
      ],
      "text/latex": [
       "\\begin{enumerate*}\n",
       "\\item 1926489\n",
       "\\item 4\n",
       "\\end{enumerate*}\n"
      ],
      "text/markdown": [
       "1. 1926489\n",
       "2. 4\n",
       "\n",
       "\n"
      ],
      "text/plain": [
       "[1] 1926489       4"
      ]
     },
     "metadata": {},
     "output_type": "display_data"
    },
    {
     "data": {
      "text/html": [
       "<ol class=list-inline>\n",
       "\t<li>1267427</li>\n",
       "\t<li>4</li>\n",
       "</ol>\n"
      ],
      "text/latex": [
       "\\begin{enumerate*}\n",
       "\\item 1267427\n",
       "\\item 4\n",
       "\\end{enumerate*}\n"
      ],
      "text/markdown": [
       "1. 1267427\n",
       "2. 4\n",
       "\n",
       "\n"
      ],
      "text/plain": [
       "[1] 1267427       4"
      ]
     },
     "metadata": {},
     "output_type": "display_data"
    },
    {
     "data": {
      "text/html": [
       "<ol class=list-inline>\n",
       "\t<li>1110527</li>\n",
       "\t<li>4</li>\n",
       "</ol>\n"
      ],
      "text/latex": [
       "\\begin{enumerate*}\n",
       "\\item 1110527\n",
       "\\item 4\n",
       "\\end{enumerate*}\n"
      ],
      "text/markdown": [
       "1. 1110527\n",
       "2. 4\n",
       "\n",
       "\n"
      ],
      "text/plain": [
       "[1] 1110527       4"
      ]
     },
     "metadata": {},
     "output_type": "display_data"
    }
   ],
   "source": [
    "dim(EM.16.locs.regions)\n",
    "dim(EM.20.locs.regions)\n",
    "dim(EM.16.chipseq.overlap.regions)\n",
    "dim(EM.20.chipseq.overlap.regions)"
   ]
  },
  {
   "cell_type": "code",
   "execution_count": 95,
   "metadata": {
    "collapsed": false
   },
   "outputs": [
    {
     "data": {
      "text/html": [
       "0.5292823812105"
      ],
      "text/latex": [
       "0.5292823812105"
      ],
      "text/markdown": [
       "0.5292823812105"
      ],
      "text/plain": [
       "[1] 0.5292824"
      ]
     },
     "metadata": {},
     "output_type": "display_data"
    }
   ],
   "source": [
    "1267427/2394614"
   ]
  },
  {
   "cell_type": "code",
   "execution_count": 96,
   "metadata": {
    "collapsed": false
   },
   "outputs": [
    {
     "data": {
      "text/html": [
       "0.576451254068931"
      ],
      "text/latex": [
       "0.576451254068931"
      ],
      "text/markdown": [
       "0.576451254068931"
      ],
      "text/plain": [
       "[1] 0.5764513"
      ]
     },
     "metadata": {},
     "output_type": "display_data"
    }
   ],
   "source": [
    "1110527/1926489"
   ]
  },
  {
   "cell_type": "code",
   "execution_count": 101,
   "metadata": {
    "collapsed": false
   },
   "outputs": [],
   "source": [
    "EM.16.chipseq.overlap.regions.gr <- with(EM.16.chipseq.overlap.regions, GRanges(chrom, IRanges(start=start, end=endpos)))\n",
    "EM.20.chipseq.overlap.regions.gr <- with(EM.20.chipseq.overlap.regions, GRanges(chrom, IRanges(start=start, end=endpos)))"
   ]
  },
  {
   "cell_type": "code",
   "execution_count": 105,
   "metadata": {
    "collapsed": true
   },
   "outputs": [],
   "source": [
    "EM.16.20.chipseq.overlaps.gr <- findOverlaps(EM.16.chipseq.overlap.regions.gr, EM.20.chipseq.overlap.regions.gr, type=\"any\")\n",
    "EM.20.16.chipseq.overlaps.gr <- findOverlaps(EM.20.chipseq.overlap.regions.gr, EM.16.chipseq.overlap.regions.gr, type=\"any\")"
   ]
  },
  {
   "cell_type": "code",
   "execution_count": 108,
   "metadata": {
    "collapsed": false
   },
   "outputs": [
    {
     "data": {
      "text/html": [
       "676631"
      ],
      "text/latex": [
       "676631"
      ],
      "text/markdown": [
       "676631"
      ],
      "text/plain": [
       "[1] 676631"
      ]
     },
     "metadata": {},
     "output_type": "display_data"
    },
    {
     "data": {
      "text/html": [
       "691877"
      ],
      "text/latex": [
       "691877"
      ],
      "text/markdown": [
       "691877"
      ],
      "text/plain": [
       "[1] 691877"
      ]
     },
     "metadata": {},
     "output_type": "display_data"
    }
   ],
   "source": [
    "length(unique(as.data.frame(EM.16.20.chipseq.overlaps.gr)$queryHits))\n",
    "length(unique(as.data.frame(EM.20.16.chipseq.overlaps.gr)$queryHits))"
   ]
  },
  {
   "cell_type": "code",
   "execution_count": 109,
   "metadata": {
    "collapsed": true
   },
   "outputs": [],
   "source": [
    "EM.16.20.exact.chipseq.overlaps.gr <- findOverlaps(EM.16.chipseq.overlap.regions.gr, EM.20.chipseq.overlap.regions.gr, type=\"equal\")"
   ]
  },
  {
   "cell_type": "code",
   "execution_count": 110,
   "metadata": {
    "collapsed": false
   },
   "outputs": [
    {
     "data": {
      "text/html": [
       "538124"
      ],
      "text/latex": [
       "538124"
      ],
      "text/markdown": [
       "538124"
      ],
      "text/plain": [
       "[1] 538124"
      ]
     },
     "metadata": {},
     "output_type": "display_data"
    }
   ],
   "source": [
    "length(unique(as.data.frame(EM.16.20.exact.chipseq.overlaps.gr)$queryHits))"
   ]
  },
  {
   "cell_type": "code",
   "execution_count": null,
   "metadata": {
    "collapsed": true
   },
   "outputs": [],
   "source": []
  }
 ],
 "metadata": {
  "anaconda-cloud": {},
  "kernelspec": {
   "display_name": "R",
   "language": "R",
   "name": "ir"
  },
  "language_info": {
   "codemirror_mode": "r",
   "file_extension": ".r",
   "mimetype": "text/x-r-source",
   "name": "R",
   "pygments_lexer": "r",
   "version": "3.3.1"
  }
 },
 "nbformat": 4,
 "nbformat_minor": 0
}
