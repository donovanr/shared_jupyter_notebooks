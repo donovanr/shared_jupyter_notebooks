{
 "cells": [
  {
   "cell_type": "markdown",
   "metadata": {},
   "source": [
    "# using gradient boosted decision trees as a meta-classifier"
   ]
  },
  {
   "cell_type": "code",
   "execution_count": 2,
   "metadata": {
    "collapsed": false
   },
   "outputs": [
    {
     "data": {
      "text/html": [
       "<ol class=list-inline>\n",
       "\t<li>'stringr'</li>\n",
       "\t<li>'pROC'</li>\n",
       "\t<li>'tidyr'</li>\n",
       "\t<li>'dplyr'</li>\n",
       "\t<li>'glmnet'</li>\n",
       "\t<li>'foreach'</li>\n",
       "\t<li>'Matrix'</li>\n",
       "\t<li>'xgboost'</li>\n",
       "\t<li>'ggplot2'</li>\n",
       "\t<li>'RColorBrewer'</li>\n",
       "\t<li>'stats'</li>\n",
       "\t<li>'graphics'</li>\n",
       "\t<li>'grDevices'</li>\n",
       "\t<li>'utils'</li>\n",
       "\t<li>'datasets'</li>\n",
       "\t<li>'methods'</li>\n",
       "\t<li>'base'</li>\n",
       "</ol>\n"
      ],
      "text/latex": [
       "\\begin{enumerate*}\n",
       "\\item 'stringr'\n",
       "\\item 'pROC'\n",
       "\\item 'tidyr'\n",
       "\\item 'dplyr'\n",
       "\\item 'glmnet'\n",
       "\\item 'foreach'\n",
       "\\item 'Matrix'\n",
       "\\item 'xgboost'\n",
       "\\item 'ggplot2'\n",
       "\\item 'RColorBrewer'\n",
       "\\item 'stats'\n",
       "\\item 'graphics'\n",
       "\\item 'grDevices'\n",
       "\\item 'utils'\n",
       "\\item 'datasets'\n",
       "\\item 'methods'\n",
       "\\item 'base'\n",
       "\\end{enumerate*}\n"
      ],
      "text/markdown": [
       "1. 'stringr'\n",
       "2. 'pROC'\n",
       "3. 'tidyr'\n",
       "4. 'dplyr'\n",
       "5. 'glmnet'\n",
       "6. 'foreach'\n",
       "7. 'Matrix'\n",
       "8. 'xgboost'\n",
       "9. 'ggplot2'\n",
       "10. 'RColorBrewer'\n",
       "11. 'stats'\n",
       "12. 'graphics'\n",
       "13. 'grDevices'\n",
       "14. 'utils'\n",
       "15. 'datasets'\n",
       "16. 'methods'\n",
       "17. 'base'\n",
       "\n",
       "\n"
      ],
      "text/plain": [
       " [1] \"stringr\"      \"pROC\"         \"tidyr\"        \"dplyr\"        \"glmnet\"      \n",
       " [6] \"foreach\"      \"Matrix\"       \"xgboost\"      \"ggplot2\"      \"RColorBrewer\"\n",
       "[11] \"stats\"        \"graphics\"     \"grDevices\"    \"utils\"        \"datasets\"    \n",
       "[16] \"methods\"      \"base\"        "
      ]
     },
     "metadata": {},
     "output_type": "display_data"
    }
   ],
   "source": [
    "libs <- c(\n",
    "    'RColorBrewer',\n",
    "    'ggplot2',\n",
    "    'xgboost',\n",
    "    'glmnet',\n",
    "    'dplyr',\n",
    "    'tidyr',\n",
    "    'pROC',\n",
    "    'stringr'\n",
    ")\n",
    "\n",
    "for (lib in libs) {\n",
    "        if (!require(lib, character.only = TRUE, quietly = TRUE)) {\n",
    "            install.packages(lib, repos='http://cran.us.r-project.org')\n",
    "        }\n",
    "}\n",
    "\n",
    "(.packages())"
   ]
  },
  {
   "cell_type": "code",
   "execution_count": 3,
   "metadata": {
    "collapsed": true
   },
   "outputs": [],
   "source": [
    "split_data <- function(outcomes,p=0.75) {\n",
    "    n <- length(outcomes)\n",
    "    s <- floor(p*n)\n",
    "    sample_inds <- sample(seq_len(n), size = s)\n",
    "    return(sample_inds)\n",
    "}"
   ]
  },
  {
   "cell_type": "code",
   "execution_count": 380,
   "metadata": {
    "collapsed": true
   },
   "outputs": [],
   "source": [
    "mattcc <- function(true_classes, predicted_classes) {\n",
    "        \n",
    "    pos <- true_classes == 1\n",
    "    neg <- true_classes == 0\n",
    "    \n",
    "    TP <- as.numeric(sum( predicted_classes[pos] == true_classes[pos] ))\n",
    "    TN <- as.numeric(sum( predicted_classes[neg] == true_classes[neg] ))\n",
    "    FP <- as.numeric(sum( predicted_classes[pos] != true_classes[pos] ))\n",
    "    FN <- as.numeric(sum( predicted_classes[neg] != true_classes[neg] )) \n",
    "    \n",
    "    N1 <- TP*TN\n",
    "    N2 <- FP*FN\n",
    "    D1 <- TP+FP\n",
    "    D2 <- TP+FN\n",
    "    D3 <- TN+FP\n",
    "    D4 <- TN+FN\n",
    "    \n",
    "    N <- N1-N2\n",
    "    D <- D1*D2*D3*D4\n",
    "    \n",
    "    if (D==0) {\n",
    "        M <- 0\n",
    "    } else {\n",
    "        M <- N/sqrt(D)\n",
    "    }\n",
    "    \n",
    "    return(M)\n",
    "}"
   ]
  },
  {
   "cell_type": "markdown",
   "metadata": {},
   "source": [
    "## Load data"
   ]
  },
  {
   "cell_type": "code",
   "execution_count": 4,
   "metadata": {
    "collapsed": false
   },
   "outputs": [],
   "source": [
    "# paul's data frame\n",
    "\n",
    "tableName <- \"ftClean.Fri.Sep.30.2016-18:02:21.RData\"\n",
    "directory <- \"~/git-repos/BDDS/trenadb/featureTable/lymphoblast\"\n",
    "fullPath <- file.path(directory, tableName)\n",
    "stopifnot(file.exists(fullPath))\n",
    "load(fullPath)\n",
    "\n",
    "# cory's motif to tf-class mapping\n",
    "tf.fams.file <- \"/local/Cory/for_Paul/motif_class_fam\"\n",
    "tf.fams.table <- read.delim(tf.fams.file, stringsAsFactors=FALSE)"
   ]
  },
  {
   "cell_type": "code",
   "execution_count": 5,
   "metadata": {
    "collapsed": false
   },
   "outputs": [
    {
     "name": "stdout",
     "output_type": "stream",
     "text": [
      "'data.frame':\t96825 obs. of  11 variables:\n",
      " $ loc             : chr  \"chr19:42000006-42000014\" \"chr19:42000007-42000019\" \"chr19:42000008-42000019\" \"chr19:42000009-42000018\" ...\n",
      " $ motif           : chr  \"MA0738.1\" \"MA0872.1\" \"LMO2.p2\" \"MA0522.2\" ...\n",
      " $ samplecount.w   : num  0 0 0 0 0 0 0 0 0 0 ...\n",
      " $ score.w         : num  -99 -99 -99 -99 -99 -99 -99 -99 -99 -99 ...\n",
      " $ samplecount.h   : num  1 1 1 1 1 1 1 1 1 1 ...\n",
      " $ score.h         : num  16 16 16 16 16 16 16 16 16 16 ...\n",
      " $ csTF            : chr  NA NA NA NA ...\n",
      " $ csscore         : num  0 0 0 0 0 0 0 0 0 0 ...\n",
      " $ motifscore      : num  11.2 10.2 10.3 12.2 11.7 ...\n",
      " $ motifpval       : num  6.51e-05 7.15e-05 5.84e-05 7.11e-05 5.93e-05 5.65e-05 6.02e-05 2.92e-05 6.78e-05 8.34e-05 ...\n",
      " $ totalsamplecount: num  18 18 18 18 18 18 18 18 18 18 ...\n"
     ]
    }
   ],
   "source": [
    "str(ft.clean)"
   ]
  },
  {
   "cell_type": "code",
   "execution_count": 254,
   "metadata": {
    "collapsed": false
   },
   "outputs": [
    {
     "data": {
      "text/html": [
       "<table>\n",
       "<thead><tr><th scope=col>loc</th><th scope=col>motif</th><th scope=col>samplecount.w</th><th scope=col>score.w</th><th scope=col>samplecount.h</th><th scope=col>score.h</th><th scope=col>csTF</th><th scope=col>csscore</th><th scope=col>motifscore</th><th scope=col>motifpval</th><th scope=col>totalsamplecount</th></tr></thead>\n",
       "<tbody>\n",
       "\t<tr><td>chr19:42000006-42000014</td><td>MA0738.1               </td><td>0                      </td><td>-99                    </td><td>1                      </td><td>16                     </td><td>NA                     </td><td>0                      </td><td>11.1636                </td><td>6.51e-05               </td><td>18                     </td></tr>\n",
       "\t<tr><td>chr19:42000007-42000019</td><td>MA0872.1               </td><td>0                      </td><td>-99                    </td><td>1                      </td><td>16                     </td><td>NA                     </td><td>0                      </td><td>10.1967                </td><td>7.15e-05               </td><td>18                     </td></tr>\n",
       "\t<tr><td>chr19:42000008-42000019</td><td>LMO2.p2                </td><td>0                      </td><td>-99                    </td><td>1                      </td><td>16                     </td><td>NA                     </td><td>0                      </td><td>10.3421                </td><td>5.84e-05               </td><td>18                     </td></tr>\n",
       "\t<tr><td>chr19:42000009-42000018</td><td>MA0522.2               </td><td>0                      </td><td>-99                    </td><td>1                      </td><td>16                     </td><td>NA                     </td><td>0                      </td><td>12.2308                </td><td>7.11e-05               </td><td>18                     </td></tr>\n",
       "\t<tr><td>chr19:42000009-42000018</td><td>MA0820.1               </td><td>0                      </td><td>-99                    </td><td>1                      </td><td>16                     </td><td>NA                     </td><td>0                      </td><td>11.7414                </td><td>5.93e-05               </td><td>18                     </td></tr>\n",
       "\t<tr><td>chr19:42000009-42000018</td><td>MA0830.1               </td><td>0                      </td><td>-99                    </td><td>1                      </td><td>16                     </td><td>NA                     </td><td>0                      </td><td>12.5510                </td><td>5.65e-05               </td><td>18                     </td></tr>\n",
       "</tbody>\n",
       "</table>\n"
      ],
      "text/latex": [
       "\\begin{tabular}{r|lllllllllll}\n",
       " loc & motif & samplecount.w & score.w & samplecount.h & score.h & csTF & csscore & motifscore & motifpval & totalsamplecount\\\\\n",
       "\\hline\n",
       "\t chr19:42000006-42000014 & MA0738.1                & 0                       & -99                     & 1                       & 16                      & NA                      & 0                       & 11.1636                 & 6.51e-05                & 18                     \\\\\n",
       "\t chr19:42000007-42000019 & MA0872.1                & 0                       & -99                     & 1                       & 16                      & NA                      & 0                       & 10.1967                 & 7.15e-05                & 18                     \\\\\n",
       "\t chr19:42000008-42000019 & LMO2.p2                 & 0                       & -99                     & 1                       & 16                      & NA                      & 0                       & 10.3421                 & 5.84e-05                & 18                     \\\\\n",
       "\t chr19:42000009-42000018 & MA0522.2                & 0                       & -99                     & 1                       & 16                      & NA                      & 0                       & 12.2308                 & 7.11e-05                & 18                     \\\\\n",
       "\t chr19:42000009-42000018 & MA0820.1                & 0                       & -99                     & 1                       & 16                      & NA                      & 0                       & 11.7414                 & 5.93e-05                & 18                     \\\\\n",
       "\t chr19:42000009-42000018 & MA0830.1                & 0                       & -99                     & 1                       & 16                      & NA                      & 0                       & 12.5510                 & 5.65e-05                & 18                     \\\\\n",
       "\\end{tabular}\n"
      ],
      "text/plain": [
       "  loc                     motif    samplecount.w score.w samplecount.h score.h\n",
       "1 chr19:42000006-42000014 MA0738.1 0             -99     1             16     \n",
       "2 chr19:42000007-42000019 MA0872.1 0             -99     1             16     \n",
       "3 chr19:42000008-42000019 LMO2.p2  0             -99     1             16     \n",
       "4 chr19:42000009-42000018 MA0522.2 0             -99     1             16     \n",
       "5 chr19:42000009-42000018 MA0820.1 0             -99     1             16     \n",
       "6 chr19:42000009-42000018 MA0830.1 0             -99     1             16     \n",
       "  csTF csscore motifscore motifpval totalsamplecount\n",
       "1 NA   0       11.1636    6.51e-05  18              \n",
       "2 NA   0       10.1967    7.15e-05  18              \n",
       "3 NA   0       10.3421    5.84e-05  18              \n",
       "4 NA   0       12.2308    7.11e-05  18              \n",
       "5 NA   0       11.7414    5.93e-05  18              \n",
       "6 NA   0       12.5510    5.65e-05  18              "
      ]
     },
     "metadata": {},
     "output_type": "display_data"
    }
   ],
   "source": [
    "head((ft.clean))"
   ]
  },
  {
   "cell_type": "code",
   "execution_count": 252,
   "metadata": {
    "collapsed": false
   },
   "outputs": [
    {
     "data": {
      "text/html": [
       "<table>\n",
       "<thead><tr><th scope=col>ID</th><th scope=col>class</th><th scope=col>family</th></tr></thead>\n",
       "<tbody>\n",
       "\t<tr><td>MA0151.1                              </td><td>ARID domain factors                   </td><td>ARID-related factors                  </td></tr>\n",
       "\t<tr><td>MA0601.1                              </td><td>ARID domain factors                   </td><td>ARID-related factors                  </td></tr>\n",
       "\t<tr><td>MA0602.1                              </td><td>ARID domain factors                   </td><td>ARID-related factors                  </td></tr>\n",
       "\t<tr><td>MA0004.1                              </td><td>Basic helix-loop-helix factors (bHLH) </td><td>PAS domain factors                    </td></tr>\n",
       "\t<tr><td>MA0048.2                              </td><td>Basic helix-loop-helix factors (bHLH) </td><td>Tal-related factors                   </td></tr>\n",
       "\t<tr><td>MA0058.3                              </td><td>Basic helix-loop-helix factors (bHLH) </td><td>bHLH-ZIP factors                      </td></tr>\n",
       "</tbody>\n",
       "</table>\n"
      ],
      "text/latex": [
       "\\begin{tabular}{r|lll}\n",
       " ID & class & family\\\\\n",
       "\\hline\n",
       "\t MA0151.1                               & ARID domain factors                    & ARID-related factors                  \\\\\n",
       "\t MA0601.1                               & ARID domain factors                    & ARID-related factors                  \\\\\n",
       "\t MA0602.1                               & ARID domain factors                    & ARID-related factors                  \\\\\n",
       "\t MA0004.1                               & Basic helix-loop-helix factors (bHLH)  & PAS domain factors                    \\\\\n",
       "\t MA0048.2                               & Basic helix-loop-helix factors (bHLH)  & Tal-related factors                   \\\\\n",
       "\t MA0058.3                               & Basic helix-loop-helix factors (bHLH)  & bHLH-ZIP factors                      \\\\\n",
       "\\end{tabular}\n"
      ],
      "text/plain": [
       "  ID        class                                  family               \n",
       "1 MA0151.1  ARID domain factors                    ARID-related factors \n",
       "2 MA0601.1  ARID domain factors                    ARID-related factors \n",
       "3 MA0602.1  ARID domain factors                    ARID-related factors \n",
       "4 MA0004.1  Basic helix-loop-helix factors (bHLH)  PAS domain factors   \n",
       "5 MA0048.2  Basic helix-loop-helix factors (bHLH)  Tal-related factors  \n",
       "6 MA0058.3  Basic helix-loop-helix factors (bHLH)  bHLH-ZIP factors     "
      ]
     },
     "metadata": {},
     "output_type": "display_data"
    }
   ],
   "source": [
    "head(tf.fams.table)"
   ]
  },
  {
   "cell_type": "markdown",
   "metadata": {},
   "source": [
    "## add tf classes as features"
   ]
  },
  {
   "cell_type": "code",
   "execution_count": 8,
   "metadata": {
    "collapsed": false
   },
   "outputs": [
    {
     "data": {
      "text/html": [
       "510"
      ],
      "text/latex": [
       "510"
      ],
      "text/markdown": [
       "510"
      ],
      "text/plain": [
       "[1] 510"
      ]
     },
     "metadata": {},
     "output_type": "display_data"
    }
   ],
   "source": [
    "# check overlap of motif names from cory and paul\n",
    "\n",
    "motif.names.from.cory <- str_replace_all(string=tf.fams.table$ID, pattern=\"[[:space:]]\", repl=\"\")\n",
    "motif.names.from.paul <- unique(ft.clean$motif)\n",
    "\n",
    "# motifs not occurring from sample data\n",
    "from.cory.not.in.paul <- motif.names.from.cory[!(motif.names.from.cory %in% motif.names.from.paul)]\n",
    "\n",
    "# motifs not mapped in cory's table\n",
    "from.paul.not.in.cory <- motif.names.from.paul[!(motif.names.from.paul %in% motif.names.from.cory)]\n",
    "\n",
    "# number of motifs that i'll use\n",
    "from.paul.in.cory <- sort(motif.names.from.paul[(motif.names.from.paul %in% motif.names.from.cory)])\n",
    "length(from.paul.in.cory)"
   ]
  },
  {
   "cell_type": "code",
   "execution_count": 9,
   "metadata": {
    "collapsed": false
   },
   "outputs": [
    {
     "name": "stdout",
     "output_type": "stream",
     "text": [
      "'data.frame':\t76891 obs. of  11 variables:\n",
      " $ loc             : chr  \"chr19:42000006-42000014\" \"chr19:42000007-42000019\" \"chr19:42000009-42000018\" \"chr19:42000009-42000018\" ...\n",
      " $ motif           : chr  \"MA0738.1\" \"MA0872.1\" \"MA0522.2\" \"MA0820.1\" ...\n",
      " $ samplecount.w   : num  0 0 0 0 0 0 0 0 0 0 ...\n",
      " $ score.w         : num  -99 -99 -99 -99 -99 -99 -99 -99 -99 -99 ...\n",
      " $ samplecount.h   : num  1 1 1 1 1 1 1 1 1 1 ...\n",
      " $ score.h         : num  16 16 16 16 16 16 16 16 16 16 ...\n",
      " $ csTF            : chr  NA NA NA NA ...\n",
      " $ csscore         : num  0 0 0 0 0 0 0 0 0 0 ...\n",
      " $ motifscore      : num  11.2 10.2 12.2 11.7 12.6 ...\n",
      " $ motifpval       : num  6.51e-05 7.15e-05 7.11e-05 5.93e-05 5.65e-05 2.92e-05 6.78e-05 8.34e-05 2.67e-05 5.65e-05 ...\n",
      " $ totalsamplecount: num  18 18 18 18 18 18 18 18 18 18 ...\n"
     ]
    }
   ],
   "source": [
    "# filter out the motifs in pauls' table that cory doesn' have tf classes for\n",
    "\n",
    "ft.clean.corymotifs <- ft.clean %>% filter(motif %in% from.paul.in.cory)\n",
    "str(ft.clean.corymotifs)"
   ]
  },
  {
   "cell_type": "code",
   "execution_count": 10,
   "metadata": {
    "collapsed": false
   },
   "outputs": [
    {
     "data": {
      "text/html": [
       "30"
      ],
      "text/latex": [
       "30"
      ],
      "text/markdown": [
       "30"
      ],
      "text/plain": [
       "[1] 30"
      ]
     },
     "metadata": {},
     "output_type": "display_data"
    }
   ],
   "source": [
    "# find unique tf class names from cory's list\n",
    "\n",
    "class.names.nospaces <- str_replace_all(string=tf.fams.table$class, pattern=\"[[:space:]]\", repl=\"\")\n",
    "unique.class.names.nospaces <- unique(class.names.nospaces)\n",
    "double.entry.classes <- grep('::', unique.class.names.nospaces, value=TRUE)\n",
    "dedoubled.classes <- unique(unlist(strsplit(double.entry.classes,'::')))\n",
    "\n",
    "class.names.nospaces.minus.doubles <- unique.class.names.nospaces[!(unique.class.names.nospaces %in% double.entry.classes)]\n",
    "class.names.final <- sort(unique(c(class.names.nospaces.minus.doubles,dedoubled.classes)))\n",
    "length(class.names.final)"
   ]
  },
  {
   "cell_type": "code",
   "execution_count": 11,
   "metadata": {
    "collapsed": false
   },
   "outputs": [],
   "source": [
    "# cory's map: arrange so grepping on class column will yeild matches from paul's names\n",
    "\n",
    "tf.fams.table.renamed <- tf.fams.table\n",
    "tf.fams.table.renamed$ID <- str_replace_all(string=tf.fams.table.renamed$ID, pattern=\"[[:space:]]\", repl=\"\")\n",
    "tf.fams.table.renamed <- tf.fams.table.renamed %>% filter(ID %in% from.paul.in.cory)\n",
    "rownames(tf.fams.table.renamed) <- tf.fams.table.renamed$ID\n",
    "tf.class.foreach.motif <- tf.fams.table.renamed[,-c(1)]\n",
    "\n",
    "tf.class.foreach.motif$class <- str_replace_all(string=tf.class.foreach.motif$class, pattern=\"[[:space:]]\", repl=\"\")"
   ]
  },
  {
   "cell_type": "code",
   "execution_count": 271,
   "metadata": {
    "collapsed": false
   },
   "outputs": [],
   "source": [
    "# make sparse class / tf feature matrix map\n",
    "# all zeros to start, fill in ones below\n",
    "tf.motif.class.matrix <- matrix(0L, nrow = length(from.paul.in.cory), ncol = length(class.names.final))\n",
    "rownames(tf.motif.class.matrix) <- from.paul.in.cory\n",
    "colnames(tf.motif.class.matrix) <- class.names.final\n",
    "\n",
    "# loop through tfs and classes to fill in ones where there is a match\n",
    "\n",
    "for (tf.name in rownames(tf.motif.class.matrix)) {\n",
    "    for (class.name in colnames(tf.motif.class.matrix)) {\n",
    "        class.to.check <- tf.class.foreach.motif[tf.name,'class']\n",
    "        classes.match <- any(grep(class.name, class.to.check, value=FALSE, fixed=TRUE))\n",
    "        if (classes.match == 1) {\n",
    "            tf.motif.class.matrix[tf.name,class.name] <- 1\n",
    "        }\n",
    "    }\n",
    "    \n",
    "}"
   ]
  },
  {
   "cell_type": "code",
   "execution_count": 274,
   "metadata": {
    "collapsed": false
   },
   "outputs": [
    {
     "data": {
      "text/html": [
       "<ol class=list-inline>\n",
       "\t<li>510</li>\n",
       "\t<li>30</li>\n",
       "</ol>\n"
      ],
      "text/latex": [
       "\\begin{enumerate*}\n",
       "\\item 510\n",
       "\\item 30\n",
       "\\end{enumerate*}\n"
      ],
      "text/markdown": [
       "1. 510\n",
       "2. 30\n",
       "\n",
       "\n"
      ],
      "text/plain": [
       "[1] 510  30"
      ]
     },
     "metadata": {},
     "output_type": "display_data"
    },
    {
     "data": {
      "text/html": [
       "513"
      ],
      "text/latex": [
       "513"
      ],
      "text/markdown": [
       "513"
      ],
      "text/plain": [
       "[1] 513"
      ]
     },
     "metadata": {},
     "output_type": "display_data"
    },
    {
     "data": {
      "text/html": [],
      "text/latex": [],
      "text/markdown": [],
      "text/plain": [
       "character(0)"
      ]
     },
     "metadata": {},
     "output_type": "display_data"
    }
   ],
   "source": [
    "# number of motifs with extra entries is small:\n",
    "dim(tf.motif.class.matrix)\n",
    "sum(tf.motif.class.matrix)\n",
    "\n",
    "# check to see if any motifs didn't match\n",
    "rownames(tf.motif.class.matrix)[rowSums(tf.motif.class.matrix) == 0]"
   ]
  },
  {
   "cell_type": "code",
   "execution_count": 14,
   "metadata": {
    "collapsed": false
   },
   "outputs": [
    {
     "data": {
      "text/html": [
       "<dl class=dl-horizontal>\n",
       "\t<dt>ARIDdomainfactors</dt>\n",
       "\t\t<dd>2</dd>\n",
       "\t<dt>Basichelix-loop-helixfactors(bHLH)</dt>\n",
       "\t\t<dd>62</dd>\n",
       "\t<dt>Basichelix-span-helixfactors(bHSH)</dt>\n",
       "\t\t<dd>9</dd>\n",
       "\t<dt>Basicleucinezipperfactors(bZIP)</dt>\n",
       "\t\t<dd>43</dd>\n",
       "\t<dt>C2CHTHAP-typezincfingerfactors</dt>\n",
       "\t\t<dd>1</dd>\n",
       "\t<dt>C2H2zincfingerfactors</dt>\n",
       "\t\t<dd>56</dd>\n",
       "\t<dt>CRCdomain</dt>\n",
       "\t\t<dd>1</dd>\n",
       "\t<dt>DM-typeintertwinedzincfingerfactors</dt>\n",
       "\t\t<dd>1</dd>\n",
       "\t<dt>Forkhead/wingedhelixfactors</dt>\n",
       "\t\t<dd>36</dd>\n",
       "\t<dt>GCMdomainfactors</dt>\n",
       "\t\t<dd>2</dd>\n",
       "\t<dt>Grainyheaddomainfactors</dt>\n",
       "\t\t<dd>2</dd>\n",
       "\t<dt>Heatshockfactors</dt>\n",
       "\t\t<dd>3</dd>\n",
       "\t<dt>HeteromericCCAAT-bindingfactors</dt>\n",
       "\t\t<dd>2</dd>\n",
       "\t<dt>High-mobilitygroup(HMG)domainfactors</dt>\n",
       "\t\t<dd>13</dd>\n",
       "\t<dt>Homeodomainfactors</dt>\n",
       "\t\t<dd>145</dd>\n",
       "\t<dt>MADSboxfactors</dt>\n",
       "\t\t<dd>5</dd>\n",
       "\t<dt>NuclearreceptorswithC4zincfingers</dt>\n",
       "\t\t<dd>36</dd>\n",
       "\t<dt>OtherC4zincfinger-typefactors</dt>\n",
       "\t\t<dd>6</dd>\n",
       "\t<dt>p53domainfactors</dt>\n",
       "\t\t<dd>3</dd>\n",
       "\t<dt>Pairedboxfactors</dt>\n",
       "\t\t<dd>8</dd>\n",
       "\t<dt>Psq-typeHTHdomain</dt>\n",
       "\t\t<dd>1</dd>\n",
       "\t<dt>Relhomologyregion(RHR)factors</dt>\n",
       "\t\t<dd>9</dd>\n",
       "\t<dt>Runtdomainfactors</dt>\n",
       "\t\t<dd>3</dd>\n",
       "\t<dt>SANDdomainfactors</dt>\n",
       "\t\t<dd>2</dd>\n",
       "\t<dt>SMAD/NF-1DNA-bindingdomainfactors</dt>\n",
       "\t\t<dd>5</dd>\n",
       "\t<dt>STATdomainfactors</dt>\n",
       "\t\t<dd>6</dd>\n",
       "\t<dt>T-Boxfactors</dt>\n",
       "\t\t<dd>12</dd>\n",
       "\t<dt>TATA-bindingproteins</dt>\n",
       "\t\t<dd>1</dd>\n",
       "\t<dt>TEAdomainfactors</dt>\n",
       "\t\t<dd>4</dd>\n",
       "\t<dt>Tryptophanclusterfactors</dt>\n",
       "\t\t<dd>34</dd>\n",
       "</dl>\n"
      ],
      "text/latex": [
       "\\begin{description*}\n",
       "\\item[ARIDdomainfactors] 2\n",
       "\\item[Basichelix-loop-helixfactors(bHLH)] 62\n",
       "\\item[Basichelix-span-helixfactors(bHSH)] 9\n",
       "\\item[Basicleucinezipperfactors(bZIP)] 43\n",
       "\\item[C2CHTHAP-typezincfingerfactors] 1\n",
       "\\item[C2H2zincfingerfactors] 56\n",
       "\\item[CRCdomain] 1\n",
       "\\item[DM-typeintertwinedzincfingerfactors] 1\n",
       "\\item[Forkhead/wingedhelixfactors] 36\n",
       "\\item[GCMdomainfactors] 2\n",
       "\\item[Grainyheaddomainfactors] 2\n",
       "\\item[Heatshockfactors] 3\n",
       "\\item[HeteromericCCAAT-bindingfactors] 2\n",
       "\\item[High-mobilitygroup(HMG)domainfactors] 13\n",
       "\\item[Homeodomainfactors] 145\n",
       "\\item[MADSboxfactors] 5\n",
       "\\item[NuclearreceptorswithC4zincfingers] 36\n",
       "\\item[OtherC4zincfinger-typefactors] 6\n",
       "\\item[p53domainfactors] 3\n",
       "\\item[Pairedboxfactors] 8\n",
       "\\item[Psq-typeHTHdomain] 1\n",
       "\\item[Relhomologyregion(RHR)factors] 9\n",
       "\\item[Runtdomainfactors] 3\n",
       "\\item[SANDdomainfactors] 2\n",
       "\\item[SMAD/NF-1DNA-bindingdomainfactors] 5\n",
       "\\item[STATdomainfactors] 6\n",
       "\\item[T-Boxfactors] 12\n",
       "\\item[TATA-bindingproteins] 1\n",
       "\\item[TEAdomainfactors] 4\n",
       "\\item[Tryptophanclusterfactors] 34\n",
       "\\end{description*}\n"
      ],
      "text/markdown": [
       "ARIDdomainfactors\n",
       ":   2Basichelix-loop-helixfactors(bHLH)\n",
       ":   62Basichelix-span-helixfactors(bHSH)\n",
       ":   9Basicleucinezipperfactors(bZIP)\n",
       ":   43C2CHTHAP-typezincfingerfactors\n",
       ":   1C2H2zincfingerfactors\n",
       ":   56CRCdomain\n",
       ":   1DM-typeintertwinedzincfingerfactors\n",
       ":   1Forkhead/wingedhelixfactors\n",
       ":   36GCMdomainfactors\n",
       ":   2Grainyheaddomainfactors\n",
       ":   2Heatshockfactors\n",
       ":   3HeteromericCCAAT-bindingfactors\n",
       ":   2High-mobilitygroup(HMG)domainfactors\n",
       ":   13Homeodomainfactors\n",
       ":   145MADSboxfactors\n",
       ":   5NuclearreceptorswithC4zincfingers\n",
       ":   36OtherC4zincfinger-typefactors\n",
       ":   6p53domainfactors\n",
       ":   3Pairedboxfactors\n",
       ":   8Psq-typeHTHdomain\n",
       ":   1Relhomologyregion(RHR)factors\n",
       ":   9Runtdomainfactors\n",
       ":   3SANDdomainfactors\n",
       ":   2SMAD/NF-1DNA-bindingdomainfactors\n",
       ":   5STATdomainfactors\n",
       ":   6T-Boxfactors\n",
       ":   12TATA-bindingproteins\n",
       ":   1TEAdomainfactors\n",
       ":   4Tryptophanclusterfactors\n",
       ":   34\n",
       "\n"
      ],
      "text/plain": [
       "                   ARIDdomainfactors   Basichelix-loop-helixfactors(bHLH) \n",
       "                                   2                                   62 \n",
       "  Basichelix-span-helixfactors(bHSH)      Basicleucinezipperfactors(bZIP) \n",
       "                                   9                                   43 \n",
       "      C2CHTHAP-typezincfingerfactors                C2H2zincfingerfactors \n",
       "                                   1                                   56 \n",
       "                           CRCdomain  DM-typeintertwinedzincfingerfactors \n",
       "                                   1                                    1 \n",
       "         Forkhead/wingedhelixfactors                     GCMdomainfactors \n",
       "                                  36                                    2 \n",
       "             Grainyheaddomainfactors                     Heatshockfactors \n",
       "                                   2                                    3 \n",
       "     HeteromericCCAAT-bindingfactors High-mobilitygroup(HMG)domainfactors \n",
       "                                   2                                   13 \n",
       "                  Homeodomainfactors                       MADSboxfactors \n",
       "                                 145                                    5 \n",
       "   NuclearreceptorswithC4zincfingers        OtherC4zincfinger-typefactors \n",
       "                                  36                                    6 \n",
       "                    p53domainfactors                     Pairedboxfactors \n",
       "                                   3                                    8 \n",
       "                   Psq-typeHTHdomain        Relhomologyregion(RHR)factors \n",
       "                                   1                                    9 \n",
       "                   Runtdomainfactors                    SANDdomainfactors \n",
       "                                   3                                    2 \n",
       "   SMAD/NF-1DNA-bindingdomainfactors                    STATdomainfactors \n",
       "                                   5                                    6 \n",
       "                        T-Boxfactors                 TATA-bindingproteins \n",
       "                                  12                                    1 \n",
       "                    TEAdomainfactors             Tryptophanclusterfactors \n",
       "                                   4                                   34 "
      ]
     },
     "metadata": {},
     "output_type": "display_data"
    }
   ],
   "source": [
    "# tf class distribution\n",
    "colSums(tf.motif.class.matrix)"
   ]
  },
  {
   "cell_type": "code",
   "execution_count": 310,
   "metadata": {
    "collapsed": false
   },
   "outputs": [
    {
     "data": {
      "text/html": [
       "<ol class=list-inline>\n",
       "\t<li>510</li>\n",
       "\t<li>31</li>\n",
       "</ol>\n"
      ],
      "text/latex": [
       "\\begin{enumerate*}\n",
       "\\item 510\n",
       "\\item 31\n",
       "\\end{enumerate*}\n"
      ],
      "text/markdown": [
       "1. 510\n",
       "2. 31\n",
       "\n",
       "\n"
      ],
      "text/plain": [
       "[1] 510  31"
      ]
     },
     "metadata": {},
     "output_type": "display_data"
    },
    {
     "data": {
      "text/html": [
       "<ol class=list-inline>\n",
       "\t<li>76891</li>\n",
       "\t<li>41</li>\n",
       "</ol>\n"
      ],
      "text/latex": [
       "\\begin{enumerate*}\n",
       "\\item 76891\n",
       "\\item 41\n",
       "\\end{enumerate*}\n"
      ],
      "text/markdown": [
       "1. 76891\n",
       "2. 41\n",
       "\n",
       "\n"
      ],
      "text/plain": [
       "[1] 76891    41"
      ]
     },
     "metadata": {},
     "output_type": "display_data"
    }
   ],
   "source": [
    "# merging isa way saner way to... merge dataframes, who knew?\n",
    "tf.motif.class.df <- as.data.frame(tf.motif.class.matrix)\n",
    "tf.motif.class.df$motif <- rownames(tf.motif.class.df)\n",
    "dim(tf.motif.class.df)\n",
    "\n",
    "ft.clean.corymotifs.tfclasses <- merge(ft.clean.corymotifs, tf.motif.class.df, by=\"motif\", all.x=TRUE)\n",
    "dim(ft.clean.corymotifs.tfclasses)"
   ]
  },
  {
   "cell_type": "code",
   "execution_count": 308,
   "metadata": {
    "collapsed": false
   },
   "outputs": [
    {
     "data": {
      "text/html": [],
      "text/latex": [],
      "text/markdown": [],
      "text/plain": [
       "character(0)"
      ]
     },
     "metadata": {},
     "output_type": "display_data"
    }
   ],
   "source": [
    "# check to see if any loc/motifs didn't get a class\n",
    "rownames(ft.clean.corymotifs.tfclasses)[rowSums(ft.clean.corymotifs.tfclasses[,colnames(tf.motif.class.matrix)]) == 0]"
   ]
  },
  {
   "cell_type": "code",
   "execution_count": 309,
   "metadata": {
    "collapsed": false
   },
   "outputs": [
    {
     "data": {
      "text/html": [
       "76891"
      ],
      "text/latex": [
       "76891"
      ],
      "text/markdown": [
       "76891"
      ],
      "text/plain": [
       "[1] 76891"
      ]
     },
     "metadata": {},
     "output_type": "display_data"
    },
    {
     "data": {
      "text/html": [
       "77193"
      ],
      "text/latex": [
       "77193"
      ],
      "text/markdown": [
       "77193"
      ],
      "text/plain": [
       "[1] 77193"
      ]
     },
     "metadata": {},
     "output_type": "display_data"
    }
   ],
   "source": [
    "# most entries just have one class\n",
    "dim(ft.clean.corymotifs.tfclasses[,colnames(tf.motif.class.matrix)])[1]\n",
    "sum(ft.clean.corymotifs.tfclasses[,colnames(tf.motif.class.matrix)])"
   ]
  },
  {
   "cell_type": "markdown",
   "metadata": {},
   "source": [
    "## Split data into feature matrix and output"
   ]
  },
  {
   "cell_type": "code",
   "execution_count": 311,
   "metadata": {
    "collapsed": false
   },
   "outputs": [],
   "source": [
    "y <- as.numeric(ft.clean.corymotifs.tfclasses$csscore > 0)"
   ]
  },
  {
   "cell_type": "code",
   "execution_count": 19,
   "metadata": {
    "collapsed": false
   },
   "outputs": [],
   "source": [
    "cols.to.drop <- c(\"csscore\", \"csTF\", \"motif\", \"loc\", \"totalsamplecount\")\n",
    "\n",
    "X <- ft.clean.corymotifs.tfclasses[,!(colnames(ft.clean.corymotifs.tfclasses) %in% cols.to.drop)]"
   ]
  },
  {
   "cell_type": "code",
   "execution_count": 30,
   "metadata": {
    "collapsed": false
   },
   "outputs": [
    {
     "data": {
      "text/html": [
       "<table>\n",
       "<thead><tr><th></th><th scope=col>1</th><th scope=col>2</th><th scope=col>3</th></tr></thead>\n",
       "<tbody>\n",
       "\t<tr><th scope=row>samplecount.w</th><td>  0.0000000</td><td>  0.0000000</td><td>  0.0000000</td></tr>\n",
       "\t<tr><th scope=row>score.w</th><td>-99.0000000</td><td>-99.0000000</td><td>-99.0000000</td></tr>\n",
       "\t<tr><th scope=row>samplecount.h</th><td>  1.0000000</td><td>  1.0000000</td><td>  1.0000000</td></tr>\n",
       "\t<tr><th scope=row>score.h</th><td> 16.0000000</td><td> 16.0000000</td><td> 16.0000000</td></tr>\n",
       "\t<tr><th scope=row>motifscore</th><td> 11.1636000</td><td> 10.1967000</td><td> 12.2308000</td></tr>\n",
       "\t<tr><th scope=row>motifpval</th><td>  0.0000651</td><td>  0.0000715</td><td>  0.0000711</td></tr>\n",
       "\t<tr><th scope=row>ARIDdomainfactors</th><td>  0.0000000</td><td>  0.0000000</td><td>  0.0000000</td></tr>\n",
       "\t<tr><th scope=row>Basichelix-loop-helixfactors(bHLH)</th><td>  0.0000000</td><td>  0.0000000</td><td>  1.0000000</td></tr>\n",
       "\t<tr><th scope=row>Basichelix-span-helixfactors(bHSH)</th><td>  0.0000000</td><td>  1.0000000</td><td>  0.0000000</td></tr>\n",
       "\t<tr><th scope=row>Basicleucinezipperfactors(bZIP)</th><td>  0.0000000</td><td>  0.0000000</td><td>  0.0000000</td></tr>\n",
       "\t<tr><th scope=row>C2CHTHAP-typezincfingerfactors</th><td>  0.0000000</td><td>  0.0000000</td><td>  0.0000000</td></tr>\n",
       "\t<tr><th scope=row>C2H2zincfingerfactors</th><td>  1.0000000</td><td>  0.0000000</td><td>  0.0000000</td></tr>\n",
       "\t<tr><th scope=row>CRCdomain</th><td>  0.0000000</td><td>  0.0000000</td><td>  0.0000000</td></tr>\n",
       "\t<tr><th scope=row>DM-typeintertwinedzincfingerfactors</th><td>  0.0000000</td><td>  0.0000000</td><td>  0.0000000</td></tr>\n",
       "\t<tr><th scope=row>Forkhead/wingedhelixfactors</th><td>  0.0000000</td><td>  0.0000000</td><td>  0.0000000</td></tr>\n",
       "\t<tr><th scope=row>GCMdomainfactors</th><td>  0.0000000</td><td>  0.0000000</td><td>  0.0000000</td></tr>\n",
       "\t<tr><th scope=row>Grainyheaddomainfactors</th><td>  0.0000000</td><td>  0.0000000</td><td>  0.0000000</td></tr>\n",
       "\t<tr><th scope=row>Heatshockfactors</th><td>  0.0000000</td><td>  0.0000000</td><td>  0.0000000</td></tr>\n",
       "\t<tr><th scope=row>HeteromericCCAAT-bindingfactors</th><td>  0.0000000</td><td>  0.0000000</td><td>  0.0000000</td></tr>\n",
       "\t<tr><th scope=row>High-mobilitygroup(HMG)domainfactors</th><td>  0.0000000</td><td>  0.0000000</td><td>  0.0000000</td></tr>\n",
       "\t<tr><th scope=row>Homeodomainfactors</th><td>  0.0000000</td><td>  0.0000000</td><td>  0.0000000</td></tr>\n",
       "\t<tr><th scope=row>MADSboxfactors</th><td>  0.0000000</td><td>  0.0000000</td><td>  0.0000000</td></tr>\n",
       "\t<tr><th scope=row>NuclearreceptorswithC4zincfingers</th><td>  0.0000000</td><td>  0.0000000</td><td>  0.0000000</td></tr>\n",
       "\t<tr><th scope=row>OtherC4zincfinger-typefactors</th><td>  0.0000000</td><td>  0.0000000</td><td>  0.0000000</td></tr>\n",
       "\t<tr><th scope=row>p53domainfactors</th><td>  0.0000000</td><td>  0.0000000</td><td>  0.0000000</td></tr>\n",
       "\t<tr><th scope=row>Pairedboxfactors</th><td>  0.0000000</td><td>  0.0000000</td><td>  0.0000000</td></tr>\n",
       "\t<tr><th scope=row>Psq-typeHTHdomain</th><td>  0.0000000</td><td>  0.0000000</td><td>  0.0000000</td></tr>\n",
       "\t<tr><th scope=row>Relhomologyregion(RHR)factors</th><td>  0.0000000</td><td>  0.0000000</td><td>  0.0000000</td></tr>\n",
       "\t<tr><th scope=row>Runtdomainfactors</th><td>  0.0000000</td><td>  0.0000000</td><td>  0.0000000</td></tr>\n",
       "\t<tr><th scope=row>SANDdomainfactors</th><td>  0.0000000</td><td>  0.0000000</td><td>  0.0000000</td></tr>\n",
       "\t<tr><th scope=row>SMAD/NF-1DNA-bindingdomainfactors</th><td>  0.0000000</td><td>  0.0000000</td><td>  0.0000000</td></tr>\n",
       "\t<tr><th scope=row>STATdomainfactors</th><td>  0.0000000</td><td>  0.0000000</td><td>  0.0000000</td></tr>\n",
       "\t<tr><th scope=row>T-Boxfactors</th><td>  0.0000000</td><td>  0.0000000</td><td>  0.0000000</td></tr>\n",
       "\t<tr><th scope=row>TATA-bindingproteins</th><td>  0.0000000</td><td>  0.0000000</td><td>  0.0000000</td></tr>\n",
       "\t<tr><th scope=row>TEAdomainfactors</th><td>  0.0000000</td><td>  0.0000000</td><td>  0.0000000</td></tr>\n",
       "\t<tr><th scope=row>Tryptophanclusterfactors</th><td>  0.0000000</td><td>  0.0000000</td><td>  0.0000000</td></tr>\n",
       "</tbody>\n",
       "</table>\n"
      ],
      "text/latex": [
       "\\begin{tabular}{r|lll}\n",
       "  & 1 & 2 & 3\\\\\n",
       "\\hline\n",
       "\tsamplecount.w &   0.0000000 &   0.0000000 &   0.0000000\\\\\n",
       "\tscore.w & -99.0000000 & -99.0000000 & -99.0000000\\\\\n",
       "\tsamplecount.h &   1.0000000 &   1.0000000 &   1.0000000\\\\\n",
       "\tscore.h &  16.0000000 &  16.0000000 &  16.0000000\\\\\n",
       "\tmotifscore &  11.1636000 &  10.1967000 &  12.2308000\\\\\n",
       "\tmotifpval &   0.0000651 &   0.0000715 &   0.0000711\\\\\n",
       "\tARIDdomainfactors &   0.0000000 &   0.0000000 &   0.0000000\\\\\n",
       "\tBasichelix-loop-helixfactors(bHLH) &   0.0000000 &   0.0000000 &   1.0000000\\\\\n",
       "\tBasichelix-span-helixfactors(bHSH) &   0.0000000 &   1.0000000 &   0.0000000\\\\\n",
       "\tBasicleucinezipperfactors(bZIP) &   0.0000000 &   0.0000000 &   0.0000000\\\\\n",
       "\tC2CHTHAP-typezincfingerfactors &   0.0000000 &   0.0000000 &   0.0000000\\\\\n",
       "\tC2H2zincfingerfactors &   1.0000000 &   0.0000000 &   0.0000000\\\\\n",
       "\tCRCdomain &   0.0000000 &   0.0000000 &   0.0000000\\\\\n",
       "\tDM-typeintertwinedzincfingerfactors &   0.0000000 &   0.0000000 &   0.0000000\\\\\n",
       "\tForkhead/wingedhelixfactors &   0.0000000 &   0.0000000 &   0.0000000\\\\\n",
       "\tGCMdomainfactors &   0.0000000 &   0.0000000 &   0.0000000\\\\\n",
       "\tGrainyheaddomainfactors &   0.0000000 &   0.0000000 &   0.0000000\\\\\n",
       "\tHeatshockfactors &   0.0000000 &   0.0000000 &   0.0000000\\\\\n",
       "\tHeteromericCCAAT-bindingfactors &   0.0000000 &   0.0000000 &   0.0000000\\\\\n",
       "\tHigh-mobilitygroup(HMG)domainfactors &   0.0000000 &   0.0000000 &   0.0000000\\\\\n",
       "\tHomeodomainfactors &   0.0000000 &   0.0000000 &   0.0000000\\\\\n",
       "\tMADSboxfactors &   0.0000000 &   0.0000000 &   0.0000000\\\\\n",
       "\tNuclearreceptorswithC4zincfingers &   0.0000000 &   0.0000000 &   0.0000000\\\\\n",
       "\tOtherC4zincfinger-typefactors &   0.0000000 &   0.0000000 &   0.0000000\\\\\n",
       "\tp53domainfactors &   0.0000000 &   0.0000000 &   0.0000000\\\\\n",
       "\tPairedboxfactors &   0.0000000 &   0.0000000 &   0.0000000\\\\\n",
       "\tPsq-typeHTHdomain &   0.0000000 &   0.0000000 &   0.0000000\\\\\n",
       "\tRelhomologyregion(RHR)factors &   0.0000000 &   0.0000000 &   0.0000000\\\\\n",
       "\tRuntdomainfactors &   0.0000000 &   0.0000000 &   0.0000000\\\\\n",
       "\tSANDdomainfactors &   0.0000000 &   0.0000000 &   0.0000000\\\\\n",
       "\tSMAD/NF-1DNA-bindingdomainfactors &   0.0000000 &   0.0000000 &   0.0000000\\\\\n",
       "\tSTATdomainfactors &   0.0000000 &   0.0000000 &   0.0000000\\\\\n",
       "\tT-Boxfactors &   0.0000000 &   0.0000000 &   0.0000000\\\\\n",
       "\tTATA-bindingproteins &   0.0000000 &   0.0000000 &   0.0000000\\\\\n",
       "\tTEAdomainfactors &   0.0000000 &   0.0000000 &   0.0000000\\\\\n",
       "\tTryptophanclusterfactors &   0.0000000 &   0.0000000 &   0.0000000\\\\\n",
       "\\end{tabular}\n"
      ],
      "text/markdown": [
       "1. 0\n",
       "2. -99\n",
       "3. 1\n",
       "4. 16\n",
       "5. 11.1636\n",
       "6. 6.51e-05\n",
       "7. 0\n",
       "8. 0\n",
       "9. 0\n",
       "10. 0\n",
       "11. 0\n",
       "12. 1\n",
       "13. 0\n",
       "14. 0\n",
       "15. 0\n",
       "16. 0\n",
       "17. 0\n",
       "18. 0\n",
       "19. 0\n",
       "20. 0\n",
       "21. 0\n",
       "22. 0\n",
       "23. 0\n",
       "24. 0\n",
       "25. 0\n",
       "26. 0\n",
       "27. 0\n",
       "28. 0\n",
       "29. 0\n",
       "30. 0\n",
       "31. 0\n",
       "32. 0\n",
       "33. 0\n",
       "34. 0\n",
       "35. 0\n",
       "36. 0\n",
       "37. 0\n",
       "38. -99\n",
       "39. 1\n",
       "40. 16\n",
       "41. 10.1967\n",
       "42. 7.15e-05\n",
       "43. 0\n",
       "44. 0\n",
       "45. 1\n",
       "46. 0\n",
       "47. 0\n",
       "48. 0\n",
       "49. 0\n",
       "50. 0\n",
       "51. 0\n",
       "52. 0\n",
       "53. 0\n",
       "54. 0\n",
       "55. 0\n",
       "56. 0\n",
       "57. 0\n",
       "58. 0\n",
       "59. 0\n",
       "60. 0\n",
       "61. 0\n",
       "62. 0\n",
       "63. 0\n",
       "64. 0\n",
       "65. 0\n",
       "66. 0\n",
       "67. 0\n",
       "68. 0\n",
       "69. 0\n",
       "70. 0\n",
       "71. 0\n",
       "72. 0\n",
       "73. 0\n",
       "74. -99\n",
       "75. 1\n",
       "76. 16\n",
       "77. 12.2308\n",
       "78. 7.11e-05\n",
       "79. 0\n",
       "80. 1\n",
       "81. 0\n",
       "82. 0\n",
       "83. 0\n",
       "84. 0\n",
       "85. 0\n",
       "86. 0\n",
       "87. 0\n",
       "88. 0\n",
       "89. 0\n",
       "90. 0\n",
       "91. 0\n",
       "92. 0\n",
       "93. 0\n",
       "94. 0\n",
       "95. 0\n",
       "96. 0\n",
       "97. 0\n",
       "98. 0\n",
       "99. 0\n",
       "100. 0\n",
       "101. 0\n",
       "102. 0\n",
       "103. 0\n",
       "104. 0\n",
       "105. 0\n",
       "106. 0\n",
       "107. 0\n",
       "108. 0\n",
       "\n",
       "\n"
      ],
      "text/plain": [
       "                                     1           2           3          \n",
       "samplecount.w                          0.0000000   0.0000000   0.0000000\n",
       "score.w                              -99.0000000 -99.0000000 -99.0000000\n",
       "samplecount.h                          1.0000000   1.0000000   1.0000000\n",
       "score.h                               16.0000000  16.0000000  16.0000000\n",
       "motifscore                            11.1636000  10.1967000  12.2308000\n",
       "motifpval                              0.0000651   0.0000715   0.0000711\n",
       "ARIDdomainfactors                      0.0000000   0.0000000   0.0000000\n",
       "Basichelix-loop-helixfactors(bHLH)     0.0000000   0.0000000   1.0000000\n",
       "Basichelix-span-helixfactors(bHSH)     0.0000000   1.0000000   0.0000000\n",
       "Basicleucinezipperfactors(bZIP)        0.0000000   0.0000000   0.0000000\n",
       "C2CHTHAP-typezincfingerfactors         0.0000000   0.0000000   0.0000000\n",
       "C2H2zincfingerfactors                  1.0000000   0.0000000   0.0000000\n",
       "CRCdomain                              0.0000000   0.0000000   0.0000000\n",
       "DM-typeintertwinedzincfingerfactors    0.0000000   0.0000000   0.0000000\n",
       "Forkhead/wingedhelixfactors            0.0000000   0.0000000   0.0000000\n",
       "GCMdomainfactors                       0.0000000   0.0000000   0.0000000\n",
       "Grainyheaddomainfactors                0.0000000   0.0000000   0.0000000\n",
       "Heatshockfactors                       0.0000000   0.0000000   0.0000000\n",
       "HeteromericCCAAT-bindingfactors        0.0000000   0.0000000   0.0000000\n",
       "High-mobilitygroup(HMG)domainfactors   0.0000000   0.0000000   0.0000000\n",
       "Homeodomainfactors                     0.0000000   0.0000000   0.0000000\n",
       "MADSboxfactors                         0.0000000   0.0000000   0.0000000\n",
       "NuclearreceptorswithC4zincfingers      0.0000000   0.0000000   0.0000000\n",
       "OtherC4zincfinger-typefactors          0.0000000   0.0000000   0.0000000\n",
       "p53domainfactors                       0.0000000   0.0000000   0.0000000\n",
       "Pairedboxfactors                       0.0000000   0.0000000   0.0000000\n",
       "Psq-typeHTHdomain                      0.0000000   0.0000000   0.0000000\n",
       "Relhomologyregion(RHR)factors          0.0000000   0.0000000   0.0000000\n",
       "Runtdomainfactors                      0.0000000   0.0000000   0.0000000\n",
       "SANDdomainfactors                      0.0000000   0.0000000   0.0000000\n",
       "SMAD/NF-1DNA-bindingdomainfactors      0.0000000   0.0000000   0.0000000\n",
       "STATdomainfactors                      0.0000000   0.0000000   0.0000000\n",
       "T-Boxfactors                           0.0000000   0.0000000   0.0000000\n",
       "TATA-bindingproteins                   0.0000000   0.0000000   0.0000000\n",
       "TEAdomainfactors                       0.0000000   0.0000000   0.0000000\n",
       "Tryptophanclusterfactors               0.0000000   0.0000000   0.0000000"
      ]
     },
     "metadata": {},
     "output_type": "display_data"
    }
   ],
   "source": [
    "t(X[1:3,])"
   ]
  },
  {
   "cell_type": "code",
   "execution_count": 22,
   "metadata": {
    "collapsed": false
   },
   "outputs": [],
   "source": [
    "train.inds <- split_data(y)\n",
    "\n",
    "X.train <- X[train.inds,]\n",
    "X.test <- X[-train.inds,]\n",
    "y.train <- y[train.inds]\n",
    "y.test <- y[-train.inds]"
   ]
  },
  {
   "cell_type": "code",
   "execution_count": 239,
   "metadata": {
    "collapsed": false
   },
   "outputs": [
    {
     "name": "stdout",
     "output_type": "stream",
     "text": [
      " num [1:57668, 1:36] 0 0 0 1 0 0 0 0 0 1 ...\n",
      " - attr(*, \"dimnames\")=List of 2\n",
      "  ..$ : chr [1:57668] \"52108\" \"1372\" \"15102\" \"21518\" ...\n",
      "  ..$ : chr [1:36] \"samplecount.w\" \"score.w\" \"samplecount.h\" \"score.h\" ...\n",
      " num [1:76891] 0 0 0 0 0 0 0 0 0 0 ...\n"
     ]
    },
    {
     "data": {
      "text/html": [
       "0.13915802889805"
      ],
      "text/latex": [
       "0.13915802889805"
      ],
      "text/markdown": [
       "0.13915802889805"
      ],
      "text/plain": [
       "[1] 0.139158"
      ]
     },
     "metadata": {},
     "output_type": "display_data"
    }
   ],
   "source": [
    "str(as.matrix(X.train))\n",
    "str(y)\n",
    "mean(y)"
   ]
  },
  {
   "cell_type": "code",
   "execution_count": 242,
   "metadata": {
    "collapsed": false
   },
   "outputs": [
    {
     "name": "stdout",
     "output_type": "stream",
     "text": [
      "[0]\ttrain-auc:0.910727\n",
      "[1]\ttrain-auc:0.910742\n",
      "[2]\ttrain-auc:0.910712\n",
      "[3]\ttrain-auc:0.910706\n",
      "[4]\ttrain-auc:0.910690\n",
      "[5]\ttrain-auc:0.910689\n",
      "[6]\ttrain-auc:0.910668\n",
      "[7]\ttrain-auc:0.910671\n",
      "[8]\ttrain-auc:0.910658\n",
      "[9]\ttrain-auc:0.910665\n",
      "[10]\ttrain-auc:0.910651\n",
      "[11]\ttrain-auc:0.910660\n",
      "[12]\ttrain-auc:0.910655\n",
      "[13]\ttrain-auc:0.910660\n",
      "[14]\ttrain-auc:0.910655\n",
      "[15]\ttrain-auc:0.911863\n",
      "[16]\ttrain-auc:0.911814\n",
      "[17]\ttrain-auc:0.912065\n",
      "[18]\ttrain-auc:0.912232\n",
      "[19]\ttrain-auc:0.912298\n",
      "[20]\ttrain-auc:0.912376\n",
      "[21]\ttrain-auc:0.912420\n",
      "[22]\ttrain-auc:0.912521\n",
      "[23]\ttrain-auc:0.912555\n",
      "[24]\ttrain-auc:0.912529\n",
      "[25]\ttrain-auc:0.912544\n",
      "[26]\ttrain-auc:0.912569\n",
      "[27]\ttrain-auc:0.912586\n",
      "[28]\ttrain-auc:0.912617\n",
      "[29]\ttrain-auc:0.912637\n",
      "[30]\ttrain-auc:0.912638\n",
      "[31]\ttrain-auc:0.912683\n",
      "[32]\ttrain-auc:0.912719\n",
      "[33]\ttrain-auc:0.912759\n",
      "[34]\ttrain-auc:0.912767\n",
      "[35]\ttrain-auc:0.912789\n",
      "[36]\ttrain-auc:0.912801\n",
      "[37]\ttrain-auc:0.912805\n",
      "[38]\ttrain-auc:0.912808\n",
      "[39]\ttrain-auc:0.912869\n",
      "[40]\ttrain-auc:0.912844\n",
      "[41]\ttrain-auc:0.912855\n",
      "[42]\ttrain-auc:0.912856\n",
      "[43]\ttrain-auc:0.912858\n",
      "[44]\ttrain-auc:0.912871\n",
      "[45]\ttrain-auc:0.912879\n",
      "[46]\ttrain-auc:0.912864\n",
      "[47]\ttrain-auc:0.912867\n",
      "[48]\ttrain-auc:0.912896\n",
      "[49]\ttrain-auc:0.912887\n",
      "[50]\ttrain-auc:0.912894\n",
      "[51]\ttrain-auc:0.912899\n",
      "[52]\ttrain-auc:0.912909\n",
      "[53]\ttrain-auc:0.912926\n",
      "[54]\ttrain-auc:0.912955\n",
      "[55]\ttrain-auc:0.912951\n",
      "[56]\ttrain-auc:0.912967\n",
      "[57]\ttrain-auc:0.912972\n",
      "[58]\ttrain-auc:0.913021\n",
      "[59]\ttrain-auc:0.913007\n",
      "[60]\ttrain-auc:0.913025\n",
      "[61]\ttrain-auc:0.913049\n",
      "[62]\ttrain-auc:0.913067\n",
      "[63]\ttrain-auc:0.913077\n",
      "[64]\ttrain-auc:0.913081\n",
      "[65]\ttrain-auc:0.913094\n",
      "[66]\ttrain-auc:0.913102\n",
      "[67]\ttrain-auc:0.913134\n",
      "[68]\ttrain-auc:0.913246\n",
      "[69]\ttrain-auc:0.913303\n",
      "[70]\ttrain-auc:0.913821\n",
      "[71]\ttrain-auc:0.913939\n",
      "[72]\ttrain-auc:0.913973\n",
      "[73]\ttrain-auc:0.914010\n",
      "[74]\ttrain-auc:0.914073\n",
      "[75]\ttrain-auc:0.914136\n",
      "[76]\ttrain-auc:0.914182\n",
      "[77]\ttrain-auc:0.914254\n",
      "[78]\ttrain-auc:0.914275\n",
      "[79]\ttrain-auc:0.914291\n",
      "[80]\ttrain-auc:0.914295\n",
      "[81]\ttrain-auc:0.914335\n",
      "[82]\ttrain-auc:0.914330\n",
      "[83]\ttrain-auc:0.914357\n",
      "[84]\ttrain-auc:0.914363\n",
      "[85]\ttrain-auc:0.914385\n",
      "[86]\ttrain-auc:0.914475\n",
      "[87]\ttrain-auc:0.914485\n",
      "[88]\ttrain-auc:0.914498\n",
      "[89]\ttrain-auc:0.914503\n",
      "[90]\ttrain-auc:0.914522\n",
      "[91]\ttrain-auc:0.914568\n",
      "[92]\ttrain-auc:0.914589\n",
      "[93]\ttrain-auc:0.914592\n",
      "[94]\ttrain-auc:0.914600\n",
      "[95]\ttrain-auc:0.914612\n",
      "[96]\ttrain-auc:0.914618\n",
      "[97]\ttrain-auc:0.914628\n",
      "[98]\ttrain-auc:0.914644\n",
      "[99]\ttrain-auc:0.914642\n",
      "[100]\ttrain-auc:0.914663\n",
      "[101]\ttrain-auc:0.914678\n",
      "[102]\ttrain-auc:0.914692\n",
      "[103]\ttrain-auc:0.914708\n",
      "[104]\ttrain-auc:0.914715\n",
      "[105]\ttrain-auc:0.914703\n",
      "[106]\ttrain-auc:0.914704\n",
      "[107]\ttrain-auc:0.914741\n",
      "[108]\ttrain-auc:0.914720\n",
      "[109]\ttrain-auc:0.914775\n",
      "[110]\ttrain-auc:0.914775\n",
      "[111]\ttrain-auc:0.914838\n",
      "[112]\ttrain-auc:0.914853\n",
      "[113]\ttrain-auc:0.914869\n",
      "[114]\ttrain-auc:0.914884\n",
      "[115]\ttrain-auc:0.914912\n",
      "[116]\ttrain-auc:0.914915\n",
      "[117]\ttrain-auc:0.914927\n",
      "[118]\ttrain-auc:0.914935\n",
      "[119]\ttrain-auc:0.914957\n",
      "[120]\ttrain-auc:0.914960\n",
      "[121]\ttrain-auc:0.914967\n",
      "[122]\ttrain-auc:0.914986\n",
      "[123]\ttrain-auc:0.914985\n",
      "[124]\ttrain-auc:0.914994\n",
      "[125]\ttrain-auc:0.915008\n",
      "[126]\ttrain-auc:0.915003\n",
      "[127]\ttrain-auc:0.915007\n",
      "[128]\ttrain-auc:0.915019\n",
      "[129]\ttrain-auc:0.915047\n",
      "[130]\ttrain-auc:0.915056\n",
      "[131]\ttrain-auc:0.915073\n",
      "[132]\ttrain-auc:0.915074\n",
      "[133]\ttrain-auc:0.915094\n",
      "[134]\ttrain-auc:0.915102\n",
      "[135]\ttrain-auc:0.915125\n",
      "[136]\ttrain-auc:0.915156\n",
      "[137]\ttrain-auc:0.915162\n",
      "[138]\ttrain-auc:0.915174\n",
      "[139]\ttrain-auc:0.915193\n",
      "[140]\ttrain-auc:0.915209\n",
      "[141]\ttrain-auc:0.915211\n",
      "[142]\ttrain-auc:0.915234\n",
      "[143]\ttrain-auc:0.915238\n",
      "[144]\ttrain-auc:0.915254\n",
      "[145]\ttrain-auc:0.915245\n",
      "[146]\ttrain-auc:0.915281\n",
      "[147]\ttrain-auc:0.915260\n",
      "[148]\ttrain-auc:0.915269\n",
      "[149]\ttrain-auc:0.915301\n",
      "[150]\ttrain-auc:0.915300\n",
      "[151]\ttrain-auc:0.915322\n",
      "[152]\ttrain-auc:0.915331\n",
      "[153]\ttrain-auc:0.915337\n",
      "[154]\ttrain-auc:0.915366\n",
      "[155]\ttrain-auc:0.915389\n",
      "[156]\ttrain-auc:0.915408\n",
      "[157]\ttrain-auc:0.915413\n",
      "[158]\ttrain-auc:0.915430\n",
      "[159]\ttrain-auc:0.915436\n",
      "[160]\ttrain-auc:0.915450\n",
      "[161]\ttrain-auc:0.915472\n",
      "[162]\ttrain-auc:0.915479\n",
      "[163]\ttrain-auc:0.915483\n",
      "[164]\ttrain-auc:0.915500\n",
      "[165]\ttrain-auc:0.915500\n",
      "[166]\ttrain-auc:0.915501\n",
      "[167]\ttrain-auc:0.915505\n",
      "[168]\ttrain-auc:0.915511\n",
      "[169]\ttrain-auc:0.915534\n",
      "[170]\ttrain-auc:0.915534\n",
      "[171]\ttrain-auc:0.915557\n",
      "[172]\ttrain-auc:0.915559\n",
      "[173]\ttrain-auc:0.915567\n",
      "[174]\ttrain-auc:0.915585\n",
      "[175]\ttrain-auc:0.915581\n",
      "[176]\ttrain-auc:0.915583\n",
      "[177]\ttrain-auc:0.915592\n",
      "[178]\ttrain-auc:0.915592\n",
      "[179]\ttrain-auc:0.915606\n",
      "[180]\ttrain-auc:0.915606\n",
      "[181]\ttrain-auc:0.915642\n",
      "[182]\ttrain-auc:0.915639\n",
      "[183]\ttrain-auc:0.915645\n",
      "[184]\ttrain-auc:0.915642\n",
      "[185]\ttrain-auc:0.915626\n",
      "[186]\ttrain-auc:0.915618\n",
      "[187]\ttrain-auc:0.915641\n",
      "[188]\ttrain-auc:0.915635\n",
      "[189]\ttrain-auc:0.915634\n",
      "[190]\ttrain-auc:0.915636\n",
      "[191]\ttrain-auc:0.915637\n",
      "[192]\ttrain-auc:0.915631\n",
      "[193]\ttrain-auc:0.915662\n",
      "[194]\ttrain-auc:0.915677\n",
      "[195]\ttrain-auc:0.915703\n",
      "[196]\ttrain-auc:0.915747\n",
      "[197]\ttrain-auc:0.915771\n",
      "[198]\ttrain-auc:0.915803\n",
      "[199]\ttrain-auc:0.915822\n",
      "[200]\ttrain-auc:0.915817\n",
      "[201]\ttrain-auc:0.915839\n",
      "[202]\ttrain-auc:0.915844\n",
      "[203]\ttrain-auc:0.915851\n",
      "[204]\ttrain-auc:0.915862\n",
      "[205]\ttrain-auc:0.915865\n",
      "[206]\ttrain-auc:0.915902\n",
      "[207]\ttrain-auc:0.915906\n",
      "[208]\ttrain-auc:0.915938\n",
      "[209]\ttrain-auc:0.915939\n",
      "[210]\ttrain-auc:0.915948\n",
      "[211]\ttrain-auc:0.915962\n",
      "[212]\ttrain-auc:0.915974\n",
      "[213]\ttrain-auc:0.915980\n",
      "[214]\ttrain-auc:0.916014\n",
      "[215]\ttrain-auc:0.916020\n",
      "[216]\ttrain-auc:0.916027\n",
      "[217]\ttrain-auc:0.916044\n",
      "[218]\ttrain-auc:0.916050\n",
      "[219]\ttrain-auc:0.916064\n",
      "[220]\ttrain-auc:0.916077\n",
      "[221]\ttrain-auc:0.916088\n",
      "[222]\ttrain-auc:0.916097\n",
      "[223]\ttrain-auc:0.916104\n",
      "[224]\ttrain-auc:0.916118\n",
      "[225]\ttrain-auc:0.916132\n",
      "[226]\ttrain-auc:0.916138\n",
      "[227]\ttrain-auc:0.916146\n",
      "[228]\ttrain-auc:0.916150\n",
      "[229]\ttrain-auc:0.916149\n",
      "[230]\ttrain-auc:0.916158\n",
      "[231]\ttrain-auc:0.916161\n",
      "[232]\ttrain-auc:0.916173\n",
      "[233]\ttrain-auc:0.916176\n",
      "[234]\ttrain-auc:0.916205\n",
      "[235]\ttrain-auc:0.916213\n",
      "[236]\ttrain-auc:0.916212\n",
      "[237]\ttrain-auc:0.916220\n",
      "[238]\ttrain-auc:0.916218\n",
      "[239]\ttrain-auc:0.916227\n",
      "[240]\ttrain-auc:0.916228\n",
      "[241]\ttrain-auc:0.916231\n",
      "[242]\ttrain-auc:0.916251\n",
      "[243]\ttrain-auc:0.916255\n",
      "[244]\ttrain-auc:0.916255\n",
      "[245]\ttrain-auc:0.916288\n",
      "[246]\ttrain-auc:0.916301\n",
      "[247]\ttrain-auc:0.916310\n",
      "[248]\ttrain-auc:0.916314\n",
      "[249]\ttrain-auc:0.916322\n",
      "[250]\ttrain-auc:0.916332\n",
      "[251]\ttrain-auc:0.916339\n",
      "[252]\ttrain-auc:0.916341\n",
      "[253]\ttrain-auc:0.916339\n",
      "[254]\ttrain-auc:0.916357\n",
      "[255]\ttrain-auc:0.916363\n",
      "[256]\ttrain-auc:0.916369\n",
      "[257]\ttrain-auc:0.916367\n",
      "[258]\ttrain-auc:0.916391\n",
      "[259]\ttrain-auc:0.916392\n",
      "[260]\ttrain-auc:0.916385\n",
      "[261]\ttrain-auc:0.916388\n",
      "[262]\ttrain-auc:0.916404\n",
      "[263]\ttrain-auc:0.916447\n",
      "[264]\ttrain-auc:0.916463\n",
      "[265]\ttrain-auc:0.916448\n",
      "[266]\ttrain-auc:0.916472\n",
      "[267]\ttrain-auc:0.916458\n",
      "[268]\ttrain-auc:0.916477\n",
      "[269]\ttrain-auc:0.916487\n",
      "[270]\ttrain-auc:0.916502\n",
      "[271]\ttrain-auc:0.916523\n",
      "[272]\ttrain-auc:0.916525\n",
      "[273]\ttrain-auc:0.916530\n",
      "[274]\ttrain-auc:0.916537\n",
      "[275]\ttrain-auc:0.916575\n",
      "[276]\ttrain-auc:0.916581\n",
      "[277]\ttrain-auc:0.916603\n",
      "[278]\ttrain-auc:0.916611\n",
      "[279]\ttrain-auc:0.916614\n",
      "[280]\ttrain-auc:0.916643\n",
      "[281]\ttrain-auc:0.916653\n",
      "[282]\ttrain-auc:0.916657\n",
      "[283]\ttrain-auc:0.916662\n",
      "[284]\ttrain-auc:0.916677\n",
      "[285]\ttrain-auc:0.916669\n",
      "[286]\ttrain-auc:0.916713\n",
      "[287]\ttrain-auc:0.916718\n",
      "[288]\ttrain-auc:0.916721\n",
      "[289]\ttrain-auc:0.916730\n",
      "[290]\ttrain-auc:0.916722\n",
      "[291]\ttrain-auc:0.916730\n",
      "[292]\ttrain-auc:0.916737\n",
      "[293]\ttrain-auc:0.916739\n",
      "[294]\ttrain-auc:0.916761\n",
      "[295]\ttrain-auc:0.916767\n",
      "[296]\ttrain-auc:0.916794\n",
      "[297]\ttrain-auc:0.916790\n",
      "[298]\ttrain-auc:0.916799\n",
      "[299]\ttrain-auc:0.916799\n",
      "[300]\ttrain-auc:0.916797\n",
      "[301]\ttrain-auc:0.916812\n",
      "[302]\ttrain-auc:0.916816\n",
      "[303]\ttrain-auc:0.916812\n",
      "[304]\ttrain-auc:0.916833\n",
      "[305]\ttrain-auc:0.916835\n",
      "[306]\ttrain-auc:0.916830\n",
      "[307]\ttrain-auc:0.916838\n",
      "[308]\ttrain-auc:0.916850\n",
      "[309]\ttrain-auc:0.916843\n",
      "[310]\ttrain-auc:0.916876\n",
      "[311]\ttrain-auc:0.916881\n",
      "[312]\ttrain-auc:0.916884\n",
      "[313]\ttrain-auc:0.916888\n",
      "[314]\ttrain-auc:0.916894\n",
      "[315]\ttrain-auc:0.916868\n",
      "[316]\ttrain-auc:0.916900\n",
      "[317]\ttrain-auc:0.916902\n",
      "[318]\ttrain-auc:0.916911\n",
      "[319]\ttrain-auc:0.916882\n",
      "[320]\ttrain-auc:0.916893\n",
      "[321]\ttrain-auc:0.916905\n",
      "[322]\ttrain-auc:0.916911\n",
      "[323]\ttrain-auc:0.916917\n",
      "[324]\ttrain-auc:0.916919\n",
      "[325]\ttrain-auc:0.916924\n",
      "[326]\ttrain-auc:0.916927\n",
      "[327]\ttrain-auc:0.916936\n",
      "[328]\ttrain-auc:0.916942\n",
      "[329]\ttrain-auc:0.916951\n",
      "[330]\ttrain-auc:0.916953\n",
      "[331]\ttrain-auc:0.917058\n",
      "[332]\ttrain-auc:0.917063\n",
      "[333]\ttrain-auc:0.917085\n",
      "[334]\ttrain-auc:0.917166\n",
      "[335]\ttrain-auc:0.917174\n",
      "[336]\ttrain-auc:0.917194\n",
      "[337]\ttrain-auc:0.917216\n",
      "[338]\ttrain-auc:0.917214\n",
      "[339]\ttrain-auc:0.917271\n",
      "[340]\ttrain-auc:0.917293\n",
      "[341]\ttrain-auc:0.917441\n",
      "[342]\ttrain-auc:0.917501\n",
      "[343]\ttrain-auc:0.917527\n",
      "[344]\ttrain-auc:0.917547\n",
      "[345]\ttrain-auc:0.917554\n",
      "[346]\ttrain-auc:0.917580\n",
      "[347]\ttrain-auc:0.917675\n",
      "[348]\ttrain-auc:0.917690\n",
      "[349]\ttrain-auc:0.917687\n",
      "[350]\ttrain-auc:0.917621\n",
      "[351]\ttrain-auc:0.917623\n",
      "[352]\ttrain-auc:0.917635\n",
      "[353]\ttrain-auc:0.917626\n",
      "[354]\ttrain-auc:0.917630\n",
      "[355]\ttrain-auc:0.917651\n",
      "[356]\ttrain-auc:0.917660\n",
      "[357]\ttrain-auc:0.917744\n",
      "[358]\ttrain-auc:0.917749\n",
      "[359]\ttrain-auc:0.917755\n",
      "[360]\ttrain-auc:0.917763\n",
      "[361]\ttrain-auc:0.917784\n",
      "[362]\ttrain-auc:0.917791\n",
      "[363]\ttrain-auc:0.917815\n",
      "[364]\ttrain-auc:0.917810\n",
      "[365]\ttrain-auc:0.917821\n",
      "[366]\ttrain-auc:0.917822\n",
      "[367]\ttrain-auc:0.917834\n",
      "[368]\ttrain-auc:0.917843\n",
      "[369]\ttrain-auc:0.917860\n",
      "[370]\ttrain-auc:0.917867\n",
      "[371]\ttrain-auc:0.917896\n",
      "[372]\ttrain-auc:0.917921\n",
      "[373]\ttrain-auc:0.917924\n",
      "[374]\ttrain-auc:0.917938\n",
      "[375]\ttrain-auc:0.917950\n",
      "[376]\ttrain-auc:0.918026\n",
      "[377]\ttrain-auc:0.918102\n",
      "[378]\ttrain-auc:0.918112\n",
      "[379]\ttrain-auc:0.918145\n",
      "[380]\ttrain-auc:0.918182\n",
      "[381]\ttrain-auc:0.918191\n",
      "[382]\ttrain-auc:0.918210\n",
      "[383]\ttrain-auc:0.918217\n",
      "[384]\ttrain-auc:0.918224\n",
      "[385]\ttrain-auc:0.918226\n",
      "[386]\ttrain-auc:0.918235\n",
      "[387]\ttrain-auc:0.918258\n",
      "[388]\ttrain-auc:0.918321\n",
      "[389]\ttrain-auc:0.918319\n",
      "[390]\ttrain-auc:0.918361\n",
      "[391]\ttrain-auc:0.918368\n",
      "[392]\ttrain-auc:0.918369\n",
      "[393]\ttrain-auc:0.918373\n",
      "[394]\ttrain-auc:0.918409\n",
      "[395]\ttrain-auc:0.918405\n",
      "[396]\ttrain-auc:0.918421\n",
      "[397]\ttrain-auc:0.918469\n",
      "[398]\ttrain-auc:0.918501\n",
      "[399]\ttrain-auc:0.918509\n",
      "[400]\ttrain-auc:0.918533\n",
      "[401]\ttrain-auc:0.918706\n",
      "[402]\ttrain-auc:0.918724\n",
      "[403]\ttrain-auc:0.918780\n",
      "[404]\ttrain-auc:0.918815\n",
      "[405]\ttrain-auc:0.918863\n",
      "[406]\ttrain-auc:0.918874\n",
      "[407]\ttrain-auc:0.919148\n",
      "[408]\ttrain-auc:0.919159\n",
      "[409]\ttrain-auc:0.919169\n",
      "[410]\ttrain-auc:0.919180\n",
      "[411]\ttrain-auc:0.919184\n",
      "[412]\ttrain-auc:0.919196\n",
      "[413]\ttrain-auc:0.919317\n",
      "[414]\ttrain-auc:0.919337\n",
      "[415]\ttrain-auc:0.919338\n",
      "[416]\ttrain-auc:0.919359\n",
      "[417]\ttrain-auc:0.919352\n",
      "[418]\ttrain-auc:0.919379\n",
      "[419]\ttrain-auc:0.919390\n",
      "[420]\ttrain-auc:0.919370\n",
      "[421]\ttrain-auc:0.919380\n",
      "[422]\ttrain-auc:0.919414\n",
      "[423]\ttrain-auc:0.919424\n",
      "[424]\ttrain-auc:0.919422\n",
      "[425]\ttrain-auc:0.919437\n",
      "[426]\ttrain-auc:0.919434\n",
      "[427]\ttrain-auc:0.919450\n",
      "[428]\ttrain-auc:0.919526\n",
      "[429]\ttrain-auc:0.919543\n",
      "[430]\ttrain-auc:0.919566\n",
      "[431]\ttrain-auc:0.919581\n",
      "[432]\ttrain-auc:0.919606\n",
      "[433]\ttrain-auc:0.919641\n",
      "[434]\ttrain-auc:0.919666\n",
      "[435]\ttrain-auc:0.919688\n",
      "[436]\ttrain-auc:0.919827\n",
      "[437]\ttrain-auc:0.919857\n",
      "[438]\ttrain-auc:0.919873\n",
      "[439]\ttrain-auc:0.919919\n",
      "[440]\ttrain-auc:0.919942\n",
      "[441]\ttrain-auc:0.919960\n",
      "[442]\ttrain-auc:0.919997\n",
      "[443]\ttrain-auc:0.920010\n",
      "[444]\ttrain-auc:0.920039\n",
      "[445]\ttrain-auc:0.920106\n",
      "[446]\ttrain-auc:0.920145\n",
      "[447]\ttrain-auc:0.920174\n",
      "[448]\ttrain-auc:0.920213\n",
      "[449]\ttrain-auc:0.920277\n",
      "[450]\ttrain-auc:0.920313\n",
      "[451]\ttrain-auc:0.920337\n",
      "[452]\ttrain-auc:0.920326\n",
      "[453]\ttrain-auc:0.920351\n",
      "[454]\ttrain-auc:0.920375\n",
      "[455]\ttrain-auc:0.920371\n",
      "[456]\ttrain-auc:0.920401\n",
      "[457]\ttrain-auc:0.920448\n",
      "[458]\ttrain-auc:0.920464\n",
      "[459]\ttrain-auc:0.920495\n",
      "[460]\ttrain-auc:0.920560\n",
      "[461]\ttrain-auc:0.920601\n",
      "[462]\ttrain-auc:0.920639\n",
      "[463]\ttrain-auc:0.920722\n",
      "[464]\ttrain-auc:0.920736\n",
      "[465]\ttrain-auc:0.920768\n",
      "[466]\ttrain-auc:0.920779\n",
      "[467]\ttrain-auc:0.920808\n",
      "[468]\ttrain-auc:0.920784\n",
      "[469]\ttrain-auc:0.920820\n",
      "[470]\ttrain-auc:0.920824\n",
      "[471]\ttrain-auc:0.920856\n",
      "[472]\ttrain-auc:0.920867\n",
      "[473]\ttrain-auc:0.920871\n",
      "[474]\ttrain-auc:0.920882\n",
      "[475]\ttrain-auc:0.920902\n",
      "[476]\ttrain-auc:0.920920\n",
      "[477]\ttrain-auc:0.920926\n",
      "[478]\ttrain-auc:0.920948\n",
      "[479]\ttrain-auc:0.920988\n",
      "[480]\ttrain-auc:0.921060\n",
      "[481]\ttrain-auc:0.921103\n",
      "[482]\ttrain-auc:0.921091\n",
      "[483]\ttrain-auc:0.921143\n",
      "[484]\ttrain-auc:0.921159\n",
      "[485]\ttrain-auc:0.921196\n",
      "[486]\ttrain-auc:0.921225\n",
      "[487]\ttrain-auc:0.921248\n",
      "[488]\ttrain-auc:0.921264\n",
      "[489]\ttrain-auc:0.921293\n",
      "[490]\ttrain-auc:0.921344\n",
      "[491]\ttrain-auc:0.921365\n",
      "[492]\ttrain-auc:0.921397\n",
      "[493]\ttrain-auc:0.921428\n",
      "[494]\ttrain-auc:0.921441\n",
      "[495]\ttrain-auc:0.921460\n",
      "[496]\ttrain-auc:0.921494\n",
      "[497]\ttrain-auc:0.921523\n",
      "[498]\ttrain-auc:0.921547\n",
      "[499]\ttrain-auc:0.921593\n",
      "[500]\ttrain-auc:0.921603\n",
      "[501]\ttrain-auc:0.921645\n",
      "[502]\ttrain-auc:0.921650\n",
      "[503]\ttrain-auc:0.921690\n",
      "[504]\ttrain-auc:0.921755\n",
      "[505]\ttrain-auc:0.921789\n",
      "[506]\ttrain-auc:0.921804\n",
      "[507]\ttrain-auc:0.921849\n",
      "[508]\ttrain-auc:0.921857\n",
      "[509]\ttrain-auc:0.921905\n",
      "[510]\ttrain-auc:0.921914\n",
      "[511]\ttrain-auc:0.921923\n",
      "[512]\ttrain-auc:0.921975\n",
      "[513]\ttrain-auc:0.922008\n",
      "[514]\ttrain-auc:0.922019\n",
      "[515]\ttrain-auc:0.922055\n",
      "[516]\ttrain-auc:0.922072\n",
      "[517]\ttrain-auc:0.922096\n",
      "[518]\ttrain-auc:0.922110\n",
      "[519]\ttrain-auc:0.922130\n",
      "[520]\ttrain-auc:0.922115\n",
      "[521]\ttrain-auc:0.922140\n",
      "[522]\ttrain-auc:0.922154\n",
      "[523]\ttrain-auc:0.922191\n",
      "[524]\ttrain-auc:0.922235\n",
      "[525]\ttrain-auc:0.922242\n",
      "[526]\ttrain-auc:0.922264\n",
      "[527]\ttrain-auc:0.922301\n",
      "[528]\ttrain-auc:0.922312\n",
      "[529]\ttrain-auc:0.922343\n",
      "[530]\ttrain-auc:0.922355\n",
      "[531]\ttrain-auc:0.922374\n",
      "[532]\ttrain-auc:0.922378\n",
      "[533]\ttrain-auc:0.922413\n",
      "[534]\ttrain-auc:0.922405\n",
      "[535]\ttrain-auc:0.922415\n",
      "[536]\ttrain-auc:0.922443\n",
      "[537]\ttrain-auc:0.922457\n",
      "[538]\ttrain-auc:0.922460\n",
      "[539]\ttrain-auc:0.922476\n",
      "[540]\ttrain-auc:0.922490\n",
      "[541]\ttrain-auc:0.922498\n",
      "[542]\ttrain-auc:0.922516\n",
      "[543]\ttrain-auc:0.922541\n",
      "[544]\ttrain-auc:0.922557\n",
      "[545]\ttrain-auc:0.922566\n",
      "[546]\ttrain-auc:0.922594\n",
      "[547]\ttrain-auc:0.922601\n",
      "[548]\ttrain-auc:0.922617\n",
      "[549]\ttrain-auc:0.922627\n",
      "[550]\ttrain-auc:0.922645\n",
      "[551]\ttrain-auc:0.922665\n",
      "[552]\ttrain-auc:0.922682\n",
      "[553]\ttrain-auc:0.922684\n",
      "[554]\ttrain-auc:0.922696\n",
      "[555]\ttrain-auc:0.922711\n",
      "[556]\ttrain-auc:0.922729\n",
      "[557]\ttrain-auc:0.922758\n",
      "[558]\ttrain-auc:0.922761\n",
      "[559]\ttrain-auc:0.922776\n",
      "[560]\ttrain-auc:0.922804\n",
      "[561]\ttrain-auc:0.922813\n",
      "[562]\ttrain-auc:0.922820\n",
      "[563]\ttrain-auc:0.922836\n",
      "[564]\ttrain-auc:0.922848\n",
      "[565]\ttrain-auc:0.922857\n",
      "[566]\ttrain-auc:0.922869\n",
      "[567]\ttrain-auc:0.922889\n",
      "[568]\ttrain-auc:0.922901\n",
      "[569]\ttrain-auc:0.922907\n",
      "[570]\ttrain-auc:0.922927\n",
      "[571]\ttrain-auc:0.922945\n",
      "[572]\ttrain-auc:0.922950\n",
      "[573]\ttrain-auc:0.922962\n",
      "[574]\ttrain-auc:0.922980\n",
      "[575]\ttrain-auc:0.922986\n",
      "[576]\ttrain-auc:0.922997\n",
      "[577]\ttrain-auc:0.923013\n",
      "[578]\ttrain-auc:0.923027\n",
      "[579]\ttrain-auc:0.923039\n",
      "[580]\ttrain-auc:0.923048\n",
      "[581]\ttrain-auc:0.923063\n",
      "[582]\ttrain-auc:0.923083\n",
      "[583]\ttrain-auc:0.923096\n",
      "[584]\ttrain-auc:0.923114\n",
      "[585]\ttrain-auc:0.923133\n",
      "[586]\ttrain-auc:0.923139\n",
      "[587]\ttrain-auc:0.923152\n",
      "[588]\ttrain-auc:0.923156\n",
      "[589]\ttrain-auc:0.923167\n",
      "[590]\ttrain-auc:0.923184\n",
      "[591]\ttrain-auc:0.923195\n",
      "[592]\ttrain-auc:0.923206\n",
      "[593]\ttrain-auc:0.923209\n",
      "[594]\ttrain-auc:0.923225\n",
      "[595]\ttrain-auc:0.923232\n",
      "[596]\ttrain-auc:0.923245\n",
      "[597]\ttrain-auc:0.923251\n",
      "[598]\ttrain-auc:0.923255\n",
      "[599]\ttrain-auc:0.923267\n",
      "[600]\ttrain-auc:0.923297\n",
      "[601]\ttrain-auc:0.923306\n",
      "[602]\ttrain-auc:0.923310\n",
      "[603]\ttrain-auc:0.923329\n",
      "[604]\ttrain-auc:0.923334\n",
      "[605]\ttrain-auc:0.923344\n",
      "[606]\ttrain-auc:0.923385\n",
      "[607]\ttrain-auc:0.923405\n",
      "[608]\ttrain-auc:0.923419\n",
      "[609]\ttrain-auc:0.923417\n",
      "[610]\ttrain-auc:0.923441\n",
      "[611]\ttrain-auc:0.923445\n",
      "[612]\ttrain-auc:0.923456\n",
      "[613]\ttrain-auc:0.923463\n",
      "[614]\ttrain-auc:0.923472\n",
      "[615]\ttrain-auc:0.923488\n",
      "[616]\ttrain-auc:0.923499\n",
      "[617]\ttrain-auc:0.923507\n",
      "[618]\ttrain-auc:0.923528\n",
      "[619]\ttrain-auc:0.923535\n",
      "[620]\ttrain-auc:0.923543\n",
      "[621]\ttrain-auc:0.923554\n",
      "[622]\ttrain-auc:0.923561\n",
      "[623]\ttrain-auc:0.923590\n",
      "[624]\ttrain-auc:0.923603\n",
      "[625]\ttrain-auc:0.923632\n",
      "[626]\ttrain-auc:0.923636\n",
      "[627]\ttrain-auc:0.923647\n",
      "[628]\ttrain-auc:0.923645\n",
      "[629]\ttrain-auc:0.923657\n",
      "[630]\ttrain-auc:0.923665\n",
      "[631]\ttrain-auc:0.923674\n",
      "[632]\ttrain-auc:0.923685\n",
      "[633]\ttrain-auc:0.923698\n",
      "[634]\ttrain-auc:0.923712\n",
      "[635]\ttrain-auc:0.923719\n",
      "[636]\ttrain-auc:0.923736\n",
      "[637]\ttrain-auc:0.923755\n",
      "[638]\ttrain-auc:0.923767\n",
      "[639]\ttrain-auc:0.923779\n",
      "[640]\ttrain-auc:0.923797\n",
      "[641]\ttrain-auc:0.923818\n",
      "[642]\ttrain-auc:0.923818\n",
      "[643]\ttrain-auc:0.923839\n",
      "[644]\ttrain-auc:0.923850\n",
      "[645]\ttrain-auc:0.923856\n",
      "[646]\ttrain-auc:0.923864\n",
      "[647]\ttrain-auc:0.923872\n",
      "[648]\ttrain-auc:0.923880\n",
      "[649]\ttrain-auc:0.923887\n",
      "[650]\ttrain-auc:0.923895\n",
      "[651]\ttrain-auc:0.923904\n",
      "[652]\ttrain-auc:0.923918\n",
      "[653]\ttrain-auc:0.923923\n",
      "[654]\ttrain-auc:0.923940\n",
      "[655]\ttrain-auc:0.923948\n",
      "[656]\ttrain-auc:0.923953\n",
      "[657]\ttrain-auc:0.923959\n",
      "[658]\ttrain-auc:0.923964\n",
      "[659]\ttrain-auc:0.923966\n",
      "[660]\ttrain-auc:0.923977\n",
      "[661]\ttrain-auc:0.923982\n",
      "[662]\ttrain-auc:0.924024\n",
      "[663]\ttrain-auc:0.924037\n",
      "[664]\ttrain-auc:0.924044\n",
      "[665]\ttrain-auc:0.924053\n",
      "[666]\ttrain-auc:0.924057\n",
      "[667]\ttrain-auc:0.924066\n",
      "[668]\ttrain-auc:0.924076\n",
      "[669]\ttrain-auc:0.924086\n",
      "[670]\ttrain-auc:0.924123\n",
      "[671]\ttrain-auc:0.924148\n",
      "[672]\ttrain-auc:0.924170\n",
      "[673]\ttrain-auc:0.924196\n",
      "[674]\ttrain-auc:0.924213\n",
      "[675]\ttrain-auc:0.924227\n",
      "[676]\ttrain-auc:0.924243\n",
      "[677]\ttrain-auc:0.924261\n",
      "[678]\ttrain-auc:0.924274\n",
      "[679]\ttrain-auc:0.924292\n",
      "[680]\ttrain-auc:0.924309\n",
      "[681]\ttrain-auc:0.924329\n",
      "[682]\ttrain-auc:0.924297\n",
      "[683]\ttrain-auc:0.924320\n",
      "[684]\ttrain-auc:0.924341\n",
      "[685]\ttrain-auc:0.924363\n",
      "[686]\ttrain-auc:0.924374\n",
      "[687]\ttrain-auc:0.924391\n",
      "[688]\ttrain-auc:0.924400\n",
      "[689]\ttrain-auc:0.924415\n",
      "[690]\ttrain-auc:0.924423\n",
      "[691]\ttrain-auc:0.924442\n",
      "[692]\ttrain-auc:0.924459\n",
      "[693]\ttrain-auc:0.924473\n",
      "[694]\ttrain-auc:0.924484\n",
      "[695]\ttrain-auc:0.924503\n",
      "[696]\ttrain-auc:0.924510\n",
      "[697]\ttrain-auc:0.924536\n",
      "[698]\ttrain-auc:0.924547\n",
      "[699]\ttrain-auc:0.924560\n",
      "[700]\ttrain-auc:0.924574\n",
      "[701]\ttrain-auc:0.924589\n",
      "[702]\ttrain-auc:0.924602\n",
      "[703]\ttrain-auc:0.924616\n",
      "[704]\ttrain-auc:0.924643\n",
      "[705]\ttrain-auc:0.924659\n",
      "[706]\ttrain-auc:0.924683\n",
      "[707]\ttrain-auc:0.924698\n",
      "[708]\ttrain-auc:0.924711\n",
      "[709]\ttrain-auc:0.924725\n",
      "[710]\ttrain-auc:0.924732\n",
      "[711]\ttrain-auc:0.924755\n",
      "[712]\ttrain-auc:0.924776\n",
      "[713]\ttrain-auc:0.924794\n",
      "[714]\ttrain-auc:0.924823\n",
      "[715]\ttrain-auc:0.924843\n",
      "[716]\ttrain-auc:0.924855\n",
      "[717]\ttrain-auc:0.924864\n",
      "[718]\ttrain-auc:0.924882\n",
      "[719]\ttrain-auc:0.924906\n",
      "[720]\ttrain-auc:0.924924\n",
      "[721]\ttrain-auc:0.924975\n",
      "[722]\ttrain-auc:0.924983\n",
      "[723]\ttrain-auc:0.925002\n",
      "[724]\ttrain-auc:0.925018\n",
      "[725]\ttrain-auc:0.925041\n",
      "[726]\ttrain-auc:0.925051\n",
      "[727]\ttrain-auc:0.925066\n",
      "[728]\ttrain-auc:0.925084\n",
      "[729]\ttrain-auc:0.925103\n",
      "[730]\ttrain-auc:0.925117\n",
      "[731]\ttrain-auc:0.925154\n",
      "[732]\ttrain-auc:0.925167\n",
      "[733]\ttrain-auc:0.925187\n",
      "[734]\ttrain-auc:0.925200\n",
      "[735]\ttrain-auc:0.925210\n",
      "[736]\ttrain-auc:0.925226\n",
      "[737]\ttrain-auc:0.925314\n",
      "[738]\ttrain-auc:0.925327\n",
      "[739]\ttrain-auc:0.925348\n",
      "[740]\ttrain-auc:0.925391\n",
      "[741]\ttrain-auc:0.925407\n",
      "[742]\ttrain-auc:0.925417\n",
      "[743]\ttrain-auc:0.925452\n",
      "[744]\ttrain-auc:0.925464\n",
      "[745]\ttrain-auc:0.925477\n",
      "[746]\ttrain-auc:0.925510\n",
      "[747]\ttrain-auc:0.925520\n",
      "[748]\ttrain-auc:0.925525\n",
      "[749]\ttrain-auc:0.925575\n",
      "[750]\ttrain-auc:0.925594\n",
      "[751]\ttrain-auc:0.925621\n",
      "[752]\ttrain-auc:0.925653\n",
      "[753]\ttrain-auc:0.925673\n",
      "[754]\ttrain-auc:0.925684\n",
      "[755]\ttrain-auc:0.925699\n",
      "[756]\ttrain-auc:0.925737\n",
      "[757]\ttrain-auc:0.925759\n",
      "[758]\ttrain-auc:0.925788\n",
      "[759]\ttrain-auc:0.925794\n",
      "[760]\ttrain-auc:0.925817\n",
      "[761]\ttrain-auc:0.925841\n",
      "[762]\ttrain-auc:0.925860\n",
      "[763]\ttrain-auc:0.925878\n",
      "[764]\ttrain-auc:0.925900\n",
      "[765]\ttrain-auc:0.925914\n",
      "[766]\ttrain-auc:0.925935\n",
      "[767]\ttrain-auc:0.925952\n",
      "[768]\ttrain-auc:0.925980\n",
      "[769]\ttrain-auc:0.926010\n",
      "[770]\ttrain-auc:0.926030\n",
      "[771]\ttrain-auc:0.926041\n",
      "[772]\ttrain-auc:0.926051\n",
      "[773]\ttrain-auc:0.926068\n",
      "[774]\ttrain-auc:0.926101\n",
      "[775]\ttrain-auc:0.926115\n",
      "[776]\ttrain-auc:0.926139\n",
      "[777]\ttrain-auc:0.926154\n",
      "[778]\ttrain-auc:0.926167\n",
      "[779]\ttrain-auc:0.926181\n",
      "[780]\ttrain-auc:0.926197\n",
      "[781]\ttrain-auc:0.926208\n",
      "[782]\ttrain-auc:0.926223\n",
      "[783]\ttrain-auc:0.926231\n",
      "[784]\ttrain-auc:0.926248\n",
      "[785]\ttrain-auc:0.926257\n",
      "[786]\ttrain-auc:0.926263\n",
      "[787]\ttrain-auc:0.926272\n",
      "[788]\ttrain-auc:0.926283\n",
      "[789]\ttrain-auc:0.926295\n",
      "[790]\ttrain-auc:0.926295\n",
      "[791]\ttrain-auc:0.926316\n",
      "[792]\ttrain-auc:0.926327\n",
      "[793]\ttrain-auc:0.926340\n",
      "[794]\ttrain-auc:0.926348\n",
      "[795]\ttrain-auc:0.926367\n",
      "[796]\ttrain-auc:0.926376\n",
      "[797]\ttrain-auc:0.926384\n",
      "[798]\ttrain-auc:0.926389\n",
      "[799]\ttrain-auc:0.926414\n",
      "[800]\ttrain-auc:0.926411\n",
      "[801]\ttrain-auc:0.926424\n",
      "[802]\ttrain-auc:0.926426\n",
      "[803]\ttrain-auc:0.926436\n",
      "[804]\ttrain-auc:0.926443\n",
      "[805]\ttrain-auc:0.926449\n",
      "[806]\ttrain-auc:0.926461\n",
      "[807]\ttrain-auc:0.926469\n",
      "[808]\ttrain-auc:0.926481\n",
      "[809]\ttrain-auc:0.926507\n",
      "[810]\ttrain-auc:0.926536\n",
      "[811]\ttrain-auc:0.926545\n",
      "[812]\ttrain-auc:0.926553\n",
      "[813]\ttrain-auc:0.926576\n",
      "[814]\ttrain-auc:0.926599\n",
      "[815]\ttrain-auc:0.926606\n",
      "[816]\ttrain-auc:0.926614\n",
      "[817]\ttrain-auc:0.926620\n",
      "[818]\ttrain-auc:0.926625\n",
      "[819]\ttrain-auc:0.926644\n",
      "[820]\ttrain-auc:0.926652\n",
      "[821]\ttrain-auc:0.926666\n",
      "[822]\ttrain-auc:0.926676\n",
      "[823]\ttrain-auc:0.926684\n",
      "[824]\ttrain-auc:0.926694\n",
      "[825]\ttrain-auc:0.926705\n",
      "[826]\ttrain-auc:0.926717\n",
      "[827]\ttrain-auc:0.926724\n",
      "[828]\ttrain-auc:0.926760\n",
      "[829]\ttrain-auc:0.926771\n",
      "[830]\ttrain-auc:0.926800\n",
      "[831]\ttrain-auc:0.926811\n",
      "[832]\ttrain-auc:0.926824\n",
      "[833]\ttrain-auc:0.926848\n",
      "[834]\ttrain-auc:0.926857\n",
      "[835]\ttrain-auc:0.926867\n",
      "[836]\ttrain-auc:0.926880\n",
      "[837]\ttrain-auc:0.926889\n",
      "[838]\ttrain-auc:0.926889\n",
      "[839]\ttrain-auc:0.926907\n",
      "[840]\ttrain-auc:0.926961\n",
      "[841]\ttrain-auc:0.926975\n",
      "[842]\ttrain-auc:0.926989\n",
      "[843]\ttrain-auc:0.926999\n",
      "[844]\ttrain-auc:0.927009\n",
      "[845]\ttrain-auc:0.927022\n",
      "[846]\ttrain-auc:0.927026\n",
      "[847]\ttrain-auc:0.927035\n",
      "[848]\ttrain-auc:0.927046\n",
      "[849]\ttrain-auc:0.927052\n",
      "[850]\ttrain-auc:0.927063\n",
      "[851]\ttrain-auc:0.927075\n",
      "[852]\ttrain-auc:0.927085\n",
      "[853]\ttrain-auc:0.927089\n",
      "[854]\ttrain-auc:0.927167\n",
      "[855]\ttrain-auc:0.927176\n",
      "[856]\ttrain-auc:0.927198\n",
      "[857]\ttrain-auc:0.927211\n",
      "[858]\ttrain-auc:0.927218\n",
      "[859]\ttrain-auc:0.927231\n",
      "[860]\ttrain-auc:0.927241\n",
      "[861]\ttrain-auc:0.927255\n",
      "[862]\ttrain-auc:0.927267\n",
      "[863]\ttrain-auc:0.927279\n",
      "[864]\ttrain-auc:0.927295\n",
      "[865]\ttrain-auc:0.927307\n",
      "[866]\ttrain-auc:0.927315\n",
      "[867]\ttrain-auc:0.927328\n",
      "[868]\ttrain-auc:0.927338\n",
      "[869]\ttrain-auc:0.927356\n",
      "[870]\ttrain-auc:0.927368\n",
      "[871]\ttrain-auc:0.927379\n",
      "[872]\ttrain-auc:0.927392\n",
      "[873]\ttrain-auc:0.927418\n",
      "[874]\ttrain-auc:0.927423\n",
      "[875]\ttrain-auc:0.927431\n",
      "[876]\ttrain-auc:0.927453\n",
      "[877]\ttrain-auc:0.927466\n",
      "[878]\ttrain-auc:0.927474\n",
      "[879]\ttrain-auc:0.927478\n",
      "[880]\ttrain-auc:0.927484\n",
      "[881]\ttrain-auc:0.927502\n",
      "[882]\ttrain-auc:0.927510\n",
      "[883]\ttrain-auc:0.927520\n",
      "[884]\ttrain-auc:0.927528\n",
      "[885]\ttrain-auc:0.927537\n",
      "[886]\ttrain-auc:0.927555\n",
      "[887]\ttrain-auc:0.927578\n",
      "[888]\ttrain-auc:0.927591\n",
      "[889]\ttrain-auc:0.927603\n",
      "[890]\ttrain-auc:0.927612\n",
      "[891]\ttrain-auc:0.927620\n",
      "[892]\ttrain-auc:0.927631\n",
      "[893]\ttrain-auc:0.927647\n",
      "[894]\ttrain-auc:0.927678\n",
      "[895]\ttrain-auc:0.927691\n",
      "[896]\ttrain-auc:0.927703\n",
      "[897]\ttrain-auc:0.927717\n",
      "[898]\ttrain-auc:0.927748\n",
      "[899]\ttrain-auc:0.927767\n",
      "[900]\ttrain-auc:0.927779\n",
      "[901]\ttrain-auc:0.927788\n",
      "[902]\ttrain-auc:0.927822\n",
      "[903]\ttrain-auc:0.927835\n",
      "[904]\ttrain-auc:0.927847\n",
      "[905]\ttrain-auc:0.927884\n",
      "[906]\ttrain-auc:0.928710\n",
      "[907]\ttrain-auc:0.928722\n",
      "[908]\ttrain-auc:0.928734\n",
      "[909]\ttrain-auc:0.928750\n",
      "[910]\ttrain-auc:0.928800\n",
      "[911]\ttrain-auc:0.928808\n",
      "[912]\ttrain-auc:0.928819\n",
      "[913]\ttrain-auc:0.928827\n",
      "[914]\ttrain-auc:0.928842\n",
      "[915]\ttrain-auc:0.928849\n",
      "[916]\ttrain-auc:0.928971\n",
      "[917]\ttrain-auc:0.928976\n",
      "[918]\ttrain-auc:0.929010\n",
      "[919]\ttrain-auc:0.929023\n",
      "[920]\ttrain-auc:0.929048\n",
      "[921]\ttrain-auc:0.929058\n",
      "[922]\ttrain-auc:0.929078\n",
      "[923]\ttrain-auc:0.929092\n",
      "[924]\ttrain-auc:0.929130\n",
      "[925]\ttrain-auc:0.929142\n",
      "[926]\ttrain-auc:0.929152\n",
      "[927]\ttrain-auc:0.929161\n",
      "[928]\ttrain-auc:0.929171\n",
      "[929]\ttrain-auc:0.929235\n",
      "[930]\ttrain-auc:0.929248\n",
      "[931]\ttrain-auc:0.929264\n",
      "[932]\ttrain-auc:0.929298\n",
      "[933]\ttrain-auc:0.929314\n",
      "[934]\ttrain-auc:0.929328\n",
      "[935]\ttrain-auc:0.929343\n",
      "[936]\ttrain-auc:0.929363\n",
      "[937]\ttrain-auc:0.929372\n",
      "[938]\ttrain-auc:0.929408\n",
      "[939]\ttrain-auc:0.929425\n",
      "[940]\ttrain-auc:0.929431\n",
      "[941]\ttrain-auc:0.929445\n",
      "[942]\ttrain-auc:0.929457\n",
      "[943]\ttrain-auc:0.929461\n",
      "[944]\ttrain-auc:0.929471\n",
      "[945]\ttrain-auc:0.929489\n",
      "[946]\ttrain-auc:0.929500\n",
      "[947]\ttrain-auc:0.929515\n",
      "[948]\ttrain-auc:0.929549\n",
      "[949]\ttrain-auc:0.929578\n",
      "[950]\ttrain-auc:0.929582\n",
      "[951]\ttrain-auc:0.929597\n",
      "[952]\ttrain-auc:0.929614\n",
      "[953]\ttrain-auc:0.929638\n",
      "[954]\ttrain-auc:0.929650\n",
      "[955]\ttrain-auc:0.929657\n",
      "[956]\ttrain-auc:0.929687\n",
      "[957]\ttrain-auc:0.929690\n",
      "[958]\ttrain-auc:0.929719\n",
      "[959]\ttrain-auc:0.929731\n",
      "[960]\ttrain-auc:0.929753\n",
      "[961]\ttrain-auc:0.929769\n",
      "[962]\ttrain-auc:0.929782\n",
      "[963]\ttrain-auc:0.929798\n",
      "[964]\ttrain-auc:0.929819\n",
      "[965]\ttrain-auc:0.929827\n",
      "[966]\ttrain-auc:0.929850\n",
      "[967]\ttrain-auc:0.929876\n",
      "[968]\ttrain-auc:0.929893\n",
      "[969]\ttrain-auc:0.929902\n",
      "[970]\ttrain-auc:0.929912\n",
      "[971]\ttrain-auc:0.929924\n",
      "[972]\ttrain-auc:0.929947\n",
      "[973]\ttrain-auc:0.929954\n",
      "[974]\ttrain-auc:0.929987\n",
      "[975]\ttrain-auc:0.930007\n",
      "[976]\ttrain-auc:0.930026\n",
      "[977]\ttrain-auc:0.930035\n",
      "[978]\ttrain-auc:0.930069\n",
      "[979]\ttrain-auc:0.930084\n",
      "[980]\ttrain-auc:0.930066\n",
      "[981]\ttrain-auc:0.930072\n",
      "[982]\ttrain-auc:0.930092\n",
      "[983]\ttrain-auc:0.930137\n",
      "[984]\ttrain-auc:0.930148\n",
      "[985]\ttrain-auc:0.930169\n",
      "[986]\ttrain-auc:0.930196\n",
      "[987]\ttrain-auc:0.930209\n",
      "[988]\ttrain-auc:0.930224\n",
      "[989]\ttrain-auc:0.930233\n",
      "[990]\ttrain-auc:0.930249\n",
      "[991]\ttrain-auc:0.930259\n",
      "[992]\ttrain-auc:0.930273\n",
      "[993]\ttrain-auc:0.930286\n",
      "[994]\ttrain-auc:0.930297\n",
      "[995]\ttrain-auc:0.930305\n",
      "[996]\ttrain-auc:0.930308\n",
      "[997]\ttrain-auc:0.930319\n",
      "[998]\ttrain-auc:0.930334\n",
      "[999]\ttrain-auc:0.930345\n"
     ]
    }
   ],
   "source": [
    "param <- list(\"objective\" = \"binary:logistic\",\n",
    "              \"max.depth\" = 10,\n",
    "              \"eta\" = 0.001,\n",
    "              \"eval.metric\" = \"auc\"\n",
    "#               \"scale_pos_weight\" = 1 - mean(y)\n",
    "              )\n",
    "\n",
    "gbdt <- xgboost(\n",
    "    params = param,\n",
    "    data = as.matrix(X.train),\n",
    "    label = y.train,\n",
    "    nround = 1000,\n",
    "    verbose = FALSE,\n",
    "    missing = NA\n",
    ")"
   ]
  },
  {
   "cell_type": "code",
   "execution_count": 382,
   "metadata": {
    "collapsed": false
   },
   "outputs": [
    {
     "data": {
      "text/html": [
       "0.925245799302918"
      ],
      "text/latex": [
       "0.925245799302918"
      ],
      "text/markdown": [
       "0.925245799302918"
      ],
      "text/plain": [
       "[1] 0.9252458"
      ]
     },
     "metadata": {},
     "output_type": "display_data"
    },
    {
     "data": {
      "text/html": [
       "0.933099812721093"
      ],
      "text/latex": [
       "0.933099812721093"
      ],
      "text/markdown": [
       "0.933099812721093"
      ],
      "text/plain": [
       "[1] 0.9330998"
      ]
     },
     "metadata": {},
     "output_type": "display_data"
    },
    {
     "data": {
      "text/html": [
       "0.647679847139017"
      ],
      "text/latex": [
       "0.647679847139017"
      ],
      "text/markdown": [
       "0.647679847139017"
      ],
      "text/plain": [
       "[1] 0.6476798"
      ]
     },
     "metadata": {},
     "output_type": "display_data"
    },
    {
     "data": {
      "text/html": [
       "0.694526208538239"
      ],
      "text/latex": [
       "0.694526208538239"
      ],
      "text/markdown": [
       "0.694526208538239"
      ],
      "text/plain": [
       "[1] 0.6945262"
      ]
     },
     "metadata": {},
     "output_type": "display_data"
    }
   ],
   "source": [
    "preds.holdout <- predict(gbdt,as.matrix(X.test), missing=NA)\n",
    "preds.overfit <- predict(gbdt,as.matrix(X.train), missing=NA)\n",
    "\n",
    "mean(round(preds.holdout) == y.test)\n",
    "mean(round(preds.overfit) == y.train)\n",
    "mattcc(round(preds.holdout),y.test)\n",
    "mattcc(round(preds.overfit),y.train)"
   ]
  },
  {
   "cell_type": "code",
   "execution_count": 251,
   "metadata": {
    "collapsed": false
   },
   "outputs": [
    {
     "data": {
      "text/html": [
       "<ol class=list-inline>\n",
       "\t<li>0</li>\n",
       "\t<li>0</li>\n",
       "\t<li>0</li>\n",
       "\t<li>0</li>\n",
       "\t<li>0</li>\n",
       "\t<li>0</li>\n",
       "</ol>\n"
      ],
      "text/latex": [
       "\\begin{enumerate*}\n",
       "\\item 0\n",
       "\\item 0\n",
       "\\item 0\n",
       "\\item 0\n",
       "\\item 0\n",
       "\\item 0\n",
       "\\end{enumerate*}\n"
      ],
      "text/markdown": [
       "1. 0\n",
       "2. 0\n",
       "3. 0\n",
       "4. 0\n",
       "5. 0\n",
       "6. 0\n",
       "\n",
       "\n"
      ],
      "text/plain": [
       "[1] 0 0 0 0 0 0"
      ]
     },
     "metadata": {},
     "output_type": "display_data"
    },
    {
     "data": {
      "text/html": [
       "<ol class=list-inline>\n",
       "\t<li>0</li>\n",
       "\t<li>0</li>\n",
       "\t<li>0</li>\n",
       "\t<li>0</li>\n",
       "\t<li>0</li>\n",
       "\t<li>0</li>\n",
       "</ol>\n"
      ],
      "text/latex": [
       "\\begin{enumerate*}\n",
       "\\item 0\n",
       "\\item 0\n",
       "\\item 0\n",
       "\\item 0\n",
       "\\item 0\n",
       "\\item 0\n",
       "\\end{enumerate*}\n"
      ],
      "text/markdown": [
       "1. 0\n",
       "2. 0\n",
       "3. 0\n",
       "4. 0\n",
       "5. 0\n",
       "6. 0\n",
       "\n",
       "\n"
      ],
      "text/plain": [
       "[1] 0 0 0 0 0 0"
      ]
     },
     "metadata": {},
     "output_type": "display_data"
    }
   ],
   "source": [
    "head(round(preds.holdout))\n",
    "head(round(y.test))"
   ]
  },
  {
   "cell_type": "code",
   "execution_count": 377,
   "metadata": {
    "collapsed": false
   },
   "outputs": [
    {
     "data": {
      "text/plain": [
       "\n",
       "Call:\n",
       "roc.default(response = y.test, predictor = preds.holdout)\n",
       "\n",
       "Data: preds.holdout in 16590 controls (y.test 0) < 2633 cases (y.test 1).\n",
       "Area under the curve: 0.9139"
      ]
     },
     "metadata": {},
     "output_type": "display_data"
    },
    {
     "data": {
      "image/png": "[encoded data removed]",
      "text/plain": [
       "plot without title"
      ]
     },
     "metadata": {},
     "output_type": "display_data"
    }
   ],
   "source": [
    "roc.motifs <- roc(y.test, preds.holdout)\n",
    "# ci.motifs <- ci(roc.motifs, of = \"se\", sp = seq(0, 1, 0.01))\n",
    "plot(roc.motifs)\n",
    "# plot(ci.motifs, type=\"shape\")"
   ]
  },
  {
   "cell_type": "code",
   "execution_count": 379,
   "metadata": {
    "collapsed": false
   },
   "outputs": [
    {
     "name": "stdout",
     "output_type": "stream",
     "text": [
      " num [1:19223] 0 0 0 0 0 0 0 0 0 0 ...\n",
      " num [1:19223] 0 0 0 0 0 0 0 0 0 0 ...\n"
     ]
    }
   ],
   "source": [
    "str(y.test)\n",
    "str(round(preds.holdout.nonames))"
   ]
  },
  {
   "cell_type": "code",
   "execution_count": 376,
   "metadata": {
    "collapsed": false
   },
   "outputs": [
    {
     "name": "stderr",
     "output_type": "stream",
     "text": [
      "Warning message in D1 * D2 * D3:\n",
      "“NAs produced by integer overflow”"
     ]
    },
    {
     "ename": "ERROR",
     "evalue": "Error in if (D == 0) {: missing value where TRUE/FALSE needed\n",
     "output_type": "error",
     "traceback": [
      "Error in if (D == 0) {: missing value where TRUE/FALSE needed\nTraceback:\n",
      "1. mattcc(y.test, round(preds.holdout.nonames))"
     ]
    }
   ],
   "source": [
    "preds.holdout.nonames <- preds.holdout\n",
    "names(preds.holdout.nonames) <- NULL\n",
    "\n",
    "mattcc(y.test,round(preds.holdout.nonames))"
   ]
  },
  {
   "cell_type": "code",
   "execution_count": 245,
   "metadata": {
    "collapsed": false
   },
   "outputs": [],
   "source": [
    "importance_matrix <- xgb.importance(colnames(X),model=gbdt)"
   ]
  },
  {
   "cell_type": "code",
   "execution_count": 246,
   "metadata": {
    "collapsed": false
   },
   "outputs": [
    {
     "data": {},
     "metadata": {},
     "output_type": "display_data"
    },
    {
     "data": {
      "image/png": "[encoded data removed]",
      "text/plain": [
       "plot without title"
      ]
     },
     "metadata": {},
     "output_type": "display_data"
    }
   ],
   "source": [
    "xgb.plot.importance(importance_matrix)"
   ]
  },
  {
   "cell_type": "markdown",
   "metadata": {},
   "source": [
    "## no TF class info"
   ]
  },
  {
   "cell_type": "code",
   "execution_count": 142,
   "metadata": {
    "collapsed": true
   },
   "outputs": [],
   "source": [
    "no.tf.class.cols <- !(colnames(X.train) %in% colnames(tf.motif.class.matrix))\n",
    "X.train.no.tf.class <- scale(X.train[,no.tf.class.cols])\n",
    "X.test.no.tf.class <- scale(X.test[,no.tf.class.cols])"
   ]
  },
  {
   "cell_type": "code",
   "execution_count": 140,
   "metadata": {
    "collapsed": false
   },
   "outputs": [
    {
     "name": "stdout",
     "output_type": "stream",
     "text": [
      "[0]\ttrain-auc:0.881774\n",
      "[1]\ttrain-auc:0.881855\n",
      "[2]\ttrain-auc:0.881808\n",
      "[3]\ttrain-auc:0.881842\n",
      "[4]\ttrain-auc:0.881786\n",
      "[5]\ttrain-auc:0.881795\n",
      "[6]\ttrain-auc:0.881763\n",
      "[7]\ttrain-auc:0.881751\n",
      "[8]\ttrain-auc:0.881715\n",
      "[9]\ttrain-auc:0.881698\n",
      "[10]\ttrain-auc:0.881676\n",
      "[11]\ttrain-auc:0.881681\n",
      "[12]\ttrain-auc:0.881667\n",
      "[13]\ttrain-auc:0.881670\n",
      "[14]\ttrain-auc:0.881654\n",
      "[15]\ttrain-auc:0.881747\n",
      "[16]\ttrain-auc:0.881754\n",
      "[17]\ttrain-auc:0.881792\n",
      "[18]\ttrain-auc:0.881797\n",
      "[19]\ttrain-auc:0.881809\n",
      "[20]\ttrain-auc:0.881866\n",
      "[21]\ttrain-auc:0.881874\n",
      "[22]\ttrain-auc:0.881890\n",
      "[23]\ttrain-auc:0.881892\n",
      "[24]\ttrain-auc:0.882134\n",
      "[25]\ttrain-auc:0.882122\n",
      "[26]\ttrain-auc:0.882193\n",
      "[27]\ttrain-auc:0.882190\n",
      "[28]\ttrain-auc:0.882213\n",
      "[29]\ttrain-auc:0.882271\n",
      "[30]\ttrain-auc:0.882282\n",
      "[31]\ttrain-auc:0.882302\n",
      "[32]\ttrain-auc:0.882368\n",
      "[33]\ttrain-auc:0.882364\n",
      "[34]\ttrain-auc:0.882385\n",
      "[35]\ttrain-auc:0.882393\n",
      "[36]\ttrain-auc:0.882428\n",
      "[37]\ttrain-auc:0.882488\n",
      "[38]\ttrain-auc:0.882502\n",
      "[39]\ttrain-auc:0.882521\n",
      "[40]\ttrain-auc:0.882541\n",
      "[41]\ttrain-auc:0.882548\n",
      "[42]\ttrain-auc:0.882591\n",
      "[43]\ttrain-auc:0.882580\n",
      "[44]\ttrain-auc:0.882596\n",
      "[45]\ttrain-auc:0.882626\n",
      "[46]\ttrain-auc:0.882635\n",
      "[47]\ttrain-auc:0.882655\n",
      "[48]\ttrain-auc:0.882671\n",
      "[49]\ttrain-auc:0.882678\n",
      "[50]\ttrain-auc:0.882680\n",
      "[51]\ttrain-auc:0.882769\n",
      "[52]\ttrain-auc:0.882775\n",
      "[53]\ttrain-auc:0.882801\n",
      "[54]\ttrain-auc:0.882804\n",
      "[55]\ttrain-auc:0.882824\n",
      "[56]\ttrain-auc:0.882850\n",
      "[57]\ttrain-auc:0.882845\n",
      "[58]\ttrain-auc:0.882873\n",
      "[59]\ttrain-auc:0.882988\n",
      "[60]\ttrain-auc:0.883020\n",
      "[61]\ttrain-auc:0.883127\n",
      "[62]\ttrain-auc:0.883195\n",
      "[63]\ttrain-auc:0.883204\n",
      "[64]\ttrain-auc:0.883272\n",
      "[65]\ttrain-auc:0.883279\n",
      "[66]\ttrain-auc:0.883387\n",
      "[67]\ttrain-auc:0.883452\n",
      "[68]\ttrain-auc:0.883448\n",
      "[69]\ttrain-auc:0.883496\n",
      "[70]\ttrain-auc:0.883469\n",
      "[71]\ttrain-auc:0.883553\n",
      "[72]\ttrain-auc:0.883546\n",
      "[73]\ttrain-auc:0.883573\n",
      "[74]\ttrain-auc:0.883591\n",
      "[75]\ttrain-auc:0.883609\n",
      "[76]\ttrain-auc:0.883623\n",
      "[77]\ttrain-auc:0.883654\n",
      "[78]\ttrain-auc:0.883666\n",
      "[79]\ttrain-auc:0.883677\n",
      "[80]\ttrain-auc:0.883731\n",
      "[81]\ttrain-auc:0.883791\n",
      "[82]\ttrain-auc:0.883846\n",
      "[83]\ttrain-auc:0.883881\n",
      "[84]\ttrain-auc:0.883903\n",
      "[85]\ttrain-auc:0.883949\n",
      "[86]\ttrain-auc:0.883986\n",
      "[87]\ttrain-auc:0.884012\n",
      "[88]\ttrain-auc:0.884031\n",
      "[89]\ttrain-auc:0.884058\n",
      "[90]\ttrain-auc:0.884142\n",
      "[91]\ttrain-auc:0.884170\n",
      "[92]\ttrain-auc:0.884171\n",
      "[93]\ttrain-auc:0.884218\n",
      "[94]\ttrain-auc:0.884250\n",
      "[95]\ttrain-auc:0.884277\n",
      "[96]\ttrain-auc:0.884302\n",
      "[97]\ttrain-auc:0.884318\n",
      "[98]\ttrain-auc:0.884319\n",
      "[99]\ttrain-auc:0.884333\n",
      "[100]\ttrain-auc:0.884344\n",
      "[101]\ttrain-auc:0.884371\n",
      "[102]\ttrain-auc:0.884459\n",
      "[103]\ttrain-auc:0.884481\n",
      "[104]\ttrain-auc:0.884521\n",
      "[105]\ttrain-auc:0.884533\n",
      "[106]\ttrain-auc:0.884540\n",
      "[107]\ttrain-auc:0.884568\n",
      "[108]\ttrain-auc:0.884586\n",
      "[109]\ttrain-auc:0.884654\n",
      "[110]\ttrain-auc:0.884650\n",
      "[111]\ttrain-auc:0.884666\n",
      "[112]\ttrain-auc:0.884686\n",
      "[113]\ttrain-auc:0.884692\n",
      "[114]\ttrain-auc:0.884718\n",
      "[115]\ttrain-auc:0.884734\n",
      "[116]\ttrain-auc:0.884770\n",
      "[117]\ttrain-auc:0.884776\n",
      "[118]\ttrain-auc:0.884791\n",
      "[119]\ttrain-auc:0.884835\n",
      "[120]\ttrain-auc:0.884845\n",
      "[121]\ttrain-auc:0.884872\n",
      "[122]\ttrain-auc:0.884872\n",
      "[123]\ttrain-auc:0.884917\n",
      "[124]\ttrain-auc:0.884935\n",
      "[125]\ttrain-auc:0.884938\n",
      "[126]\ttrain-auc:0.884943\n",
      "[127]\ttrain-auc:0.884960\n",
      "[128]\ttrain-auc:0.884994\n",
      "[129]\ttrain-auc:0.885005\n",
      "[130]\ttrain-auc:0.885020\n",
      "[131]\ttrain-auc:0.885069\n",
      "[132]\ttrain-auc:0.885087\n",
      "[133]\ttrain-auc:0.885131\n",
      "[134]\ttrain-auc:0.885129\n",
      "[135]\ttrain-auc:0.885196\n",
      "[136]\ttrain-auc:0.885184\n",
      "[137]\ttrain-auc:0.885212\n",
      "[138]\ttrain-auc:0.885264\n",
      "[139]\ttrain-auc:0.885266\n",
      "[140]\ttrain-auc:0.885307\n",
      "[141]\ttrain-auc:0.885381\n",
      "[142]\ttrain-auc:0.885418\n",
      "[143]\ttrain-auc:0.885428\n",
      "[144]\ttrain-auc:0.885450\n",
      "[145]\ttrain-auc:0.885450\n",
      "[146]\ttrain-auc:0.885469\n",
      "[147]\ttrain-auc:0.885484\n",
      "[148]\ttrain-auc:0.885491\n",
      "[149]\ttrain-auc:0.885535\n",
      "[150]\ttrain-auc:0.885545\n",
      "[151]\ttrain-auc:0.885586\n",
      "[152]\ttrain-auc:0.885602\n",
      "[153]\ttrain-auc:0.885619\n",
      "[154]\ttrain-auc:0.885639\n",
      "[155]\ttrain-auc:0.885651\n",
      "[156]\ttrain-auc:0.885663\n",
      "[157]\ttrain-auc:0.885707\n",
      "[158]\ttrain-auc:0.885734\n",
      "[159]\ttrain-auc:0.885738\n",
      "[160]\ttrain-auc:0.885748\n",
      "[161]\ttrain-auc:0.885778\n",
      "[162]\ttrain-auc:0.885777\n",
      "[163]\ttrain-auc:0.885806\n",
      "[164]\ttrain-auc:0.885810\n",
      "[165]\ttrain-auc:0.885813\n",
      "[166]\ttrain-auc:0.885829\n",
      "[167]\ttrain-auc:0.885829\n",
      "[168]\ttrain-auc:0.885869\n",
      "[169]\ttrain-auc:0.885888\n",
      "[170]\ttrain-auc:0.885920\n",
      "[171]\ttrain-auc:0.885936\n",
      "[172]\ttrain-auc:0.885961\n",
      "[173]\ttrain-auc:0.885971\n",
      "[174]\ttrain-auc:0.885995\n",
      "[175]\ttrain-auc:0.886015\n",
      "[176]\ttrain-auc:0.886017\n",
      "[177]\ttrain-auc:0.886043\n",
      "[178]\ttrain-auc:0.886039\n",
      "[179]\ttrain-auc:0.886040\n",
      "[180]\ttrain-auc:0.886042\n",
      "[181]\ttrain-auc:0.886118\n",
      "[182]\ttrain-auc:0.886129\n",
      "[183]\ttrain-auc:0.886166\n",
      "[184]\ttrain-auc:0.886166\n",
      "[185]\ttrain-auc:0.886195\n",
      "[186]\ttrain-auc:0.886182\n",
      "[187]\ttrain-auc:0.886202\n",
      "[188]\ttrain-auc:0.886237\n",
      "[189]\ttrain-auc:0.886275\n",
      "[190]\ttrain-auc:0.886280\n",
      "[191]\ttrain-auc:0.886300\n",
      "[192]\ttrain-auc:0.886329\n",
      "[193]\ttrain-auc:0.886325\n",
      "[194]\ttrain-auc:0.886361\n",
      "[195]\ttrain-auc:0.886378\n",
      "[196]\ttrain-auc:0.886377\n",
      "[197]\ttrain-auc:0.886404\n",
      "[198]\ttrain-auc:0.886423\n",
      "[199]\ttrain-auc:0.886434\n",
      "[200]\ttrain-auc:0.886461\n",
      "[201]\ttrain-auc:0.886479\n",
      "[202]\ttrain-auc:0.886492\n",
      "[203]\ttrain-auc:0.886493\n",
      "[204]\ttrain-auc:0.886521\n",
      "[205]\ttrain-auc:0.886542\n",
      "[206]\ttrain-auc:0.886571\n",
      "[207]\ttrain-auc:0.886580\n",
      "[208]\ttrain-auc:0.886614\n",
      "[209]\ttrain-auc:0.886616\n",
      "[210]\ttrain-auc:0.886654\n",
      "[211]\ttrain-auc:0.888077\n",
      "[212]\ttrain-auc:0.888123\n",
      "[213]\ttrain-auc:0.888152\n",
      "[214]\ttrain-auc:0.888163\n",
      "[215]\ttrain-auc:0.888204\n",
      "[216]\ttrain-auc:0.888237\n",
      "[217]\ttrain-auc:0.888241\n",
      "[218]\ttrain-auc:0.888272\n",
      "[219]\ttrain-auc:0.888280\n",
      "[220]\ttrain-auc:0.888316\n",
      "[221]\ttrain-auc:0.888330\n",
      "[222]\ttrain-auc:0.888364\n",
      "[223]\ttrain-auc:0.888381\n",
      "[224]\ttrain-auc:0.888412\n",
      "[225]\ttrain-auc:0.888780\n",
      "[226]\ttrain-auc:0.888799\n",
      "[227]\ttrain-auc:0.888820\n",
      "[228]\ttrain-auc:0.888795\n",
      "[229]\ttrain-auc:0.888892\n",
      "[230]\ttrain-auc:0.888930\n",
      "[231]\ttrain-auc:0.888951\n",
      "[232]\ttrain-auc:0.888981\n",
      "[233]\ttrain-auc:0.889011\n",
      "[234]\ttrain-auc:0.889146\n",
      "[235]\ttrain-auc:0.889212\n",
      "[236]\ttrain-auc:0.889254\n",
      "[237]\ttrain-auc:0.889271\n",
      "[238]\ttrain-auc:0.889328\n",
      "[239]\ttrain-auc:0.889357\n",
      "[240]\ttrain-auc:0.889373\n",
      "[241]\ttrain-auc:0.889398\n",
      "[242]\ttrain-auc:0.889429\n",
      "[243]\ttrain-auc:0.889435\n",
      "[244]\ttrain-auc:0.889498\n",
      "[245]\ttrain-auc:0.889540\n",
      "[246]\ttrain-auc:0.889569\n",
      "[247]\ttrain-auc:0.889589\n",
      "[248]\ttrain-auc:0.889608\n",
      "[249]\ttrain-auc:0.889627\n",
      "[250]\ttrain-auc:0.889651\n",
      "[251]\ttrain-auc:0.889693\n",
      "[252]\ttrain-auc:0.889725\n",
      "[253]\ttrain-auc:0.889750\n",
      "[254]\ttrain-auc:0.889766\n",
      "[255]\ttrain-auc:0.889788\n",
      "[256]\ttrain-auc:0.889819\n",
      "[257]\ttrain-auc:0.889858\n",
      "[258]\ttrain-auc:0.889869\n",
      "[259]\ttrain-auc:0.889973\n",
      "[260]\ttrain-auc:0.889996\n",
      "[261]\ttrain-auc:0.890027\n",
      "[262]\ttrain-auc:0.890051\n",
      "[263]\ttrain-auc:0.890067\n",
      "[264]\ttrain-auc:0.890084\n",
      "[265]\ttrain-auc:0.890107\n",
      "[266]\ttrain-auc:0.890123\n",
      "[267]\ttrain-auc:0.890128\n",
      "[268]\ttrain-auc:0.890169\n",
      "[269]\ttrain-auc:0.890182\n",
      "[270]\ttrain-auc:0.890204\n",
      "[271]\ttrain-auc:0.890218\n",
      "[272]\ttrain-auc:0.890229\n",
      "[273]\ttrain-auc:0.890253\n",
      "[274]\ttrain-auc:0.890257\n",
      "[275]\ttrain-auc:0.890296\n",
      "[276]\ttrain-auc:0.890315\n",
      "[277]\ttrain-auc:0.890326\n",
      "[278]\ttrain-auc:0.890328\n",
      "[279]\ttrain-auc:0.890363\n",
      "[280]\ttrain-auc:0.890372\n",
      "[281]\ttrain-auc:0.890404\n",
      "[282]\ttrain-auc:0.890430\n",
      "[283]\ttrain-auc:0.890439\n",
      "[284]\ttrain-auc:0.890460\n",
      "[285]\ttrain-auc:0.890481\n",
      "[286]\ttrain-auc:0.890492\n",
      "[287]\ttrain-auc:0.890525\n",
      "[288]\ttrain-auc:0.890519\n",
      "[289]\ttrain-auc:0.890524\n",
      "[290]\ttrain-auc:0.890544\n",
      "[291]\ttrain-auc:0.890575\n",
      "[292]\ttrain-auc:0.890596\n",
      "[293]\ttrain-auc:0.890608\n",
      "[294]\ttrain-auc:0.890615\n",
      "[295]\ttrain-auc:0.890630\n",
      "[296]\ttrain-auc:0.890654\n",
      "[297]\ttrain-auc:0.890666\n",
      "[298]\ttrain-auc:0.890693\n",
      "[299]\ttrain-auc:0.890718\n",
      "[300]\ttrain-auc:0.890742\n",
      "[301]\ttrain-auc:0.890750\n",
      "[302]\ttrain-auc:0.890768\n",
      "[303]\ttrain-auc:0.891005\n",
      "[304]\ttrain-auc:0.891023\n",
      "[305]\ttrain-auc:0.891046\n",
      "[306]\ttrain-auc:0.891064\n",
      "[307]\ttrain-auc:0.891061\n",
      "[308]\ttrain-auc:0.891071\n",
      "[309]\ttrain-auc:0.891123\n",
      "[310]\ttrain-auc:0.891149\n",
      "[311]\ttrain-auc:0.891153\n",
      "[312]\ttrain-auc:0.891166\n",
      "[313]\ttrain-auc:0.891216\n",
      "[314]\ttrain-auc:0.891195\n",
      "[315]\ttrain-auc:0.891213\n",
      "[316]\ttrain-auc:0.891221\n",
      "[317]\ttrain-auc:0.891240\n",
      "[318]\ttrain-auc:0.891337\n",
      "[319]\ttrain-auc:0.891302\n",
      "[320]\ttrain-auc:0.891313\n",
      "[321]\ttrain-auc:0.891328\n",
      "[322]\ttrain-auc:0.891404\n",
      "[323]\ttrain-auc:0.891364\n",
      "[324]\ttrain-auc:0.891377\n",
      "[325]\ttrain-auc:0.891390\n",
      "[326]\ttrain-auc:0.891393\n",
      "[327]\ttrain-auc:0.891414\n",
      "[328]\ttrain-auc:0.891426\n",
      "[329]\ttrain-auc:0.891438\n",
      "[330]\ttrain-auc:0.891446\n",
      "[331]\ttrain-auc:0.891460\n",
      "[332]\ttrain-auc:0.891503\n",
      "[333]\ttrain-auc:0.891516\n",
      "[334]\ttrain-auc:0.891525\n",
      "[335]\ttrain-auc:0.891543\n",
      "[336]\ttrain-auc:0.891563\n",
      "[337]\ttrain-auc:0.891570\n",
      "[338]\ttrain-auc:0.891585\n",
      "[339]\ttrain-auc:0.891594\n",
      "[340]\ttrain-auc:0.891604\n",
      "[341]\ttrain-auc:0.891652\n",
      "[342]\ttrain-auc:0.891662\n",
      "[343]\ttrain-auc:0.891674\n",
      "[344]\ttrain-auc:0.891674\n",
      "[345]\ttrain-auc:0.891706\n",
      "[346]\ttrain-auc:0.891721\n",
      "[347]\ttrain-auc:0.891766\n",
      "[348]\ttrain-auc:0.891785\n",
      "[349]\ttrain-auc:0.891778\n",
      "[350]\ttrain-auc:0.891791\n",
      "[351]\ttrain-auc:0.891826\n",
      "[352]\ttrain-auc:0.891842\n",
      "[353]\ttrain-auc:0.891869\n",
      "[354]\ttrain-auc:0.891886\n",
      "[355]\ttrain-auc:0.891905\n",
      "[356]\ttrain-auc:0.891912\n",
      "[357]\ttrain-auc:0.891939\n",
      "[358]\ttrain-auc:0.891959\n",
      "[359]\ttrain-auc:0.891977\n",
      "[360]\ttrain-auc:0.891979\n",
      "[361]\ttrain-auc:0.892006\n",
      "[362]\ttrain-auc:0.892017\n",
      "[363]\ttrain-auc:0.892006\n",
      "[364]\ttrain-auc:0.892061\n",
      "[365]\ttrain-auc:0.892062\n",
      "[366]\ttrain-auc:0.892100\n",
      "[367]\ttrain-auc:0.892204\n",
      "[368]\ttrain-auc:0.892210\n",
      "[369]\ttrain-auc:0.892231\n",
      "[370]\ttrain-auc:0.892257\n",
      "[371]\ttrain-auc:0.892263\n",
      "[372]\ttrain-auc:0.892283\n",
      "[373]\ttrain-auc:0.892314\n",
      "[374]\ttrain-auc:0.892333\n",
      "[375]\ttrain-auc:0.892339\n",
      "[376]\ttrain-auc:0.892382\n",
      "[377]\ttrain-auc:0.892386\n",
      "[378]\ttrain-auc:0.892419\n",
      "[379]\ttrain-auc:0.892418\n",
      "[380]\ttrain-auc:0.892446\n",
      "[381]\ttrain-auc:0.892453\n",
      "[382]\ttrain-auc:0.892469\n",
      "[383]\ttrain-auc:0.892481\n",
      "[384]\ttrain-auc:0.892500\n",
      "[385]\ttrain-auc:0.892519\n",
      "[386]\ttrain-auc:0.892547\n",
      "[387]\ttrain-auc:0.892538\n",
      "[388]\ttrain-auc:0.892547\n",
      "[389]\ttrain-auc:0.892551\n",
      "[390]\ttrain-auc:0.892574\n",
      "[391]\ttrain-auc:0.892592\n",
      "[392]\ttrain-auc:0.892620\n",
      "[393]\ttrain-auc:0.892659\n",
      "[394]\ttrain-auc:0.892668\n",
      "[395]\ttrain-auc:0.892691\n",
      "[396]\ttrain-auc:0.892719\n",
      "[397]\ttrain-auc:0.892748\n",
      "[398]\ttrain-auc:0.892773\n",
      "[399]\ttrain-auc:0.892784\n",
      "[400]\ttrain-auc:0.892796\n",
      "[401]\ttrain-auc:0.892805\n",
      "[402]\ttrain-auc:0.892821\n",
      "[403]\ttrain-auc:0.892831\n",
      "[404]\ttrain-auc:0.892847\n",
      "[405]\ttrain-auc:0.892856\n",
      "[406]\ttrain-auc:0.892888\n",
      "[407]\ttrain-auc:0.892907\n",
      "[408]\ttrain-auc:0.892921\n",
      "[409]\ttrain-auc:0.892929\n",
      "[410]\ttrain-auc:0.892948\n",
      "[411]\ttrain-auc:0.892971\n",
      "[412]\ttrain-auc:0.892974\n",
      "[413]\ttrain-auc:0.892983\n",
      "[414]\ttrain-auc:0.893025\n",
      "[415]\ttrain-auc:0.893060\n",
      "[416]\ttrain-auc:0.893071\n",
      "[417]\ttrain-auc:0.893102\n",
      "[418]\ttrain-auc:0.893114\n",
      "[419]\ttrain-auc:0.893124\n",
      "[420]\ttrain-auc:0.893150\n",
      "[421]\ttrain-auc:0.893169\n",
      "[422]\ttrain-auc:0.893097\n",
      "[423]\ttrain-auc:0.893111\n",
      "[424]\ttrain-auc:0.893137\n",
      "[425]\ttrain-auc:0.893154\n",
      "[426]\ttrain-auc:0.893174\n",
      "[427]\ttrain-auc:0.893193\n",
      "[428]\ttrain-auc:0.893210\n",
      "[429]\ttrain-auc:0.893225\n",
      "[430]\ttrain-auc:0.893255\n",
      "[431]\ttrain-auc:0.893272\n",
      "[432]\ttrain-auc:0.893283\n",
      "[433]\ttrain-auc:0.893308\n",
      "[434]\ttrain-auc:0.893322\n",
      "[435]\ttrain-auc:0.893342\n",
      "[436]\ttrain-auc:0.893355\n",
      "[437]\ttrain-auc:0.893377\n",
      "[438]\ttrain-auc:0.893395\n",
      "[439]\ttrain-auc:0.893427\n",
      "[440]\ttrain-auc:0.893438\n",
      "[441]\ttrain-auc:0.893464\n",
      "[442]\ttrain-auc:0.893474\n",
      "[443]\ttrain-auc:0.893479\n",
      "[444]\ttrain-auc:0.893505\n",
      "[445]\ttrain-auc:0.893512\n",
      "[446]\ttrain-auc:0.893526\n",
      "[447]\ttrain-auc:0.893531\n",
      "[448]\ttrain-auc:0.893552\n",
      "[449]\ttrain-auc:0.893567\n",
      "[450]\ttrain-auc:0.893590\n",
      "[451]\ttrain-auc:0.893598\n",
      "[452]\ttrain-auc:0.893562\n",
      "[453]\ttrain-auc:0.893573\n",
      "[454]\ttrain-auc:0.893579\n",
      "[455]\ttrain-auc:0.893606\n",
      "[456]\ttrain-auc:0.893612\n",
      "[457]\ttrain-auc:0.893631\n",
      "[458]\ttrain-auc:0.893647\n",
      "[459]\ttrain-auc:0.893667\n",
      "[460]\ttrain-auc:0.893679\n",
      "[461]\ttrain-auc:0.893711\n",
      "[462]\ttrain-auc:0.893719\n",
      "[463]\ttrain-auc:0.893753\n",
      "[464]\ttrain-auc:0.893764\n",
      "[465]\ttrain-auc:0.893775\n",
      "[466]\ttrain-auc:0.893800\n",
      "[467]\ttrain-auc:0.893813\n",
      "[468]\ttrain-auc:0.893863\n",
      "[469]\ttrain-auc:0.893874\n",
      "[470]\ttrain-auc:0.893893\n",
      "[471]\ttrain-auc:0.893902\n",
      "[472]\ttrain-auc:0.893919\n",
      "[473]\ttrain-auc:0.893934\n",
      "[474]\ttrain-auc:0.893955\n",
      "[475]\ttrain-auc:0.893991\n",
      "[476]\ttrain-auc:0.894008\n",
      "[477]\ttrain-auc:0.894022\n",
      "[478]\ttrain-auc:0.894038\n",
      "[479]\ttrain-auc:0.894054\n",
      "[480]\ttrain-auc:0.894068\n",
      "[481]\ttrain-auc:0.894078\n",
      "[482]\ttrain-auc:0.894095\n",
      "[483]\ttrain-auc:0.894112\n",
      "[484]\ttrain-auc:0.894127\n",
      "[485]\ttrain-auc:0.894137\n",
      "[486]\ttrain-auc:0.894150\n",
      "[487]\ttrain-auc:0.894188\n",
      "[488]\ttrain-auc:0.894201\n",
      "[489]\ttrain-auc:0.894217\n",
      "[490]\ttrain-auc:0.894233\n",
      "[491]\ttrain-auc:0.894250\n",
      "[492]\ttrain-auc:0.894279\n",
      "[493]\ttrain-auc:0.894289\n",
      "[494]\ttrain-auc:0.894307\n",
      "[495]\ttrain-auc:0.894314\n",
      "[496]\ttrain-auc:0.894336\n",
      "[497]\ttrain-auc:0.894344\n",
      "[498]\ttrain-auc:0.894368\n",
      "[499]\ttrain-auc:0.894381\n",
      "[500]\ttrain-auc:0.894398\n",
      "[501]\ttrain-auc:0.894400\n",
      "[502]\ttrain-auc:0.894417\n",
      "[503]\ttrain-auc:0.894431\n",
      "[504]\ttrain-auc:0.894444\n",
      "[505]\ttrain-auc:0.894460\n",
      "[506]\ttrain-auc:0.894475\n",
      "[507]\ttrain-auc:0.894486\n",
      "[508]\ttrain-auc:0.894500\n",
      "[509]\ttrain-auc:0.894507\n",
      "[510]\ttrain-auc:0.894515\n",
      "[511]\ttrain-auc:0.894529\n",
      "[512]\ttrain-auc:0.894539\n",
      "[513]\ttrain-auc:0.894542\n",
      "[514]\ttrain-auc:0.894559\n",
      "[515]\ttrain-auc:0.894560\n",
      "[516]\ttrain-auc:0.894598\n",
      "[517]\ttrain-auc:0.894610\n",
      "[518]\ttrain-auc:0.894621\n",
      "[519]\ttrain-auc:0.894627\n",
      "[520]\ttrain-auc:0.894643\n",
      "[521]\ttrain-auc:0.894665\n",
      "[522]\ttrain-auc:0.894677\n",
      "[523]\ttrain-auc:0.894700\n",
      "[524]\ttrain-auc:0.894772\n",
      "[525]\ttrain-auc:0.894791\n",
      "[526]\ttrain-auc:0.894804\n",
      "[527]\ttrain-auc:0.894826\n",
      "[528]\ttrain-auc:0.894833\n",
      "[529]\ttrain-auc:0.894836\n",
      "[530]\ttrain-auc:0.894865\n",
      "[531]\ttrain-auc:0.894880\n",
      "[532]\ttrain-auc:0.894894\n",
      "[533]\ttrain-auc:0.894922\n",
      "[534]\ttrain-auc:0.894930\n",
      "[535]\ttrain-auc:0.894951\n",
      "[536]\ttrain-auc:0.894965\n",
      "[537]\ttrain-auc:0.894980\n",
      "[538]\ttrain-auc:0.895017\n",
      "[539]\ttrain-auc:0.895046\n",
      "[540]\ttrain-auc:0.895054\n",
      "[541]\ttrain-auc:0.895074\n",
      "[542]\ttrain-auc:0.895092\n",
      "[543]\ttrain-auc:0.895110\n",
      "[544]\ttrain-auc:0.895162\n",
      "[545]\ttrain-auc:0.895188\n",
      "[546]\ttrain-auc:0.895218\n",
      "[547]\ttrain-auc:0.895248\n",
      "[548]\ttrain-auc:0.895272\n",
      "[549]\ttrain-auc:0.895303\n",
      "[550]\ttrain-auc:0.895321\n",
      "[551]\ttrain-auc:0.895346\n",
      "[552]\ttrain-auc:0.895366\n",
      "[553]\ttrain-auc:0.895397\n",
      "[554]\ttrain-auc:0.895417\n",
      "[555]\ttrain-auc:0.895435\n",
      "[556]\ttrain-auc:0.895458\n",
      "[557]\ttrain-auc:0.895484\n",
      "[558]\ttrain-auc:0.895505\n",
      "[559]\ttrain-auc:0.895525\n",
      "[560]\ttrain-auc:0.895571\n",
      "[561]\ttrain-auc:0.895587\n",
      "[562]\ttrain-auc:0.895609\n",
      "[563]\ttrain-auc:0.895634\n",
      "[564]\ttrain-auc:0.895658\n",
      "[565]\ttrain-auc:0.895672\n",
      "[566]\ttrain-auc:0.895695\n",
      "[567]\ttrain-auc:0.895711\n",
      "[568]\ttrain-auc:0.895739\n",
      "[569]\ttrain-auc:0.895763\n",
      "[570]\ttrain-auc:0.895776\n",
      "[571]\ttrain-auc:0.895791\n",
      "[572]\ttrain-auc:0.895812\n",
      "[573]\ttrain-auc:0.895828\n",
      "[574]\ttrain-auc:0.895939\n",
      "[575]\ttrain-auc:0.895889\n",
      "[576]\ttrain-auc:0.895977\n",
      "[577]\ttrain-auc:0.895999\n",
      "[578]\ttrain-auc:0.896025\n",
      "[579]\ttrain-auc:0.896044\n",
      "[580]\ttrain-auc:0.896061\n",
      "[581]\ttrain-auc:0.896082\n",
      "[582]\ttrain-auc:0.896099\n",
      "[583]\ttrain-auc:0.896120\n",
      "[584]\ttrain-auc:0.896140\n",
      "[585]\ttrain-auc:0.896155\n",
      "[586]\ttrain-auc:0.896168\n",
      "[587]\ttrain-auc:0.896187\n",
      "[588]\ttrain-auc:0.896208\n",
      "[589]\ttrain-auc:0.896229\n",
      "[590]\ttrain-auc:0.896247\n",
      "[591]\ttrain-auc:0.896263\n",
      "[592]\ttrain-auc:0.896280\n",
      "[593]\ttrain-auc:0.896301\n",
      "[594]\ttrain-auc:0.896320\n",
      "[595]\ttrain-auc:0.896339\n",
      "[596]\ttrain-auc:0.896359\n",
      "[597]\ttrain-auc:0.896375\n",
      "[598]\ttrain-auc:0.896396\n",
      "[599]\ttrain-auc:0.896396\n",
      "[600]\ttrain-auc:0.896426\n",
      "[601]\ttrain-auc:0.896458\n",
      "[602]\ttrain-auc:0.896472\n",
      "[603]\ttrain-auc:0.896493\n",
      "[604]\ttrain-auc:0.896516\n",
      "[605]\ttrain-auc:0.896524\n",
      "[606]\ttrain-auc:0.896539\n",
      "[607]\ttrain-auc:0.896567\n",
      "[608]\ttrain-auc:0.896581\n",
      "[609]\ttrain-auc:0.896605\n",
      "[610]\ttrain-auc:0.896616\n",
      "[611]\ttrain-auc:0.896632\n",
      "[612]\ttrain-auc:0.896646\n",
      "[613]\ttrain-auc:0.896671\n",
      "[614]\ttrain-auc:0.896680\n",
      "[615]\ttrain-auc:0.896690\n",
      "[616]\ttrain-auc:0.896707\n",
      "[617]\ttrain-auc:0.896716\n",
      "[618]\ttrain-auc:0.896732\n",
      "[619]\ttrain-auc:0.896761\n",
      "[620]\ttrain-auc:0.896784\n",
      "[621]\ttrain-auc:0.896793\n",
      "[622]\ttrain-auc:0.896814\n",
      "[623]\ttrain-auc:0.896830\n",
      "[624]\ttrain-auc:0.896845\n",
      "[625]\ttrain-auc:0.896859\n",
      "[626]\ttrain-auc:0.896874\n",
      "[627]\ttrain-auc:0.896883\n",
      "[628]\ttrain-auc:0.896904\n",
      "[629]\ttrain-auc:0.896913\n",
      "[630]\ttrain-auc:0.896920\n",
      "[631]\ttrain-auc:0.896946\n",
      "[632]\ttrain-auc:0.896967\n",
      "[633]\ttrain-auc:0.896983\n",
      "[634]\ttrain-auc:0.896991\n",
      "[635]\ttrain-auc:0.897003\n",
      "[636]\ttrain-auc:0.897014\n",
      "[637]\ttrain-auc:0.897029\n",
      "[638]\ttrain-auc:0.897053\n",
      "[639]\ttrain-auc:0.897060\n",
      "[640]\ttrain-auc:0.897068\n",
      "[641]\ttrain-auc:0.897102\n",
      "[642]\ttrain-auc:0.897110\n",
      "[643]\ttrain-auc:0.897125\n",
      "[644]\ttrain-auc:0.897138\n",
      "[645]\ttrain-auc:0.897160\n",
      "[646]\ttrain-auc:0.897169\n",
      "[647]\ttrain-auc:0.897181\n",
      "[648]\ttrain-auc:0.897199\n",
      "[649]\ttrain-auc:0.897208\n",
      "[650]\ttrain-auc:0.897221\n",
      "[651]\ttrain-auc:0.897246\n",
      "[652]\ttrain-auc:0.897254\n",
      "[653]\ttrain-auc:0.897271\n",
      "[654]\ttrain-auc:0.897286\n",
      "[655]\ttrain-auc:0.897308\n",
      "[656]\ttrain-auc:0.897324\n",
      "[657]\ttrain-auc:0.897341\n",
      "[658]\ttrain-auc:0.897361\n",
      "[659]\ttrain-auc:0.897374\n",
      "[660]\ttrain-auc:0.897393\n",
      "[661]\ttrain-auc:0.897402\n",
      "[662]\ttrain-auc:0.897482\n",
      "[663]\ttrain-auc:0.897492\n",
      "[664]\ttrain-auc:0.897515\n",
      "[665]\ttrain-auc:0.897528\n",
      "[666]\ttrain-auc:0.897538\n",
      "[667]\ttrain-auc:0.897547\n",
      "[668]\ttrain-auc:0.897581\n",
      "[669]\ttrain-auc:0.897596\n",
      "[670]\ttrain-auc:0.897607\n",
      "[671]\ttrain-auc:0.897621\n",
      "[672]\ttrain-auc:0.897654\n",
      "[673]\ttrain-auc:0.897694\n",
      "[674]\ttrain-auc:0.897703\n",
      "[675]\ttrain-auc:0.897716\n",
      "[676]\ttrain-auc:0.897724\n",
      "[677]\ttrain-auc:0.897748\n",
      "[678]\ttrain-auc:0.897757\n",
      "[679]\ttrain-auc:0.897796\n",
      "[680]\ttrain-auc:0.897801\n",
      "[681]\ttrain-auc:0.897823\n",
      "[682]\ttrain-auc:0.897840\n",
      "[683]\ttrain-auc:0.897849\n",
      "[684]\ttrain-auc:0.897859\n",
      "[685]\ttrain-auc:0.897970\n",
      "[686]\ttrain-auc:0.897979\n",
      "[687]\ttrain-auc:0.898001\n",
      "[688]\ttrain-auc:0.898004\n",
      "[689]\ttrain-auc:0.898052\n",
      "[690]\ttrain-auc:0.898063\n",
      "[691]\ttrain-auc:0.898093\n",
      "[692]\ttrain-auc:0.898098\n",
      "[693]\ttrain-auc:0.898116\n",
      "[694]\ttrain-auc:0.898160\n",
      "[695]\ttrain-auc:0.898159\n",
      "[696]\ttrain-auc:0.898211\n",
      "[697]\ttrain-auc:0.898259\n",
      "[698]\ttrain-auc:0.898285\n",
      "[699]\ttrain-auc:0.898311\n",
      "[700]\ttrain-auc:0.898332\n",
      "[701]\ttrain-auc:0.898341\n",
      "[702]\ttrain-auc:0.898350\n",
      "[703]\ttrain-auc:0.898363\n",
      "[704]\ttrain-auc:0.898393\n",
      "[705]\ttrain-auc:0.898399\n",
      "[706]\ttrain-auc:0.898417\n",
      "[707]\ttrain-auc:0.898453\n",
      "[708]\ttrain-auc:0.898471\n",
      "[709]\ttrain-auc:0.898507\n",
      "[710]\ttrain-auc:0.898526\n",
      "[711]\ttrain-auc:0.898537\n",
      "[712]\ttrain-auc:0.898551\n",
      "[713]\ttrain-auc:0.898584\n",
      "[714]\ttrain-auc:0.898631\n",
      "[715]\ttrain-auc:0.898639\n",
      "[716]\ttrain-auc:0.898646\n",
      "[717]\ttrain-auc:0.898679\n",
      "[718]\ttrain-auc:0.898690\n",
      "[719]\ttrain-auc:0.898710\n",
      "[720]\ttrain-auc:0.898727\n",
      "[721]\ttrain-auc:0.898737\n",
      "[722]\ttrain-auc:0.898757\n",
      "[723]\ttrain-auc:0.898766\n",
      "[724]\ttrain-auc:0.898785\n",
      "[725]\ttrain-auc:0.898796\n",
      "[726]\ttrain-auc:0.898830\n",
      "[727]\ttrain-auc:0.898839\n",
      "[728]\ttrain-auc:0.898843\n",
      "[729]\ttrain-auc:0.898863\n",
      "[730]\ttrain-auc:0.898885\n",
      "[731]\ttrain-auc:0.898904\n",
      "[732]\ttrain-auc:0.898906\n",
      "[733]\ttrain-auc:0.898933\n",
      "[734]\ttrain-auc:0.898941\n",
      "[735]\ttrain-auc:0.898983\n",
      "[736]\ttrain-auc:0.899030\n",
      "[737]\ttrain-auc:0.899015\n",
      "[738]\ttrain-auc:0.899026\n",
      "[739]\ttrain-auc:0.899063\n",
      "[740]\ttrain-auc:0.899083\n",
      "[741]\ttrain-auc:0.899092\n",
      "[742]\ttrain-auc:0.899116\n",
      "[743]\ttrain-auc:0.899120\n",
      "[744]\ttrain-auc:0.899131\n",
      "[745]\ttrain-auc:0.899147\n",
      "[746]\ttrain-auc:0.899165\n",
      "[747]\ttrain-auc:0.899189\n",
      "[748]\ttrain-auc:0.899198\n",
      "[749]\ttrain-auc:0.899208\n",
      "[750]\ttrain-auc:0.899210\n",
      "[751]\ttrain-auc:0.899235\n",
      "[752]\ttrain-auc:0.899248\n",
      "[753]\ttrain-auc:0.899265\n",
      "[754]\ttrain-auc:0.899281\n",
      "[755]\ttrain-auc:0.899284\n",
      "[756]\ttrain-auc:0.899346\n",
      "[757]\ttrain-auc:0.899366\n",
      "[758]\ttrain-auc:0.899388\n",
      "[759]\ttrain-auc:0.899415\n",
      "[760]\ttrain-auc:0.899423\n",
      "[761]\ttrain-auc:0.899430\n",
      "[762]\ttrain-auc:0.899453\n",
      "[763]\ttrain-auc:0.899461\n",
      "[764]\ttrain-auc:0.899469\n",
      "[765]\ttrain-auc:0.899481\n",
      "[766]\ttrain-auc:0.899506\n",
      "[767]\ttrain-auc:0.899524\n",
      "[768]\ttrain-auc:0.899556\n",
      "[769]\ttrain-auc:0.899571\n",
      "[770]\ttrain-auc:0.899578\n",
      "[771]\ttrain-auc:0.899615\n",
      "[772]\ttrain-auc:0.899629\n",
      "[773]\ttrain-auc:0.899647\n",
      "[774]\ttrain-auc:0.899652\n",
      "[775]\ttrain-auc:0.899706\n",
      "[776]\ttrain-auc:0.899728\n",
      "[777]\ttrain-auc:0.899766\n",
      "[778]\ttrain-auc:0.899776\n",
      "[779]\ttrain-auc:0.899787\n",
      "[780]\ttrain-auc:0.899805\n",
      "[781]\ttrain-auc:0.899806\n",
      "[782]\ttrain-auc:0.899852\n",
      "[783]\ttrain-auc:0.899869\n",
      "[784]\ttrain-auc:0.899893\n",
      "[785]\ttrain-auc:0.899897\n",
      "[786]\ttrain-auc:0.899912\n",
      "[787]\ttrain-auc:0.899935\n",
      "[788]\ttrain-auc:0.899963\n",
      "[789]\ttrain-auc:0.899976\n",
      "[790]\ttrain-auc:0.899990\n",
      "[791]\ttrain-auc:0.900008\n",
      "[792]\ttrain-auc:0.900030\n",
      "[793]\ttrain-auc:0.900042\n",
      "[794]\ttrain-auc:0.900098\n",
      "[795]\ttrain-auc:0.900115\n",
      "[796]\ttrain-auc:0.900143\n",
      "[797]\ttrain-auc:0.900183\n",
      "[798]\ttrain-auc:0.900179\n",
      "[799]\ttrain-auc:0.900216\n",
      "[800]\ttrain-auc:0.900234\n",
      "[801]\ttrain-auc:0.900243\n",
      "[802]\ttrain-auc:0.900254\n",
      "[803]\ttrain-auc:0.900278\n",
      "[804]\ttrain-auc:0.900292\n",
      "[805]\ttrain-auc:0.900299\n",
      "[806]\ttrain-auc:0.900313\n",
      "[807]\ttrain-auc:0.900322\n",
      "[808]\ttrain-auc:0.900345\n",
      "[809]\ttrain-auc:0.900359\n",
      "[810]\ttrain-auc:0.900377\n",
      "[811]\ttrain-auc:0.900388\n",
      "[812]\ttrain-auc:0.900409\n",
      "[813]\ttrain-auc:0.900417\n",
      "[814]\ttrain-auc:0.900460\n",
      "[815]\ttrain-auc:0.900474\n",
      "[816]\ttrain-auc:0.900483\n",
      "[817]\ttrain-auc:0.900497\n",
      "[818]\ttrain-auc:0.900527\n",
      "[819]\ttrain-auc:0.900535\n",
      "[820]\ttrain-auc:0.900553\n",
      "[821]\ttrain-auc:0.900574\n",
      "[822]\ttrain-auc:0.900589\n",
      "[823]\ttrain-auc:0.900602\n",
      "[824]\ttrain-auc:0.900617\n",
      "[825]\ttrain-auc:0.900638\n",
      "[826]\ttrain-auc:0.900663\n",
      "[827]\ttrain-auc:0.900694\n",
      "[828]\ttrain-auc:0.900710\n",
      "[829]\ttrain-auc:0.900718\n",
      "[830]\ttrain-auc:0.900732\n",
      "[831]\ttrain-auc:0.900759\n",
      "[832]\ttrain-auc:0.900772\n",
      "[833]\ttrain-auc:0.900786\n",
      "[834]\ttrain-auc:0.900808\n",
      "[835]\ttrain-auc:0.900818\n",
      "[836]\ttrain-auc:0.900838\n",
      "[837]\ttrain-auc:0.900865\n",
      "[838]\ttrain-auc:0.900877\n",
      "[839]\ttrain-auc:0.900897\n",
      "[840]\ttrain-auc:0.900913\n",
      "[841]\ttrain-auc:0.900921\n",
      "[842]\ttrain-auc:0.900941\n",
      "[843]\ttrain-auc:0.900962\n",
      "[844]\ttrain-auc:0.901010\n",
      "[845]\ttrain-auc:0.901013\n",
      "[846]\ttrain-auc:0.901024\n",
      "[847]\ttrain-auc:0.901038\n",
      "[848]\ttrain-auc:0.901046\n",
      "[849]\ttrain-auc:0.901062\n",
      "[850]\ttrain-auc:0.901090\n",
      "[851]\ttrain-auc:0.901098\n",
      "[852]\ttrain-auc:0.901106\n",
      "[853]\ttrain-auc:0.901119\n",
      "[854]\ttrain-auc:0.901158\n",
      "[855]\ttrain-auc:0.901170\n",
      "[856]\ttrain-auc:0.901191\n",
      "[857]\ttrain-auc:0.901203\n",
      "[858]\ttrain-auc:0.901227\n",
      "[859]\ttrain-auc:0.901244\n",
      "[860]\ttrain-auc:0.901260\n",
      "[861]\ttrain-auc:0.901273\n",
      "[862]\ttrain-auc:0.901301\n",
      "[863]\ttrain-auc:0.901309\n",
      "[864]\ttrain-auc:0.901328\n",
      "[865]\ttrain-auc:0.901347\n",
      "[866]\ttrain-auc:0.901362\n",
      "[867]\ttrain-auc:0.901379\n",
      "[868]\ttrain-auc:0.901394\n",
      "[869]\ttrain-auc:0.901406\n",
      "[870]\ttrain-auc:0.901421\n",
      "[871]\ttrain-auc:0.901446\n",
      "[872]\ttrain-auc:0.901461\n",
      "[873]\ttrain-auc:0.901479\n",
      "[874]\ttrain-auc:0.901496\n",
      "[875]\ttrain-auc:0.901508\n",
      "[876]\ttrain-auc:0.901533\n",
      "[877]\ttrain-auc:0.901542\n",
      "[878]\ttrain-auc:0.901557\n",
      "[879]\ttrain-auc:0.901570\n",
      "[880]\ttrain-auc:0.901584\n",
      "[881]\ttrain-auc:0.901615\n",
      "[882]\ttrain-auc:0.901635\n",
      "[883]\ttrain-auc:0.901657\n",
      "[884]\ttrain-auc:0.901682\n",
      "[885]\ttrain-auc:0.901684\n",
      "[886]\ttrain-auc:0.901702\n",
      "[887]\ttrain-auc:0.901731\n",
      "[888]\ttrain-auc:0.901750\n",
      "[889]\ttrain-auc:0.901778\n",
      "[890]\ttrain-auc:0.901784\n",
      "[891]\ttrain-auc:0.901798\n",
      "[892]\ttrain-auc:0.901815\n",
      "[893]\ttrain-auc:0.901829\n",
      "[894]\ttrain-auc:0.901830\n",
      "[895]\ttrain-auc:0.901843\n",
      "[896]\ttrain-auc:0.901861\n",
      "[897]\ttrain-auc:0.901876\n",
      "[898]\ttrain-auc:0.901888\n",
      "[899]\ttrain-auc:0.901914\n",
      "[900]\ttrain-auc:0.901926\n",
      "[901]\ttrain-auc:0.901937\n",
      "[902]\ttrain-auc:0.901964\n",
      "[903]\ttrain-auc:0.901985\n",
      "[904]\ttrain-auc:0.901989\n",
      "[905]\ttrain-auc:0.901999\n",
      "[906]\ttrain-auc:0.902017\n",
      "[907]\ttrain-auc:0.902071\n",
      "[908]\ttrain-auc:0.902093\n",
      "[909]\ttrain-auc:0.902108\n",
      "[910]\ttrain-auc:0.902119\n",
      "[911]\ttrain-auc:0.902131\n",
      "[912]\ttrain-auc:0.902147\n",
      "[913]\ttrain-auc:0.902171\n",
      "[914]\ttrain-auc:0.902183\n",
      "[915]\ttrain-auc:0.902197\n",
      "[916]\ttrain-auc:0.902217\n",
      "[917]\ttrain-auc:0.902239\n",
      "[918]\ttrain-auc:0.902263\n",
      "[919]\ttrain-auc:0.902273\n",
      "[920]\ttrain-auc:0.902291\n",
      "[921]\ttrain-auc:0.902298\n",
      "[922]\ttrain-auc:0.902310\n",
      "[923]\ttrain-auc:0.902333\n",
      "[924]\ttrain-auc:0.902847\n",
      "[925]\ttrain-auc:0.902865\n",
      "[926]\ttrain-auc:0.902897\n",
      "[927]\ttrain-auc:0.902895\n",
      "[928]\ttrain-auc:0.902955\n",
      "[929]\ttrain-auc:0.902967\n",
      "[930]\ttrain-auc:0.902985\n",
      "[931]\ttrain-auc:0.903008\n",
      "[932]\ttrain-auc:0.903021\n",
      "[933]\ttrain-auc:0.903032\n",
      "[934]\ttrain-auc:0.903048\n",
      "[935]\ttrain-auc:0.903059\n",
      "[936]\ttrain-auc:0.903072\n",
      "[937]\ttrain-auc:0.903093\n",
      "[938]\ttrain-auc:0.903107\n",
      "[939]\ttrain-auc:0.903122\n",
      "[940]\ttrain-auc:0.903139\n",
      "[941]\ttrain-auc:0.903152\n",
      "[942]\ttrain-auc:0.903173\n",
      "[943]\ttrain-auc:0.903185\n",
      "[944]\ttrain-auc:0.903204\n",
      "[945]\ttrain-auc:0.903213\n",
      "[946]\ttrain-auc:0.903223\n",
      "[947]\ttrain-auc:0.903244\n",
      "[948]\ttrain-auc:0.903257\n",
      "[949]\ttrain-auc:0.903265\n",
      "[950]\ttrain-auc:0.903283\n",
      "[951]\ttrain-auc:0.903298\n",
      "[952]\ttrain-auc:0.903307\n",
      "[953]\ttrain-auc:0.903258\n",
      "[954]\ttrain-auc:0.903271\n",
      "[955]\ttrain-auc:0.903297\n",
      "[956]\ttrain-auc:0.903318\n",
      "[957]\ttrain-auc:0.903340\n",
      "[958]\ttrain-auc:0.903366\n",
      "[959]\ttrain-auc:0.903383\n",
      "[960]\ttrain-auc:0.903397\n",
      "[961]\ttrain-auc:0.903414\n",
      "[962]\ttrain-auc:0.903432\n",
      "[963]\ttrain-auc:0.903527\n",
      "[964]\ttrain-auc:0.903548\n",
      "[965]\ttrain-auc:0.903571\n",
      "[966]\ttrain-auc:0.903592\n",
      "[967]\ttrain-auc:0.903612\n",
      "[968]\ttrain-auc:0.903623\n",
      "[969]\ttrain-auc:0.903646\n",
      "[970]\ttrain-auc:0.903663\n",
      "[971]\ttrain-auc:0.903683\n",
      "[972]\ttrain-auc:0.903712\n",
      "[973]\ttrain-auc:0.903732\n",
      "[974]\ttrain-auc:0.903760\n",
      "[975]\ttrain-auc:0.903775\n",
      "[976]\ttrain-auc:0.903806\n",
      "[977]\ttrain-auc:0.903821\n",
      "[978]\ttrain-auc:0.903839\n",
      "[979]\ttrain-auc:0.903863\n",
      "[980]\ttrain-auc:0.903882\n",
      "[981]\ttrain-auc:0.903902\n",
      "[982]\ttrain-auc:0.903919\n",
      "[983]\ttrain-auc:0.903934\n",
      "[984]\ttrain-auc:0.903955\n",
      "[985]\ttrain-auc:0.903972\n",
      "[986]\ttrain-auc:0.903986\n",
      "[987]\ttrain-auc:0.904000\n",
      "[988]\ttrain-auc:0.904016\n",
      "[989]\ttrain-auc:0.904033\n",
      "[990]\ttrain-auc:0.904050\n",
      "[991]\ttrain-auc:0.904067\n",
      "[992]\ttrain-auc:0.904093\n",
      "[993]\ttrain-auc:0.904104\n",
      "[994]\ttrain-auc:0.904127\n",
      "[995]\ttrain-auc:0.904147\n",
      "[996]\ttrain-auc:0.904188\n",
      "[997]\ttrain-auc:0.904208\n",
      "[998]\ttrain-auc:0.904224\n",
      "[999]\ttrain-auc:0.904238\n"
     ]
    }
   ],
   "source": [
    "param <- list(\"objective\" = \"binary:logistic\",\n",
    "              \"max.depth\" = 10,\n",
    "              \"eta\" = 0.001,\n",
    "              \"eval.metric\" = \"auc\"\n",
    "              )\n",
    "\n",
    "gbdt.no.tf.class <- xgboost(\n",
    "    params = param,\n",
    "    data = as.matrix(X.train.no.tf.class),\n",
    "    label = y.train,\n",
    "    nround = 1000,\n",
    "    verbose = FALSE,\n",
    "    missing = NA\n",
    ")"
   ]
  },
  {
   "cell_type": "code",
   "execution_count": 144,
   "metadata": {
    "collapsed": false
   },
   "outputs": [
    {
     "data": {
      "text/html": [
       "0.899547417156531"
      ],
      "text/latex": [
       "0.899547417156531"
      ],
      "text/markdown": [
       "0.899547417156531"
      ],
      "text/plain": [
       "[1] 0.8995474"
      ]
     },
     "metadata": {},
     "output_type": "display_data"
    },
    {
     "data": {
      "text/html": [
       "0.916608864534924"
      ],
      "text/latex": [
       "0.916608864534924"
      ],
      "text/markdown": [
       "0.916608864534924"
      ],
      "text/plain": [
       "[1] 0.9166089"
      ]
     },
     "metadata": {},
     "output_type": "display_data"
    }
   ],
   "source": [
    "preds.no.tf.class.holdout <- predict(gbdt,as.matrix(X.test.no.tf.class), missing=NA)\n",
    "preds.no.tf.class.overfit <- predict(gbdt,as.matrix(X.train.no.tf.class), missing=NA)\n",
    "\n",
    "mean(round(preds.no.tf.class.holdout) == y.test)\n",
    "mean(round(preds.no.tf.class.overfit) == y.train)"
   ]
  },
  {
   "cell_type": "code",
   "execution_count": 145,
   "metadata": {
    "collapsed": false
   },
   "outputs": [
    {
     "data": {
      "text/plain": [
       "\n",
       "Call:\n",
       "roc.default(response = y.test, predictor = preds.no.tf.class.holdout)\n",
       "\n",
       "Data: preds.no.tf.class.holdout in 16590 controls (y.test 0) < 2633 cases (y.test 1).\n",
       "Area under the curve: 0.8681"
      ]
     },
     "metadata": {},
     "output_type": "display_data"
    },
    {
     "data": {
      "image/png": "[encoded data removed]",
      "text/plain": [
       "plot without title"
      ]
     },
     "metadata": {},
     "output_type": "display_data"
    }
   ],
   "source": [
    "roc.motifs.no.tf.class <- roc(y.test, preds.no.tf.class.holdout)\n",
    "plot(roc.motifs.no.tf.class)"
   ]
  },
  {
   "cell_type": "code",
   "execution_count": 146,
   "metadata": {
    "collapsed": true
   },
   "outputs": [],
   "source": [
    "importance_matrix.no.tf.class <- xgb.importance(colnames(X.test.no.tf.class),model=gbdt.no.tf.class)"
   ]
  },
  {
   "cell_type": "code",
   "execution_count": 147,
   "metadata": {
    "collapsed": false
   },
   "outputs": [
    {
     "data": {},
     "metadata": {},
     "output_type": "display_data"
    },
    {
     "data": {
      "image/png": "[encoded data removed]",
      "text/plain": [
       "plot without title"
      ]
     },
     "metadata": {},
     "output_type": "display_data"
    }
   ],
   "source": [
    "xgb.plot.importance(importance_matrix.no.tf.class)"
   ]
  },
  {
   "cell_type": "markdown",
   "metadata": {},
   "source": [
    "## glmnet fit"
   ]
  },
  {
   "cell_type": "code",
   "execution_count": 312,
   "metadata": {
    "collapsed": false
   },
   "outputs": [],
   "source": [
    "# glmnet.cols <- !(colnames(X.train) %in% colnames(tf.motif.class.matrix))\n",
    "glmnet.cols <- c('score.h','score.w')\n",
    "X.train.glmnet <- scale(X.train[,glmnet.cols])"
   ]
  },
  {
   "cell_type": "code",
   "execution_count": 313,
   "metadata": {
    "collapsed": true
   },
   "outputs": [],
   "source": [
    "glmnet.fit.cv <- cv.glmnet(as.matrix(X.train.glmnet), y.train, \n",
    "                        alpha=0.0, family='binomial', type.measure='auc')"
   ]
  },
  {
   "cell_type": "code",
   "execution_count": 314,
   "metadata": {
    "collapsed": false
   },
   "outputs": [
    {
     "data": {
      "image/png": "[encoded data removed]",
      "text/plain": [
       "plot without title"
      ]
     },
     "metadata": {},
     "output_type": "display_data"
    }
   ],
   "source": [
    "plot(glmnet.fit.cv)"
   ]
  },
  {
   "cell_type": "code",
   "execution_count": 315,
   "metadata": {
    "collapsed": true
   },
   "outputs": [],
   "source": [
    "glmnet.fit = glmnet(as.matrix(X.train.glmnet), y.train, alpha = 0.0, family = 'binomial')"
   ]
  },
  {
   "cell_type": "code",
   "execution_count": 316,
   "metadata": {
    "collapsed": false
   },
   "outputs": [],
   "source": [
    "best.lambda.index <- match(glmnet.fit.cv$lambda.min, glmnet.fit.cv$lambda)"
   ]
  },
  {
   "cell_type": "code",
   "execution_count": 317,
   "metadata": {
    "collapsed": false
   },
   "outputs": [
    {
     "data": {
      "text/html": [
       "<dl class=dl-horizontal>\n",
       "\t<dt>(Intercept)</dt>\n",
       "\t\t<dd>-1.8165662340408</dd>\n",
       "\t<dt>score.h</dt>\n",
       "\t\t<dd>0.0250631472422942</dd>\n",
       "\t<dt>score.w</dt>\n",
       "\t\t<dd>0.0132302585236449</dd>\n",
       "</dl>\n"
      ],
      "text/latex": [
       "\\begin{description*}\n",
       "\\item[(Intercept)] -1.8165662340408\n",
       "\\item[score.h] 0.0250631472422942\n",
       "\\item[score.w] 0.0132302585236449\n",
       "\\end{description*}\n"
      ],
      "text/markdown": [
       "(Intercept)\n",
       ":   -1.8165662340408score.h\n",
       ":   0.0250631472422942score.w\n",
       ":   0.0132302585236449\n",
       "\n"
      ],
      "text/plain": [
       "(Intercept)     score.h     score.w \n",
       "-1.81656623  0.02506315  0.01323026 "
      ]
     },
     "metadata": {},
     "output_type": "display_data"
    }
   ],
   "source": [
    "coef(glmnet.fit)[,best.lambda.index]\n",
    "preds.glmnet <- predict(glmfit, as.matrix(X.test), type=\"response\")"
   ]
  },
  {
   "cell_type": "code",
   "execution_count": 318,
   "metadata": {
    "collapsed": false
   },
   "outputs": [
    {
     "data": {
      "text/plain": [
       "\n",
       "Call:\n",
       "roc.default(response = y.test, predictor = preds.glmnet[, best.lambda.index])\n",
       "\n",
       "Data: preds.glmnet[, best.lambda.index] in 16590 controls (y.test 0) < 2633 cases (y.test 1).\n",
       "Area under the curve: 0.8185"
      ]
     },
     "metadata": {},
     "output_type": "display_data"
    },
    {
     "data": {
      "image/png": "[encoded data removed]",
      "text/plain": [
       "plot without title"
      ]
     },
     "metadata": {},
     "output_type": "display_data"
    }
   ],
   "source": [
    "roc.glmnet <- roc(y.test, preds.glmnet[,best.lambda.index])\n",
    "plot(roc.glmnet)"
   ]
  },
  {
   "cell_type": "markdown",
   "metadata": {},
   "source": [
    "## REST"
   ]
  },
  {
   "cell_type": "code",
   "execution_count": null,
   "metadata": {
    "collapsed": true
   },
   "outputs": [],
   "source": [
    "# y <- as.numeric(ft.clean.corymotifs.tfclasses$csscore > 0)\n",
    "\n",
    "# cols.to.drop <- c(\"csscore\", \"csTF\", \"motif\", \"loc\", \"totalsamplecount\")\n",
    "# X <- ft.clean.corymotifs.tfclasses[,!(colnames(ft.clean.corymotifs.tfclasses) %in% cols.to.drop)]"
   ]
  },
  {
   "cell_type": "code",
   "execution_count": 341,
   "metadata": {
    "collapsed": false
   },
   "outputs": [
    {
     "data": {
      "text/html": [
       "198"
      ],
      "text/latex": [
       "198"
      ],
      "text/markdown": [
       "198"
      ],
      "text/plain": [
       "[1] 198"
      ]
     },
     "metadata": {},
     "output_type": "display_data"
    }
   ],
   "source": [
    "# ATF2.inds <- ft.clean.corymotifs.tfclasses$motif == \"MA0089.1\"\n",
    "REST.inds <- ft.clean.corymotifs.tfclasses$motif == \"MA0138.2\"\n",
    "# REST.inds <- ft.clean.corymotifs.tfclasses$motif == \"MA0014.2\"\n",
    "\n",
    "\n",
    "sum(REST.inds)"
   ]
  },
  {
   "cell_type": "code",
   "execution_count": 342,
   "metadata": {
    "collapsed": false
   },
   "outputs": [
    {
     "data": {
      "text/html": [
       "20"
      ],
      "text/latex": [
       "20"
      ],
      "text/markdown": [
       "20"
      ],
      "text/plain": [
       "[1] 20"
      ]
     },
     "metadata": {},
     "output_type": "display_data"
    }
   ],
   "source": [
    "y.REST <- y[REST.inds]\n",
    "X.REST <- X[REST.inds,]\n",
    "\n",
    "sum(y.REST)"
   ]
  },
  {
   "cell_type": "code",
   "execution_count": 343,
   "metadata": {
    "collapsed": true
   },
   "outputs": [],
   "source": [
    "train.inds.REST <- split_data(y.REST)\n",
    "\n",
    "X.train.REST <- X.REST[train.inds.REST,]\n",
    "X.test.REST <- X.REST[-train.inds.REST,]\n",
    "y.train.REST <- y.REST[train.inds.REST]\n",
    "y.test.REST <- y.REST[-train.inds.REST]"
   ]
  },
  {
   "cell_type": "code",
   "execution_count": 344,
   "metadata": {
    "collapsed": true
   },
   "outputs": [],
   "source": [
    "glmnet.cols <- !(colnames(X.train) %in% colnames(tf.motif.class.matrix))\n",
    "# glmnet.cols <- c('score.h','score.w')\n",
    "# glmnet.cols <- c('score.w', 'motifscore')\n",
    "\n",
    "\n",
    "X.train.REST.glmnet <- scale(X.train.REST[,glmnet.cols])\n",
    "X.test.REST.glmnet <- scale(X.test.REST[,glmnet.cols])"
   ]
  },
  {
   "cell_type": "code",
   "execution_count": 349,
   "metadata": {
    "collapsed": false
   },
   "outputs": [],
   "source": [
    "glmnet.fit.REST.cv <- cv.glmnet(as.matrix(X.train.REST.glmnet), y.train.REST, \n",
    "                        alpha=0.0, family='binomial', type.measure='auc')"
   ]
  },
  {
   "cell_type": "code",
   "execution_count": 350,
   "metadata": {
    "collapsed": false
   },
   "outputs": [
    {
     "data": {
      "image/png": "[encoded data removed]",
      "text/plain": [
       "plot without title"
      ]
     },
     "metadata": {},
     "output_type": "display_data"
    }
   ],
   "source": [
    "plot(glmnet.fit.REST.cv)"
   ]
  },
  {
   "cell_type": "code",
   "execution_count": 351,
   "metadata": {
    "collapsed": true
   },
   "outputs": [],
   "source": [
    "glmnet.fit.REST = glmnet(as.matrix(X.train.REST.glmnet), y.train.REST, alpha = 0.0, family = 'binomial')"
   ]
  },
  {
   "cell_type": "code",
   "execution_count": 352,
   "metadata": {
    "collapsed": true
   },
   "outputs": [],
   "source": [
    "best.lambda.index.REST <- match(glmnet.fit.REST.cv$lambda.min, glmnet.fit.REST.cv$lambda)"
   ]
  },
  {
   "cell_type": "code",
   "execution_count": 353,
   "metadata": {
    "collapsed": false
   },
   "outputs": [
    {
     "data": {
      "text/html": [
       "<dl class=dl-horizontal>\n",
       "\t<dt>(Intercept)</dt>\n",
       "\t\t<dd>-2.19657723756539</dd>\n",
       "\t<dt>samplecount.w</dt>\n",
       "\t\t<dd>-0.0482588501253469</dd>\n",
       "\t<dt>score.w</dt>\n",
       "\t\t<dd>-0.0482518032559103</dd>\n",
       "\t<dt>samplecount.h</dt>\n",
       "\t\t<dd>-0.00383958432543131</dd>\n",
       "\t<dt>score.h</dt>\n",
       "\t\t<dd>-0.0126952749976565</dd>\n",
       "\t<dt>motifscore</dt>\n",
       "\t\t<dd>0.0862611677630585</dd>\n",
       "\t<dt>motifpval</dt>\n",
       "\t\t<dd>-0.119714680714293</dd>\n",
       "</dl>\n"
      ],
      "text/latex": [
       "\\begin{description*}\n",
       "\\item[(Intercept)] -2.19657723756539\n",
       "\\item[samplecount.w] -0.0482588501253469\n",
       "\\item[score.w] -0.0482518032559103\n",
       "\\item[samplecount.h] -0.00383958432543131\n",
       "\\item[score.h] -0.0126952749976565\n",
       "\\item[motifscore] 0.0862611677630585\n",
       "\\item[motifpval] -0.119714680714293\n",
       "\\end{description*}\n"
      ],
      "text/markdown": [
       "(Intercept)\n",
       ":   -2.19657723756539samplecount.w\n",
       ":   -0.0482588501253469score.w\n",
       ":   -0.0482518032559103samplecount.h\n",
       ":   -0.00383958432543131score.h\n",
       ":   -0.0126952749976565motifscore\n",
       ":   0.0862611677630585motifpval\n",
       ":   -0.119714680714293\n",
       "\n"
      ],
      "text/plain": [
       "  (Intercept) samplecount.w       score.w samplecount.h       score.h \n",
       " -2.196577238  -0.048258850  -0.048251803  -0.003839584  -0.012695275 \n",
       "   motifscore     motifpval \n",
       "  0.086261168  -0.119714681 "
      ]
     },
     "metadata": {},
     "output_type": "display_data"
    }
   ],
   "source": [
    "coef(glmnet.fit.REST)[,best.lambda.index.REST]\n",
    "preds.glmnet.REST <- predict(glmnet.fit.REST, as.matrix(X.test.REST.glmnet), type=\"response\")"
   ]
  },
  {
   "cell_type": "code",
   "execution_count": 354,
   "metadata": {
    "collapsed": false
   },
   "outputs": [
    {
     "data": {
      "text/plain": [
       "\n",
       "Call:\n",
       "roc.default(response = y.test.REST, predictor = preds.glmnet.REST[,     best.lambda.index.REST])\n",
       "\n",
       "Data: preds.glmnet.REST[, best.lambda.index.REST] in 45 controls (y.test.REST 0) > 5 cases (y.test.REST 1).\n",
       "Area under the curve: 0.6889"
      ]
     },
     "metadata": {},
     "output_type": "display_data"
    },
    {
     "data": {
      "image/png": "[encoded data removed]",
      "text/plain": [
       "plot without title"
      ]
     },
     "metadata": {},
     "output_type": "display_data"
    }
   ],
   "source": [
    "roc.glmnet.REST <- roc(y.test.REST, preds.glmnet.REST[,best.lambda.index.REST])\n",
    "plot(roc.glmnet.REST)"
   ]
  },
  {
   "cell_type": "code",
   "execution_count": 375,
   "metadata": {
    "collapsed": false
   },
   "outputs": [
    {
     "data": {
      "text/html": [
       "0"
      ],
      "text/latex": [
       "0"
      ],
      "text/markdown": [
       "0"
      ],
      "text/plain": [
       "[1] 0"
      ]
     },
     "metadata": {},
     "output_type": "display_data"
    }
   ],
   "source": [
    "preds.glmnet.REST.nonames <- preds.glmnet.REST[,best.lambda.index.REST]\n",
    "names(preds.glmnet.REST.nonames) <- NULL\n",
    "\n",
    "mattcc(y.test.REST,round(preds.glmnet.REST.nonames))"
   ]
  },
  {
   "cell_type": "markdown",
   "metadata": {},
   "source": [
    "## classify iris data using three different base learners"
   ]
  },
  {
   "cell_type": "code",
   "execution_count": 33,
   "metadata": {
    "collapsed": true
   },
   "outputs": [],
   "source": [
    "data(iris)"
   ]
  },
  {
   "cell_type": "code",
   "execution_count": 34,
   "metadata": {
    "collapsed": false
   },
   "outputs": [],
   "source": [
    "df_nosetosa <- iris[iris$Species != \"setosa\",]\n",
    "df_nosetosa$Species <- factor(df_nosetosa$Species)\n",
    "rownames(df_nosetosa) <- NULL\n",
    "X <- df_nosetosa[,-c(5)]\n",
    "y <- as.numeric(df_nosetosa[,c(5)]) - 1\n",
    "\n",
    "traintest_inds <- split_data(y,p=0.75)\n",
    "X_traintest <- X[c(traintest_inds),]\n",
    "y_traintest <- y[traintest_inds]\n",
    "X_holdout <- X[-traintest_inds,]\n",
    "y_holdout <- y[-traintest_inds]\n",
    "\n",
    "df_nosetosa_train <- df_nosetosa[traintest_inds,]\n",
    "df_nosetosa_test <- df_nosetosa[-traintest_inds,]"
   ]
  },
  {
   "cell_type": "code",
   "execution_count": 35,
   "metadata": {
    "collapsed": true
   },
   "outputs": [],
   "source": [
    "glm_sl <- glm(Species ~ Sepal.Length, data=df_nosetosa_train, family=binomial)\n",
    "glm_sw <- glm(Species ~ Sepal.Width, data=df_nosetosa_train, family=binomial)\n",
    "glm_pl <- glm(Species ~ Petal.Length, data=df_nosetosa_train, family=binomial)"
   ]
  },
  {
   "cell_type": "markdown",
   "metadata": {},
   "source": [
    "### training accuracy for each base learner"
   ]
  },
  {
   "cell_type": "code",
   "execution_count": 36,
   "metadata": {
    "collapsed": false
   },
   "outputs": [
    {
     "data": {
      "text/html": [
       "0.72"
      ],
      "text/latex": [
       "0.72"
      ],
      "text/markdown": [
       "0.72"
      ],
      "text/plain": [
       "[1] 0.72"
      ]
     },
     "metadata": {},
     "output_type": "display_data"
    },
    {
     "data": {
      "text/html": [
       "0.546666666666667"
      ],
      "text/latex": [
       "0.546666666666667"
      ],
      "text/markdown": [
       "0.546666666666667"
      ],
      "text/plain": [
       "[1] 0.5466667"
      ]
     },
     "metadata": {},
     "output_type": "display_data"
    },
    {
     "data": {
      "text/html": [
       "0.92"
      ],
      "text/latex": [
       "0.92"
      ],
      "text/markdown": [
       "0.92"
      ],
      "text/plain": [
       "[1] 0.92"
      ]
     },
     "metadata": {},
     "output_type": "display_data"
    }
   ],
   "source": [
    "mean(round(glm_sl$fitted.values) == y_traintest)\n",
    "mean(round(glm_sw$fitted.values) == y_traintest)\n",
    "mean(round(glm_pl$fitted.values) == y_traintest)"
   ]
  },
  {
   "cell_type": "markdown",
   "metadata": {},
   "source": [
    "### construct meta-features using the predictions of the three base learners"
   ]
  },
  {
   "cell_type": "code",
   "execution_count": 37,
   "metadata": {
    "collapsed": false
   },
   "outputs": [],
   "source": [
    "df_meta <- data.frame(\"sl.score\"=glm_sl$fitted.values,\n",
    "                      \"sw.score\"=glm_sw$fitted.values,\n",
    "                      \"pl.score\"=glm_pl$fitted.values)"
   ]
  },
  {
   "cell_type": "markdown",
   "metadata": {},
   "source": [
    "### majority vote isn't that great when some of the voters are significantly worse than others"
   ]
  },
  {
   "cell_type": "code",
   "execution_count": 38,
   "metadata": {
    "collapsed": false
   },
   "outputs": [
    {
     "data": {
      "text/html": [
       "0.773333333333333"
      ],
      "text/latex": [
       "0.773333333333333"
      ],
      "text/markdown": [
       "0.773333333333333"
      ],
      "text/plain": [
       "[1] 0.7733333"
      ]
     },
     "metadata": {},
     "output_type": "display_data"
    }
   ],
   "source": [
    "mean(round(rowMeans(round(df_meta),1)) == y_traintest)"
   ]
  },
  {
   "cell_type": "markdown",
   "metadata": {},
   "source": [
    "## instead, learn a decision tree in a meta-feature space\n",
    "meta features are the scores from the base learners"
   ]
  },
  {
   "cell_type": "code",
   "execution_count": 39,
   "metadata": {
    "collapsed": false
   },
   "outputs": [],
   "source": [
    "param <- list(\"objective\" = \"binary:logistic\",\n",
    "              \"max.depth\" = 2,\n",
    "              \"eta\" = 0.25\n",
    "              )\n",
    "\n",
    "gbdt <- xgboost(\n",
    "    params = param,\n",
    "    data = as.matrix(df_meta),\n",
    "    label = as.numeric(y_traintest),\n",
    "    nround = 10,\n",
    "    verbose = FALSE,\n",
    "    missing=NA\n",
    ")"
   ]
  },
  {
   "cell_type": "markdown",
   "metadata": {},
   "source": [
    "### training accuracy of the meta-classifier "
   ]
  },
  {
   "cell_type": "code",
   "execution_count": 40,
   "metadata": {
    "collapsed": false
   },
   "outputs": [
    {
     "data": {
      "text/html": [
       "0.933333333333333"
      ],
      "text/latex": [
       "0.933333333333333"
      ],
      "text/markdown": [
       "0.933333333333333"
      ],
      "text/plain": [
       "[1] 0.9333333"
      ]
     },
     "metadata": {},
     "output_type": "display_data"
    }
   ],
   "source": [
    "preds_overfit <- predict(gbdt,as.matrix(df_meta), missing=NA)\n",
    "mean(round(preds_overfit) == y_traintest)"
   ]
  },
  {
   "cell_type": "markdown",
   "metadata": {},
   "source": [
    "### test accuracies of the base learners"
   ]
  },
  {
   "cell_type": "code",
   "execution_count": 18,
   "metadata": {
    "collapsed": false
   },
   "outputs": [
    {
     "data": {
      "text/html": [
       "0.6"
      ],
      "text/latex": [
       "0.6"
      ],
      "text/markdown": [
       "0.6"
      ],
      "text/plain": [
       "[1] 0.6"
      ]
     },
     "metadata": {},
     "output_type": "display_data"
    },
    {
     "data": {
      "text/html": [
       "0.48"
      ],
      "text/latex": [
       "0.48"
      ],
      "text/markdown": [
       "0.48"
      ],
      "text/plain": [
       "[1] 0.48"
      ]
     },
     "metadata": {},
     "output_type": "display_data"
    },
    {
     "data": {
      "text/html": [
       "0.88"
      ],
      "text/latex": [
       "0.88"
      ],
      "text/markdown": [
       "0.88"
      ],
      "text/plain": [
       "[1] 0.88"
      ]
     },
     "metadata": {},
     "output_type": "display_data"
    }
   ],
   "source": [
    "preds_holdout_sl <- predict.glm(object = glm_sl, newdata = df_nosetosa_test, type = \"response\")\n",
    "preds_holdout_sw <- predict.glm(object = glm_sw, newdata = df_nosetosa_test, type = \"response\")\n",
    "preds_holdout_pl <- predict.glm(object = glm_pl, newdata = df_nosetosa_test, type = \"response\")\n",
    "\n",
    "mean(round(preds_holdout_sl) == y_holdout)\n",
    "mean(round(preds_holdout_sw) == y_holdout)\n",
    "mean(round(preds_holdout_pl) == y_holdout)\n",
    "\n",
    "df_meta_test <- data.frame(\"sl.score\"=preds_holdout_sl,\n",
    "                           \"sw.score\"=preds_holdout_sw,\n",
    "                           \"pl.score\"=preds_holdout_pl)"
   ]
  },
  {
   "cell_type": "markdown",
   "metadata": {},
   "source": [
    "### test accuracy of the meta-classifier"
   ]
  },
  {
   "cell_type": "code",
   "execution_count": 19,
   "metadata": {
    "collapsed": false
   },
   "outputs": [
    {
     "data": {
      "text/html": [
       "0.88"
      ],
      "text/latex": [
       "0.88"
      ],
      "text/markdown": [
       "0.88"
      ],
      "text/plain": [
       "[1] 0.88"
      ]
     },
     "metadata": {},
     "output_type": "display_data"
    }
   ],
   "source": [
    "preds_holdout <- predict(gbdt,as.matrix(df_meta_test), missing=NA)\n",
    "mean(round(preds_holdout) == y_holdout)"
   ]
  },
  {
   "cell_type": "markdown",
   "metadata": {
    "collapsed": true
   },
   "source": [
    "# ROC curves"
   ]
  },
  {
   "cell_type": "code",
   "execution_count": 25,
   "metadata": {
    "collapsed": true
   },
   "outputs": [],
   "source": [
    "data(aSAH)"
   ]
  },
  {
   "cell_type": "code",
   "execution_count": 27,
   "metadata": {
    "collapsed": false
   },
   "outputs": [],
   "source": [
    "rocs100 <- roc(aSAH$outcome, aSAH$s100, percent = TRUE, partial.auc=c(100, 90))\n",
    "rocwfns <- roc(aSAH$outcome, aSAH$wfns, percent = TRUE, partial.auc=c(100, 90))"
   ]
  },
  {
   "cell_type": "code",
   "execution_count": 28,
   "metadata": {
    "collapsed": true
   },
   "outputs": [],
   "source": [
    "cis100 <- ci(rocs100, of = \"se\", sp = seq(0, 100, 5), boot.n=10000)\n",
    "ciwfns <- ci(rocwfns, of = \"threshold\", threshold=4.5, boot.n=10000)"
   ]
  },
  {
   "cell_type": "code",
   "execution_count": 29,
   "metadata": {
    "collapsed": true
   },
   "outputs": [],
   "source": [
    "rtest <- roc.test(rocs100, rocwfns, boot.n=10000)"
   ]
  },
  {
   "cell_type": "code",
   "execution_count": 30,
   "metadata": {
    "collapsed": false
   },
   "outputs": [
    {
     "data": {
      "text/plain": [
       "\n",
       "Call:\n",
       "roc.default(response = aSAH$outcome, predictor = aSAH$s100, percent = TRUE,     partial.auc = c(100, 90))\n",
       "\n",
       "Data: aSAH$s100 in 72 controls (aSAH$outcome Good) < 41 cases (aSAH$outcome Poor).\n",
       "Partial area under the curve (specificity 100%-90%): 3.276%"
      ]
     },
     "metadata": {},
     "output_type": "display_data"
    },
    {
     "data": {
      "text/plain": [
       "\n",
       "Call:\n",
       "roc.default(response = aSAH$outcome, predictor = aSAH$wfns, percent = TRUE,     partial.auc = c(100, 90))\n",
       "\n",
       "Data: aSAH$wfns in 72 controls (aSAH$outcome Good) < 41 cases (aSAH$outcome Poor).\n",
       "Partial area under the curve (specificity 100%-90%): 3.344%"
      ]
     },
     "metadata": {},
     "output_type": "display_data"
    },
    {
     "data": {
      "image/png": "[encoded data removed]",
      "text/plain": [
       "plot without title"
      ]
     },
     "metadata": {},
     "output_type": "display_data"
    }
   ],
   "source": [
    "# png(\"demo.png\")\n",
    "plot(rocs100, col=\"#008600\", max.auc.polygon=TRUE, print.auc=TRUE, print.auc.y=48)\n",
    "plot(rocwfns, col=\"#1c61b6\", add=TRUE, print.auc=TRUE, print.auc.y=42)\n",
    "plot(cis100, type=\"shape\", col=\"#00860022\", no.roc=TRUE)\n",
    "plot(ciwfns, type=\"bars\", lwd=1.5)\n",
    "text(18, 45, sprintf(\"p = %.1f\", rtest$p.value), adj=c(0,1))\n",
    "lines(c(20, 20), c(39, 48), lwd=1.5)\n",
    "# dev.off()"
   ]
  },
  {
   "cell_type": "code",
   "execution_count": 54,
   "metadata": {
    "collapsed": false
   },
   "outputs": [],
   "source": [
    "roc_iris <- roc(y_holdout, preds_holdout)\n",
    "ci_iris <- ci(roc_iris, of = \"se\", sp = seq(0, 1, 0.01))"
   ]
  },
  {
   "cell_type": "code",
   "execution_count": 55,
   "metadata": {
    "collapsed": false
   },
   "outputs": [
    {
     "data": {
      "text/plain": [
       "\n",
       "Call:\n",
       "roc.default(response = y_holdout, predictor = preds_holdout)\n",
       "\n",
       "Data: preds_holdout in 13 controls (y_holdout 0) < 12 cases (y_holdout 1).\n",
       "Area under the curve: 0.9071"
      ]
     },
     "metadata": {},
     "output_type": "display_data"
    },
    {
     "data": {
      "image/png": "[encoded data removed]",
      "text/plain": [
       "plot without title"
      ]
     },
     "metadata": {},
     "output_type": "display_data"
    }
   ],
   "source": [
    "plot(roc_iris)\n",
    "plot(ci_iris, type=\"shape\")"
   ]
  },
  {
   "cell_type": "code",
   "execution_count": 247,
   "metadata": {
    "collapsed": true
   },
   "outputs": [],
   "source": []
  },
  {
   "cell_type": "code",
   "execution_count": 133,
   "metadata": {
    "collapsed": false
   },
   "outputs": [
    {
     "data": {
      "text/html": [
       "0.600012487382542"
      ],
      "text/latex": [
       "0.600012487382542"
      ],
      "text/markdown": [
       "0.600012487382542"
      ],
      "text/plain": [
       "[1] 0.6000125"
      ]
     },
     "metadata": {},
     "output_type": "display_data"
    }
   ],
   "source": [
    "mattcc(y_holdout, round(preds_holdout))"
   ]
  },
  {
   "cell_type": "code",
   "execution_count": 134,
   "metadata": {
    "collapsed": false
   },
   "outputs": [
    {
     "data": {
      "text/html": [
       "0.869293697631841"
      ],
      "text/latex": [
       "0.869293697631841"
      ],
      "text/markdown": [
       "0.869293697631841"
      ],
      "text/plain": [
       "[1] 0.8692937"
      ]
     },
     "metadata": {},
     "output_type": "display_data"
    }
   ],
   "source": [
    "mattcc(y_traintest,round(preds_overfit))"
   ]
  },
  {
   "cell_type": "code",
   "execution_count": null,
   "metadata": {
    "collapsed": true
   },
   "outputs": [],
   "source": []
  }
 ],
 "metadata": {
  "anaconda-cloud": {},
  "kernelspec": {
   "display_name": "R",
   "language": "R",
   "name": "ir"
  },
  "language_info": {
   "codemirror_mode": "r",
   "file_extension": ".r",
   "mimetype": "text/x-r-source",
   "name": "R",
   "pygments_lexer": "r",
   "version": "3.3.1"
  }
 },
 "nbformat": 4,
 "nbformat_minor": 0
}
