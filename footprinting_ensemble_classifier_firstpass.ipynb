{
 "cells": [
  {
   "cell_type": "markdown",
   "metadata": {},
   "source": [
    "# using gradient boosted decision trees as a meta-classifier"
   ]
  },
  {
   "cell_type": "code",
   "execution_count": 2,
   "metadata": {
    "collapsed": false
   },
   "outputs": [
    {
     "data": {
      "text/html": [
       "<ol class=list-inline>\n",
       "\t<li>'stringr'</li>\n",
       "\t<li>'pROC'</li>\n",
       "\t<li>'tidyr'</li>\n",
       "\t<li>'dplyr'</li>\n",
       "\t<li>'glmnet'</li>\n",
       "\t<li>'foreach'</li>\n",
       "\t<li>'Matrix'</li>\n",
       "\t<li>'xgboost'</li>\n",
       "\t<li>'ggplot2'</li>\n",
       "\t<li>'RColorBrewer'</li>\n",
       "\t<li>'stats'</li>\n",
       "\t<li>'graphics'</li>\n",
       "\t<li>'grDevices'</li>\n",
       "\t<li>'utils'</li>\n",
       "\t<li>'datasets'</li>\n",
       "\t<li>'methods'</li>\n",
       "\t<li>'base'</li>\n",
       "</ol>\n"
      ],
      "text/latex": [
       "\\begin{enumerate*}\n",
       "\\item 'stringr'\n",
       "\\item 'pROC'\n",
       "\\item 'tidyr'\n",
       "\\item 'dplyr'\n",
       "\\item 'glmnet'\n",
       "\\item 'foreach'\n",
       "\\item 'Matrix'\n",
       "\\item 'xgboost'\n",
       "\\item 'ggplot2'\n",
       "\\item 'RColorBrewer'\n",
       "\\item 'stats'\n",
       "\\item 'graphics'\n",
       "\\item 'grDevices'\n",
       "\\item 'utils'\n",
       "\\item 'datasets'\n",
       "\\item 'methods'\n",
       "\\item 'base'\n",
       "\\end{enumerate*}\n"
      ],
      "text/markdown": [
       "1. 'stringr'\n",
       "2. 'pROC'\n",
       "3. 'tidyr'\n",
       "4. 'dplyr'\n",
       "5. 'glmnet'\n",
       "6. 'foreach'\n",
       "7. 'Matrix'\n",
       "8. 'xgboost'\n",
       "9. 'ggplot2'\n",
       "10. 'RColorBrewer'\n",
       "11. 'stats'\n",
       "12. 'graphics'\n",
       "13. 'grDevices'\n",
       "14. 'utils'\n",
       "15. 'datasets'\n",
       "16. 'methods'\n",
       "17. 'base'\n",
       "\n",
       "\n"
      ],
      "text/plain": [
       " [1] \"stringr\"      \"pROC\"         \"tidyr\"        \"dplyr\"        \"glmnet\"      \n",
       " [6] \"foreach\"      \"Matrix\"       \"xgboost\"      \"ggplot2\"      \"RColorBrewer\"\n",
       "[11] \"stats\"        \"graphics\"     \"grDevices\"    \"utils\"        \"datasets\"    \n",
       "[16] \"methods\"      \"base\"        "
      ]
     },
     "metadata": {},
     "output_type": "display_data"
    }
   ],
   "source": [
    "libs <- c(\n",
    "    'RColorBrewer',\n",
    "    'ggplot2',\n",
    "    'xgboost',\n",
    "    'glmnet',\n",
    "    'dplyr',\n",
    "    'tidyr',\n",
    "    'pROC',\n",
    "    'stringr'\n",
    ")\n",
    "\n",
    "for (lib in libs) {\n",
    "        if (!require(lib, character.only = TRUE, quietly = TRUE)) {\n",
    "            install.packages(lib, repos='http://cran.us.r-project.org')\n",
    "        }\n",
    "}\n",
    "\n",
    "(.packages())"
   ]
  },
  {
   "cell_type": "code",
   "execution_count": 3,
   "metadata": {
    "collapsed": true
   },
   "outputs": [],
   "source": [
    "split_data <- function(outcomes,p=0.75) {\n",
    "    n <- length(outcomes)\n",
    "    s <- floor(p*n)\n",
    "    sample_inds <- sample(seq_len(n), size = s)\n",
    "    return(sample_inds)\n",
    "}"
   ]
  },
  {
   "cell_type": "markdown",
   "metadata": {},
   "source": [
    "## Load data"
   ]
  },
  {
   "cell_type": "code",
   "execution_count": 4,
   "metadata": {
    "collapsed": false
   },
   "outputs": [],
   "source": [
    "# paul's data frame\n",
    "\n",
    "tableName <- \"ftClean.Fri.Sep.30.2016-18:02:21.RData\"\n",
    "directory <- \"~/git-repos/BDDS/trenadb/featureTable/lymphoblast\"\n",
    "fullPath <- file.path(directory, tableName)\n",
    "stopifnot(file.exists(fullPath))\n",
    "load(fullPath)\n",
    "\n",
    "# cory's motif to tf-class mapping\n",
    "tf.fams.file <- \"/local/Cory/for_Paul/motif_class_fam\"\n",
    "tf.fams.table <- read.delim(tf.fams.file, stringsAsFactors=FALSE)"
   ]
  },
  {
   "cell_type": "code",
   "execution_count": 5,
   "metadata": {
    "collapsed": false
   },
   "outputs": [
    {
     "name": "stdout",
     "output_type": "stream",
     "text": [
      "'data.frame':\t96825 obs. of  11 variables:\n",
      " $ loc             : chr  \"chr19:42000006-42000014\" \"chr19:42000007-42000019\" \"chr19:42000008-42000019\" \"chr19:42000009-42000018\" ...\n",
      " $ motif           : chr  \"MA0738.1\" \"MA0872.1\" \"LMO2.p2\" \"MA0522.2\" ...\n",
      " $ samplecount.w   : num  0 0 0 0 0 0 0 0 0 0 ...\n",
      " $ score.w         : num  -99 -99 -99 -99 -99 -99 -99 -99 -99 -99 ...\n",
      " $ samplecount.h   : num  1 1 1 1 1 1 1 1 1 1 ...\n",
      " $ score.h         : num  16 16 16 16 16 16 16 16 16 16 ...\n",
      " $ csTF            : chr  NA NA NA NA ...\n",
      " $ csscore         : num  0 0 0 0 0 0 0 0 0 0 ...\n",
      " $ motifscore      : num  11.2 10.2 10.3 12.2 11.7 ...\n",
      " $ motifpval       : num  6.51e-05 7.15e-05 5.84e-05 7.11e-05 5.93e-05 5.65e-05 6.02e-05 2.92e-05 6.78e-05 8.34e-05 ...\n",
      " $ totalsamplecount: num  18 18 18 18 18 18 18 18 18 18 ...\n"
     ]
    }
   ],
   "source": [
    "str(ft.clean)"
   ]
  },
  {
   "cell_type": "code",
   "execution_count": 6,
   "metadata": {
    "collapsed": false
   },
   "outputs": [
    {
     "name": "stdout",
     "output_type": "stream",
     "text": [
      "'data.frame':\t96825 obs. of  11 variables:\n",
      " $ loc             : chr  \"chr19:42000006-42000014\" \"chr19:42000007-42000019\" \"chr19:42000008-42000019\" \"chr19:42000009-42000018\" ...\n",
      " $ motif           : chr  \"MA0738.1\" \"MA0872.1\" \"LMO2.p2\" \"MA0522.2\" ...\n",
      " $ samplecount.w   : num  0 0 0 0 0 0 0 0 0 0 ...\n",
      " $ score.w         : num  -99 -99 -99 -99 -99 -99 -99 -99 -99 -99 ...\n",
      " $ samplecount.h   : num  1 1 1 1 1 1 1 1 1 1 ...\n",
      " $ score.h         : num  16 16 16 16 16 16 16 16 16 16 ...\n",
      " $ csTF            : chr  NA NA NA NA ...\n",
      " $ csscore         : num  0 0 0 0 0 0 0 0 0 0 ...\n",
      " $ motifscore      : num  11.2 10.2 10.3 12.2 11.7 ...\n",
      " $ motifpval       : num  6.51e-05 7.15e-05 5.84e-05 7.11e-05 5.93e-05 5.65e-05 6.02e-05 2.92e-05 6.78e-05 8.34e-05 ...\n",
      " $ totalsamplecount: num  18 18 18 18 18 18 18 18 18 18 ...\n"
     ]
    }
   ],
   "source": [
    "str(ft.clean)"
   ]
  },
  {
   "cell_type": "code",
   "execution_count": 7,
   "metadata": {
    "collapsed": false
   },
   "outputs": [
    {
     "name": "stdout",
     "output_type": "stream",
     "text": [
      "'data.frame':\t519 obs. of  3 variables:\n",
      " $ ID    : chr  \"MA0151.1 \" \"MA0601.1 \" \"MA0602.1 \" \"MA0004.1 \" ...\n",
      " $ class : chr  \"ARID domain factors \" \"ARID domain factors \" \"ARID domain factors \" \"Basic helix-loop-helix factors (bHLH) \" ...\n",
      " $ family: chr  \"ARID-related factors \" \"ARID-related factors \" \"ARID-related factors \" \"PAS domain factors \" ...\n"
     ]
    }
   ],
   "source": [
    "str(tf.fams.table)"
   ]
  },
  {
   "cell_type": "markdown",
   "metadata": {},
   "source": [
    "## add tf classes as features"
   ]
  },
  {
   "cell_type": "code",
   "execution_count": 8,
   "metadata": {
    "collapsed": false
   },
   "outputs": [
    {
     "data": {
      "text/html": [
       "510"
      ],
      "text/latex": [
       "510"
      ],
      "text/markdown": [
       "510"
      ],
      "text/plain": [
       "[1] 510"
      ]
     },
     "metadata": {},
     "output_type": "display_data"
    }
   ],
   "source": [
    "# check overlap of motif names from cory and paul\n",
    "\n",
    "motif.names.from.cory <- str_replace_all(string=tf.fams.table$ID, pattern=\"[[:space:]]\", repl=\"\")\n",
    "motif.names.from.paul <- unique(ft.clean$motif)\n",
    "\n",
    "# motifs not occurring from sample data\n",
    "from.cory.not.in.paul <- motif.names.from.cory[!(motif.names.from.cory %in% motif.names.from.paul)]\n",
    "\n",
    "# motifs not mapped in cory's table\n",
    "from.paul.not.in.cory <- motif.names.from.paul[!(motif.names.from.paul %in% motif.names.from.cory)]\n",
    "\n",
    "# number of motifs that i'll use\n",
    "from.paul.in.cory <- sort(motif.names.from.paul[(motif.names.from.paul %in% motif.names.from.cory)])\n",
    "length(from.paul.in.cory)"
   ]
  },
  {
   "cell_type": "code",
   "execution_count": 9,
   "metadata": {
    "collapsed": false
   },
   "outputs": [
    {
     "name": "stdout",
     "output_type": "stream",
     "text": [
      "'data.frame':\t76891 obs. of  11 variables:\n",
      " $ loc             : chr  \"chr19:42000006-42000014\" \"chr19:42000007-42000019\" \"chr19:42000009-42000018\" \"chr19:42000009-42000018\" ...\n",
      " $ motif           : chr  \"MA0738.1\" \"MA0872.1\" \"MA0522.2\" \"MA0820.1\" ...\n",
      " $ samplecount.w   : num  0 0 0 0 0 0 0 0 0 0 ...\n",
      " $ score.w         : num  -99 -99 -99 -99 -99 -99 -99 -99 -99 -99 ...\n",
      " $ samplecount.h   : num  1 1 1 1 1 1 1 1 1 1 ...\n",
      " $ score.h         : num  16 16 16 16 16 16 16 16 16 16 ...\n",
      " $ csTF            : chr  NA NA NA NA ...\n",
      " $ csscore         : num  0 0 0 0 0 0 0 0 0 0 ...\n",
      " $ motifscore      : num  11.2 10.2 12.2 11.7 12.6 ...\n",
      " $ motifpval       : num  6.51e-05 7.15e-05 7.11e-05 5.93e-05 5.65e-05 2.92e-05 6.78e-05 8.34e-05 2.67e-05 5.65e-05 ...\n",
      " $ totalsamplecount: num  18 18 18 18 18 18 18 18 18 18 ...\n"
     ]
    }
   ],
   "source": [
    "# filter out the motifs in pauls' table that cory doesn' have tf classes for\n",
    "\n",
    "ft.clean.corymotifs <- ft.clean %>% filter(motif %in% from.paul.in.cory)\n",
    "str(ft.clean.corymotifs)"
   ]
  },
  {
   "cell_type": "code",
   "execution_count": 10,
   "metadata": {
    "collapsed": false
   },
   "outputs": [
    {
     "data": {
      "text/html": [
       "30"
      ],
      "text/latex": [
       "30"
      ],
      "text/markdown": [
       "30"
      ],
      "text/plain": [
       "[1] 30"
      ]
     },
     "metadata": {},
     "output_type": "display_data"
    }
   ],
   "source": [
    "# find unique tf class names from cory's list\n",
    "\n",
    "class.names.nospaces <- str_replace_all(string=tf.fams.table$class, pattern=\"[[:space:]]\", repl=\"\")\n",
    "unique.class.names.nospaces <- unique(class.names.nospaces)\n",
    "double.entry.classes <- grep('::', unique.class.names.nospaces, value=TRUE)\n",
    "dedoubled.classes <- unique(unlist(strsplit(double.entry.classes,'::')))\n",
    "\n",
    "class.names.nospaces.minus.doubles <- unique.class.names.nospaces[!(unique.class.names.nospaces %in% double.entry.classes)]\n",
    "class.names.final <- sort(unique(c(class.names.nospaces.minus.doubles,dedoubled.classes)))\n",
    "length(class.names.final)"
   ]
  },
  {
   "cell_type": "code",
   "execution_count": 11,
   "metadata": {
    "collapsed": false
   },
   "outputs": [],
   "source": [
    "# cory's map: arrange so grepping on class column will yeild matches from paul's names\n",
    "\n",
    "tf.fams.table.renamed <- tf.fams.table\n",
    "tf.fams.table.renamed$ID <- str_replace_all(string=tf.fams.table.renamed$ID, pattern=\"[[:space:]]\", repl=\"\")\n",
    "tf.fams.table.renamed <- tf.fams.table.renamed %>% filter(ID %in% from.paul.in.cory)\n",
    "rownames(tf.fams.table.renamed) <- tf.fams.table.renamed$ID\n",
    "tf.class.foreach.motif <- tf.fams.table.renamed[,-c(1)]\n",
    "\n",
    "tf.class.foreach.motif$class <- str_replace_all(string=tf.class.foreach.motif$class, pattern=\"[[:space:]]\", repl=\"\")"
   ]
  },
  {
   "cell_type": "code",
   "execution_count": 12,
   "metadata": {
    "collapsed": false
   },
   "outputs": [],
   "source": [
    "# make sparse class / tf feature matrix map\n",
    "# all zeros to start, fill in ones below\n",
    "tf.motif.class.matrix <- matrix(0L, nrow = length(from.paul.in.cory), ncol = length(class.names.final))\n",
    "rownames(tf.motif.class.matrix) <- from.paul.in.cory\n",
    "colnames(tf.motif.class.matrix) <- class.names.final\n",
    "\n",
    "# loop through tfs and classes to fill in ones where there is a match\n",
    "\n",
    "for (tf.name in rownames(tf.motif.class.matrix)) {\n",
    "    for (class.name in colnames(tf.motif.class.matrix)) {\n",
    "        class.to.check <- tf.class.foreach.motif[tf.name,'class']\n",
    "        classes.match <- any(grep(class.name, class.to.check, value=FALSE, fixed=TRUE))\n",
    "        if (classes.match == 1) {\n",
    "            tf.motif.class.matrix[tf.name,class.name] <- 1\n",
    "        }\n",
    "    }\n",
    "    \n",
    "}"
   ]
  },
  {
   "cell_type": "code",
   "execution_count": 13,
   "metadata": {
    "collapsed": false
   },
   "outputs": [
    {
     "data": {
      "text/html": [
       "510"
      ],
      "text/latex": [
       "510"
      ],
      "text/markdown": [
       "510"
      ],
      "text/plain": [
       "[1] 510"
      ]
     },
     "metadata": {},
     "output_type": "display_data"
    },
    {
     "data": {
      "text/html": [
       "513"
      ],
      "text/latex": [
       "513"
      ],
      "text/markdown": [
       "513"
      ],
      "text/plain": [
       "[1] 513"
      ]
     },
     "metadata": {},
     "output_type": "display_data"
    },
    {
     "data": {
      "text/html": [],
      "text/latex": [],
      "text/markdown": [],
      "text/plain": [
       "character(0)"
      ]
     },
     "metadata": {},
     "output_type": "display_data"
    }
   ],
   "source": [
    "# number of motifs with extra entries is small:\n",
    "dim(tf.motif.class.matrix)[1]\n",
    "sum(tf.motif.class.matrix)\n",
    "\n",
    "# check to see if any motifs didn't match\n",
    "rownames(tf.motif.class.matrix)[rowSums(tf.motif.class.matrix) == 0]"
   ]
  },
  {
   "cell_type": "code",
   "execution_count": 14,
   "metadata": {
    "collapsed": false
   },
   "outputs": [
    {
     "data": {
      "text/html": [
       "<dl class=dl-horizontal>\n",
       "\t<dt>ARIDdomainfactors</dt>\n",
       "\t\t<dd>2</dd>\n",
       "\t<dt>Basichelix-loop-helixfactors(bHLH)</dt>\n",
       "\t\t<dd>62</dd>\n",
       "\t<dt>Basichelix-span-helixfactors(bHSH)</dt>\n",
       "\t\t<dd>9</dd>\n",
       "\t<dt>Basicleucinezipperfactors(bZIP)</dt>\n",
       "\t\t<dd>43</dd>\n",
       "\t<dt>C2CHTHAP-typezincfingerfactors</dt>\n",
       "\t\t<dd>1</dd>\n",
       "\t<dt>C2H2zincfingerfactors</dt>\n",
       "\t\t<dd>56</dd>\n",
       "\t<dt>CRCdomain</dt>\n",
       "\t\t<dd>1</dd>\n",
       "\t<dt>DM-typeintertwinedzincfingerfactors</dt>\n",
       "\t\t<dd>1</dd>\n",
       "\t<dt>Forkhead/wingedhelixfactors</dt>\n",
       "\t\t<dd>36</dd>\n",
       "\t<dt>GCMdomainfactors</dt>\n",
       "\t\t<dd>2</dd>\n",
       "\t<dt>Grainyheaddomainfactors</dt>\n",
       "\t\t<dd>2</dd>\n",
       "\t<dt>Heatshockfactors</dt>\n",
       "\t\t<dd>3</dd>\n",
       "\t<dt>HeteromericCCAAT-bindingfactors</dt>\n",
       "\t\t<dd>2</dd>\n",
       "\t<dt>High-mobilitygroup(HMG)domainfactors</dt>\n",
       "\t\t<dd>13</dd>\n",
       "\t<dt>Homeodomainfactors</dt>\n",
       "\t\t<dd>145</dd>\n",
       "\t<dt>MADSboxfactors</dt>\n",
       "\t\t<dd>5</dd>\n",
       "\t<dt>NuclearreceptorswithC4zincfingers</dt>\n",
       "\t\t<dd>36</dd>\n",
       "\t<dt>OtherC4zincfinger-typefactors</dt>\n",
       "\t\t<dd>6</dd>\n",
       "\t<dt>p53domainfactors</dt>\n",
       "\t\t<dd>3</dd>\n",
       "\t<dt>Pairedboxfactors</dt>\n",
       "\t\t<dd>8</dd>\n",
       "\t<dt>Psq-typeHTHdomain</dt>\n",
       "\t\t<dd>1</dd>\n",
       "\t<dt>Relhomologyregion(RHR)factors</dt>\n",
       "\t\t<dd>9</dd>\n",
       "\t<dt>Runtdomainfactors</dt>\n",
       "\t\t<dd>3</dd>\n",
       "\t<dt>SANDdomainfactors</dt>\n",
       "\t\t<dd>2</dd>\n",
       "\t<dt>SMAD/NF-1DNA-bindingdomainfactors</dt>\n",
       "\t\t<dd>5</dd>\n",
       "\t<dt>STATdomainfactors</dt>\n",
       "\t\t<dd>6</dd>\n",
       "\t<dt>T-Boxfactors</dt>\n",
       "\t\t<dd>12</dd>\n",
       "\t<dt>TATA-bindingproteins</dt>\n",
       "\t\t<dd>1</dd>\n",
       "\t<dt>TEAdomainfactors</dt>\n",
       "\t\t<dd>4</dd>\n",
       "\t<dt>Tryptophanclusterfactors</dt>\n",
       "\t\t<dd>34</dd>\n",
       "</dl>\n"
      ],
      "text/latex": [
       "\\begin{description*}\n",
       "\\item[ARIDdomainfactors] 2\n",
       "\\item[Basichelix-loop-helixfactors(bHLH)] 62\n",
       "\\item[Basichelix-span-helixfactors(bHSH)] 9\n",
       "\\item[Basicleucinezipperfactors(bZIP)] 43\n",
       "\\item[C2CHTHAP-typezincfingerfactors] 1\n",
       "\\item[C2H2zincfingerfactors] 56\n",
       "\\item[CRCdomain] 1\n",
       "\\item[DM-typeintertwinedzincfingerfactors] 1\n",
       "\\item[Forkhead/wingedhelixfactors] 36\n",
       "\\item[GCMdomainfactors] 2\n",
       "\\item[Grainyheaddomainfactors] 2\n",
       "\\item[Heatshockfactors] 3\n",
       "\\item[HeteromericCCAAT-bindingfactors] 2\n",
       "\\item[High-mobilitygroup(HMG)domainfactors] 13\n",
       "\\item[Homeodomainfactors] 145\n",
       "\\item[MADSboxfactors] 5\n",
       "\\item[NuclearreceptorswithC4zincfingers] 36\n",
       "\\item[OtherC4zincfinger-typefactors] 6\n",
       "\\item[p53domainfactors] 3\n",
       "\\item[Pairedboxfactors] 8\n",
       "\\item[Psq-typeHTHdomain] 1\n",
       "\\item[Relhomologyregion(RHR)factors] 9\n",
       "\\item[Runtdomainfactors] 3\n",
       "\\item[SANDdomainfactors] 2\n",
       "\\item[SMAD/NF-1DNA-bindingdomainfactors] 5\n",
       "\\item[STATdomainfactors] 6\n",
       "\\item[T-Boxfactors] 12\n",
       "\\item[TATA-bindingproteins] 1\n",
       "\\item[TEAdomainfactors] 4\n",
       "\\item[Tryptophanclusterfactors] 34\n",
       "\\end{description*}\n"
      ],
      "text/markdown": [
       "ARIDdomainfactors\n",
       ":   2Basichelix-loop-helixfactors(bHLH)\n",
       ":   62Basichelix-span-helixfactors(bHSH)\n",
       ":   9Basicleucinezipperfactors(bZIP)\n",
       ":   43C2CHTHAP-typezincfingerfactors\n",
       ":   1C2H2zincfingerfactors\n",
       ":   56CRCdomain\n",
       ":   1DM-typeintertwinedzincfingerfactors\n",
       ":   1Forkhead/wingedhelixfactors\n",
       ":   36GCMdomainfactors\n",
       ":   2Grainyheaddomainfactors\n",
       ":   2Heatshockfactors\n",
       ":   3HeteromericCCAAT-bindingfactors\n",
       ":   2High-mobilitygroup(HMG)domainfactors\n",
       ":   13Homeodomainfactors\n",
       ":   145MADSboxfactors\n",
       ":   5NuclearreceptorswithC4zincfingers\n",
       ":   36OtherC4zincfinger-typefactors\n",
       ":   6p53domainfactors\n",
       ":   3Pairedboxfactors\n",
       ":   8Psq-typeHTHdomain\n",
       ":   1Relhomologyregion(RHR)factors\n",
       ":   9Runtdomainfactors\n",
       ":   3SANDdomainfactors\n",
       ":   2SMAD/NF-1DNA-bindingdomainfactors\n",
       ":   5STATdomainfactors\n",
       ":   6T-Boxfactors\n",
       ":   12TATA-bindingproteins\n",
       ":   1TEAdomainfactors\n",
       ":   4Tryptophanclusterfactors\n",
       ":   34\n",
       "\n"
      ],
      "text/plain": [
       "                   ARIDdomainfactors   Basichelix-loop-helixfactors(bHLH) \n",
       "                                   2                                   62 \n",
       "  Basichelix-span-helixfactors(bHSH)      Basicleucinezipperfactors(bZIP) \n",
       "                                   9                                   43 \n",
       "      C2CHTHAP-typezincfingerfactors                C2H2zincfingerfactors \n",
       "                                   1                                   56 \n",
       "                           CRCdomain  DM-typeintertwinedzincfingerfactors \n",
       "                                   1                                    1 \n",
       "         Forkhead/wingedhelixfactors                     GCMdomainfactors \n",
       "                                  36                                    2 \n",
       "             Grainyheaddomainfactors                     Heatshockfactors \n",
       "                                   2                                    3 \n",
       "     HeteromericCCAAT-bindingfactors High-mobilitygroup(HMG)domainfactors \n",
       "                                   2                                   13 \n",
       "                  Homeodomainfactors                       MADSboxfactors \n",
       "                                 145                                    5 \n",
       "   NuclearreceptorswithC4zincfingers        OtherC4zincfinger-typefactors \n",
       "                                  36                                    6 \n",
       "                    p53domainfactors                     Pairedboxfactors \n",
       "                                   3                                    8 \n",
       "                   Psq-typeHTHdomain        Relhomologyregion(RHR)factors \n",
       "                                   1                                    9 \n",
       "                   Runtdomainfactors                    SANDdomainfactors \n",
       "                                   3                                    2 \n",
       "   SMAD/NF-1DNA-bindingdomainfactors                    STATdomainfactors \n",
       "                                   5                                    6 \n",
       "                        T-Boxfactors                 TATA-bindingproteins \n",
       "                                  12                                    1 \n",
       "                    TEAdomainfactors             Tryptophanclusterfactors \n",
       "                                   4                                   34 "
      ]
     },
     "metadata": {},
     "output_type": "display_data"
    }
   ],
   "source": [
    "# tf class distribution\n",
    "colSums(tf.motif.class.matrix)"
   ]
  },
  {
   "cell_type": "code",
   "execution_count": 15,
   "metadata": {
    "collapsed": false
   },
   "outputs": [],
   "source": [
    "# add class info to paul's data frame in pseudo 1-hot encoding\n",
    "\n",
    "dummy.classes <- matrix(0L, nrow = dim(ft.clean.corymotifs)[1], ncol = dim(tf.motif.class.matrix)[2])\n",
    "colnames(dummy.classes) <- colnames(tf.motif.class.matrix)\n",
    "ft.clean.corymotifs.tfclasses <- cbind(ft.clean.corymotifs,dummy.classes)\n",
    "\n",
    "for (r in rownames(tf.motif.class.matrix)) {\n",
    "    \n",
    "    n.rows.to.update <- dim(ft.clean.corymotifs.tfclasses[ft.clean.corymotifs.tfclasses$motif == r,\n",
    "                                  colnames(tf.motif.class.matrix)])[1]\n",
    "    \n",
    "    ft.clean.corymotifs.tfclasses[ft.clean.corymotifs.tfclasses$motif == r,\n",
    "                                  colnames(tf.motif.class.matrix)] <- tf.motif.class.matrix[c(rep(r,n.rows.to.update)),]\n",
    "}"
   ]
  },
  {
   "cell_type": "code",
   "execution_count": 16,
   "metadata": {
    "collapsed": false
   },
   "outputs": [
    {
     "data": {
      "text/html": [],
      "text/latex": [],
      "text/markdown": [],
      "text/plain": [
       "character(0)"
      ]
     },
     "metadata": {},
     "output_type": "display_data"
    }
   ],
   "source": [
    "# check to see if any loc/motifs didn't get a class\n",
    "rownames(ft.clean.corymotifs.tfclasses)[rowSums(ft.clean.corymotifs.tfclasses[,colnames(tf.motif.class.matrix)]) == 0]"
   ]
  },
  {
   "cell_type": "code",
   "execution_count": 17,
   "metadata": {
    "collapsed": false
   },
   "outputs": [
    {
     "data": {
      "text/html": [
       "76891"
      ],
      "text/latex": [
       "76891"
      ],
      "text/markdown": [
       "76891"
      ],
      "text/plain": [
       "[1] 76891"
      ]
     },
     "metadata": {},
     "output_type": "display_data"
    },
    {
     "data": {
      "text/html": [
       "77193"
      ],
      "text/latex": [
       "77193"
      ],
      "text/markdown": [
       "77193"
      ],
      "text/plain": [
       "[1] 77193"
      ]
     },
     "metadata": {},
     "output_type": "display_data"
    }
   ],
   "source": [
    "# most entries just have one class\n",
    "dim(ft.clean.corymotifs.tfclasses[,colnames(tf.motif.class.matrix)])[1]\n",
    "sum(ft.clean.corymotifs.tfclasses[,colnames(tf.motif.class.matrix)])"
   ]
  },
  {
   "cell_type": "markdown",
   "metadata": {},
   "source": [
    "## Split data into feature matrix and output"
   ]
  },
  {
   "cell_type": "code",
   "execution_count": 18,
   "metadata": {
    "collapsed": false
   },
   "outputs": [],
   "source": [
    "y <- as.numeric(ft.clean.corymotifs.tfclasses$csscore > 0)"
   ]
  },
  {
   "cell_type": "code",
   "execution_count": 19,
   "metadata": {
    "collapsed": false
   },
   "outputs": [],
   "source": [
    "cols.to.drop <- c(\"csscore\", \"csTF\", \"motif\", \"loc\", \"totalsamplecount\")\n",
    "\n",
    "X <- ft.clean.corymotifs.tfclasses[,!(colnames(ft.clean.corymotifs.tfclasses) %in% cols.to.drop)]"
   ]
  },
  {
   "cell_type": "code",
   "execution_count": 30,
   "metadata": {
    "collapsed": false
   },
   "outputs": [
    {
     "data": {
      "text/html": [
       "<table>\n",
       "<thead><tr><th></th><th scope=col>1</th><th scope=col>2</th><th scope=col>3</th></tr></thead>\n",
       "<tbody>\n",
       "\t<tr><th scope=row>samplecount.w</th><td>  0.0000000</td><td>  0.0000000</td><td>  0.0000000</td></tr>\n",
       "\t<tr><th scope=row>score.w</th><td>-99.0000000</td><td>-99.0000000</td><td>-99.0000000</td></tr>\n",
       "\t<tr><th scope=row>samplecount.h</th><td>  1.0000000</td><td>  1.0000000</td><td>  1.0000000</td></tr>\n",
       "\t<tr><th scope=row>score.h</th><td> 16.0000000</td><td> 16.0000000</td><td> 16.0000000</td></tr>\n",
       "\t<tr><th scope=row>motifscore</th><td> 11.1636000</td><td> 10.1967000</td><td> 12.2308000</td></tr>\n",
       "\t<tr><th scope=row>motifpval</th><td>  0.0000651</td><td>  0.0000715</td><td>  0.0000711</td></tr>\n",
       "\t<tr><th scope=row>ARIDdomainfactors</th><td>  0.0000000</td><td>  0.0000000</td><td>  0.0000000</td></tr>\n",
       "\t<tr><th scope=row>Basichelix-loop-helixfactors(bHLH)</th><td>  0.0000000</td><td>  0.0000000</td><td>  1.0000000</td></tr>\n",
       "\t<tr><th scope=row>Basichelix-span-helixfactors(bHSH)</th><td>  0.0000000</td><td>  1.0000000</td><td>  0.0000000</td></tr>\n",
       "\t<tr><th scope=row>Basicleucinezipperfactors(bZIP)</th><td>  0.0000000</td><td>  0.0000000</td><td>  0.0000000</td></tr>\n",
       "\t<tr><th scope=row>C2CHTHAP-typezincfingerfactors</th><td>  0.0000000</td><td>  0.0000000</td><td>  0.0000000</td></tr>\n",
       "\t<tr><th scope=row>C2H2zincfingerfactors</th><td>  1.0000000</td><td>  0.0000000</td><td>  0.0000000</td></tr>\n",
       "\t<tr><th scope=row>CRCdomain</th><td>  0.0000000</td><td>  0.0000000</td><td>  0.0000000</td></tr>\n",
       "\t<tr><th scope=row>DM-typeintertwinedzincfingerfactors</th><td>  0.0000000</td><td>  0.0000000</td><td>  0.0000000</td></tr>\n",
       "\t<tr><th scope=row>Forkhead/wingedhelixfactors</th><td>  0.0000000</td><td>  0.0000000</td><td>  0.0000000</td></tr>\n",
       "\t<tr><th scope=row>GCMdomainfactors</th><td>  0.0000000</td><td>  0.0000000</td><td>  0.0000000</td></tr>\n",
       "\t<tr><th scope=row>Grainyheaddomainfactors</th><td>  0.0000000</td><td>  0.0000000</td><td>  0.0000000</td></tr>\n",
       "\t<tr><th scope=row>Heatshockfactors</th><td>  0.0000000</td><td>  0.0000000</td><td>  0.0000000</td></tr>\n",
       "\t<tr><th scope=row>HeteromericCCAAT-bindingfactors</th><td>  0.0000000</td><td>  0.0000000</td><td>  0.0000000</td></tr>\n",
       "\t<tr><th scope=row>High-mobilitygroup(HMG)domainfactors</th><td>  0.0000000</td><td>  0.0000000</td><td>  0.0000000</td></tr>\n",
       "\t<tr><th scope=row>Homeodomainfactors</th><td>  0.0000000</td><td>  0.0000000</td><td>  0.0000000</td></tr>\n",
       "\t<tr><th scope=row>MADSboxfactors</th><td>  0.0000000</td><td>  0.0000000</td><td>  0.0000000</td></tr>\n",
       "\t<tr><th scope=row>NuclearreceptorswithC4zincfingers</th><td>  0.0000000</td><td>  0.0000000</td><td>  0.0000000</td></tr>\n",
       "\t<tr><th scope=row>OtherC4zincfinger-typefactors</th><td>  0.0000000</td><td>  0.0000000</td><td>  0.0000000</td></tr>\n",
       "\t<tr><th scope=row>p53domainfactors</th><td>  0.0000000</td><td>  0.0000000</td><td>  0.0000000</td></tr>\n",
       "\t<tr><th scope=row>Pairedboxfactors</th><td>  0.0000000</td><td>  0.0000000</td><td>  0.0000000</td></tr>\n",
       "\t<tr><th scope=row>Psq-typeHTHdomain</th><td>  0.0000000</td><td>  0.0000000</td><td>  0.0000000</td></tr>\n",
       "\t<tr><th scope=row>Relhomologyregion(RHR)factors</th><td>  0.0000000</td><td>  0.0000000</td><td>  0.0000000</td></tr>\n",
       "\t<tr><th scope=row>Runtdomainfactors</th><td>  0.0000000</td><td>  0.0000000</td><td>  0.0000000</td></tr>\n",
       "\t<tr><th scope=row>SANDdomainfactors</th><td>  0.0000000</td><td>  0.0000000</td><td>  0.0000000</td></tr>\n",
       "\t<tr><th scope=row>SMAD/NF-1DNA-bindingdomainfactors</th><td>  0.0000000</td><td>  0.0000000</td><td>  0.0000000</td></tr>\n",
       "\t<tr><th scope=row>STATdomainfactors</th><td>  0.0000000</td><td>  0.0000000</td><td>  0.0000000</td></tr>\n",
       "\t<tr><th scope=row>T-Boxfactors</th><td>  0.0000000</td><td>  0.0000000</td><td>  0.0000000</td></tr>\n",
       "\t<tr><th scope=row>TATA-bindingproteins</th><td>  0.0000000</td><td>  0.0000000</td><td>  0.0000000</td></tr>\n",
       "\t<tr><th scope=row>TEAdomainfactors</th><td>  0.0000000</td><td>  0.0000000</td><td>  0.0000000</td></tr>\n",
       "\t<tr><th scope=row>Tryptophanclusterfactors</th><td>  0.0000000</td><td>  0.0000000</td><td>  0.0000000</td></tr>\n",
       "</tbody>\n",
       "</table>\n"
      ],
      "text/latex": [
       "\\begin{tabular}{r|lll}\n",
       "  & 1 & 2 & 3\\\\\n",
       "\\hline\n",
       "\tsamplecount.w &   0.0000000 &   0.0000000 &   0.0000000\\\\\n",
       "\tscore.w & -99.0000000 & -99.0000000 & -99.0000000\\\\\n",
       "\tsamplecount.h &   1.0000000 &   1.0000000 &   1.0000000\\\\\n",
       "\tscore.h &  16.0000000 &  16.0000000 &  16.0000000\\\\\n",
       "\tmotifscore &  11.1636000 &  10.1967000 &  12.2308000\\\\\n",
       "\tmotifpval &   0.0000651 &   0.0000715 &   0.0000711\\\\\n",
       "\tARIDdomainfactors &   0.0000000 &   0.0000000 &   0.0000000\\\\\n",
       "\tBasichelix-loop-helixfactors(bHLH) &   0.0000000 &   0.0000000 &   1.0000000\\\\\n",
       "\tBasichelix-span-helixfactors(bHSH) &   0.0000000 &   1.0000000 &   0.0000000\\\\\n",
       "\tBasicleucinezipperfactors(bZIP) &   0.0000000 &   0.0000000 &   0.0000000\\\\\n",
       "\tC2CHTHAP-typezincfingerfactors &   0.0000000 &   0.0000000 &   0.0000000\\\\\n",
       "\tC2H2zincfingerfactors &   1.0000000 &   0.0000000 &   0.0000000\\\\\n",
       "\tCRCdomain &   0.0000000 &   0.0000000 &   0.0000000\\\\\n",
       "\tDM-typeintertwinedzincfingerfactors &   0.0000000 &   0.0000000 &   0.0000000\\\\\n",
       "\tForkhead/wingedhelixfactors &   0.0000000 &   0.0000000 &   0.0000000\\\\\n",
       "\tGCMdomainfactors &   0.0000000 &   0.0000000 &   0.0000000\\\\\n",
       "\tGrainyheaddomainfactors &   0.0000000 &   0.0000000 &   0.0000000\\\\\n",
       "\tHeatshockfactors &   0.0000000 &   0.0000000 &   0.0000000\\\\\n",
       "\tHeteromericCCAAT-bindingfactors &   0.0000000 &   0.0000000 &   0.0000000\\\\\n",
       "\tHigh-mobilitygroup(HMG)domainfactors &   0.0000000 &   0.0000000 &   0.0000000\\\\\n",
       "\tHomeodomainfactors &   0.0000000 &   0.0000000 &   0.0000000\\\\\n",
       "\tMADSboxfactors &   0.0000000 &   0.0000000 &   0.0000000\\\\\n",
       "\tNuclearreceptorswithC4zincfingers &   0.0000000 &   0.0000000 &   0.0000000\\\\\n",
       "\tOtherC4zincfinger-typefactors &   0.0000000 &   0.0000000 &   0.0000000\\\\\n",
       "\tp53domainfactors &   0.0000000 &   0.0000000 &   0.0000000\\\\\n",
       "\tPairedboxfactors &   0.0000000 &   0.0000000 &   0.0000000\\\\\n",
       "\tPsq-typeHTHdomain &   0.0000000 &   0.0000000 &   0.0000000\\\\\n",
       "\tRelhomologyregion(RHR)factors &   0.0000000 &   0.0000000 &   0.0000000\\\\\n",
       "\tRuntdomainfactors &   0.0000000 &   0.0000000 &   0.0000000\\\\\n",
       "\tSANDdomainfactors &   0.0000000 &   0.0000000 &   0.0000000\\\\\n",
       "\tSMAD/NF-1DNA-bindingdomainfactors &   0.0000000 &   0.0000000 &   0.0000000\\\\\n",
       "\tSTATdomainfactors &   0.0000000 &   0.0000000 &   0.0000000\\\\\n",
       "\tT-Boxfactors &   0.0000000 &   0.0000000 &   0.0000000\\\\\n",
       "\tTATA-bindingproteins &   0.0000000 &   0.0000000 &   0.0000000\\\\\n",
       "\tTEAdomainfactors &   0.0000000 &   0.0000000 &   0.0000000\\\\\n",
       "\tTryptophanclusterfactors &   0.0000000 &   0.0000000 &   0.0000000\\\\\n",
       "\\end{tabular}\n"
      ],
      "text/markdown": [
       "1. 0\n",
       "2. -99\n",
       "3. 1\n",
       "4. 16\n",
       "5. 11.1636\n",
       "6. 6.51e-05\n",
       "7. 0\n",
       "8. 0\n",
       "9. 0\n",
       "10. 0\n",
       "11. 0\n",
       "12. 1\n",
       "13. 0\n",
       "14. 0\n",
       "15. 0\n",
       "16. 0\n",
       "17. 0\n",
       "18. 0\n",
       "19. 0\n",
       "20. 0\n",
       "21. 0\n",
       "22. 0\n",
       "23. 0\n",
       "24. 0\n",
       "25. 0\n",
       "26. 0\n",
       "27. 0\n",
       "28. 0\n",
       "29. 0\n",
       "30. 0\n",
       "31. 0\n",
       "32. 0\n",
       "33. 0\n",
       "34. 0\n",
       "35. 0\n",
       "36. 0\n",
       "37. 0\n",
       "38. -99\n",
       "39. 1\n",
       "40. 16\n",
       "41. 10.1967\n",
       "42. 7.15e-05\n",
       "43. 0\n",
       "44. 0\n",
       "45. 1\n",
       "46. 0\n",
       "47. 0\n",
       "48. 0\n",
       "49. 0\n",
       "50. 0\n",
       "51. 0\n",
       "52. 0\n",
       "53. 0\n",
       "54. 0\n",
       "55. 0\n",
       "56. 0\n",
       "57. 0\n",
       "58. 0\n",
       "59. 0\n",
       "60. 0\n",
       "61. 0\n",
       "62. 0\n",
       "63. 0\n",
       "64. 0\n",
       "65. 0\n",
       "66. 0\n",
       "67. 0\n",
       "68. 0\n",
       "69. 0\n",
       "70. 0\n",
       "71. 0\n",
       "72. 0\n",
       "73. 0\n",
       "74. -99\n",
       "75. 1\n",
       "76. 16\n",
       "77. 12.2308\n",
       "78. 7.11e-05\n",
       "79. 0\n",
       "80. 1\n",
       "81. 0\n",
       "82. 0\n",
       "83. 0\n",
       "84. 0\n",
       "85. 0\n",
       "86. 0\n",
       "87. 0\n",
       "88. 0\n",
       "89. 0\n",
       "90. 0\n",
       "91. 0\n",
       "92. 0\n",
       "93. 0\n",
       "94. 0\n",
       "95. 0\n",
       "96. 0\n",
       "97. 0\n",
       "98. 0\n",
       "99. 0\n",
       "100. 0\n",
       "101. 0\n",
       "102. 0\n",
       "103. 0\n",
       "104. 0\n",
       "105. 0\n",
       "106. 0\n",
       "107. 0\n",
       "108. 0\n",
       "\n",
       "\n"
      ],
      "text/plain": [
       "                                     1           2           3          \n",
       "samplecount.w                          0.0000000   0.0000000   0.0000000\n",
       "score.w                              -99.0000000 -99.0000000 -99.0000000\n",
       "samplecount.h                          1.0000000   1.0000000   1.0000000\n",
       "score.h                               16.0000000  16.0000000  16.0000000\n",
       "motifscore                            11.1636000  10.1967000  12.2308000\n",
       "motifpval                              0.0000651   0.0000715   0.0000711\n",
       "ARIDdomainfactors                      0.0000000   0.0000000   0.0000000\n",
       "Basichelix-loop-helixfactors(bHLH)     0.0000000   0.0000000   1.0000000\n",
       "Basichelix-span-helixfactors(bHSH)     0.0000000   1.0000000   0.0000000\n",
       "Basicleucinezipperfactors(bZIP)        0.0000000   0.0000000   0.0000000\n",
       "C2CHTHAP-typezincfingerfactors         0.0000000   0.0000000   0.0000000\n",
       "C2H2zincfingerfactors                  1.0000000   0.0000000   0.0000000\n",
       "CRCdomain                              0.0000000   0.0000000   0.0000000\n",
       "DM-typeintertwinedzincfingerfactors    0.0000000   0.0000000   0.0000000\n",
       "Forkhead/wingedhelixfactors            0.0000000   0.0000000   0.0000000\n",
       "GCMdomainfactors                       0.0000000   0.0000000   0.0000000\n",
       "Grainyheaddomainfactors                0.0000000   0.0000000   0.0000000\n",
       "Heatshockfactors                       0.0000000   0.0000000   0.0000000\n",
       "HeteromericCCAAT-bindingfactors        0.0000000   0.0000000   0.0000000\n",
       "High-mobilitygroup(HMG)domainfactors   0.0000000   0.0000000   0.0000000\n",
       "Homeodomainfactors                     0.0000000   0.0000000   0.0000000\n",
       "MADSboxfactors                         0.0000000   0.0000000   0.0000000\n",
       "NuclearreceptorswithC4zincfingers      0.0000000   0.0000000   0.0000000\n",
       "OtherC4zincfinger-typefactors          0.0000000   0.0000000   0.0000000\n",
       "p53domainfactors                       0.0000000   0.0000000   0.0000000\n",
       "Pairedboxfactors                       0.0000000   0.0000000   0.0000000\n",
       "Psq-typeHTHdomain                      0.0000000   0.0000000   0.0000000\n",
       "Relhomologyregion(RHR)factors          0.0000000   0.0000000   0.0000000\n",
       "Runtdomainfactors                      0.0000000   0.0000000   0.0000000\n",
       "SANDdomainfactors                      0.0000000   0.0000000   0.0000000\n",
       "SMAD/NF-1DNA-bindingdomainfactors      0.0000000   0.0000000   0.0000000\n",
       "STATdomainfactors                      0.0000000   0.0000000   0.0000000\n",
       "T-Boxfactors                           0.0000000   0.0000000   0.0000000\n",
       "TATA-bindingproteins                   0.0000000   0.0000000   0.0000000\n",
       "TEAdomainfactors                       0.0000000   0.0000000   0.0000000\n",
       "Tryptophanclusterfactors               0.0000000   0.0000000   0.0000000"
      ]
     },
     "metadata": {},
     "output_type": "display_data"
    }
   ],
   "source": [
    "t(X[1:3,])"
   ]
  },
  {
   "cell_type": "code",
   "execution_count": 22,
   "metadata": {
    "collapsed": false
   },
   "outputs": [],
   "source": [
    "train.inds <- split_data(y)\n",
    "\n",
    "X.train <- X[train.inds,]\n",
    "X.test <- X[-train.inds,]\n",
    "y.train <- y[train.inds]\n",
    "y.test <- y[-train.inds]"
   ]
  },
  {
   "cell_type": "code",
   "execution_count": 26,
   "metadata": {
    "collapsed": false
   },
   "outputs": [
    {
     "name": "stdout",
     "output_type": "stream",
     "text": [
      " num [1:57668, 1:36] 0 0 0 1 0 0 0 0 0 1 ...\n",
      " - attr(*, \"dimnames\")=List of 2\n",
      "  ..$ : chr [1:57668] \"52108\" \"1372\" \"15102\" \"21518\" ...\n",
      "  ..$ : chr [1:36] \"samplecount.w\" \"score.w\" \"samplecount.h\" \"score.h\" ...\n",
      " num [1:76891] 0 0 0 0 0 0 0 0 0 0 ...\n"
     ]
    }
   ],
   "source": [
    "str(as.matrix(X.train))\n",
    "str(y)"
   ]
  },
  {
   "cell_type": "code",
   "execution_count": 28,
   "metadata": {
    "collapsed": false
   },
   "outputs": [
    {
     "name": "stdout",
     "output_type": "stream",
     "text": [
      "[0]\ttrain-error:0.098304\n",
      "[1]\ttrain-error:0.098304\n",
      "[2]\ttrain-error:0.098304\n",
      "[3]\ttrain-error:0.098304\n",
      "[4]\ttrain-error:0.098304\n",
      "[5]\ttrain-error:0.098304\n",
      "[6]\ttrain-error:0.098443\n",
      "[7]\ttrain-error:0.098443\n",
      "[8]\ttrain-error:0.098183\n",
      "[9]\ttrain-error:0.098183\n",
      "[10]\ttrain-error:0.098183\n",
      "[11]\ttrain-error:0.098183\n",
      "[12]\ttrain-error:0.097940\n",
      "[13]\ttrain-error:0.097940\n",
      "[14]\ttrain-error:0.097940\n",
      "[15]\ttrain-error:0.097957\n",
      "[16]\ttrain-error:0.097957\n",
      "[17]\ttrain-error:0.097957\n",
      "[18]\ttrain-error:0.097957\n",
      "[19]\ttrain-error:0.097957\n",
      "[20]\ttrain-error:0.097784\n",
      "[21]\ttrain-error:0.097593\n",
      "[22]\ttrain-error:0.097749\n",
      "[23]\ttrain-error:0.097593\n",
      "[24]\ttrain-error:0.097593\n",
      "[25]\ttrain-error:0.097593\n",
      "[26]\ttrain-error:0.097593\n",
      "[27]\ttrain-error:0.097593\n",
      "[28]\ttrain-error:0.097593\n",
      "[29]\ttrain-error:0.097593\n",
      "[30]\ttrain-error:0.097610\n",
      "[31]\ttrain-error:0.097558\n",
      "[32]\ttrain-error:0.097229\n",
      "[33]\ttrain-error:0.097298\n",
      "[34]\ttrain-error:0.097229\n",
      "[35]\ttrain-error:0.097194\n",
      "[36]\ttrain-error:0.097246\n",
      "[37]\ttrain-error:0.097246\n",
      "[38]\ttrain-error:0.097212\n",
      "[39]\ttrain-error:0.097246\n",
      "[40]\ttrain-error:0.097229\n",
      "[41]\ttrain-error:0.097264\n",
      "[42]\ttrain-error:0.097229\n",
      "[43]\ttrain-error:0.097177\n",
      "[44]\ttrain-error:0.097177\n",
      "[45]\ttrain-error:0.097004\n",
      "[46]\ttrain-error:0.096969\n",
      "[47]\ttrain-error:0.096986\n",
      "[48]\ttrain-error:0.096986\n",
      "[49]\ttrain-error:0.096917\n",
      "[50]\ttrain-error:0.096986\n",
      "[51]\ttrain-error:0.096969\n",
      "[52]\ttrain-error:0.096917\n",
      "[53]\ttrain-error:0.096743\n",
      "[54]\ttrain-error:0.096847\n",
      "[55]\ttrain-error:0.096865\n",
      "[56]\ttrain-error:0.096778\n",
      "[57]\ttrain-error:0.096778\n",
      "[58]\ttrain-error:0.096795\n",
      "[59]\ttrain-error:0.096778\n",
      "[60]\ttrain-error:0.096761\n",
      "[61]\ttrain-error:0.096778\n",
      "[62]\ttrain-error:0.096830\n",
      "[63]\ttrain-error:0.096865\n",
      "[64]\ttrain-error:0.096830\n",
      "[65]\ttrain-error:0.096847\n",
      "[66]\ttrain-error:0.096795\n",
      "[67]\ttrain-error:0.097090\n",
      "[68]\ttrain-error:0.096934\n",
      "[69]\ttrain-error:0.096986\n",
      "[70]\ttrain-error:0.096986\n",
      "[71]\ttrain-error:0.097194\n",
      "[72]\ttrain-error:0.097142\n",
      "[73]\ttrain-error:0.097073\n",
      "[74]\ttrain-error:0.097160\n",
      "[75]\ttrain-error:0.097142\n",
      "[76]\ttrain-error:0.096674\n",
      "[77]\ttrain-error:0.096778\n",
      "[78]\ttrain-error:0.097108\n",
      "[79]\ttrain-error:0.097125\n",
      "[80]\ttrain-error:0.097125\n",
      "[81]\ttrain-error:0.097142\n",
      "[82]\ttrain-error:0.097108\n",
      "[83]\ttrain-error:0.097108\n",
      "[84]\ttrain-error:0.097038\n",
      "[85]\ttrain-error:0.096847\n",
      "[86]\ttrain-error:0.096934\n",
      "[87]\ttrain-error:0.096917\n",
      "[88]\ttrain-error:0.096795\n",
      "[89]\ttrain-error:0.096813\n",
      "[90]\ttrain-error:0.096639\n",
      "[91]\ttrain-error:0.096501\n",
      "[92]\ttrain-error:0.096293\n",
      "[93]\ttrain-error:0.096431\n",
      "[94]\ttrain-error:0.096258\n",
      "[95]\ttrain-error:0.096241\n",
      "[96]\ttrain-error:0.096206\n",
      "[97]\ttrain-error:0.096171\n",
      "[98]\ttrain-error:0.096154\n",
      "[99]\ttrain-error:0.096189\n"
     ]
    }
   ],
   "source": [
    "param <- list(\"objective\" = \"binary:logistic\",\n",
    "              \"max.depth\" = 5,\n",
    "              \"eta\" = 0.01\n",
    "              )\n",
    "\n",
    "gbdt <- xgboost(\n",
    "    params = param,\n",
    "    data = as.matrix(X.train),\n",
    "    label = y.train,\n",
    "    nround = 100,\n",
    "    verbose = TRUE,\n",
    "    missing = NA\n",
    ")"
   ]
  },
  {
   "cell_type": "code",
   "execution_count": 37,
   "metadata": {
    "collapsed": false
   },
   "outputs": [
    {
     "data": {
      "text/html": [
       "0.906154086250845"
      ],
      "text/latex": [
       "0.906154086250845"
      ],
      "text/markdown": [
       "0.906154086250845"
      ],
      "text/plain": [
       "[1] 0.9061541"
      ]
     },
     "metadata": {},
     "output_type": "display_data"
    },
    {
     "data": {
      "text/html": [
       "0.903811472567108"
      ],
      "text/latex": [
       "0.903811472567108"
      ],
      "text/markdown": [
       "0.903811472567108"
      ],
      "text/plain": [
       "[1] 0.9038115"
      ]
     },
     "metadata": {},
     "output_type": "display_data"
    }
   ],
   "source": [
    "preds.holdout <- predict(gbdt,as.matrix(X.test), missing=NA)\n",
    "preds.overfit <- predict(gbdt,as.matrix(X.train), missing=NA)\n",
    "\n",
    "mean(round(preds.holdout) == y.test)\n",
    "mean(round(preds.overfit) == y.train)"
   ]
  },
  {
   "cell_type": "code",
   "execution_count": 39,
   "metadata": {
    "collapsed": false
   },
   "outputs": [
    {
     "data": {
      "text/plain": [
       "\n",
       "Call:\n",
       "roc.default(response = y.train, predictor = preds.overfit)\n",
       "\n",
       "Data: preds.overfit in 49601 controls (y.train 0) < 8067 cases (y.train 1).\n",
       "Area under the curve: 0.8849"
      ]
     },
     "metadata": {},
     "output_type": "display_data"
    },
    {
     "data": {
      "image/png": "[encoded data removed]",
      "text/plain": [
       "plot without title"
      ]
     },
     "metadata": {},
     "output_type": "display_data"
    }
   ],
   "source": [
    "roc.motifs.overfit <- roc(y.train, preds.overfit)\n",
    "plot(roc.motifs.overfit)"
   ]
  },
  {
   "cell_type": "code",
   "execution_count": 35,
   "metadata": {
    "collapsed": false
   },
   "outputs": [
    {
     "data": {
      "text/plain": [
       "\n",
       "Call:\n",
       "roc.default(response = y.test, predictor = preds.holdout)\n",
       "\n",
       "Data: preds.holdout in 16590 controls (y.test 0) < 2633 cases (y.test 1).\n",
       "Area under the curve: 0.8793"
      ]
     },
     "metadata": {},
     "output_type": "display_data"
    },
    {
     "data": {
      "image/png": "[encoded data removed]",
      "text/plain": [
       "plot without title"
      ]
     },
     "metadata": {},
     "output_type": "display_data"
    }
   ],
   "source": [
    "roc.motifs <- roc(y.test, preds.holdout)\n",
    "# ci.motifs <- ci(roc.motifs, of = \"se\", sp = seq(0, 1, 0.01))\n",
    "plot(roc.motifs)\n",
    "# plot(ci.motifs, type=\"shape\")"
   ]
  },
  {
   "cell_type": "code",
   "execution_count": null,
   "metadata": {
    "collapsed": true
   },
   "outputs": [],
   "source": []
  },
  {
   "cell_type": "code",
   "execution_count": null,
   "metadata": {
    "collapsed": true
   },
   "outputs": [],
   "source": []
  },
  {
   "cell_type": "code",
   "execution_count": null,
   "metadata": {
    "collapsed": true
   },
   "outputs": [],
   "source": []
  },
  {
   "cell_type": "code",
   "execution_count": null,
   "metadata": {
    "collapsed": true
   },
   "outputs": [],
   "source": []
  },
  {
   "cell_type": "code",
   "execution_count": null,
   "metadata": {
    "collapsed": true
   },
   "outputs": [],
   "source": []
  },
  {
   "cell_type": "code",
   "execution_count": null,
   "metadata": {
    "collapsed": true
   },
   "outputs": [],
   "source": []
  },
  {
   "cell_type": "code",
   "execution_count": null,
   "metadata": {
    "collapsed": true
   },
   "outputs": [],
   "source": []
  },
  {
   "cell_type": "code",
   "execution_count": null,
   "metadata": {
    "collapsed": true
   },
   "outputs": [],
   "source": []
  },
  {
   "cell_type": "code",
   "execution_count": null,
   "metadata": {
    "collapsed": true
   },
   "outputs": [],
   "source": []
  },
  {
   "cell_type": "code",
   "execution_count": 10,
   "metadata": {
    "collapsed": false
   },
   "outputs": [
    {
     "data": {
      "text/html": [
       "<ol class=list-inline>\n",
       "\t<li>0</li>\n",
       "\t<li>10</li>\n",
       "\t<li>25</li>\n",
       "\t<li>97</li>\n",
       "\t<li>7460</li>\n",
       "</ol>\n"
      ],
      "text/latex": [
       "\\begin{enumerate*}\n",
       "\\item 0\n",
       "\\item 10\n",
       "\\item 25\n",
       "\\item 97\n",
       "\\item 7460\n",
       "\\end{enumerate*}\n"
      ],
      "text/markdown": [
       "1. 0\n",
       "2. 10\n",
       "3. 25\n",
       "4. 97\n",
       "5. 7460\n",
       "\n",
       "\n"
      ],
      "text/plain": [
       "[1]    0   10   25   97 7460"
      ]
     },
     "metadata": {},
     "output_type": "display_data"
    },
    {
     "data": {
      "image/png": "[encoded data removed]",
      "text/plain": [
       "Plot with title “Histogram of ft.clean$score.h”"
      ]
     },
     "metadata": {},
     "output_type": "display_data"
    }
   ],
   "source": [
    "fivenum(ft.clean$score.h)\n",
    "hist(ft.clean$score.h)"
   ]
  },
  {
   "cell_type": "code",
   "execution_count": 12,
   "metadata": {
    "collapsed": false
   },
   "outputs": [
    {
     "data": {
      "text/html": [
       "<ol class=list-inline>\n",
       "\t<li>-1000</li>\n",
       "\t<li>-99</li>\n",
       "\t<li>-99</li>\n",
       "\t<li>-17.0816</li>\n",
       "\t<li>-10.0004</li>\n",
       "</ol>\n"
      ],
      "text/latex": [
       "\\begin{enumerate*}\n",
       "\\item -1000\n",
       "\\item -99\n",
       "\\item -99\n",
       "\\item -17.0816\n",
       "\\item -10.0004\n",
       "\\end{enumerate*}\n"
      ],
      "text/markdown": [
       "1. -1000\n",
       "2. -99\n",
       "3. -99\n",
       "4. -17.0816\n",
       "5. -10.0004\n",
       "\n",
       "\n"
      ],
      "text/plain": [
       "[1] -1000.0000   -99.0000   -99.0000   -17.0816   -10.0004"
      ]
     },
     "metadata": {},
     "output_type": "display_data"
    },
    {
     "data": {
      "image/png": "[encoded data removed]",
      "text/plain": [
       "Plot with title “Histogram of ft.clean$score.w”"
      ]
     },
     "metadata": {},
     "output_type": "display_data"
    }
   ],
   "source": [
    "fivenum(ft.clean$score.w)\n",
    "hist(ft.clean$score.w)"
   ]
  },
  {
   "cell_type": "code",
   "execution_count": 63,
   "metadata": {
    "collapsed": false
   },
   "outputs": [
    {
     "data": {
      "text/html": [
       "<ol class=list-inline>\n",
       "\t<li>2.11e-13</li>\n",
       "\t<li>7.68e-06</li>\n",
       "\t<li>2.65e-05</li>\n",
       "\t<li>5.87e-05</li>\n",
       "\t<li>1</li>\n",
       "</ol>\n"
      ],
      "text/latex": [
       "\\begin{enumerate*}\n",
       "\\item 2.11e-13\n",
       "\\item 7.68e-06\n",
       "\\item 2.65e-05\n",
       "\\item 5.87e-05\n",
       "\\item 1\n",
       "\\end{enumerate*}\n"
      ],
      "text/markdown": [
       "1. 2.11e-13\n",
       "2. 7.68e-06\n",
       "3. 2.65e-05\n",
       "4. 5.87e-05\n",
       "5. 1\n",
       "\n",
       "\n"
      ],
      "text/plain": [
       "[1] 2.11e-13 7.68e-06 2.65e-05 5.87e-05 1.00e+00"
      ]
     },
     "metadata": {},
     "output_type": "display_data"
    },
    {
     "data": {
      "image/png": "[encoded data removed]",
      "text/plain": [
       "Plot with title “Histogram of ft$score3.h.best”"
      ]
     },
     "metadata": {},
     "output_type": "display_data"
    }
   ],
   "source": [
    "fivenum(ft$score3.h.best)\n",
    "hist(ft$score3.h.best)"
   ]
  },
  {
   "cell_type": "code",
   "execution_count": 65,
   "metadata": {
    "collapsed": false
   },
   "outputs": [
    {
     "data": {
      "text/html": [
       "<ol class=list-inline>\n",
       "\t<li>2.11e-13</li>\n",
       "\t<li>7.3e-06</li>\n",
       "\t<li>2.44e-05</li>\n",
       "\t<li>5.2e-05</li>\n",
       "\t<li>1e-04</li>\n",
       "</ol>\n"
      ],
      "text/latex": [
       "\\begin{enumerate*}\n",
       "\\item 2.11e-13\n",
       "\\item 7.3e-06\n",
       "\\item 2.44e-05\n",
       "\\item 5.2e-05\n",
       "\\item 1e-04\n",
       "\\end{enumerate*}\n"
      ],
      "text/markdown": [
       "1. 2.11e-13\n",
       "2. 7.3e-06\n",
       "3. 2.44e-05\n",
       "4. 5.2e-05\n",
       "5. 1e-04\n",
       "\n",
       "\n"
      ],
      "text/plain": [
       "[1] 2.11e-13 7.30e-06 2.44e-05 5.20e-05 1.00e-04"
      ]
     },
     "metadata": {},
     "output_type": "display_data"
    },
    {
     "data": {
      "image/png": "[encoded data removed]",
      "text/plain": [
       "Plot with title “Histogram of ft$score3.h.best[ft$score3.h.best < 0.5]”"
      ]
     },
     "metadata": {},
     "output_type": "display_data"
    }
   ],
   "source": [
    "fivenum(ft$score3.h.best[ft$score3.h.best < 0.5])\n",
    "hist(ft$score3.h.best[ft$score3.h.best < 0.5])"
   ]
  },
  {
   "cell_type": "code",
   "execution_count": 67,
   "metadata": {
    "collapsed": false
   },
   "outputs": [
    {
     "data": {
      "text/html": [
       "<ol class=list-inline>\n",
       "\t<li>1.1e-11</li>\n",
       "\t<li>5.6e-06</li>\n",
       "\t<li>2.04e-05</li>\n",
       "\t<li>4.3e-05</li>\n",
       "\t<li>1e-04</li>\n",
       "</ol>\n"
      ],
      "text/latex": [
       "\\begin{enumerate*}\n",
       "\\item 1.1e-11\n",
       "\\item 5.6e-06\n",
       "\\item 2.04e-05\n",
       "\\item 4.3e-05\n",
       "\\item 1e-04\n",
       "\\end{enumerate*}\n"
      ],
      "text/markdown": [
       "1. 1.1e-11\n",
       "2. 5.6e-06\n",
       "3. 2.04e-05\n",
       "4. 4.3e-05\n",
       "5. 1e-04\n",
       "\n",
       "\n"
      ],
      "text/plain": [
       "[1] 1.10e-11 5.60e-06 2.04e-05 4.30e-05 1.00e-04"
      ]
     },
     "metadata": {},
     "output_type": "display_data"
    },
    {
     "data": {
      "image/png": "[encoded data removed]",
      "text/plain": [
       "Plot with title “Histogram of ft$score3.w.best[ft$score3.w.best < 0.5]”"
      ]
     },
     "metadata": {},
     "output_type": "display_data"
    }
   ],
   "source": [
    "fivenum(ft$score3.w.best[ft$score3.w.best < 0.5])\n",
    "hist(ft$score3.w.best[ft$score3.w.best < 0.5])"
   ]
  },
  {
   "cell_type": "code",
   "execution_count": 76,
   "metadata": {
    "collapsed": true
   },
   "outputs": [],
   "source": [
    "tbl_hw <- ft[(ft$samplecount.w >= 1) & (ft$samplecount.h >= 1),]"
   ]
  },
  {
   "cell_type": "code",
   "execution_count": 77,
   "metadata": {
    "collapsed": false
   },
   "outputs": [
    {
     "data": {
      "text/html": [
       "<table>\n",
       "<thead><tr><th></th><th scope=col>score2.h.best</th><th scope=col>score2.w.best</th><th scope=col>score3.h.best</th><th scope=col>score3.w.best</th></tr></thead>\n",
       "<tbody>\n",
       "\t<tr><th scope=row>55</th><td>16.5505 </td><td>16.5505 </td><td>1.67e-06</td><td>1.67e-06</td></tr>\n",
       "\t<tr><th scope=row>56</th><td>13.4082 </td><td>13.4310 </td><td>1.35e-05</td><td>1.35e-05</td></tr>\n",
       "\t<tr><th scope=row>57</th><td>11.9024 </td><td>13.4310 </td><td>3.79e-05</td><td>1.35e-05</td></tr>\n",
       "\t<tr><th scope=row>58</th><td>13.4310 </td><td>13.4310 </td><td>1.35e-05</td><td>1.35e-05</td></tr>\n",
       "\t<tr><th scope=row>59</th><td>13.4082 </td><td>13.4082 </td><td>1.35e-05</td><td>1.35e-05</td></tr>\n",
       "\t<tr><th scope=row>60</th><td>11.9024 </td><td>13.4082 </td><td>3.79e-05</td><td>1.35e-05</td></tr>\n",
       "</tbody>\n",
       "</table>\n"
      ],
      "text/latex": [
       "\\begin{tabular}{r|llll}\n",
       "  & score2.h.best & score2.w.best & score3.h.best & score3.w.best\\\\\n",
       "\\hline\n",
       "\t55 & 16.5505  & 16.5505  & 1.67e-06 & 1.67e-06\\\\\n",
       "\t56 & 13.4082  & 13.4310  & 1.35e-05 & 1.35e-05\\\\\n",
       "\t57 & 11.9024  & 13.4310  & 3.79e-05 & 1.35e-05\\\\\n",
       "\t58 & 13.4310  & 13.4310  & 1.35e-05 & 1.35e-05\\\\\n",
       "\t59 & 13.4082  & 13.4082  & 1.35e-05 & 1.35e-05\\\\\n",
       "\t60 & 11.9024  & 13.4082  & 3.79e-05 & 1.35e-05\\\\\n",
       "\\end{tabular}\n"
      ],
      "text/plain": [
       "   score2.h.best score2.w.best score3.h.best score3.w.best\n",
       "55 16.5505       16.5505       1.67e-06      1.67e-06     \n",
       "56 13.4082       13.4310       1.35e-05      1.35e-05     \n",
       "57 11.9024       13.4310       3.79e-05      1.35e-05     \n",
       "58 13.4310       13.4310       1.35e-05      1.35e-05     \n",
       "59 13.4082       13.4082       1.35e-05      1.35e-05     \n",
       "60 11.9024       13.4082       3.79e-05      1.35e-05     "
      ]
     },
     "metadata": {},
     "output_type": "display_data"
    }
   ],
   "source": [
    "head(tbl_hw[,c('score2.h.best','score2.w.best','score3.h.best','score3.w.best')])"
   ]
  },
  {
   "cell_type": "code",
   "execution_count": 78,
   "metadata": {
    "collapsed": false
   },
   "outputs": [
    {
     "data": {
      "text/html": [
       "0.20482271452045"
      ],
      "text/latex": [
       "0.20482271452045"
      ],
      "text/markdown": [
       "0.20482271452045"
      ],
      "text/plain": [
       "[1] 0.2048227"
      ]
     },
     "metadata": {},
     "output_type": "display_data"
    }
   ],
   "source": [
    "mean(tbl_hw$score2.h.best == tbl_hw$score2.w.best)"
   ]
  },
  {
   "cell_type": "code",
   "execution_count": 71,
   "metadata": {
    "collapsed": false
   },
   "outputs": [
    {
     "data": {
      "text/html": [
       "0.256843362163247"
      ],
      "text/latex": [
       "0.256843362163247"
      ],
      "text/markdown": [
       "0.256843362163247"
      ],
      "text/plain": [
       "[1] 0.2568434"
      ]
     },
     "metadata": {},
     "output_type": "display_data"
    }
   ],
   "source": [
    "mean(tbl_hw$score3.h.best == tbl_hw$score3.w.best)"
   ]
  },
  {
   "cell_type": "code",
   "execution_count": 72,
   "metadata": {
    "collapsed": false
   },
   "outputs": [
    {
     "data": {
      "image/png": "[encoded data removed]",
      "text/plain": [
       "Plot with title “Histogram of ft$csscore”"
      ]
     },
     "metadata": {},
     "output_type": "display_data"
    }
   ],
   "source": [
    "hist(ft$csscore)"
   ]
  },
  {
   "cell_type": "code",
   "execution_count": 75,
   "metadata": {
    "collapsed": false
   },
   "outputs": [
    {
     "data": {
      "text/html": [
       "0.629928121857659"
      ],
      "text/latex": [
       "0.629928121857659"
      ],
      "text/markdown": [
       "0.629928121857659"
      ],
      "text/plain": [
       "[1] 0.6299281"
      ]
     },
     "metadata": {},
     "output_type": "display_data"
    }
   ],
   "source": [
    "mean(ft$csscore > 0)"
   ]
  },
  {
   "cell_type": "code",
   "execution_count": null,
   "metadata": {
    "collapsed": true
   },
   "outputs": [],
   "source": []
  },
  {
   "cell_type": "code",
   "execution_count": null,
   "metadata": {
    "collapsed": true
   },
   "outputs": [],
   "source": []
  },
  {
   "cell_type": "code",
   "execution_count": null,
   "metadata": {
    "collapsed": true
   },
   "outputs": [],
   "source": []
  },
  {
   "cell_type": "code",
   "execution_count": null,
   "metadata": {
    "collapsed": true
   },
   "outputs": [],
   "source": []
  },
  {
   "cell_type": "code",
   "execution_count": null,
   "metadata": {
    "collapsed": true
   },
   "outputs": [],
   "source": []
  },
  {
   "cell_type": "code",
   "execution_count": null,
   "metadata": {
    "collapsed": true
   },
   "outputs": [],
   "source": []
  },
  {
   "cell_type": "code",
   "execution_count": null,
   "metadata": {
    "collapsed": true
   },
   "outputs": [],
   "source": []
  },
  {
   "cell_type": "code",
   "execution_count": null,
   "metadata": {
    "collapsed": true
   },
   "outputs": [],
   "source": []
  },
  {
   "cell_type": "code",
   "execution_count": null,
   "metadata": {
    "collapsed": true
   },
   "outputs": [],
   "source": []
  },
  {
   "cell_type": "code",
   "execution_count": null,
   "metadata": {
    "collapsed": true
   },
   "outputs": [],
   "source": []
  },
  {
   "cell_type": "code",
   "execution_count": null,
   "metadata": {
    "collapsed": true
   },
   "outputs": [],
   "source": []
  },
  {
   "cell_type": "markdown",
   "metadata": {},
   "source": [
    "## classify iris data using three different base learners"
   ]
  },
  {
   "cell_type": "code",
   "execution_count": 33,
   "metadata": {
    "collapsed": true
   },
   "outputs": [],
   "source": [
    "data(iris)"
   ]
  },
  {
   "cell_type": "code",
   "execution_count": 34,
   "metadata": {
    "collapsed": false
   },
   "outputs": [],
   "source": [
    "df_nosetosa <- iris[iris$Species != \"setosa\",]\n",
    "df_nosetosa$Species <- factor(df_nosetosa$Species)\n",
    "rownames(df_nosetosa) <- NULL\n",
    "X <- df_nosetosa[,-c(5)]\n",
    "y <- as.numeric(df_nosetosa[,c(5)]) - 1\n",
    "\n",
    "traintest_inds <- split_data(y,p=0.75)\n",
    "X_traintest <- X[c(traintest_inds),]\n",
    "y_traintest <- y[traintest_inds]\n",
    "X_holdout <- X[-traintest_inds,]\n",
    "y_holdout <- y[-traintest_inds]\n",
    "\n",
    "df_nosetosa_train <- df_nosetosa[traintest_inds,]\n",
    "df_nosetosa_test <- df_nosetosa[-traintest_inds,]"
   ]
  },
  {
   "cell_type": "code",
   "execution_count": 35,
   "metadata": {
    "collapsed": true
   },
   "outputs": [],
   "source": [
    "glm_sl <- glm(Species ~ Sepal.Length, data=df_nosetosa_train, family=binomial)\n",
    "glm_sw <- glm(Species ~ Sepal.Width, data=df_nosetosa_train, family=binomial)\n",
    "glm_pl <- glm(Species ~ Petal.Length, data=df_nosetosa_train, family=binomial)"
   ]
  },
  {
   "cell_type": "markdown",
   "metadata": {},
   "source": [
    "### training accuracy for each base learner"
   ]
  },
  {
   "cell_type": "code",
   "execution_count": 36,
   "metadata": {
    "collapsed": false
   },
   "outputs": [
    {
     "data": {
      "text/html": [
       "0.72"
      ],
      "text/latex": [
       "0.72"
      ],
      "text/markdown": [
       "0.72"
      ],
      "text/plain": [
       "[1] 0.72"
      ]
     },
     "metadata": {},
     "output_type": "display_data"
    },
    {
     "data": {
      "text/html": [
       "0.546666666666667"
      ],
      "text/latex": [
       "0.546666666666667"
      ],
      "text/markdown": [
       "0.546666666666667"
      ],
      "text/plain": [
       "[1] 0.5466667"
      ]
     },
     "metadata": {},
     "output_type": "display_data"
    },
    {
     "data": {
      "text/html": [
       "0.92"
      ],
      "text/latex": [
       "0.92"
      ],
      "text/markdown": [
       "0.92"
      ],
      "text/plain": [
       "[1] 0.92"
      ]
     },
     "metadata": {},
     "output_type": "display_data"
    }
   ],
   "source": [
    "mean(round(glm_sl$fitted.values) == y_traintest)\n",
    "mean(round(glm_sw$fitted.values) == y_traintest)\n",
    "mean(round(glm_pl$fitted.values) == y_traintest)"
   ]
  },
  {
   "cell_type": "markdown",
   "metadata": {},
   "source": [
    "### construct meta-features using the predictions of the three base learners"
   ]
  },
  {
   "cell_type": "code",
   "execution_count": 37,
   "metadata": {
    "collapsed": false
   },
   "outputs": [],
   "source": [
    "df_meta <- data.frame(\"sl.score\"=glm_sl$fitted.values,\n",
    "                      \"sw.score\"=glm_sw$fitted.values,\n",
    "                      \"pl.score\"=glm_pl$fitted.values)"
   ]
  },
  {
   "cell_type": "markdown",
   "metadata": {},
   "source": [
    "### majority vote isn't that great when some of the voters are significantly worse than others"
   ]
  },
  {
   "cell_type": "code",
   "execution_count": 38,
   "metadata": {
    "collapsed": false
   },
   "outputs": [
    {
     "data": {
      "text/html": [
       "0.773333333333333"
      ],
      "text/latex": [
       "0.773333333333333"
      ],
      "text/markdown": [
       "0.773333333333333"
      ],
      "text/plain": [
       "[1] 0.7733333"
      ]
     },
     "metadata": {},
     "output_type": "display_data"
    }
   ],
   "source": [
    "mean(round(rowMeans(round(df_meta),1)) == y_traintest)"
   ]
  },
  {
   "cell_type": "markdown",
   "metadata": {},
   "source": [
    "## instead, learn a decision tree in a meta-feature space\n",
    "meta features are the scores from the base learners"
   ]
  },
  {
   "cell_type": "code",
   "execution_count": 39,
   "metadata": {
    "collapsed": false
   },
   "outputs": [],
   "source": [
    "param <- list(\"objective\" = \"binary:logistic\",\n",
    "              \"max.depth\" = 2,\n",
    "              \"eta\" = 0.25\n",
    "              )\n",
    "\n",
    "gbdt <- xgboost(\n",
    "    params = param,\n",
    "    data = as.matrix(df_meta),\n",
    "    label = as.numeric(y_traintest),\n",
    "    nround = 10,\n",
    "    verbose = FALSE,\n",
    "    missing=NA\n",
    ")"
   ]
  },
  {
   "cell_type": "markdown",
   "metadata": {},
   "source": [
    "### training accuracy of the meta-classifier "
   ]
  },
  {
   "cell_type": "code",
   "execution_count": 40,
   "metadata": {
    "collapsed": false
   },
   "outputs": [
    {
     "data": {
      "text/html": [
       "0.933333333333333"
      ],
      "text/latex": [
       "0.933333333333333"
      ],
      "text/markdown": [
       "0.933333333333333"
      ],
      "text/plain": [
       "[1] 0.9333333"
      ]
     },
     "metadata": {},
     "output_type": "display_data"
    }
   ],
   "source": [
    "preds_overfit <- predict(gbdt,as.matrix(df_meta), missing=NA)\n",
    "mean(round(preds_overfit) == y_traintest)"
   ]
  },
  {
   "cell_type": "markdown",
   "metadata": {},
   "source": [
    "### test accuracies of the base learners"
   ]
  },
  {
   "cell_type": "code",
   "execution_count": 18,
   "metadata": {
    "collapsed": false
   },
   "outputs": [
    {
     "data": {
      "text/html": [
       "0.6"
      ],
      "text/latex": [
       "0.6"
      ],
      "text/markdown": [
       "0.6"
      ],
      "text/plain": [
       "[1] 0.6"
      ]
     },
     "metadata": {},
     "output_type": "display_data"
    },
    {
     "data": {
      "text/html": [
       "0.48"
      ],
      "text/latex": [
       "0.48"
      ],
      "text/markdown": [
       "0.48"
      ],
      "text/plain": [
       "[1] 0.48"
      ]
     },
     "metadata": {},
     "output_type": "display_data"
    },
    {
     "data": {
      "text/html": [
       "0.88"
      ],
      "text/latex": [
       "0.88"
      ],
      "text/markdown": [
       "0.88"
      ],
      "text/plain": [
       "[1] 0.88"
      ]
     },
     "metadata": {},
     "output_type": "display_data"
    }
   ],
   "source": [
    "preds_holdout_sl <- predict.glm(object = glm_sl, newdata = df_nosetosa_test, type = \"response\")\n",
    "preds_holdout_sw <- predict.glm(object = glm_sw, newdata = df_nosetosa_test, type = \"response\")\n",
    "preds_holdout_pl <- predict.glm(object = glm_pl, newdata = df_nosetosa_test, type = \"response\")\n",
    "\n",
    "mean(round(preds_holdout_sl) == y_holdout)\n",
    "mean(round(preds_holdout_sw) == y_holdout)\n",
    "mean(round(preds_holdout_pl) == y_holdout)\n",
    "\n",
    "df_meta_test <- data.frame(\"sl.score\"=preds_holdout_sl,\n",
    "                           \"sw.score\"=preds_holdout_sw,\n",
    "                           \"pl.score\"=preds_holdout_pl)"
   ]
  },
  {
   "cell_type": "markdown",
   "metadata": {},
   "source": [
    "### test accuracy of the meta-classifier"
   ]
  },
  {
   "cell_type": "code",
   "execution_count": 19,
   "metadata": {
    "collapsed": false
   },
   "outputs": [
    {
     "data": {
      "text/html": [
       "0.88"
      ],
      "text/latex": [
       "0.88"
      ],
      "text/markdown": [
       "0.88"
      ],
      "text/plain": [
       "[1] 0.88"
      ]
     },
     "metadata": {},
     "output_type": "display_data"
    }
   ],
   "source": [
    "preds_holdout <- predict(gbdt,as.matrix(df_meta_test), missing=NA)\n",
    "mean(round(preds_holdout) == y_holdout)"
   ]
  },
  {
   "cell_type": "markdown",
   "metadata": {
    "collapsed": true
   },
   "source": [
    "# ROC curves"
   ]
  },
  {
   "cell_type": "code",
   "execution_count": 25,
   "metadata": {
    "collapsed": true
   },
   "outputs": [],
   "source": [
    "data(aSAH)"
   ]
  },
  {
   "cell_type": "code",
   "execution_count": 27,
   "metadata": {
    "collapsed": false
   },
   "outputs": [],
   "source": [
    "rocs100 <- roc(aSAH$outcome, aSAH$s100, percent = TRUE, partial.auc=c(100, 90))\n",
    "rocwfns <- roc(aSAH$outcome, aSAH$wfns, percent = TRUE, partial.auc=c(100, 90))"
   ]
  },
  {
   "cell_type": "code",
   "execution_count": 28,
   "metadata": {
    "collapsed": true
   },
   "outputs": [],
   "source": [
    "cis100 <- ci(rocs100, of = \"se\", sp = seq(0, 100, 5), boot.n=10000)\n",
    "ciwfns <- ci(rocwfns, of = \"threshold\", threshold=4.5, boot.n=10000)"
   ]
  },
  {
   "cell_type": "code",
   "execution_count": 29,
   "metadata": {
    "collapsed": true
   },
   "outputs": [],
   "source": [
    "rtest <- roc.test(rocs100, rocwfns, boot.n=10000)"
   ]
  },
  {
   "cell_type": "code",
   "execution_count": 30,
   "metadata": {
    "collapsed": false
   },
   "outputs": [
    {
     "data": {
      "text/plain": [
       "\n",
       "Call:\n",
       "roc.default(response = aSAH$outcome, predictor = aSAH$s100, percent = TRUE,     partial.auc = c(100, 90))\n",
       "\n",
       "Data: aSAH$s100 in 72 controls (aSAH$outcome Good) < 41 cases (aSAH$outcome Poor).\n",
       "Partial area under the curve (specificity 100%-90%): 3.276%"
      ]
     },
     "metadata": {},
     "output_type": "display_data"
    },
    {
     "data": {
      "text/plain": [
       "\n",
       "Call:\n",
       "roc.default(response = aSAH$outcome, predictor = aSAH$wfns, percent = TRUE,     partial.auc = c(100, 90))\n",
       "\n",
       "Data: aSAH$wfns in 72 controls (aSAH$outcome Good) < 41 cases (aSAH$outcome Poor).\n",
       "Partial area under the curve (specificity 100%-90%): 3.344%"
      ]
     },
     "metadata": {},
     "output_type": "display_data"
    },
    {
     "data": {
      "image/png": "[encoded data removed]",
      "text/plain": [
       "plot without title"
      ]
     },
     "metadata": {},
     "output_type": "display_data"
    }
   ],
   "source": [
    "# png(\"demo.png\")\n",
    "plot(rocs100, col=\"#008600\", max.auc.polygon=TRUE, print.auc=TRUE, print.auc.y=48)\n",
    "plot(rocwfns, col=\"#1c61b6\", add=TRUE, print.auc=TRUE, print.auc.y=42)\n",
    "plot(cis100, type=\"shape\", col=\"#00860022\", no.roc=TRUE)\n",
    "plot(ciwfns, type=\"bars\", lwd=1.5)\n",
    "text(18, 45, sprintf(\"p = %.1f\", rtest$p.value), adj=c(0,1))\n",
    "lines(c(20, 20), c(39, 48), lwd=1.5)\n",
    "# dev.off()"
   ]
  },
  {
   "cell_type": "code",
   "execution_count": 54,
   "metadata": {
    "collapsed": false
   },
   "outputs": [],
   "source": [
    "roc_iris <- roc(y_holdout, preds_holdout)\n",
    "ci_iris <- ci(roc_iris, of = \"se\", sp = seq(0, 1, 0.01))"
   ]
  },
  {
   "cell_type": "code",
   "execution_count": 55,
   "metadata": {
    "collapsed": false
   },
   "outputs": [
    {
     "data": {
      "text/plain": [
       "\n",
       "Call:\n",
       "roc.default(response = y_holdout, predictor = preds_holdout)\n",
       "\n",
       "Data: preds_holdout in 13 controls (y_holdout 0) < 12 cases (y_holdout 1).\n",
       "Area under the curve: 0.9071"
      ]
     },
     "metadata": {},
     "output_type": "display_data"
    },
    {
     "data": {
      "image/png": "[encoded data removed]",
      "text/plain": [
       "plot without title"
      ]
     },
     "metadata": {},
     "output_type": "display_data"
    }
   ],
   "source": [
    "plot(roc_iris)\n",
    "plot(ci_iris, type=\"shape\")"
   ]
  },
  {
   "cell_type": "code",
   "execution_count": 132,
   "metadata": {
    "collapsed": true
   },
   "outputs": [],
   "source": [
    "mattcc <- function(true_classes, predicted_classes) {\n",
    "        \n",
    "    pos <- true_classes == 1\n",
    "    neg <- true_classes == 0\n",
    "    \n",
    "    TP <- sum( predicted_classes[pos] == true_classes[pos] )\n",
    "    TN <- sum( predicted_classes[neg] == true_classes[neg] )\n",
    "    FP <- sum( predicted_classes[pos] != true_classes[pos] )\n",
    "    FN <- sum( predicted_classes[neg] != true_classes[neg] )  \n",
    "    \n",
    "    N1 <- TP*TN\n",
    "    N2 <- FP*FN\n",
    "    D1 <- TP+FP\n",
    "    D2 <- TP+FN\n",
    "    D3 <- TN+FP\n",
    "    D4 <- TN+FN\n",
    "    \n",
    "    N <- N1-N2\n",
    "    D <- D1*D2*D3*D4\n",
    "    \n",
    "    if (D==0) {\n",
    "        m <- 0\n",
    "    } else {\n",
    "        M <- N/sqrt(D)\n",
    "    }\n",
    "    \n",
    "    return(M)\n",
    "}"
   ]
  },
  {
   "cell_type": "code",
   "execution_count": 133,
   "metadata": {
    "collapsed": false
   },
   "outputs": [
    {
     "data": {
      "text/html": [
       "0.600012487382542"
      ],
      "text/latex": [
       "0.600012487382542"
      ],
      "text/markdown": [
       "0.600012487382542"
      ],
      "text/plain": [
       "[1] 0.6000125"
      ]
     },
     "metadata": {},
     "output_type": "display_data"
    }
   ],
   "source": [
    "mattcc(y_holdout, round(preds_holdout))"
   ]
  },
  {
   "cell_type": "code",
   "execution_count": 134,
   "metadata": {
    "collapsed": false
   },
   "outputs": [
    {
     "data": {
      "text/html": [
       "0.869293697631841"
      ],
      "text/latex": [
       "0.869293697631841"
      ],
      "text/markdown": [
       "0.869293697631841"
      ],
      "text/plain": [
       "[1] 0.8692937"
      ]
     },
     "metadata": {},
     "output_type": "display_data"
    }
   ],
   "source": [
    "mattcc(y_traintest,round(preds_overfit))"
   ]
  },
  {
   "cell_type": "code",
   "execution_count": null,
   "metadata": {
    "collapsed": true
   },
   "outputs": [],
   "source": []
  }
 ],
 "metadata": {
  "anaconda-cloud": {},
  "kernelspec": {
   "display_name": "R",
   "language": "R",
   "name": "ir"
  },
  "language_info": {
   "codemirror_mode": "r",
   "file_extension": ".r",
   "mimetype": "text/x-r-source",
   "name": "R",
   "pygments_lexer": "r",
   "version": "3.3.1"
  }
 },
 "nbformat": 4,
 "nbformat_minor": 0
}
