{
 "cells": [
  {
   "cell_type": "markdown",
   "metadata": {},
   "source": [
    "# using gradient boosted decision trees as a meta-classifier"
   ]
  },
  {
   "cell_type": "code",
   "execution_count": 41,
   "metadata": {
    "collapsed": false
   },
   "outputs": [
    {
     "data": {
      "text/html": [
       "<ol class=list-inline>\n",
       "\t<li>'caTools'</li>\n",
       "\t<li>'caret'</li>\n",
       "\t<li>'lattice'</li>\n",
       "\t<li>'stringr'</li>\n",
       "\t<li>'pROC'</li>\n",
       "\t<li>'tidyr'</li>\n",
       "\t<li>'dplyr'</li>\n",
       "\t<li>'glmnet'</li>\n",
       "\t<li>'foreach'</li>\n",
       "\t<li>'Matrix'</li>\n",
       "\t<li>'xgboost'</li>\n",
       "\t<li>'ggplot2'</li>\n",
       "\t<li>'RColorBrewer'</li>\n",
       "\t<li>'stats'</li>\n",
       "\t<li>'graphics'</li>\n",
       "\t<li>'grDevices'</li>\n",
       "\t<li>'utils'</li>\n",
       "\t<li>'datasets'</li>\n",
       "\t<li>'methods'</li>\n",
       "\t<li>'base'</li>\n",
       "</ol>\n"
      ],
      "text/latex": [
       "\\begin{enumerate*}\n",
       "\\item 'caTools'\n",
       "\\item 'caret'\n",
       "\\item 'lattice'\n",
       "\\item 'stringr'\n",
       "\\item 'pROC'\n",
       "\\item 'tidyr'\n",
       "\\item 'dplyr'\n",
       "\\item 'glmnet'\n",
       "\\item 'foreach'\n",
       "\\item 'Matrix'\n",
       "\\item 'xgboost'\n",
       "\\item 'ggplot2'\n",
       "\\item 'RColorBrewer'\n",
       "\\item 'stats'\n",
       "\\item 'graphics'\n",
       "\\item 'grDevices'\n",
       "\\item 'utils'\n",
       "\\item 'datasets'\n",
       "\\item 'methods'\n",
       "\\item 'base'\n",
       "\\end{enumerate*}\n"
      ],
      "text/markdown": [
       "1. 'caTools'\n",
       "2. 'caret'\n",
       "3. 'lattice'\n",
       "4. 'stringr'\n",
       "5. 'pROC'\n",
       "6. 'tidyr'\n",
       "7. 'dplyr'\n",
       "8. 'glmnet'\n",
       "9. 'foreach'\n",
       "10. 'Matrix'\n",
       "11. 'xgboost'\n",
       "12. 'ggplot2'\n",
       "13. 'RColorBrewer'\n",
       "14. 'stats'\n",
       "15. 'graphics'\n",
       "16. 'grDevices'\n",
       "17. 'utils'\n",
       "18. 'datasets'\n",
       "19. 'methods'\n",
       "20. 'base'\n",
       "\n",
       "\n"
      ],
      "text/plain": [
       " [1] \"caTools\"      \"caret\"        \"lattice\"      \"stringr\"      \"pROC\"        \n",
       " [6] \"tidyr\"        \"dplyr\"        \"glmnet\"       \"foreach\"      \"Matrix\"      \n",
       "[11] \"xgboost\"      \"ggplot2\"      \"RColorBrewer\" \"stats\"        \"graphics\"    \n",
       "[16] \"grDevices\"    \"utils\"        \"datasets\"     \"methods\"      \"base\"        "
      ]
     },
     "metadata": {},
     "output_type": "display_data"
    }
   ],
   "source": [
    "libs <- c(\n",
    "    'RColorBrewer',\n",
    "    'ggplot2',\n",
    "    'xgboost',\n",
    "    'glmnet',\n",
    "    'dplyr',\n",
    "    'tidyr',\n",
    "    'pROC',\n",
    "    'stringr',\n",
    "    'caret',\n",
    "    'caTools'\n",
    ")\n",
    "\n",
    "for (lib in libs) {\n",
    "        if (!require(lib, character.only = TRUE, quietly = TRUE)) {\n",
    "            install.packages(lib, repos='http://cran.us.r-project.org')\n",
    "        }\n",
    "}\n",
    "\n",
    "(.packages())"
   ]
  },
  {
   "cell_type": "code",
   "execution_count": 3,
   "metadata": {
    "collapsed": true
   },
   "outputs": [],
   "source": [
    "split_data <- function(outcomes,p=0.75) {\n",
    "    n <- length(outcomes)\n",
    "    s <- floor(p*n)\n",
    "    sample_inds <- sample(seq_len(n), size = s)\n",
    "    return(sample_inds)\n",
    "}"
   ]
  },
  {
   "cell_type": "code",
   "execution_count": 4,
   "metadata": {
    "collapsed": true
   },
   "outputs": [],
   "source": [
    "mattcc <- function(true_classes, predicted_classes) {\n",
    "        \n",
    "    pos <- true_classes == 1\n",
    "    neg <- true_classes == 0\n",
    "    \n",
    "    TP <- as.numeric(sum( predicted_classes[pos] == true_classes[pos] ))\n",
    "    TN <- as.numeric(sum( predicted_classes[neg] == true_classes[neg] ))\n",
    "    FP <- as.numeric(sum( predicted_classes[pos] != true_classes[pos] ))\n",
    "    FN <- as.numeric(sum( predicted_classes[neg] != true_classes[neg] )) \n",
    "    \n",
    "    N1 <- TP*TN\n",
    "    N2 <- FP*FN\n",
    "    D1 <- TP+FP\n",
    "    D2 <- TP+FN\n",
    "    D3 <- TN+FP\n",
    "    D4 <- TN+FN\n",
    "    \n",
    "    N <- N1-N2\n",
    "    D <- D1*D2*D3*D4\n",
    "    \n",
    "    if (D==0) {\n",
    "        M <- 0\n",
    "    } else {\n",
    "        M <- N/sqrt(D)\n",
    "    }\n",
    "    \n",
    "    return(M)\n",
    "}\n",
    "\n",
    "mattcc.curve <- function(true.values, pred.probs, num.points=101) {\n",
    "    threshholds <- seq(from=0, to=1, length.out=num.points)\n",
    "    thresh.inds <- 1:length(threshholds)\n",
    "\n",
    "    mattcc.data <- sapply(thresh.inds,\n",
    "                      function(t) mattcc(true.values,as.numeric(pred.probs>threshholds[t]))\n",
    "                   )\n",
    "    return(mattcc.data)\n",
    "}"
   ]
  },
  {
   "cell_type": "code",
   "execution_count": 5,
   "metadata": {
    "collapsed": true
   },
   "outputs": [],
   "source": [
    "ggplotColours <- function(n = 6, h = c(0, 360) + 15){\n",
    "  if ((diff(h) %% 360) < 1) h[2] <- h[2] - 360/n\n",
    "  hcl(h = (seq(h[1], h[2], length = n)), c = 100, l = 65)\n",
    "} "
   ]
  },
  {
   "cell_type": "markdown",
   "metadata": {},
   "source": [
    "## Load data"
   ]
  },
  {
   "cell_type": "code",
   "execution_count": 6,
   "metadata": {
    "collapsed": false
   },
   "outputs": [],
   "source": [
    "# paul's data frame\n",
    "\n",
    "# tableName <- \"ftClean.Fri.Sep.30.2016-18:02:21.RData\"\n",
    "tableName <- \"chr19.all.RData\"\n",
    "directory <- \"~/git-repos/BDDS/trenadb/featureTable/lymphoblast\"\n",
    "fullPath <- file.path(directory, tableName)\n",
    "stopifnot(file.exists(fullPath))\n",
    "load(fullPath)\n",
    "\n",
    "# name of big data table\n",
    "ft.clean <- tbl\n",
    "\n",
    "\n",
    "# cory's motif to tf-class mapping\n",
    "tf.fams.file <- \"/local/Cory/for_Paul/motif_class_fam\"\n",
    "tf.fams.table <- read.delim(tf.fams.file, stringsAsFactors=FALSE)"
   ]
  },
  {
   "cell_type": "code",
   "execution_count": 7,
   "metadata": {
    "collapsed": false
   },
   "outputs": [],
   "source": [
    "# str(ft.clean)"
   ]
  },
  {
   "cell_type": "code",
   "execution_count": 8,
   "metadata": {
    "collapsed": false
   },
   "outputs": [],
   "source": [
    "# head((ft.clean))"
   ]
  },
  {
   "cell_type": "code",
   "execution_count": 9,
   "metadata": {
    "collapsed": false
   },
   "outputs": [],
   "source": [
    "# head(tf.fams.table)"
   ]
  },
  {
   "cell_type": "markdown",
   "metadata": {},
   "source": [
    "## Add TF classes as features"
   ]
  },
  {
   "cell_type": "code",
   "execution_count": 10,
   "metadata": {
    "collapsed": false
   },
   "outputs": [
    {
     "data": {
      "text/html": [
       "510"
      ],
      "text/latex": [
       "510"
      ],
      "text/markdown": [
       "510"
      ],
      "text/plain": [
       "[1] 510"
      ]
     },
     "metadata": {},
     "output_type": "display_data"
    }
   ],
   "source": [
    "# check overlap of motif names from cory and paul\n",
    "\n",
    "motif.names.from.cory <- str_replace_all(string=tf.fams.table$ID, pattern=\"[[:space:]]\", repl=\"\")\n",
    "motif.names.from.paul <- unique(ft.clean$motif)\n",
    "\n",
    "# motifs not occurring from sample data\n",
    "from.cory.not.in.paul <- motif.names.from.cory[!(motif.names.from.cory %in% motif.names.from.paul)]\n",
    "\n",
    "# motifs not mapped in cory's table\n",
    "from.paul.not.in.cory <- motif.names.from.paul[!(motif.names.from.paul %in% motif.names.from.cory)]\n",
    "\n",
    "# number of motifs that i'll use\n",
    "from.paul.in.cory <- sort(motif.names.from.paul[(motif.names.from.paul %in% motif.names.from.cory)])\n",
    "length(from.paul.in.cory)"
   ]
  },
  {
   "cell_type": "code",
   "execution_count": 11,
   "metadata": {
    "collapsed": false
   },
   "outputs": [],
   "source": [
    "# filter out the motifs in pauls' table that cory doesn' have tf classes for\n",
    "\n",
    "ft.clean.corymotifs <- ft.clean %>% filter(motif %in% from.paul.in.cory)\n",
    "# str(ft.clean.corymotifs)"
   ]
  },
  {
   "cell_type": "code",
   "execution_count": 12,
   "metadata": {
    "collapsed": false
   },
   "outputs": [
    {
     "data": {
      "text/html": [
       "30"
      ],
      "text/latex": [
       "30"
      ],
      "text/markdown": [
       "30"
      ],
      "text/plain": [
       "[1] 30"
      ]
     },
     "metadata": {},
     "output_type": "display_data"
    }
   ],
   "source": [
    "# find unique tf class names from cory's list\n",
    "\n",
    "class.names.nospaces <- str_replace_all(string=tf.fams.table$class, pattern=\"[[:space:]]\", repl=\"\")\n",
    "unique.class.names.nospaces <- unique(class.names.nospaces)\n",
    "double.entry.classes <- grep('::', unique.class.names.nospaces, value=TRUE)\n",
    "dedoubled.classes <- unique(unlist(strsplit(double.entry.classes,'::')))\n",
    "\n",
    "class.names.nospaces.minus.doubles <- unique.class.names.nospaces[!(unique.class.names.nospaces %in% double.entry.classes)]\n",
    "class.names.final <- sort(unique(c(class.names.nospaces.minus.doubles,dedoubled.classes)))\n",
    "length(class.names.final)"
   ]
  },
  {
   "cell_type": "code",
   "execution_count": 13,
   "metadata": {
    "collapsed": false
   },
   "outputs": [],
   "source": [
    "# cory's map: arrange so grepping on class column will yeild matches from paul's names\n",
    "\n",
    "tf.fams.table.renamed <- tf.fams.table\n",
    "tf.fams.table.renamed$ID <- str_replace_all(string=tf.fams.table.renamed$ID, pattern=\"[[:space:]]\", repl=\"\")\n",
    "tf.fams.table.renamed <- tf.fams.table.renamed %>% filter(ID %in% from.paul.in.cory)\n",
    "rownames(tf.fams.table.renamed) <- tf.fams.table.renamed$ID\n",
    "tf.class.foreach.motif <- tf.fams.table.renamed[,-c(1)]\n",
    "\n",
    "tf.class.foreach.motif$class <- str_replace_all(string=tf.class.foreach.motif$class, pattern=\"[[:space:]]\", repl=\"\")"
   ]
  },
  {
   "cell_type": "code",
   "execution_count": 14,
   "metadata": {
    "collapsed": false
   },
   "outputs": [],
   "source": [
    "# make sparse class / tf feature matrix map\n",
    "# all zeros to start, fill in ones below\n",
    "tf.motif.class.matrix <- matrix(0L, nrow = length(from.paul.in.cory), ncol = length(class.names.final))\n",
    "rownames(tf.motif.class.matrix) <- from.paul.in.cory\n",
    "colnames(tf.motif.class.matrix) <- class.names.final\n",
    "\n",
    "# loop through tfs and classes to fill in ones where there is a match\n",
    "\n",
    "for (tf.name in rownames(tf.motif.class.matrix)) {\n",
    "    for (class.name in colnames(tf.motif.class.matrix)) {\n",
    "        class.to.check <- tf.class.foreach.motif[tf.name,'class']\n",
    "        classes.match <- any(grep(class.name, class.to.check, value=FALSE, fixed=TRUE))\n",
    "        if (classes.match == 1) {\n",
    "            tf.motif.class.matrix[tf.name,class.name] <- 1\n",
    "        }\n",
    "    }\n",
    "    \n",
    "}"
   ]
  },
  {
   "cell_type": "code",
   "execution_count": 15,
   "metadata": {
    "collapsed": false
   },
   "outputs": [
    {
     "data": {
      "text/html": [
       "<ol class=list-inline>\n",
       "\t<li>510</li>\n",
       "\t<li>30</li>\n",
       "</ol>\n"
      ],
      "text/latex": [
       "\\begin{enumerate*}\n",
       "\\item 510\n",
       "\\item 30\n",
       "\\end{enumerate*}\n"
      ],
      "text/markdown": [
       "1. 510\n",
       "2. 30\n",
       "\n",
       "\n"
      ],
      "text/plain": [
       "[1] 510  30"
      ]
     },
     "metadata": {},
     "output_type": "display_data"
    },
    {
     "data": {
      "text/html": [
       "513"
      ],
      "text/latex": [
       "513"
      ],
      "text/markdown": [
       "513"
      ],
      "text/plain": [
       "[1] 513"
      ]
     },
     "metadata": {},
     "output_type": "display_data"
    },
    {
     "data": {
      "text/html": [],
      "text/latex": [],
      "text/markdown": [],
      "text/plain": [
       "character(0)"
      ]
     },
     "metadata": {},
     "output_type": "display_data"
    }
   ],
   "source": [
    "# number of motifs with extra entries is small:\n",
    "dim(tf.motif.class.matrix)\n",
    "sum(tf.motif.class.matrix)\n",
    "\n",
    "# check to see if any motifs didn't match\n",
    "rownames(tf.motif.class.matrix)[rowSums(tf.motif.class.matrix) == 0]"
   ]
  },
  {
   "cell_type": "code",
   "execution_count": 16,
   "metadata": {
    "collapsed": false
   },
   "outputs": [],
   "source": [
    "# tf class distribution\n",
    "# colSums(tf.motif.class.matrix)"
   ]
  },
  {
   "cell_type": "code",
   "execution_count": 17,
   "metadata": {
    "collapsed": false
   },
   "outputs": [
    {
     "data": {
      "text/html": [
       "<ol class=list-inline>\n",
       "\t<li>510</li>\n",
       "\t<li>31</li>\n",
       "</ol>\n"
      ],
      "text/latex": [
       "\\begin{enumerate*}\n",
       "\\item 510\n",
       "\\item 31\n",
       "\\end{enumerate*}\n"
      ],
      "text/markdown": [
       "1. 510\n",
       "2. 31\n",
       "\n",
       "\n"
      ],
      "text/plain": [
       "[1] 510  31"
      ]
     },
     "metadata": {},
     "output_type": "display_data"
    },
    {
     "data": {
      "text/html": [
       "<ol class=list-inline>\n",
       "\t<li>912159</li>\n",
       "\t<li>41</li>\n",
       "</ol>\n"
      ],
      "text/latex": [
       "\\begin{enumerate*}\n",
       "\\item 912159\n",
       "\\item 41\n",
       "\\end{enumerate*}\n"
      ],
      "text/markdown": [
       "1. 912159\n",
       "2. 41\n",
       "\n",
       "\n"
      ],
      "text/plain": [
       "[1] 912159     41"
      ]
     },
     "metadata": {},
     "output_type": "display_data"
    }
   ],
   "source": [
    "# merging is a way saner way to... merge dataframes, who knew?\n",
    "tf.motif.class.df <- as.data.frame(tf.motif.class.matrix)\n",
    "tf.motif.class.df$motif <- rownames(tf.motif.class.df)\n",
    "dim(tf.motif.class.df)\n",
    "\n",
    "ft.clean.corymotifs.tfclasses <- merge(ft.clean.corymotifs, tf.motif.class.df, by=\"motif\", all.x=TRUE)\n",
    "dim(ft.clean.corymotifs.tfclasses)"
   ]
  },
  {
   "cell_type": "code",
   "execution_count": 18,
   "metadata": {
    "collapsed": false
   },
   "outputs": [
    {
     "data": {
      "text/html": [],
      "text/latex": [],
      "text/markdown": [],
      "text/plain": [
       "character(0)"
      ]
     },
     "metadata": {},
     "output_type": "display_data"
    }
   ],
   "source": [
    "# check to see if any loc/motifs didn't get a class\n",
    "rownames(ft.clean.corymotifs.tfclasses)[rowSums(ft.clean.corymotifs.tfclasses[,colnames(tf.motif.class.matrix)]) == 0]"
   ]
  },
  {
   "cell_type": "code",
   "execution_count": 19,
   "metadata": {
    "collapsed": false
   },
   "outputs": [
    {
     "data": {
      "text/html": [
       "912159"
      ],
      "text/latex": [
       "912159"
      ],
      "text/markdown": [
       "912159"
      ],
      "text/plain": [
       "[1] 912159"
      ]
     },
     "metadata": {},
     "output_type": "display_data"
    },
    {
     "data": {
      "text/html": [
       "915394"
      ],
      "text/latex": [
       "915394"
      ],
      "text/markdown": [
       "915394"
      ],
      "text/plain": [
       "[1] 915394"
      ]
     },
     "metadata": {},
     "output_type": "display_data"
    }
   ],
   "source": [
    "# most entries just have one class\n",
    "dim(ft.clean.corymotifs.tfclasses[,colnames(tf.motif.class.matrix)])[1]\n",
    "sum(ft.clean.corymotifs.tfclasses[,colnames(tf.motif.class.matrix)])"
   ]
  },
  {
   "cell_type": "markdown",
   "metadata": {},
   "source": [
    "## Functions for analyzing models"
   ]
  },
  {
   "cell_type": "markdown",
   "metadata": {},
   "source": [
    "### Functions for predicting from models and gathering statistics"
   ]
  },
  {
   "cell_type": "code",
   "execution_count": 29,
   "metadata": {
    "collapsed": true
   },
   "outputs": [],
   "source": [
    "# make dataframe for preditions vs ChIPseq\n",
    "make.pred.df.from.model <- function(gbdt.model,X.testdata,y.testdata) {\n",
    "    \n",
    "    preds.test <- predict(gbdt.model, X.testdata, missing=NA)\n",
    "    pred.df <- data.frame(\"ChIPseq.bound\"=y.testdata,\"Prediction\"=preds.test)\n",
    "    \n",
    "    return(pred.df)\n",
    "    \n",
    "}\n",
    "\n",
    "# compute roc curve and prec/recall-like stats\n",
    "make.stats.df.from.preds <- function(pred.df, num.roc.points=101) {\n",
    "    \n",
    "    preds <- pred.df$Prediction\n",
    "    cs.vals <- pred.df$ChIPseq.bound\n",
    "\n",
    "    roc.tf <- roc(cs.vals, preds,\n",
    "                  ret=c(\"threshold\", \"sens\", \"spec\", \"ppv\", \"npv\", \"acc\"))\n",
    "    stats.tf <- coords((roc.tf),\n",
    "       seq(from=0, to=1, length.out=num.roc.points),\n",
    "       ret=c(\"threshold\", \"sens\", \"spec\", \"ppv\", \"npv\", \"acc\"))\n",
    "    mattcc.tf <- mattcc.curve(cs.vals, preds, num.points=num.roc.points)\n",
    "    df.stats <- as.data.frame(t(stats.tf))\n",
    "    df.stats$MattCC <- mattcc.tf\n",
    "    df.stats$Regressor <- \"All\"\n",
    "    \n",
    "    return(df.stats)\n",
    "}"
   ]
  },
  {
   "cell_type": "markdown",
   "metadata": {},
   "source": [
    "### Functions for plotting ROC curves and the like"
   ]
  },
  {
   "cell_type": "code",
   "execution_count": 55,
   "metadata": {
    "collapsed": true
   },
   "outputs": [],
   "source": [
    "plot.roc.curve <- function(stat.dataframe) {\n",
    "    \n",
    "    specif.sense.df <- stat.dataframe[,c(\"specificity\",\"sensitivity\")]\n",
    "    ordered.specif.sense.df <- specif.sense.df[with(specif.sense.df, order(specificity)), ]\n",
    "    ss.x <- ordered.specif.sense.df$specificity\n",
    "    ss.y <- ordered.specif.sense.df$sensitivity\n",
    "    AUC <- trapz(ss.x,ss.y)\n",
    "    \n",
    "    my.colors <- ggplotColours(length(unique(stat.dataframe$Regressor)))\n",
    "    ggplot(stat.dataframe) +\n",
    "    geom_line(aes(x=specificity, y=sensitivity, color=Regressor)) +\n",
    "    geom_abline(intercept = 1, slope = 1, color='lightgrey') +\n",
    "    scale_x_reverse(lim=c(1,0)) + scale_y_continuous(lim=c(0,1)) +\n",
    "    coord_fixed(ratio=1) +\n",
    "    scale_colour_manual(values=c('black', my.colors)) +\n",
    "    labs(x=\"Specificity\", y=\"Sensitivity\") +\n",
    "    annotate(\"text\", x=0.25, y=0.2, label=paste('AUC = ', format(AUC,digits=5), sep='')) +\n",
    "    theme_minimal()\n",
    "}\n",
    "\n",
    "plot.precrecall.curve <- function(stat.dataframe) {\n",
    "    my.colors <- ggplotColours(length(unique(stat.dataframe$Regressor)))\n",
    "    ggplot(stat.dataframe) + \n",
    "    geom_line(aes(x=sensitivity, y=ppv, color=Regressor)) + \n",
    "    scale_x_continuous(lim=c(0,1)) + scale_y_continuous(lim=c(0,1)) +\n",
    "    coord_fixed(ratio=1) +\n",
    "    scale_colour_manual(values=c('black', my.colors)) +\n",
    "    labs(x=\"Precision\", y=\"Recall\") +\n",
    "    theme_minimal()\n",
    "}\n",
    "\n",
    "plot.mattcc.curve <- function(stat.dataframe) {\n",
    "    my.colors <- ggplotColours(length(unique(stat.dataframe$Regressor)))\n",
    "    ggplot(stat.dataframe) +\n",
    "    geom_line(aes(x=threshold, y=MattCC, color=Regressor)) +\n",
    "    scale_x_continuous(lim=c(0,1)) + scale_y_continuous(lim=c(0,1)) +\n",
    "    coord_fixed(ratio=1) +\n",
    "    scale_colour_manual(values=c('black', my.colors)) +\n",
    "    labs(x=\"Threshold\", y=\"Matthews correlation coefficient\") +\n",
    "    theme_minimal()\n",
    "}"
   ]
  },
  {
   "cell_type": "markdown",
   "metadata": {},
   "source": [
    "## Subsample data, or even just shuffle it"
   ]
  },
  {
   "cell_type": "code",
   "execution_count": 57,
   "metadata": {
    "collapsed": false
   },
   "outputs": [
    {
     "name": "stdout",
     "output_type": "stream",
     "text": [
      "[1] 91216\n"
     ]
    }
   ],
   "source": [
    "originial.size <- dim(ft.clean.corymotifs.tfclasses)[1]\n",
    "sample.frac <- 1/10\n",
    "subsample.inds <- sample(originial.size, round(sample.frac*originial.size))\n",
    "ft.subsample <- ft.clean.corymotifs.tfclasses[subsample.inds,]\n",
    "print(length(subsample.inds))"
   ]
  },
  {
   "cell_type": "markdown",
   "metadata": {},
   "source": [
    "## Split data into test and train sets"
   ]
  },
  {
   "cell_type": "code",
   "execution_count": 58,
   "metadata": {
    "collapsed": false
   },
   "outputs": [],
   "source": [
    "# binarize chipseq score\n",
    "y <- as.numeric(ft.subsample$csscore > 0)\n",
    "\n",
    "# drop some more columns \n",
    "cols.to.drop <- c(\"csscore\", \"csTF\", \"motif\", \"loc\", \"totalsamplecount\")\n",
    "X <- as.matrix(ft.subsample[,!(colnames(ft.subsample) %in% cols.to.drop)])\n",
    "rownames(X) <- NULL\n",
    "\n",
    "# split into test and train sets\n",
    "train.inds <- split_data(y)\n",
    "\n",
    "X.train <- as.matrix(X[train.inds,])\n",
    "X.test <- as.matrix(X[-train.inds,])\n",
    "y.train <- y[train.inds]\n",
    "y.test <- y[-train.inds]"
   ]
  },
  {
   "cell_type": "markdown",
   "metadata": {},
   "source": [
    "## Train small model"
   ]
  },
  {
   "cell_type": "code",
   "execution_count": 59,
   "metadata": {
    "collapsed": true
   },
   "outputs": [],
   "source": [
    "param <- list(\"objective\" = \"binary:logistic\",\n",
    "          \"max.depth\" = 10,\n",
    "          \"eta\" = 0.001,\n",
    "          \"eval.metric\" = \"auc\"\n",
    "          )\n",
    "\n",
    "gbdt.smalltest <- xgboost(\n",
    "    params = param,\n",
    "    data = X.train,\n",
    "    label = y.train,\n",
    "    nround = 1000,\n",
    "    verbose = FALSE,\n",
    "    missing = NA\n",
    ")"
   ]
  },
  {
   "cell_type": "code",
   "execution_count": 60,
   "metadata": {
    "collapsed": true
   },
   "outputs": [],
   "source": [
    "smalltest.pred.df <- make.pred.df.from.model(gbdt.smalltest, X.test, y.test)\n",
    "smalltest.stat.df <- make.stats.df.from.preds(smalltest.pred.df, num.roc.points = 1001)"
   ]
  },
  {
   "cell_type": "code",
   "execution_count": 61,
   "metadata": {
    "collapsed": false
   },
   "outputs": [
    {
     "data": {},
     "metadata": {},
     "output_type": "display_data"
    },
    {
     "data": {
      "image/png": "[encoded data removed]",
      "text/plain": [
       "plot without title"
      ]
     },
     "metadata": {},
     "output_type": "display_data"
    }
   ],
   "source": [
    "plot.mattcc.curve(smalltest.stat.df)"
   ]
  },
  {
   "cell_type": "code",
   "execution_count": 62,
   "metadata": {
    "collapsed": false
   },
   "outputs": [
    {
     "data": {},
     "metadata": {},
     "output_type": "display_data"
    },
    {
     "data": {
      "image/png": "[encoded data removed]",
      "text/plain": [
       "plot without title"
      ]
     },
     "metadata": {},
     "output_type": "display_data"
    }
   ],
   "source": [
    "plot.roc.curve(smalltest.stat.df)"
   ]
  },
  {
   "cell_type": "code",
   "execution_count": 63,
   "metadata": {
    "collapsed": false
   },
   "outputs": [
    {
     "name": "stderr",
     "output_type": "stream",
     "text": [
      "Warning message:\n",
      "“Removed 185 rows containing missing values (geom_path).”"
     ]
    },
    {
     "data": {},
     "metadata": {},
     "output_type": "display_data"
    },
    {
     "data": {
      "image/png": "[encoded data removed]",
      "text/plain": [
       "plot without title"
      ]
     },
     "metadata": {},
     "output_type": "display_data"
    }
   ],
   "source": [
    "plot.precrecall.curve(smalltest.stat.df)"
   ]
  },
  {
   "cell_type": "code",
   "execution_count": 64,
   "metadata": {
    "collapsed": false
   },
   "outputs": [],
   "source": [
    "importance.matrix.smalltest <- xgb.importance(colnames(X),model=gbdt.smalltest)"
   ]
  },
  {
   "cell_type": "code",
   "execution_count": 65,
   "metadata": {
    "collapsed": false
   },
   "outputs": [
    {
     "data": {},
     "metadata": {},
     "output_type": "display_data"
    },
    {
     "data": {
      "image/png": "[encoded data removed]",
      "text/plain": [
       "plot without title"
      ]
     },
     "metadata": {},
     "output_type": "display_data"
    }
   ],
   "source": [
    "xgb.plot.importance(importance.matrix.smalltest)"
   ]
  },
  {
   "cell_type": "code",
   "execution_count": 36,
   "metadata": {
    "collapsed": false
   },
   "outputs": [],
   "source": []
  },
  {
   "cell_type": "code",
   "execution_count": null,
   "metadata": {
    "collapsed": false
   },
   "outputs": [],
   "source": []
  },
  {
   "cell_type": "code",
   "execution_count": null,
   "metadata": {
    "collapsed": true
   },
   "outputs": [],
   "source": []
  },
  {
   "cell_type": "code",
   "execution_count": null,
   "metadata": {
    "collapsed": true
   },
   "outputs": [],
   "source": []
  },
  {
   "cell_type": "markdown",
   "metadata": {},
   "source": [
    "## no TF class info"
   ]
  },
  {
   "cell_type": "code",
   "execution_count": null,
   "metadata": {
    "collapsed": true
   },
   "outputs": [],
   "source": []
  }
 ],
 "metadata": {
  "anaconda-cloud": {},
  "kernelspec": {
   "display_name": "R",
   "language": "R",
   "name": "ir"
  },
  "language_info": {
   "codemirror_mode": "r",
   "file_extension": ".r",
   "mimetype": "text/x-r-source",
   "name": "R",
   "pygments_lexer": "r",
   "version": "3.3.1"
  }
 },
 "nbformat": 4,
 "nbformat_minor": 0
}
