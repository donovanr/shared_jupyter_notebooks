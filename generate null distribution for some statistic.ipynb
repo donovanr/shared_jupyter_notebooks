{
 "cells": [
  {
   "cell_type": "code",
   "execution_count": 12,
   "metadata": {
    "collapsed": false
   },
   "outputs": [],
   "source": [
    "# generate some data -- random log p-value-ish things, about 150-200 of them\n",
    "# nothing special about the following formula for data generation\n",
    "my_data <- rexp(10^4)\n",
    "my_data <- log(1/(exp(my_data[my_data > 4]))^2)\n",
    "\n",
    "# our sample (eg master regulator tfs) is 17 of them all from the top half\n",
    "my_sample <- sample(head(sort(my_data),length(my_data)/2), 17, replace=FALSE)\n",
    "\n",
    "# our statistic is the mean of the data points in our sample\n",
    "my_mean <- mean(my_sample)"
   ]
  },
  {
   "cell_type": "code",
   "execution_count": 13,
   "metadata": {
    "collapsed": false
   },
   "outputs": [],
   "source": [
    "# build a null distribution of what the mean of 17 data points usually looks like\n",
    "# can swap out stat_func for median or whatever\n",
    "\n",
    "build_stat_dist <- function(data, set_size=17, stat_func=mean, n_boot=1000, replace=FALSE) {\n",
    "    \n",
    "    stat_vec <- sapply(\n",
    "                    1:n_boot,\n",
    "                    function(x) stat_func(sample(data, set_size, replace=replace))\n",
    "                )\n",
    "                        \n",
    "    return(stat_vec)\n",
    "}"
   ]
  },
  {
   "cell_type": "code",
   "execution_count": 14,
   "metadata": {
    "collapsed": false
   },
   "outputs": [],
   "source": [
    "# this takes half a minute for 10^6 bootstrap samples, maybe sapply isn't so fast after all\n",
    "# bootsrrapping parallelizes perfectly, worth thinking about if needed\n",
    "\n",
    "dist_out <- build_stat_dist(my_data, n_boot=10^6)"
   ]
  },
  {
   "cell_type": "code",
   "execution_count": 15,
   "metadata": {
    "collapsed": false
   },
   "outputs": [],
   "source": [
    "# use the info in the histogram object to compute the area under the (normalized) curve\n",
    "# to the left of our value -- obv switch to the right tail if our stat value is greater\n",
    "# than the mean, but for log p-vals, left is rarer\n",
    "\n",
    "get_p_value <- function(some_mean, some_distribution, which_tail=\"left\") {\n",
    "    \n",
    "    h <- hist(some_distribution, plot=FALSE)\n",
    "    grid <- h$mids\n",
    "    \n",
    "    stopifnot(which_tail %in% c(\"left\", \"right\"))\n",
    "    if (which_tail==\"left\") {\n",
    "        my_region <- grid[grid < some_mean]\n",
    "    } else {\n",
    "        my_region <- grid[grid > some_mean]\n",
    "    } \n",
    "    \n",
    "    my_inds <- match(my_region, grid)\n",
    "    my_area <- sum(h$density[my_inds])\n",
    "    my_prob <- my_area/sum(h$density)\n",
    "    \n",
    "    return(my_prob)\n",
    "\n",
    "}"
   ]
  },
  {
   "cell_type": "code",
   "execution_count": 16,
   "metadata": {
    "collapsed": false
   },
   "outputs": [
    {
     "data": {
      "text/html": [
       "0.00511100000000001"
      ],
      "text/latex": [
       "0.00511100000000001"
      ],
      "text/markdown": [
       "0.00511100000000001"
      ],
      "text/plain": [
       "[1] 0.005111"
      ]
     },
     "metadata": {},
     "output_type": "display_data"
    }
   ],
   "source": [
    "# my_prob should be the probability of geting our mean -- or an even more extremal value --\n",
    "# given the bootstrapped null distribution we generated from random sets of the same size\n",
    "\n",
    "get_p_value(my_mean, dist_out)"
   ]
  },
  {
   "cell_type": "code",
   "execution_count": 17,
   "metadata": {
    "collapsed": false
   },
   "outputs": [
    {
     "data": {},
     "metadata": {},
     "output_type": "display_data"
    },
    {
     "data": {
      "image/png": "[encoded data removed]",
      "text/plain": [
       "plot without title"
      ]
     },
     "metadata": {},
     "output_type": "display_data"
    }
   ],
   "source": [
    "# see what our distribution looks like\n",
    "# should be relatively smooth or we probably need more samples in generating it\n",
    "\n",
    "library(ggplot2)\n",
    "\n",
    "ggplot(as.data.frame(dist_out)) + \n",
    "geom_histogram(aes(x=dist_out, y=..density..), bins=100, alpha=0.5) +\n",
    "geom_vline(xintercept=my_mean, colour=\"lightblue\") +\n",
    "labs(x=\"log(p-value)\", y=\"probability\") +\n",
    "theme_minimal()"
   ]
  },
  {
   "cell_type": "code",
   "execution_count": null,
   "metadata": {
    "collapsed": true
   },
   "outputs": [],
   "source": []
  }
 ],
 "metadata": {
  "kernelspec": {
   "display_name": "R",
   "language": "R",
   "name": "ir"
  },
  "language_info": {
   "codemirror_mode": "r",
   "file_extension": ".r",
   "mimetype": "text/x-r-source",
   "name": "R",
   "pygments_lexer": "r",
   "version": "3.3.1"
  }
 },
 "nbformat": 4,
 "nbformat_minor": 0
}
