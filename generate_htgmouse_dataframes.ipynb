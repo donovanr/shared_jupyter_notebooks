{
 "cells": [
  {
   "cell_type": "markdown",
   "metadata": {},
   "source": [
    "# aggregate and annotate htg mouse allelic series data"
   ]
  },
  {
   "cell_type": "code",
   "execution_count": 182,
   "metadata": {
    "collapsed": false
   },
   "outputs": [],
   "source": [
    "library(tidyr)\n",
    "library(dplyr)"
   ]
  },
  {
   "cell_type": "markdown",
   "metadata": {},
   "source": [
    "master_decoder_ring.xls says there should be 716 mice in total for all mrna measurements at all timepoints"
   ]
  },
  {
   "cell_type": "code",
   "execution_count": 135,
   "metadata": {
    "collapsed": false
   },
   "outputs": [
    {
     "name": "stdout",
     "output_type": "stream",
     "text": [
      "[1] \"10m_liver_mrnacounts\"\n",
      "[1] \"liver_10m_rawcounts.xls\"\n",
      "[1] TRUE\n",
      "[1] TRUE\n",
      "[1]    55 23352\n",
      "[1] \"2m_liver_mrnacounts\"\n",
      "[1] \"liver_2m_rawcounts.xls\"\n",
      "[1] TRUE\n",
      "[1] TRUE\n",
      "[1]    56 23352\n",
      "[1] \"6m_liver_mrnacounts\"\n",
      "[1] \"liver_6m_rawcounts.xls\"\n",
      "[1] TRUE\n",
      "[1] TRUE\n",
      "[1]    56 23352\n",
      "[1] \"10m_cortex_mrnacounts\"\n",
      "[1] \"cortex_10m_rawcounts.xls\"\n",
      "[1] TRUE\n",
      "[1] TRUE\n",
      "[1]    56 23352\n",
      "[1] \"2m_cortex_mrnacounts\"\n",
      "[1] \"cortex_2m_rawcounts.xls\"\n",
      "[1] TRUE\n",
      "[1] TRUE\n",
      "[1]    56 23352\n",
      "[1] \"6m_cortex_mrnacounts\"\n",
      "[1] \"cortex_6m_rawcounts.xls\"\n",
      "[1] TRUE\n",
      "[1] TRUE\n",
      "[1]    56 23352\n",
      "[1] \"10m_striatum_mrnacounts\"\n",
      "[1] \"striatum_10m_rawcounts.xls\"\n",
      "[1] TRUE\n",
      "[1] TRUE\n",
      "[1]    56 23352\n",
      "[1] \"2m_striatum_mrnacounts\"\n",
      "[1] \"striatum_2m_rawcounts.xls\"\n",
      "[1] TRUE\n",
      "[1] TRUE\n",
      "[1]    56 23352\n",
      "[1] \"6m_striatum_mrnacounts\"\n",
      "[1] \"striatum_6m_rawcounts.xls\"\n",
      "[1] TRUE\n",
      "[1] TRUE\n",
      "[1]    96 23352\n"
     ]
    }
   ],
   "source": [
    "df <- data.frame()\n",
    "\n",
    "htg_dir <- \"/proj/price1/CHDI/studies/allelic_series/HDinHD_FPKMs/\"\n",
    "setwd(htg_dir)\n",
    "\n",
    "\n",
    "# loop though all dirs and append data to df\n",
    "dirs_to_check <- c()\n",
    "dirs_to_check <- append(dirs_to_check,list.files(pattern=\"*liver_mrnacounts\"))\n",
    "dirs_to_check <- append(dirs_to_check,list.files(pattern=\"*cortex_mrnacounts\"))\n",
    "dirs_to_check <- append(dirs_to_check,list.files(pattern=\"*striatum_mrnacounts\"))\n",
    "# dirs_to_check <- list.files(pattern=\"*mrnacounts\")\n",
    "\n",
    "input_type <- \"*rawcounts.xls\"\n",
    "for (somedir in dirs_to_check) {\n",
    "    print(somedir)\n",
    "    \n",
    "    # find the xls file and read in data\n",
    "    myfile <- list.files(path=somedir, pattern=\"*rawcounts.xls\")\n",
    "    print(myfile)\n",
    "\n",
    "    data <- read.delim(file.path(somedir,myfile), header=TRUE, sep=\"\\t\")\n",
    "    gene_names <- data$genename\n",
    "    cols_to_strip <- colnames(data)[1:3]\n",
    "    \n",
    "    # check to make sure we're concatenating on consistent gene ids\n",
    "    if(exists('old_gene_names')){\n",
    "        print(all.equal(gene_names,old_gene_names))\n",
    "    } else {\n",
    "        print(all.equal(gene_names,gene_names))\n",
    "    }\n",
    "    \n",
    "    # check to make sure we're stipping out the right columns, and not samples\n",
    "    print(all.equal(colnames(data)[1:3],c('genename', 'Entrez', 'description')))\n",
    "    \n",
    "    # get the data in rows = samples, cols = genes format\n",
    "    transposed_data <- t(data[-c(1:3)])\n",
    "    colnames(transposed_data) <- data[,1]\n",
    "    \n",
    "    # row names are a bad place to store important info -- make a column\n",
    "    transposed_data <- cbind(Sample.ID=rownames(transposed_data),transposed_data)\n",
    "    rownames(transposed_data) <- NULL\n",
    "    print(dim(transposed_data))\n",
    "    \n",
    "    # append data to master dataframe\n",
    "    df <- rbind(df,transposed_data)\n",
    "    \n",
    "    # for comparison above\n",
    "    old_gene_names <- gene_names\n",
    "\n",
    "}"
   ]
  },
  {
   "cell_type": "code",
   "execution_count": 136,
   "metadata": {
    "collapsed": false
   },
   "outputs": [
    {
     "name": "stdout",
     "output_type": "stream",
     "text": [
      "[1]   543 23352\n"
     ]
    },
    {
     "data": {
      "text/html": [
       "543"
      ],
      "text/latex": [
       "543"
      ],
      "text/markdown": [
       "543"
      ],
      "text/plain": [
       "[1] 543"
      ]
     },
     "metadata": {},
     "output_type": "display_data"
    }
   ],
   "source": [
    "print(dim(df))\n",
    "length(unique(df$Sample.ID))"
   ]
  },
  {
   "cell_type": "code",
   "execution_count": 167,
   "metadata": {
    "collapsed": false
   },
   "outputs": [
    {
     "data": {
      "text/html": [
       "<table>\n",
       "<thead><tr><th></th><th scope=col>Sample.ID</th><th scope=col>0610005C13Rik</th><th scope=col>0610007N19Rik</th><th scope=col>0610007P14Rik</th><th scope=col>0610008F07Rik</th><th scope=col>0610009B14Rik</th><th scope=col>0610009B22Rik</th><th scope=col>0610009D07Rik</th><th scope=col>0610009L18Rik</th><th scope=col>0610009O20Rik</th></tr></thead>\n",
       "<tbody>\n",
       "\t<tr><th scope=row>1</th><td>X300195_Q20B0009_08_L1.D707</td><td>4659                       </td><td>17                         </td><td>2092                       </td><td>266                        </td><td>0                          </td><td>504                        </td><td>836                        </td><td>6                          </td><td>962                        </td></tr>\n",
       "\t<tr><th scope=row>2</th><td>X300196_Q20B0013_05_L1.D708</td><td>5178                       </td><td>47                         </td><td>4415                       </td><td>347                        </td><td>0                          </td><td>417                        </td><td>868                        </td><td>19                         </td><td>1082                       </td></tr>\n",
       "\t<tr><th scope=row>3</th><td>X300197_Q20B0009_03_L1.D709</td><td>4643                       </td><td>17                         </td><td>2738                       </td><td>257                        </td><td>0                          </td><td>444                        </td><td>732                        </td><td>12                         </td><td>861                        </td></tr>\n",
       "\t<tr><th scope=row>4</th><td>X300198_Q92B0005_05_L1.D710</td><td>5350                       </td><td>54                         </td><td>4314                       </td><td>250                        </td><td>1                          </td><td>416                        </td><td>839                        </td><td>15                         </td><td>1182                       </td></tr>\n",
       "\t<tr><th scope=row>5</th><td>X300199_Q140B0001_08_L1.D711</td><td>5309                        </td><td>51                          </td><td>3358                        </td><td>215                         </td><td>0                           </td><td>685                         </td><td>902                         </td><td>5                           </td><td>1205                        </td></tr>\n",
       "\t<tr><th scope=row>6</th><td>X300200_Q92B0006_05_L29</td><td>4019                   </td><td>40                     </td><td>3462                   </td><td>167                    </td><td>2                      </td><td>481                    </td><td>728                    </td><td>19                     </td><td>1089                   </td></tr>\n",
       "\t<tr><th scope=row>7</th><td>X300201_Q111B0009_06_L1.D702</td><td>3614                        </td><td>24                          </td><td>2414                        </td><td>206                         </td><td>0                           </td><td>462                         </td><td>600                         </td><td>2                           </td><td>857                         </td></tr>\n",
       "\t<tr><th scope=row>8</th><td>X300202_Q80B0005_02_L11</td><td>3666                   </td><td>37                     </td><td>3306                   </td><td>144                    </td><td>0                      </td><td>406                    </td><td>795                    </td><td>9                      </td><td>977                    </td></tr>\n",
       "\t<tr><th scope=row>9</th><td>X300203_Q140B0001_06_L1.D704</td><td>5202                        </td><td>29                          </td><td>3507                        </td><td>208                         </td><td>0                           </td><td>664                         </td><td>909                         </td><td>3                           </td><td>1130                        </td></tr>\n",
       "\t<tr><th scope=row>10</th><td>X300204_Q20B0009_02_L1.D705</td><td>4256                       </td><td>29                         </td><td>2601                       </td><td>218                        </td><td>0                          </td><td>479                        </td><td>798                        </td><td>8                          </td><td>982                        </td></tr>\n",
       "</tbody>\n",
       "</table>\n"
      ],
      "text/latex": [
       "\\begin{tabular}{r|llllllllll}\n",
       "  & Sample.ID & 0610005C13Rik & 0610007N19Rik & 0610007P14Rik & 0610008F07Rik & 0610009B14Rik & 0610009B22Rik & 0610009D07Rik & 0610009L18Rik & 0610009O20Rik\\\\\n",
       "\\hline\n",
       "\t1 & X300195\\_Q20B0009\\_08\\_L1.D707 & 4659                              & 17                                & 2092                              & 266                               & 0                                 & 504                               & 836                               & 6                                 & 962                              \\\\\n",
       "\t2 & X300196\\_Q20B0013\\_05\\_L1.D708 & 5178                              & 47                                & 4415                              & 347                               & 0                                 & 417                               & 868                               & 19                                & 1082                             \\\\\n",
       "\t3 & X300197\\_Q20B0009\\_03\\_L1.D709 & 4643                              & 17                                & 2738                              & 257                               & 0                                 & 444                               & 732                               & 12                                & 861                              \\\\\n",
       "\t4 & X300198\\_Q92B0005\\_05\\_L1.D710 & 5350                              & 54                                & 4314                              & 250                               & 1                                 & 416                               & 839                               & 15                                & 1182                             \\\\\n",
       "\t5 & X300199\\_Q140B0001\\_08\\_L1.D711 & 5309                               & 51                                 & 3358                               & 215                                & 0                                  & 685                                & 902                                & 5                                  & 1205                              \\\\\n",
       "\t6 & X300200\\_Q92B0006\\_05\\_L29 & 4019                          & 40                            & 3462                          & 167                           & 2                             & 481                           & 728                           & 19                            & 1089                         \\\\\n",
       "\t7 & X300201\\_Q111B0009\\_06\\_L1.D702 & 3614                               & 24                                 & 2414                               & 206                                & 0                                  & 462                                & 600                                & 2                                  & 857                               \\\\\n",
       "\t8 & X300202\\_Q80B0005\\_02\\_L11 & 3666                          & 37                            & 3306                          & 144                           & 0                             & 406                           & 795                           & 9                             & 977                          \\\\\n",
       "\t9 & X300203\\_Q140B0001\\_06\\_L1.D704 & 5202                               & 29                                 & 3507                               & 208                                & 0                                  & 664                                & 909                                & 3                                  & 1130                              \\\\\n",
       "\t10 & X300204\\_Q20B0009\\_02\\_L1.D705 & 4256                              & 29                                & 2601                              & 218                               & 0                                 & 479                               & 798                               & 8                                 & 982                              \\\\\n",
       "\\end{tabular}\n"
      ],
      "text/plain": [
       "                      Sample.ID 0610005C13Rik 0610007N19Rik 0610007P14Rik\n",
       "1   X300195_Q20B0009_08_L1.D707          4659            17          2092\n",
       "2   X300196_Q20B0013_05_L1.D708          5178            47          4415\n",
       "3   X300197_Q20B0009_03_L1.D709          4643            17          2738\n",
       "4   X300198_Q92B0005_05_L1.D710          5350            54          4314\n",
       "5  X300199_Q140B0001_08_L1.D711          5309            51          3358\n",
       "6       X300200_Q92B0006_05_L29          4019            40          3462\n",
       "7  X300201_Q111B0009_06_L1.D702          3614            24          2414\n",
       "8       X300202_Q80B0005_02_L11          3666            37          3306\n",
       "9  X300203_Q140B0001_06_L1.D704          5202            29          3507\n",
       "10  X300204_Q20B0009_02_L1.D705          4256            29          2601\n",
       "   0610008F07Rik 0610009B14Rik 0610009B22Rik 0610009D07Rik 0610009L18Rik\n",
       "1            266             0           504           836             6\n",
       "2            347             0           417           868            19\n",
       "3            257             0           444           732            12\n",
       "4            250             1           416           839            15\n",
       "5            215             0           685           902             5\n",
       "6            167             2           481           728            19\n",
       "7            206             0           462           600             2\n",
       "8            144             0           406           795             9\n",
       "9            208             0           664           909             3\n",
       "10           218             0           479           798             8\n",
       "   0610009O20Rik\n",
       "1            962\n",
       "2           1082\n",
       "3            861\n",
       "4           1182\n",
       "5           1205\n",
       "6           1089\n",
       "7            857\n",
       "8            977\n",
       "9           1130\n",
       "10           982"
      ]
     },
     "metadata": {},
     "output_type": "display_data"
    }
   ],
   "source": [
    "head(df[,1:10],10)"
   ]
  },
  {
   "cell_type": "code",
   "execution_count": 150,
   "metadata": {
    "collapsed": false
   },
   "outputs": [
    {
     "name": "stdout",
     "output_type": "stream",
     "text": [
      "[1] 543  10\n"
     ]
    },
    {
     "data": {
      "text/html": [
       "<table>\n",
       "<thead><tr><th></th><th scope=col>PGI.Mouse.ID</th><th scope=col>observationid</th><th scope=col>Tissue</th><th scope=col>Seq.Type</th><th scope=col>GenoType</th><th scope=col>Housing.Conditions</th><th scope=col>Numeric.Q</th><th scope=col>Sex</th><th scope=col>Genotyped.CAG</th><th scope=col>Month</th></tr></thead>\n",
       "<tbody>\n",
       "\t<tr><th scope=row>874</th><td>Q175B0574.07                           </td><td>X20914_1_449L_striatum_Q175_WT_M_L1.LB1</td><td>striatum                               </td><td>mRNA                                   </td><td>WT                                     </td><td>Housed with Q175 and WT animals        </td><td>175                                    </td><td>MALE                                   </td><td>NA                                     </td><td>6                                      </td></tr>\n",
       "\t<tr><th scope=row>733</th><td>Q175B0574.06                       </td><td>X20921_1_450L_cortex_Q175_HET_M_L2.</td><td>cortex                             </td><td>mRNA                               </td><td>HET (Q175)                         </td><td>Housed with Q175 and WT animals    </td><td>175                                </td><td>MALE                               </td><td>207.082                            </td><td>6                                  </td></tr>\n",
       "\t<tr><th scope=row>881</th><td>Q175B0574.06                            </td><td>X20927_1_450L_striatum_Q175_HET_M_L1.LB2</td><td>striatum                                </td><td>mRNA                                    </td><td>HET (Q175)                              </td><td>Housed with Q175 and WT animals         </td><td>175                                     </td><td>MALE                                    </td><td>207.082                                 </td><td>6                                       </td></tr>\n",
       "\t<tr><th scope=row>875</th><td>Q175B0574.09                           </td><td>X20940_1_451L_striatum_Q175_WT_M_L6.LB3</td><td>striatum                               </td><td>mRNA                                   </td><td>WT                                     </td><td>Housed with Q175 and WT animals        </td><td>175                                    </td><td>MALE                                   </td><td>NA                                     </td><td>6                                      </td></tr>\n",
       "\t<tr><th scope=row>734</th><td>Q175B0574.10                          </td><td>X20947_1_452L_cortex_Q175_HET_M_L8.LB2</td><td>cortex                                </td><td>mRNA                                  </td><td>HET (Q175)                            </td><td>Housed with Q175 and WT animals       </td><td>175                                   </td><td>MALE                                  </td><td>209.069                               </td><td>6                                     </td></tr>\n",
       "\t<tr><th scope=row>478</th><td>Q175B0574.10                            </td><td>X20953_1_452L_striatum_Q175_HET_M_L8.LB4</td><td>striatum                                </td><td>mRNA                                    </td><td>HET (Q175)                              </td><td>Housed with Q175 and WT animals         </td><td>175                                     </td><td>MALE                                    </td><td>209.069                                 </td><td>6                                       </td></tr>\n",
       "</tbody>\n",
       "</table>\n"
      ],
      "text/latex": [
       "\\begin{tabular}{r|llllllllll}\n",
       "  & PGI.Mouse.ID & observationid & Tissue & Seq.Type & GenoType & Housing.Conditions & Numeric.Q & Sex & Genotyped.CAG & Month\\\\\n",
       "\\hline\n",
       "\t874 & Q175B0574.07                                          & X20914\\_1\\_449L\\_striatum\\_Q175\\_WT\\_M\\_L1.LB1 & striatum                                              & mRNA                                                  & WT                                                    & Housed with Q175 and WT animals                       & 175                                                   & MALE                                                  & NA                                                    & 6                                                    \\\\\n",
       "\t733 & Q175B0574.06                                      & X20921\\_1\\_450L\\_cortex\\_Q175\\_HET\\_M\\_L2. & cortex                                            & mRNA                                              & HET (Q175)                                        & Housed with Q175 and WT animals                   & 175                                               & MALE                                              & 207.082                                           & 6                                                \\\\\n",
       "\t881 & Q175B0574.06                                           & X20927\\_1\\_450L\\_striatum\\_Q175\\_HET\\_M\\_L1.LB2 & striatum                                               & mRNA                                                   & HET (Q175)                                             & Housed with Q175 and WT animals                        & 175                                                    & MALE                                                   & 207.082                                                & 6                                                     \\\\\n",
       "\t875 & Q175B0574.09                                          & X20940\\_1\\_451L\\_striatum\\_Q175\\_WT\\_M\\_L6.LB3 & striatum                                              & mRNA                                                  & WT                                                    & Housed with Q175 and WT animals                       & 175                                                   & MALE                                                  & NA                                                    & 6                                                    \\\\\n",
       "\t734 & Q175B0574.10                                         & X20947\\_1\\_452L\\_cortex\\_Q175\\_HET\\_M\\_L8.LB2 & cortex                                               & mRNA                                                 & HET (Q175)                                           & Housed with Q175 and WT animals                      & 175                                                  & MALE                                                 & 209.069                                              & 6                                                   \\\\\n",
       "\t478 & Q175B0574.10                                           & X20953\\_1\\_452L\\_striatum\\_Q175\\_HET\\_M\\_L8.LB4 & striatum                                               & mRNA                                                   & HET (Q175)                                             & Housed with Q175 and WT animals                        & 175                                                    & MALE                                                   & 209.069                                                & 6                                                     \\\\\n",
       "\\end{tabular}\n"
      ],
      "text/plain": [
       "    PGI.Mouse.ID                            observationid   Tissue Seq.Type\n",
       "874 Q175B0574.07  X20914_1_449L_striatum_Q175_WT_M_L1.LB1 striatum     mRNA\n",
       "733 Q175B0574.06      X20921_1_450L_cortex_Q175_HET_M_L2.   cortex     mRNA\n",
       "881 Q175B0574.06 X20927_1_450L_striatum_Q175_HET_M_L1.LB2 striatum     mRNA\n",
       "875 Q175B0574.09  X20940_1_451L_striatum_Q175_WT_M_L6.LB3 striatum     mRNA\n",
       "734 Q175B0574.10   X20947_1_452L_cortex_Q175_HET_M_L8.LB2   cortex     mRNA\n",
       "478 Q175B0574.10 X20953_1_452L_striatum_Q175_HET_M_L8.LB4 striatum     mRNA\n",
       "      GenoType              Housing.Conditions Numeric.Q  Sex Genotyped.CAG\n",
       "874         WT Housed with Q175 and WT animals       175 MALE            NA\n",
       "733 HET (Q175) Housed with Q175 and WT animals       175 MALE       207.082\n",
       "881 HET (Q175) Housed with Q175 and WT animals       175 MALE       207.082\n",
       "875         WT Housed with Q175 and WT animals       175 MALE            NA\n",
       "734 HET (Q175) Housed with Q175 and WT animals       175 MALE       209.069\n",
       "478 HET (Q175) Housed with Q175 and WT animals       175 MALE       209.069\n",
       "    Month\n",
       "874     6\n",
       "733     6\n",
       "881     6\n",
       "875     6\n",
       "734     6\n",
       "478     6"
      ]
     },
     "metadata": {},
     "output_type": "display_data"
    }
   ],
   "source": [
    "decoder_df <- read.delim(\"master_decoder_ring.csv\", header=TRUE, sep=\",\")\n",
    "decoder_df_mrna <- decoder_df[decoder_df$Seq.Type == \"mRNA\",]\n",
    "decoder_df_mrna <- decoder_df_mrna[decoder_df_mrna$Tissue %in% c('liver','cortex','striatum'),]\n",
    "print(dim(decoder_df_mrna))\n",
    "head(decoder_df_mrna[order(decoder_df_mrna$observationid),])"
   ]
  },
  {
   "cell_type": "code",
   "execution_count": 164,
   "metadata": {
    "collapsed": false
   },
   "outputs": [
    {
     "data": {
      "text/html": [
       "543"
      ],
      "text/latex": [
       "543"
      ],
      "text/markdown": [
       "543"
      ],
      "text/plain": [
       "[1] 543"
      ]
     },
     "metadata": {},
     "output_type": "display_data"
    },
    {
     "data": {
      "text/html": [
       "543"
      ],
      "text/latex": [
       "543"
      ],
      "text/markdown": [
       "543"
      ],
      "text/plain": [
       "[1] 543"
      ]
     },
     "metadata": {},
     "output_type": "display_data"
    },
    {
     "data": {
      "text/html": [
       "543"
      ],
      "text/latex": [
       "543"
      ],
      "text/markdown": [
       "543"
      ],
      "text/plain": [
       "[1] 543"
      ]
     },
     "metadata": {},
     "output_type": "display_data"
    }
   ],
   "source": [
    "# create a map from row in our df to row in decoder_df_mrna\n",
    "\n",
    "N <- length(df$Sample.ID)\n",
    "map <- rep(NA,N)\n",
    "\n",
    "for (i in 1:N){\n",
    "    samp_id <- df$Sample.ID[i]\n",
    "    long_X_string <- strsplit(as.character(samp_id),'_')\n",
    "    X_string <- long_X_string[[1]][1]\n",
    "    row_in_decoder_df <- grep(X_string,decoder_df_mrna$observationid)\n",
    "    if(length(row_in_decoder_df) > 0) {\n",
    "        map[i] <- row_in_decoder_df\n",
    "    }\n",
    "}\n",
    "\n",
    "length(map)\n",
    "sum(!is.na(map))\n",
    "length(unique(map))"
   ]
  },
  {
   "cell_type": "code",
   "execution_count": 172,
   "metadata": {
    "collapsed": true
   },
   "outputs": [],
   "source": [
    "reordered_decoder_df_mrna <- decoder_df_mrna[map,]"
   ]
  },
  {
   "cell_type": "code",
   "execution_count": 173,
   "metadata": {
    "collapsed": false
   },
   "outputs": [
    {
     "data": {
      "text/html": [
       "<table>\n",
       "<thead><tr><th></th><th scope=col>PGI.Mouse.ID</th><th scope=col>observationid</th><th scope=col>Tissue</th><th scope=col>Seq.Type</th><th scope=col>GenoType</th><th scope=col>Housing.Conditions</th><th scope=col>Numeric.Q</th><th scope=col>Sex</th><th scope=col>Genotyped.CAG</th><th scope=col>Month</th></tr></thead>\n",
       "<tbody>\n",
       "\t<tr><th scope=row>645</th><td>Q20B0009.08                   </td><td>X300195_Q20B0009_08_L1.D707   </td><td>liver                         </td><td>mRNA                          </td><td>HET (Q20)                     </td><td>Housed with Q20 and WT animals</td><td>20                            </td><td>MALE                          </td><td>19.9738                       </td><td>10                            </td></tr>\n",
       "\t<tr><th scope=row>384</th><td>Q20B0013.05                   </td><td>X300196_Q20B0013_05_L1.D708   </td><td>liver                         </td><td>mRNA                          </td><td>WT                            </td><td>Housed with Q20 and WT animals</td><td>20                            </td><td>FEMALE                        </td><td>7                             </td><td>10                            </td></tr>\n",
       "\t<tr><th scope=row>656</th><td>Q20B0009.03                   </td><td>X300197_Q20B0009_03_L1.D709   </td><td>liver                         </td><td>mRNA                          </td><td>WT                            </td><td>Housed with Q20 and WT animals</td><td>20                            </td><td>MALE                          </td><td>7                             </td><td>10                            </td></tr>\n",
       "\t<tr><th scope=row>657</th><td>Q92B0005.05                   </td><td>X300198_Q92B0005_05_L1.D710   </td><td>liver                         </td><td>mRNA                          </td><td>HET (Q92)                     </td><td>Housed with Q92 and WT animals</td><td>92                            </td><td>FEMALE                        </td><td>102.467                       </td><td>10                            </td></tr>\n",
       "\t<tr><th scope=row>658</th><td>Q140B0001.08                   </td><td>X300199_Q140B0001_08_L1.D711   </td><td>liver                          </td><td>mRNA                           </td><td>HET (Q140)                     </td><td>Housed with Q140 and WT animals</td><td>140                            </td><td>MALE                           </td><td>148.267                        </td><td>10                             </td></tr>\n",
       "\t<tr><th scope=row>659</th><td>Q92B0006.05                   </td><td>X300200_Q92B0006_05_L29       </td><td>liver                         </td><td>mRNA                          </td><td>HET (Q92)                     </td><td>Housed with Q92 and WT animals</td><td>92                            </td><td>FEMALE                        </td><td>101.695                       </td><td>10                            </td></tr>\n",
       "\t<tr><th scope=row>660</th><td>Q111B0009.06                   </td><td>X300201_Q111B0009_06_L1.D702   </td><td>liver                          </td><td>mRNA                           </td><td>HET (Q111)                     </td><td>Housed with Q111 and WT animals</td><td>111                            </td><td>MALE                           </td><td>125.096                        </td><td>10                             </td></tr>\n",
       "\t<tr><th scope=row>661</th><td>Q80B0005.02                   </td><td>X300202_Q80B0005_02_L11       </td><td>liver                         </td><td>mRNA                          </td><td>HET (Q80)                     </td><td>Housed with Q80 and WT animals</td><td>80                            </td><td>FEMALE                        </td><td>88.5356                       </td><td>10                            </td></tr>\n",
       "\t<tr><th scope=row>662</th><td>Q140B0001.06                   </td><td>X300203_Q140B0001_06_L1.D704   </td><td>liver                          </td><td>mRNA                           </td><td>HET (Q140)                     </td><td>Housed with Q140 and WT animals</td><td>140                            </td><td>MALE                           </td><td>145.227                        </td><td>10                             </td></tr>\n",
       "\t<tr><th scope=row>476</th><td>Q20B0009.02                   </td><td>X300204_Q20B0009_02_L1.D705   </td><td>liver                         </td><td>mRNA                          </td><td>HET (Q20)                     </td><td>Housed with Q20 and WT animals</td><td>20                            </td><td>MALE                          </td><td>20.012                        </td><td>10                            </td></tr>\n",
       "</tbody>\n",
       "</table>\n"
      ],
      "text/latex": [
       "\\begin{tabular}{r|llllllllll}\n",
       "  & PGI.Mouse.ID & observationid & Tissue & Seq.Type & GenoType & Housing.Conditions & Numeric.Q & Sex & Genotyped.CAG & Month\\\\\n",
       "\\hline\n",
       "\t645 & Q20B0009.08                       & X300195\\_Q20B0009\\_08\\_L1.D707 & liver                             & mRNA                              & HET (Q20)                         & Housed with Q20 and WT animals    & 20                                & MALE                              & 19.9738                           & 10                               \\\\\n",
       "\t384 & Q20B0013.05                       & X300196\\_Q20B0013\\_05\\_L1.D708 & liver                             & mRNA                              & WT                                & Housed with Q20 and WT animals    & 20                                & FEMALE                            & 7                                 & 10                               \\\\\n",
       "\t656 & Q20B0009.03                       & X300197\\_Q20B0009\\_03\\_L1.D709 & liver                             & mRNA                              & WT                                & Housed with Q20 and WT animals    & 20                                & MALE                              & 7                                 & 10                               \\\\\n",
       "\t657 & Q92B0005.05                       & X300198\\_Q92B0005\\_05\\_L1.D710 & liver                             & mRNA                              & HET (Q92)                         & Housed with Q92 and WT animals    & 92                                & FEMALE                            & 102.467                           & 10                               \\\\\n",
       "\t658 & Q140B0001.08                       & X300199\\_Q140B0001\\_08\\_L1.D711 & liver                              & mRNA                               & HET (Q140)                         & Housed with Q140 and WT animals    & 140                                & MALE                               & 148.267                            & 10                                \\\\\n",
       "\t659 & Q92B0006.05                    & X300200\\_Q92B0006\\_05\\_L29  & liver                          & mRNA                           & HET (Q92)                      & Housed with Q92 and WT animals & 92                             & FEMALE                         & 101.695                        & 10                            \\\\\n",
       "\t660 & Q111B0009.06                       & X300201\\_Q111B0009\\_06\\_L1.D702 & liver                              & mRNA                               & HET (Q111)                         & Housed with Q111 and WT animals    & 111                                & MALE                               & 125.096                            & 10                                \\\\\n",
       "\t661 & Q80B0005.02                    & X300202\\_Q80B0005\\_02\\_L11  & liver                          & mRNA                           & HET (Q80)                      & Housed with Q80 and WT animals & 80                             & FEMALE                         & 88.5356                        & 10                            \\\\\n",
       "\t662 & Q140B0001.06                       & X300203\\_Q140B0001\\_06\\_L1.D704 & liver                              & mRNA                               & HET (Q140)                         & Housed with Q140 and WT animals    & 140                                & MALE                               & 145.227                            & 10                                \\\\\n",
       "\t476 & Q20B0009.02                       & X300204\\_Q20B0009\\_02\\_L1.D705 & liver                             & mRNA                              & HET (Q20)                         & Housed with Q20 and WT animals    & 20                                & MALE                              & 20.012                            & 10                               \\\\\n",
       "\\end{tabular}\n"
      ],
      "text/plain": [
       "    PGI.Mouse.ID                observationid Tissue Seq.Type   GenoType\n",
       "645  Q20B0009.08  X300195_Q20B0009_08_L1.D707  liver     mRNA  HET (Q20)\n",
       "384  Q20B0013.05  X300196_Q20B0013_05_L1.D708  liver     mRNA         WT\n",
       "656  Q20B0009.03  X300197_Q20B0009_03_L1.D709  liver     mRNA         WT\n",
       "657  Q92B0005.05  X300198_Q92B0005_05_L1.D710  liver     mRNA  HET (Q92)\n",
       "658 Q140B0001.08 X300199_Q140B0001_08_L1.D711  liver     mRNA HET (Q140)\n",
       "659  Q92B0006.05      X300200_Q92B0006_05_L29  liver     mRNA  HET (Q92)\n",
       "660 Q111B0009.06 X300201_Q111B0009_06_L1.D702  liver     mRNA HET (Q111)\n",
       "661  Q80B0005.02      X300202_Q80B0005_02_L11  liver     mRNA  HET (Q80)\n",
       "662 Q140B0001.06 X300203_Q140B0001_06_L1.D704  liver     mRNA HET (Q140)\n",
       "476  Q20B0009.02  X300204_Q20B0009_02_L1.D705  liver     mRNA  HET (Q20)\n",
       "                 Housing.Conditions Numeric.Q    Sex Genotyped.CAG Month\n",
       "645  Housed with Q20 and WT animals        20   MALE       19.9738    10\n",
       "384  Housed with Q20 and WT animals        20 FEMALE        7.0000    10\n",
       "656  Housed with Q20 and WT animals        20   MALE        7.0000    10\n",
       "657  Housed with Q92 and WT animals        92 FEMALE      102.4670    10\n",
       "658 Housed with Q140 and WT animals       140   MALE      148.2670    10\n",
       "659  Housed with Q92 and WT animals        92 FEMALE      101.6950    10\n",
       "660 Housed with Q111 and WT animals       111   MALE      125.0960    10\n",
       "661  Housed with Q80 and WT animals        80 FEMALE       88.5356    10\n",
       "662 Housed with Q140 and WT animals       140   MALE      145.2270    10\n",
       "476  Housed with Q20 and WT animals        20   MALE       20.0120    10"
      ]
     },
     "metadata": {},
     "output_type": "display_data"
    }
   ],
   "source": [
    "head(reordered_decoder_df_mrna,10)"
   ]
  },
  {
   "cell_type": "code",
   "execution_count": 174,
   "metadata": {
    "collapsed": true
   },
   "outputs": [],
   "source": [
    "annotated_df <- cbind(reordered_decoder_df_mrna, df)"
   ]
  },
  {
   "cell_type": "code",
   "execution_count": 177,
   "metadata": {
    "collapsed": false
   },
   "outputs": [
    {
     "data": {
      "text/html": [
       "<table>\n",
       "<thead><tr><th></th><th scope=col>PGI.Mouse.ID</th><th scope=col>observationid</th><th scope=col>Tissue</th><th scope=col>Seq.Type</th><th scope=col>GenoType</th><th scope=col>Housing.Conditions</th><th scope=col>Numeric.Q</th><th scope=col>Sex</th><th scope=col>Genotyped.CAG</th><th scope=col>Month</th><th scope=col>Sample.ID</th><th scope=col>0610005C13Rik</th><th scope=col>0610007N19Rik</th><th scope=col>0610007P14Rik</th><th scope=col>0610008F07Rik</th><th scope=col>0610009B14Rik</th><th scope=col>0610009B22Rik</th><th scope=col>0610009D07Rik</th><th scope=col>0610009L18Rik</th><th scope=col>0610009O20Rik</th></tr></thead>\n",
       "<tbody>\n",
       "\t<tr><th scope=row>645</th><td>Q20B0009.08                   </td><td>X300195_Q20B0009_08_L1.D707   </td><td>liver                         </td><td>mRNA                          </td><td>HET (Q20)                     </td><td>Housed with Q20 and WT animals</td><td>20                            </td><td>MALE                          </td><td>19.9738                       </td><td>10                            </td><td>X300195_Q20B0009_08_L1.D707   </td><td>4659                          </td><td>17                            </td><td>2092                          </td><td>266                           </td><td>0                             </td><td>504                           </td><td>836                           </td><td>6                             </td><td>962                           </td></tr>\n",
       "\t<tr><th scope=row>384</th><td>Q20B0013.05                   </td><td>X300196_Q20B0013_05_L1.D708   </td><td>liver                         </td><td>mRNA                          </td><td>WT                            </td><td>Housed with Q20 and WT animals</td><td>20                            </td><td>FEMALE                        </td><td>7                             </td><td>10                            </td><td>X300196_Q20B0013_05_L1.D708   </td><td>5178                          </td><td>47                            </td><td>4415                          </td><td>347                           </td><td>0                             </td><td>417                           </td><td>868                           </td><td>19                            </td><td>1082                          </td></tr>\n",
       "\t<tr><th scope=row>656</th><td>Q20B0009.03                   </td><td>X300197_Q20B0009_03_L1.D709   </td><td>liver                         </td><td>mRNA                          </td><td>WT                            </td><td>Housed with Q20 and WT animals</td><td>20                            </td><td>MALE                          </td><td>7                             </td><td>10                            </td><td>X300197_Q20B0009_03_L1.D709   </td><td>4643                          </td><td>17                            </td><td>2738                          </td><td>257                           </td><td>0                             </td><td>444                           </td><td>732                           </td><td>12                            </td><td>861                           </td></tr>\n",
       "\t<tr><th scope=row>657</th><td>Q92B0005.05                   </td><td>X300198_Q92B0005_05_L1.D710   </td><td>liver                         </td><td>mRNA                          </td><td>HET (Q92)                     </td><td>Housed with Q92 and WT animals</td><td>92                            </td><td>FEMALE                        </td><td>102.467                       </td><td>10                            </td><td>X300198_Q92B0005_05_L1.D710   </td><td>5350                          </td><td>54                            </td><td>4314                          </td><td>250                           </td><td>1                             </td><td>416                           </td><td>839                           </td><td>15                            </td><td>1182                          </td></tr>\n",
       "\t<tr><th scope=row>658</th><td>Q140B0001.08                   </td><td>X300199_Q140B0001_08_L1.D711   </td><td>liver                          </td><td>mRNA                           </td><td>HET (Q140)                     </td><td>Housed with Q140 and WT animals</td><td>140                            </td><td>MALE                           </td><td>148.267                        </td><td>10                             </td><td>X300199_Q140B0001_08_L1.D711   </td><td>5309                           </td><td>51                             </td><td>3358                           </td><td>215                            </td><td>0                              </td><td>685                            </td><td>902                            </td><td>5                              </td><td>1205                           </td></tr>\n",
       "\t<tr><th scope=row>659</th><td>Q92B0006.05                   </td><td>X300200_Q92B0006_05_L29       </td><td>liver                         </td><td>mRNA                          </td><td>HET (Q92)                     </td><td>Housed with Q92 and WT animals</td><td>92                            </td><td>FEMALE                        </td><td>101.695                       </td><td>10                            </td><td>X300200_Q92B0006_05_L29       </td><td>4019                          </td><td>40                            </td><td>3462                          </td><td>167                           </td><td>2                             </td><td>481                           </td><td>728                           </td><td>19                            </td><td>1089                          </td></tr>\n",
       "</tbody>\n",
       "</table>\n"
      ],
      "text/latex": [
       "\\begin{tabular}{r|llllllllllllllllllll}\n",
       "  & PGI.Mouse.ID & observationid & Tissue & Seq.Type & GenoType & Housing.Conditions & Numeric.Q & Sex & Genotyped.CAG & Month & Sample.ID & 0610005C13Rik & 0610007N19Rik & 0610007P14Rik & 0610008F07Rik & 0610009B14Rik & 0610009B22Rik & 0610009D07Rik & 0610009L18Rik & 0610009O20Rik\\\\\n",
       "\\hline\n",
       "\t645 & Q20B0009.08                       & X300195\\_Q20B0009\\_08\\_L1.D707 & liver                             & mRNA                              & HET (Q20)                         & Housed with Q20 and WT animals    & 20                                & MALE                              & 19.9738                           & 10                                & X300195\\_Q20B0009\\_08\\_L1.D707 & 4659                              & 17                                & 2092                              & 266                               & 0                                 & 504                               & 836                               & 6                                 & 962                              \\\\\n",
       "\t384 & Q20B0013.05                       & X300196\\_Q20B0013\\_05\\_L1.D708 & liver                             & mRNA                              & WT                                & Housed with Q20 and WT animals    & 20                                & FEMALE                            & 7                                 & 10                                & X300196\\_Q20B0013\\_05\\_L1.D708 & 5178                              & 47                                & 4415                              & 347                               & 0                                 & 417                               & 868                               & 19                                & 1082                             \\\\\n",
       "\t656 & Q20B0009.03                       & X300197\\_Q20B0009\\_03\\_L1.D709 & liver                             & mRNA                              & WT                                & Housed with Q20 and WT animals    & 20                                & MALE                              & 7                                 & 10                                & X300197\\_Q20B0009\\_03\\_L1.D709 & 4643                              & 17                                & 2738                              & 257                               & 0                                 & 444                               & 732                               & 12                                & 861                              \\\\\n",
       "\t657 & Q92B0005.05                       & X300198\\_Q92B0005\\_05\\_L1.D710 & liver                             & mRNA                              & HET (Q92)                         & Housed with Q92 and WT animals    & 92                                & FEMALE                            & 102.467                           & 10                                & X300198\\_Q92B0005\\_05\\_L1.D710 & 5350                              & 54                                & 4314                              & 250                               & 1                                 & 416                               & 839                               & 15                                & 1182                             \\\\\n",
       "\t658 & Q140B0001.08                       & X300199\\_Q140B0001\\_08\\_L1.D711 & liver                              & mRNA                               & HET (Q140)                         & Housed with Q140 and WT animals    & 140                                & MALE                               & 148.267                            & 10                                 & X300199\\_Q140B0001\\_08\\_L1.D711 & 5309                               & 51                                 & 3358                               & 215                                & 0                                  & 685                                & 902                                & 5                                  & 1205                              \\\\\n",
       "\t659 & Q92B0006.05                    & X300200\\_Q92B0006\\_05\\_L29  & liver                          & mRNA                           & HET (Q92)                      & Housed with Q92 and WT animals & 92                             & FEMALE                         & 101.695                        & 10                             & X300200\\_Q92B0006\\_05\\_L29  & 4019                           & 40                             & 3462                           & 167                            & 2                              & 481                            & 728                            & 19                             & 1089                          \\\\\n",
       "\\end{tabular}\n"
      ],
      "text/plain": [
       "    PGI.Mouse.ID                observationid Tissue Seq.Type   GenoType\n",
       "645  Q20B0009.08  X300195_Q20B0009_08_L1.D707  liver     mRNA  HET (Q20)\n",
       "384  Q20B0013.05  X300196_Q20B0013_05_L1.D708  liver     mRNA         WT\n",
       "656  Q20B0009.03  X300197_Q20B0009_03_L1.D709  liver     mRNA         WT\n",
       "657  Q92B0005.05  X300198_Q92B0005_05_L1.D710  liver     mRNA  HET (Q92)\n",
       "658 Q140B0001.08 X300199_Q140B0001_08_L1.D711  liver     mRNA HET (Q140)\n",
       "659  Q92B0006.05      X300200_Q92B0006_05_L29  liver     mRNA  HET (Q92)\n",
       "                 Housing.Conditions Numeric.Q    Sex Genotyped.CAG Month\n",
       "645  Housed with Q20 and WT animals        20   MALE       19.9738    10\n",
       "384  Housed with Q20 and WT animals        20 FEMALE        7.0000    10\n",
       "656  Housed with Q20 and WT animals        20   MALE        7.0000    10\n",
       "657  Housed with Q92 and WT animals        92 FEMALE      102.4670    10\n",
       "658 Housed with Q140 and WT animals       140   MALE      148.2670    10\n",
       "659  Housed with Q92 and WT animals        92 FEMALE      101.6950    10\n",
       "                       Sample.ID 0610005C13Rik 0610007N19Rik 0610007P14Rik\n",
       "645  X300195_Q20B0009_08_L1.D707          4659            17          2092\n",
       "384  X300196_Q20B0013_05_L1.D708          5178            47          4415\n",
       "656  X300197_Q20B0009_03_L1.D709          4643            17          2738\n",
       "657  X300198_Q92B0005_05_L1.D710          5350            54          4314\n",
       "658 X300199_Q140B0001_08_L1.D711          5309            51          3358\n",
       "659      X300200_Q92B0006_05_L29          4019            40          3462\n",
       "    0610008F07Rik 0610009B14Rik 0610009B22Rik 0610009D07Rik 0610009L18Rik\n",
       "645           266             0           504           836             6\n",
       "384           347             0           417           868            19\n",
       "656           257             0           444           732            12\n",
       "657           250             1           416           839            15\n",
       "658           215             0           685           902             5\n",
       "659           167             2           481           728            19\n",
       "    0610009O20Rik\n",
       "645           962\n",
       "384          1082\n",
       "656           861\n",
       "657          1182\n",
       "658          1205\n",
       "659          1089"
      ]
     },
     "metadata": {},
     "output_type": "display_data"
    }
   ],
   "source": [
    "head(annotated_df[1:20])"
   ]
  },
  {
   "cell_type": "code",
   "execution_count": 187,
   "metadata": {
    "collapsed": false
   },
   "outputs": [
    {
     "name": "stderr",
     "output_type": "stream",
     "text": [
      "Warning message:\n",
      ": attributes are not identical across measure variables; they will be dropped"
     ]
    }
   ],
   "source": [
    "all_mrna_data_tidy <- gather(annotated_df, Gene, Expression,\n",
    "                             -PGI.Mouse.ID,\n",
    "                             -observationid,\n",
    "                             -Tissue,\n",
    "                             -Seq.Type,\n",
    "                             -GenoType,\n",
    "                             -Genotyped.CAG,\n",
    "                             -Housing.Conditions,\n",
    "                             -Numeric.Q,\n",
    "                             -Sex,\n",
    "                             -Genotyped.CAG,\n",
    "                             -Month,\n",
    "                             -Sample.ID\n",
    "                            )"
   ]
  },
  {
   "cell_type": "code",
   "execution_count": 200,
   "metadata": {
    "collapsed": false
   },
   "outputs": [
    {
     "data": {
      "text/html": [
       "<ol class=list-inline>\n",
       "\t<li>12679593</li>\n",
       "\t<li>13</li>\n",
       "</ol>\n"
      ],
      "text/latex": [
       "\\begin{enumerate*}\n",
       "\\item 12679593\n",
       "\\item 13\n",
       "\\end{enumerate*}\n"
      ],
      "text/markdown": [
       "1. 12679593\n",
       "2. 13\n",
       "\n",
       "\n"
      ],
      "text/plain": [
       "[1] 12679593       13"
      ]
     },
     "metadata": {},
     "output_type": "display_data"
    },
    {
     "data": {
      "text/html": [
       "<table>\n",
       "<thead><tr><th></th><th scope=col>PGI.Mouse.ID</th><th scope=col>observationid</th><th scope=col>Tissue</th><th scope=col>Seq.Type</th><th scope=col>GenoType</th><th scope=col>Housing.Conditions</th><th scope=col>Numeric.Q</th><th scope=col>Sex</th><th scope=col>Genotyped.CAG</th><th scope=col>Month</th><th scope=col>Sample.ID</th><th scope=col>Gene</th><th scope=col>Expression</th></tr></thead>\n",
       "<tbody>\n",
       "\t<tr><th scope=row>1</th><td>Q20B0009.08                   </td><td>X300195_Q20B0009_08_L1.D707   </td><td>liver                         </td><td>mRNA                          </td><td>HET (Q20)                     </td><td>Housed with Q20 and WT animals</td><td>20                            </td><td>MALE                          </td><td>19.9738                       </td><td>10                            </td><td>X300195_Q20B0009_08_L1.D707   </td><td>0610005C13Rik                 </td><td>4659                          </td></tr>\n",
       "\t<tr><th scope=row>2</th><td>Q20B0013.05                   </td><td>X300196_Q20B0013_05_L1.D708   </td><td>liver                         </td><td>mRNA                          </td><td>WT                            </td><td>Housed with Q20 and WT animals</td><td>20                            </td><td>FEMALE                        </td><td>7                             </td><td>10                            </td><td>X300196_Q20B0013_05_L1.D708   </td><td>0610005C13Rik                 </td><td>5178                          </td></tr>\n",
       "\t<tr><th scope=row>3</th><td>Q20B0009.03                   </td><td>X300197_Q20B0009_03_L1.D709   </td><td>liver                         </td><td>mRNA                          </td><td>WT                            </td><td>Housed with Q20 and WT animals</td><td>20                            </td><td>MALE                          </td><td>7                             </td><td>10                            </td><td>X300197_Q20B0009_03_L1.D709   </td><td>0610005C13Rik                 </td><td>4643                          </td></tr>\n",
       "\t<tr><th scope=row>4</th><td>Q92B0005.05                   </td><td>X300198_Q92B0005_05_L1.D710   </td><td>liver                         </td><td>mRNA                          </td><td>HET (Q92)                     </td><td>Housed with Q92 and WT animals</td><td>92                            </td><td>FEMALE                        </td><td>102.467                       </td><td>10                            </td><td>X300198_Q92B0005_05_L1.D710   </td><td>0610005C13Rik                 </td><td>5350                          </td></tr>\n",
       "\t<tr><th scope=row>5</th><td>Q140B0001.08                   </td><td>X300199_Q140B0001_08_L1.D711   </td><td>liver                          </td><td>mRNA                           </td><td>HET (Q140)                     </td><td>Housed with Q140 and WT animals</td><td>140                            </td><td>MALE                           </td><td>148.267                        </td><td>10                             </td><td>X300199_Q140B0001_08_L1.D711   </td><td>0610005C13Rik                  </td><td>5309                           </td></tr>\n",
       "\t<tr><th scope=row>6</th><td>Q92B0006.05                   </td><td>X300200_Q92B0006_05_L29       </td><td>liver                         </td><td>mRNA                          </td><td>HET (Q92)                     </td><td>Housed with Q92 and WT animals</td><td>92                            </td><td>FEMALE                        </td><td>101.695                       </td><td>10                            </td><td>X300200_Q92B0006_05_L29       </td><td>0610005C13Rik                 </td><td>4019                          </td></tr>\n",
       "</tbody>\n",
       "</table>\n"
      ],
      "text/latex": [
       "\\begin{tabular}{r|lllllllllllll}\n",
       "  & PGI.Mouse.ID & observationid & Tissue & Seq.Type & GenoType & Housing.Conditions & Numeric.Q & Sex & Genotyped.CAG & Month & Sample.ID & Gene & Expression\\\\\n",
       "\\hline\n",
       "\t1 & Q20B0009.08                       & X300195\\_Q20B0009\\_08\\_L1.D707 & liver                             & mRNA                              & HET (Q20)                         & Housed with Q20 and WT animals    & 20                                & MALE                              & 19.9738                           & 10                                & X300195\\_Q20B0009\\_08\\_L1.D707 & 0610005C13Rik                     & 4659                             \\\\\n",
       "\t2 & Q20B0013.05                       & X300196\\_Q20B0013\\_05\\_L1.D708 & liver                             & mRNA                              & WT                                & Housed with Q20 and WT animals    & 20                                & FEMALE                            & 7                                 & 10                                & X300196\\_Q20B0013\\_05\\_L1.D708 & 0610005C13Rik                     & 5178                             \\\\\n",
       "\t3 & Q20B0009.03                       & X300197\\_Q20B0009\\_03\\_L1.D709 & liver                             & mRNA                              & WT                                & Housed with Q20 and WT animals    & 20                                & MALE                              & 7                                 & 10                                & X300197\\_Q20B0009\\_03\\_L1.D709 & 0610005C13Rik                     & 4643                             \\\\\n",
       "\t4 & Q92B0005.05                       & X300198\\_Q92B0005\\_05\\_L1.D710 & liver                             & mRNA                              & HET (Q92)                         & Housed with Q92 and WT animals    & 92                                & FEMALE                            & 102.467                           & 10                                & X300198\\_Q92B0005\\_05\\_L1.D710 & 0610005C13Rik                     & 5350                             \\\\\n",
       "\t5 & Q140B0001.08                       & X300199\\_Q140B0001\\_08\\_L1.D711 & liver                              & mRNA                               & HET (Q140)                         & Housed with Q140 and WT animals    & 140                                & MALE                               & 148.267                            & 10                                 & X300199\\_Q140B0001\\_08\\_L1.D711 & 0610005C13Rik                      & 5309                              \\\\\n",
       "\t6 & Q92B0006.05                    & X300200\\_Q92B0006\\_05\\_L29  & liver                          & mRNA                           & HET (Q92)                      & Housed with Q92 and WT animals & 92                             & FEMALE                         & 101.695                        & 10                             & X300200\\_Q92B0006\\_05\\_L29  & 0610005C13Rik                  & 4019                          \\\\\n",
       "\\end{tabular}\n"
      ],
      "text/plain": [
       "  PGI.Mouse.ID                observationid Tissue Seq.Type   GenoType\n",
       "1  Q20B0009.08  X300195_Q20B0009_08_L1.D707  liver     mRNA  HET (Q20)\n",
       "2  Q20B0013.05  X300196_Q20B0013_05_L1.D708  liver     mRNA         WT\n",
       "3  Q20B0009.03  X300197_Q20B0009_03_L1.D709  liver     mRNA         WT\n",
       "4  Q92B0005.05  X300198_Q92B0005_05_L1.D710  liver     mRNA  HET (Q92)\n",
       "5 Q140B0001.08 X300199_Q140B0001_08_L1.D711  liver     mRNA HET (Q140)\n",
       "6  Q92B0006.05      X300200_Q92B0006_05_L29  liver     mRNA  HET (Q92)\n",
       "               Housing.Conditions Numeric.Q    Sex Genotyped.CAG Month\n",
       "1  Housed with Q20 and WT animals        20   MALE       19.9738    10\n",
       "2  Housed with Q20 and WT animals        20 FEMALE        7.0000    10\n",
       "3  Housed with Q20 and WT animals        20   MALE        7.0000    10\n",
       "4  Housed with Q92 and WT animals        92 FEMALE      102.4670    10\n",
       "5 Housed with Q140 and WT animals       140   MALE      148.2670    10\n",
       "6  Housed with Q92 and WT animals        92 FEMALE      101.6950    10\n",
       "                     Sample.ID          Gene Expression\n",
       "1  X300195_Q20B0009_08_L1.D707 0610005C13Rik       4659\n",
       "2  X300196_Q20B0013_05_L1.D708 0610005C13Rik       5178\n",
       "3  X300197_Q20B0009_03_L1.D709 0610005C13Rik       4643\n",
       "4  X300198_Q92B0005_05_L1.D710 0610005C13Rik       5350\n",
       "5 X300199_Q140B0001_08_L1.D711 0610005C13Rik       5309\n",
       "6      X300200_Q92B0006_05_L29 0610005C13Rik       4019"
      ]
     },
     "metadata": {},
     "output_type": "display_data"
    }
   ],
   "source": [
    "dim(all_mrna_data_tidy)\n",
    "head(all_mrna_data_tidy)"
   ]
  },
  {
   "cell_type": "code",
   "execution_count": 199,
   "metadata": {
    "collapsed": false
   },
   "outputs": [
    {
     "data": {
      "text/html": [
       "<ol class=list-inline>\n",
       "\t<li>543</li>\n",
       "\t<li>23352</li>\n",
       "</ol>\n"
      ],
      "text/latex": [
       "\\begin{enumerate*}\n",
       "\\item 543\n",
       "\\item 23352\n",
       "\\end{enumerate*}\n"
      ],
      "text/markdown": [
       "1. 543\n",
       "2. 23352\n",
       "\n",
       "\n"
      ],
      "text/plain": [
       "[1]   543 23352"
      ]
     },
     "metadata": {},
     "output_type": "display_data"
    },
    {
     "data": {
      "text/html": [
       "23351"
      ],
      "text/latex": [
       "23351"
      ],
      "text/markdown": [
       "23351"
      ],
      "text/plain": [
       "[1] 23351"
      ]
     },
     "metadata": {},
     "output_type": "display_data"
    }
   ],
   "source": [
    "dim(df)\n",
    "length(unique(all_mrna_data_tidy$Gene))"
   ]
  },
  {
   "cell_type": "code",
   "execution_count": 202,
   "metadata": {
    "collapsed": true
   },
   "outputs": [],
   "source": [
    "# save data -- names persist so pick the right ones of rthe normalization\n",
    "\n",
    "all_mrna_data_raw <- annotated_df\n",
    "all_mrna_data_raw_tidy <- all_mrna_data_tidy\n",
    "\n",
    "save(all_mrna_data_raw,file=\"all_mrna_data_RAW.Rdata\")\n",
    "save(all_mrna_data_raw_tidy,file=\"all_mrna_data_tidy_RAW.Rdata\")"
   ]
  },
  {
   "cell_type": "markdown",
   "metadata": {},
   "source": [
    "## create nonparanormally normalized data"
   ]
  },
  {
   "cell_type": "code",
   "execution_count": 209,
   "metadata": {
    "collapsed": false
   },
   "outputs": [],
   "source": [
    "if (!require(huge)) {\n",
    "    install.packages('huge', repos='http://cran.us.r-project.org')\n",
    "    require(huge)\n",
    "}"
   ]
  },
  {
   "cell_type": "code",
   "execution_count": 221,
   "metadata": {
    "collapsed": false
   },
   "outputs": [
    {
     "data": {
      "text/html": [
       "<table>\n",
       "<thead><tr><th></th><th scope=col>Sample.ID</th><th scope=col>0610005C13Rik</th><th scope=col>0610007N19Rik</th><th scope=col>0610007P14Rik</th><th scope=col>0610008F07Rik</th><th scope=col>0610009B14Rik</th><th scope=col>0610009B22Rik</th><th scope=col>0610009D07Rik</th><th scope=col>0610009L18Rik</th><th scope=col>0610009O20Rik</th></tr></thead>\n",
       "<tbody>\n",
       "\t<tr><th scope=row>645</th><td>X300195_Q20B0009_08_L1.D707</td><td>4659                       </td><td>17                         </td><td>2092                       </td><td>266                        </td><td>0                          </td><td>504                        </td><td>836                        </td><td>6                          </td><td>962                        </td></tr>\n",
       "\t<tr><th scope=row>384</th><td>X300196_Q20B0013_05_L1.D708</td><td>5178                       </td><td>47                         </td><td>4415                       </td><td>347                        </td><td>0                          </td><td>417                        </td><td>868                        </td><td>19                         </td><td>1082                       </td></tr>\n",
       "\t<tr><th scope=row>656</th><td>X300197_Q20B0009_03_L1.D709</td><td>4643                       </td><td>17                         </td><td>2738                       </td><td>257                        </td><td>0                          </td><td>444                        </td><td>732                        </td><td>12                         </td><td>861                        </td></tr>\n",
       "\t<tr><th scope=row>657</th><td>X300198_Q92B0005_05_L1.D710</td><td>5350                       </td><td>54                         </td><td>4314                       </td><td>250                        </td><td>1                          </td><td>416                        </td><td>839                        </td><td>15                         </td><td>1182                       </td></tr>\n",
       "\t<tr><th scope=row>658</th><td>X300199_Q140B0001_08_L1.D711</td><td>5309                        </td><td>51                          </td><td>3358                        </td><td>215                         </td><td>0                           </td><td>685                         </td><td>902                         </td><td>5                           </td><td>1205                        </td></tr>\n",
       "\t<tr><th scope=row>659</th><td>X300200_Q92B0006_05_L29</td><td>4019                   </td><td>40                     </td><td>3462                   </td><td>167                    </td><td>2                      </td><td>481                    </td><td>728                    </td><td>19                     </td><td>1089                   </td></tr>\n",
       "</tbody>\n",
       "</table>\n"
      ],
      "text/latex": [
       "\\begin{tabular}{r|llllllllll}\n",
       "  & Sample.ID & 0610005C13Rik & 0610007N19Rik & 0610007P14Rik & 0610008F07Rik & 0610009B14Rik & 0610009B22Rik & 0610009D07Rik & 0610009L18Rik & 0610009O20Rik\\\\\n",
       "\\hline\n",
       "\t645 & X300195\\_Q20B0009\\_08\\_L1.D707 & 4659                              & 17                                & 2092                              & 266                               & 0                                 & 504                               & 836                               & 6                                 & 962                              \\\\\n",
       "\t384 & X300196\\_Q20B0013\\_05\\_L1.D708 & 5178                              & 47                                & 4415                              & 347                               & 0                                 & 417                               & 868                               & 19                                & 1082                             \\\\\n",
       "\t656 & X300197\\_Q20B0009\\_03\\_L1.D709 & 4643                              & 17                                & 2738                              & 257                               & 0                                 & 444                               & 732                               & 12                                & 861                              \\\\\n",
       "\t657 & X300198\\_Q92B0005\\_05\\_L1.D710 & 5350                              & 54                                & 4314                              & 250                               & 1                                 & 416                               & 839                               & 15                                & 1182                             \\\\\n",
       "\t658 & X300199\\_Q140B0001\\_08\\_L1.D711 & 5309                               & 51                                 & 3358                               & 215                                & 0                                  & 685                                & 902                                & 5                                  & 1205                              \\\\\n",
       "\t659 & X300200\\_Q92B0006\\_05\\_L29 & 4019                          & 40                            & 3462                          & 167                           & 2                             & 481                           & 728                           & 19                            & 1089                         \\\\\n",
       "\\end{tabular}\n"
      ],
      "text/plain": [
       "                       Sample.ID 0610005C13Rik 0610007N19Rik 0610007P14Rik\n",
       "645  X300195_Q20B0009_08_L1.D707          4659            17          2092\n",
       "384  X300196_Q20B0013_05_L1.D708          5178            47          4415\n",
       "656  X300197_Q20B0009_03_L1.D709          4643            17          2738\n",
       "657  X300198_Q92B0005_05_L1.D710          5350            54          4314\n",
       "658 X300199_Q140B0001_08_L1.D711          5309            51          3358\n",
       "659      X300200_Q92B0006_05_L29          4019            40          3462\n",
       "    0610008F07Rik 0610009B14Rik 0610009B22Rik 0610009D07Rik 0610009L18Rik\n",
       "645           266             0           504           836             6\n",
       "384           347             0           417           868            19\n",
       "656           257             0           444           732            12\n",
       "657           250             1           416           839            15\n",
       "658           215             0           685           902             5\n",
       "659           167             2           481           728            19\n",
       "    0610009O20Rik\n",
       "645           962\n",
       "384          1082\n",
       "656           861\n",
       "657          1182\n",
       "658          1205\n",
       "659          1089"
      ]
     },
     "metadata": {},
     "output_type": "display_data"
    }
   ],
   "source": [
    "head(all_mrna_data_raw[,11:20])"
   ]
  },
  {
   "cell_type": "code",
   "execution_count": 229,
   "metadata": {
    "collapsed": false
   },
   "outputs": [
    {
     "data": {
      "text/html": [
       "<ol class=list-inline>\n",
       "\t<li>543</li>\n",
       "\t<li>23351</li>\n",
       "</ol>\n"
      ],
      "text/latex": [
       "\\begin{enumerate*}\n",
       "\\item 543\n",
       "\\item 23351\n",
       "\\end{enumerate*}\n"
      ],
      "text/markdown": [
       "1. 543\n",
       "2. 23351\n",
       "\n",
       "\n"
      ],
      "text/plain": [
       "[1]   543 23351"
      ]
     },
     "metadata": {},
     "output_type": "display_data"
    }
   ],
   "source": [
    "all_mrna_data_raw_just_gnxp <- all_mrna_data_raw[,-c(1:11)]\n",
    "dim(all_mrna_data_raw_just_gnxp)"
   ]
  },
  {
   "cell_type": "code",
   "execution_count": 226,
   "metadata": {
    "collapsed": false
   },
   "outputs": [],
   "source": [
    "X <- all_mrna_data_raw_just_gnxp"
   ]
  },
  {
   "cell_type": "code",
   "execution_count": 227,
   "metadata": {
    "collapsed": false
   },
   "outputs": [
    {
     "name": "stdout",
     "output_type": "stream",
     "text": [
      "Conducting the nonparanormal (npn) transformation via shrunkun ECDF....done.\n"
     ]
    }
   ],
   "source": [
    "X_npn <- huge.npn(X)"
   ]
  },
  {
   "cell_type": "code",
   "execution_count": 228,
   "metadata": {
    "collapsed": false
   },
   "outputs": [
    {
     "name": "stdout",
     "output_type": "stream",
     "text": [
      " num [1:543, 1:23351] 0.831 1.047 0.818 1.139 1.121 ...\n",
      " - attr(*, \"dimnames\")=List of 2\n",
      "  ..$ : chr [1:543] \"645\" \"384\" \"656\" \"657\" ...\n",
      "  ..$ : chr [1:23351] \"0610005C13Rik\" \"0610007N19Rik\" \"0610007P14Rik\" \"0610008F07Rik\" ...\n"
     ]
    }
   ],
   "source": [
    "str(X_npn)"
   ]
  },
  {
   "cell_type": "code",
   "execution_count": 233,
   "metadata": {
    "collapsed": false
   },
   "outputs": [
    {
     "data": {
      "image/png": "[encoded data removed]",
      "image/svg+xml": [
       "<?xml version=\"1.0\" encoding=\"UTF-8\"?>\n",
       "<svg xmlns=\"http://www.w3.org/2000/svg\" xmlns:xlink=\"http://www.w3.org/1999/xlink\" width=\"504pt\" height=\"504pt\" viewBox=\"0 0 504 504\" version=\"1.1\">\n",
       "<defs>\n",
       "<g>\n",
       "<symbol overflow=\"visible\" id=\"glyph0-0\">\n",
       "<path style=\"stroke:none;\" d=\"\"/>\n",
       "</symbol>\n",
       "<symbol overflow=\"visible\" id=\"glyph0-1\">\n",
       "<path style=\"stroke:none;\" d=\"M 7.296875 -4.765625 L 7.296875 0 L 9.46875 0 L 9.46875 -10.5 L 7.296875 -10.5 L 7.296875 -6.5625 L 3.140625 -6.5625 L 3.140625 -10.5 L 0.984375 -10.5 L 0.984375 0 L 3.140625 0 L 3.140625 -4.765625 Z \"/>\n",
       "</symbol>\n",
       "<symbol overflow=\"visible\" id=\"glyph0-2\">\n",
       "<path style=\"stroke:none;\" d=\"M 2.984375 -7.78125 L 0.96875 -7.78125 L 0.96875 0 L 2.984375 0 Z M 2.984375 -10.5 L 0.96875 -10.5 L 0.96875 -8.703125 L 2.984375 -8.703125 Z \"/>\n",
       "</symbol>\n",
       "<symbol overflow=\"visible\" id=\"glyph0-3\">\n",
       "<path style=\"stroke:none;\" d=\"M 7.28125 -5.265625 C 7.25 -6.921875 5.984375 -7.90625 3.890625 -7.90625 C 1.921875 -7.90625 0.6875 -6.921875 0.6875 -5.3125 C 0.6875 -4.796875 0.84375 -4.34375 1.125 -4.046875 C 1.390625 -3.78125 1.640625 -3.640625 2.390625 -3.40625 L 4.796875 -2.65625 C 5.296875 -2.5 5.46875 -2.328125 5.46875 -2.015625 C 5.46875 -1.546875 4.90625 -1.25 3.96875 -1.25 C 3.453125 -1.25 3.046875 -1.359375 2.78125 -1.53125 C 2.5625 -1.6875 2.484375 -1.84375 2.390625 -2.265625 L 0.421875 -2.265625 C 0.46875 -0.5625 1.734375 0.328125 4.09375 0.328125 C 5.171875 0.328125 6 0.09375 6.5625 -0.359375 C 7.140625 -0.828125 7.484375 -1.546875 7.484375 -2.3125 C 7.484375 -3.3125 6.984375 -3.96875 5.96875 -4.265625 L 3.421875 -5 C 2.859375 -5.171875 2.703125 -5.28125 2.703125 -5.609375 C 2.703125 -6.03125 3.171875 -6.328125 3.875 -6.328125 C 4.84375 -6.328125 5.3125 -5.984375 5.328125 -5.265625 Z \"/>\n",
       "</symbol>\n",
       "<symbol overflow=\"visible\" id=\"glyph0-4\">\n",
       "<path style=\"stroke:none;\" d=\"M 4.34375 -7.625 L 3.21875 -7.625 L 3.21875 -9.703125 L 1.203125 -9.703125 L 1.203125 -7.625 L 0.203125 -7.625 L 0.203125 -6.28125 L 1.203125 -6.28125 L 1.203125 -1.5 C 1.203125 -0.28125 1.84375 0.328125 3.171875 0.328125 C 3.609375 0.328125 3.96875 0.28125 4.34375 0.171875 L 4.34375 -1.234375 C 4.140625 -1.203125 4.015625 -1.203125 3.875 -1.203125 C 3.34375 -1.203125 3.21875 -1.359375 3.21875 -2.046875 L 3.21875 -6.28125 L 4.34375 -6.28125 Z \"/>\n",
       "</symbol>\n",
       "<symbol overflow=\"visible\" id=\"glyph0-5\">\n",
       "<path style=\"stroke:none;\" d=\"M 4.34375 -7.90625 C 1.953125 -7.90625 0.5 -6.34375 0.5 -3.78125 C 0.5 -1.21875 1.953125 0.328125 4.34375 0.328125 C 6.71875 0.328125 8.203125 -1.234375 8.203125 -3.734375 C 8.203125 -6.375 6.765625 -7.90625 4.34375 -7.90625 Z M 4.34375 -6.28125 C 5.453125 -6.28125 6.1875 -5.28125 6.1875 -3.765625 C 6.1875 -2.3125 5.4375 -1.296875 4.34375 -1.296875 C 3.25 -1.296875 2.515625 -2.3125 2.515625 -3.78125 C 2.515625 -5.265625 3.25 -6.28125 4.34375 -6.28125 Z \"/>\n",
       "</symbol>\n",
       "<symbol overflow=\"visible\" id=\"glyph0-6\">\n",
       "<path style=\"stroke:none;\" d=\"M 5.875 -7.78125 L 5.875 -6.578125 C 5.265625 -7.5 4.609375 -7.90625 3.71875 -7.90625 C 1.875 -7.90625 0.484375 -6.109375 0.484375 -3.703125 C 0.484375 -1.28125 1.75 0.328125 3.671875 0.328125 C 4.578125 0.328125 5.125 0.0625 5.875 -0.796875 L 5.875 0.265625 C 5.875 1.203125 5.171875 1.84375 4.15625 1.84375 C 3.40625 1.84375 2.890625 1.53125 2.734375 0.9375 L 0.640625 0.9375 C 0.65625 1.546875 0.890625 1.953125 1.40625 2.390625 C 2.03125 2.890625 2.890625 3.140625 4.09375 3.140625 C 6.4375 3.140625 7.796875 2.09375 7.796875 0.265625 L 7.796875 -7.78125 Z M 4.15625 -6.21875 C 5.15625 -6.21875 5.90625 -5.171875 5.90625 -3.734375 C 5.90625 -2.3125 5.171875 -1.359375 4.125 -1.359375 C 3.171875 -1.359375 2.5 -2.3125 2.5 -3.734375 C 2.5 -5.203125 3.171875 -6.21875 4.15625 -6.21875 Z \"/>\n",
       "</symbol>\n",
       "<symbol overflow=\"visible\" id=\"glyph0-7\">\n",
       "<path style=\"stroke:none;\" d=\"M 0.90625 -7.78125 L 0.90625 0 L 2.921875 0 L 2.921875 -4.140625 C 2.921875 -5.3125 3.515625 -5.90625 4.703125 -5.90625 C 4.90625 -5.90625 5.0625 -5.890625 5.328125 -5.84375 L 5.328125 -7.890625 C 5.21875 -7.90625 5.140625 -7.90625 5.078125 -7.90625 C 4.15625 -7.90625 3.359375 -7.296875 2.921875 -6.25 L 2.921875 -7.78125 Z \"/>\n",
       "</symbol>\n",
       "<symbol overflow=\"visible\" id=\"glyph0-8\">\n",
       "<path style=\"stroke:none;\" d=\"M 7.546875 -0.25 C 7.1875 -0.578125 7.09375 -0.796875 7.09375 -1.203125 L 7.09375 -5.515625 C 7.09375 -7.109375 6 -7.90625 3.90625 -7.90625 C 1.796875 -7.90625 0.703125 -7.015625 0.578125 -5.21875 L 2.515625 -5.21875 C 2.625 -6.015625 2.953125 -6.28125 3.953125 -6.28125 C 4.71875 -6.28125 5.109375 -6.015625 5.109375 -5.5 C 5.109375 -5.25 4.984375 -5.015625 4.765625 -4.890625 C 4.5 -4.75 4.5 -4.75 3.5 -4.59375 L 2.6875 -4.453125 C 1.15625 -4.1875 0.40625 -3.40625 0.40625 -2 C 0.40625 -1.34375 0.59375 -0.796875 0.953125 -0.40625 C 1.390625 0.0625 2.078125 0.328125 2.765625 0.328125 C 3.625 0.328125 4.421875 -0.046875 5.125 -0.78125 C 5.125 -0.375 5.171875 -0.234375 5.359375 0 L 7.546875 0 Z M 5.109375 -3.125 C 5.109375 -1.953125 4.53125 -1.296875 3.515625 -1.296875 C 2.84375 -1.296875 2.421875 -1.65625 2.421875 -2.234375 C 2.421875 -2.84375 2.734375 -3.125 3.578125 -3.296875 L 4.265625 -3.421875 C 4.796875 -3.53125 4.890625 -3.5625 5.109375 -3.671875 Z \"/>\n",
       "</symbol>\n",
       "<symbol overflow=\"visible\" id=\"glyph0-9\">\n",
       "<path style=\"stroke:none;\" d=\"M 0.859375 -7.78125 L 0.859375 0 L 2.875 0 L 2.875 -4.671875 C 2.875 -5.625 3.40625 -6.1875 4.265625 -6.1875 C 4.9375 -6.1875 5.359375 -5.8125 5.359375 -5.1875 L 5.359375 0 L 7.375 0 L 7.375 -4.671875 C 7.375 -5.625 7.890625 -6.1875 8.765625 -6.1875 C 9.4375 -6.1875 9.859375 -5.8125 9.859375 -5.1875 L 9.859375 0 L 11.875 0 L 11.875 -5.5 C 11.875 -7.015625 10.953125 -7.90625 9.390625 -7.90625 C 8.40625 -7.90625 7.71875 -7.5625 7.109375 -6.75 C 6.734375 -7.484375 5.96875 -7.90625 5 -7.90625 C 4.109375 -7.90625 3.53125 -7.609375 2.859375 -6.8125 L 2.859375 -7.78125 Z \"/>\n",
       "</symbol>\n",
       "<symbol overflow=\"visible\" id=\"glyph0-10\">\n",
       "<path style=\"stroke:none;\" d=\"\"/>\n",
       "</symbol>\n",
       "<symbol overflow=\"visible\" id=\"glyph0-11\">\n",
       "<path style=\"stroke:none;\" d=\"M 4.515625 -7.625 L 3.3125 -7.625 L 3.3125 -8.390625 C 3.3125 -8.78125 3.484375 -8.984375 3.859375 -8.984375 C 4.03125 -8.984375 4.265625 -8.96875 4.4375 -8.953125 L 4.4375 -10.453125 C 4.0625 -10.484375 3.5625 -10.5 3.28125 -10.5 C 1.9375 -10.5 1.296875 -9.875 1.296875 -8.5625 L 1.296875 -7.625 L 0.203125 -7.625 L 0.203125 -6.28125 L 1.296875 -6.28125 L 1.296875 0 L 3.3125 0 L 3.3125 -6.28125 L 4.515625 -6.28125 Z \"/>\n",
       "</symbol>\n",
       "<symbol overflow=\"visible\" id=\"glyph0-12\">\n",
       "<path style=\"stroke:none;\" d=\"M 6.03125 -5.359375 L 9.28125 -10.5 L 6.765625 -10.5 L 4.84375 -7.046875 L 3 -10.5 L 0.4375 -10.5 L 3.625 -5.28125 L 0.3125 0 L 2.828125 0 L 4.828125 -3.640625 L 6.84375 0 L 9.40625 0 Z \"/>\n",
       "</symbol>\n",
       "<symbol overflow=\"visible\" id=\"glyph0-13\">\n",
       "<path style=\"stroke:none;\" d=\"M 8.328125 1.734375 L -0.3125 1.734375 L -0.3125 2.71875 L 8.328125 2.71875 Z \"/>\n",
       "</symbol>\n",
       "<symbol overflow=\"visible\" id=\"glyph0-14\">\n",
       "<path style=\"stroke:none;\" d=\"M 0.90625 -7.78125 L 0.90625 0 L 2.921875 0 L 2.921875 -4.671875 C 2.921875 -5.59375 3.578125 -6.1875 4.546875 -6.1875 C 5.421875 -6.1875 5.84375 -5.71875 5.84375 -4.796875 L 5.84375 0 L 7.859375 0 L 7.859375 -5.21875 C 7.859375 -6.921875 6.921875 -7.90625 5.265625 -7.90625 C 4.203125 -7.90625 3.5 -7.515625 2.921875 -6.65625 L 2.921875 -7.78125 Z \"/>\n",
       "</symbol>\n",
       "<symbol overflow=\"visible\" id=\"glyph0-15\">\n",
       "<path style=\"stroke:none;\" d=\"M 2.859375 -7.78125 L 0.828125 -7.78125 L 0.828125 3.140625 L 2.859375 3.140625 L 2.859375 -0.921875 C 3.34375 -0.0625 4.03125 0.34375 5.015625 0.34375 C 6.890625 0.34375 8.265625 -1.40625 8.265625 -3.78125 C 8.265625 -4.875 7.953125 -5.96875 7.4375 -6.6875 C 6.921875 -7.421875 5.953125 -7.90625 5.015625 -7.90625 C 4.03125 -7.90625 3.34375 -7.484375 2.859375 -6.625 Z M 4.546875 -6.21875 C 5.578125 -6.21875 6.25 -5.234375 6.25 -3.75 C 6.25 -2.328125 5.546875 -1.34375 4.546875 -1.34375 C 3.546875 -1.34375 2.859375 -2.3125 2.859375 -3.78125 C 2.859375 -5.234375 3.546875 -6.21875 4.546875 -6.21875 Z \"/>\n",
       "</symbol>\n",
       "<symbol overflow=\"visible\" id=\"glyph0-16\">\n",
       "<path style=\"stroke:none;\" d=\"M 4.4375 -10.5 L 0.953125 -10.5 L 0.953125 2.875 L 4.4375 2.875 L 4.4375 1.40625 L 2.828125 1.40625 L 2.828125 -9.03125 L 4.4375 -9.03125 Z \"/>\n",
       "</symbol>\n",
       "<symbol overflow=\"visible\" id=\"glyph0-17\">\n",
       "<path style=\"stroke:none;\" d=\"M 0.921875 -2.109375 L 0.921875 0 L 2.15625 0 L 2.15625 0.046875 C 2.15625 1.015625 1.765625 1.53125 0.921875 1.703125 L 0.921875 2.5 C 1.515625 2.4375 1.921875 2.28125 2.3125 1.96875 C 2.875 1.53125 3.078125 1 3.078125 -0.125 L 3.078125 -2.109375 Z \"/>\n",
       "</symbol>\n",
       "<symbol overflow=\"visible\" id=\"glyph0-18\">\n",
       "<path style=\"stroke:none;\" d=\"M 3.421875 -7.046875 L 3.421875 0 L 5.453125 0 L 5.453125 -10.21875 L 4.109375 -10.21875 C 3.78125 -9 2.734375 -8.390625 0.984375 -8.390625 L 0.984375 -7.046875 Z \"/>\n",
       "</symbol>\n",
       "<symbol overflow=\"visible\" id=\"glyph0-19\">\n",
       "<path style=\"stroke:none;\" d=\"M 0.265625 2.875 L 3.75 2.875 L 3.75 -10.5 L 0.265625 -10.5 L 0.265625 -9.03125 L 1.875 -9.03125 L 1.875 1.40625 L 0.265625 1.40625 Z \"/>\n",
       "</symbol>\n",
       "<symbol overflow=\"visible\" id=\"glyph1-0\">\n",
       "<path style=\"stroke:none;\" d=\"\"/>\n",
       "</symbol>\n",
       "<symbol overflow=\"visible\" id=\"glyph1-1\">\n",
       "<path style=\"stroke:none;\" d=\"M 4.6875 -4.484375 L 7.640625 -8.75 L 6.3125 -8.75 L 4.0625 -5.3125 L 1.8125 -8.75 L 0.453125 -8.75 L 3.359375 -4.484375 L 0.265625 0 L 1.625 0 L 4.015625 -3.640625 L 6.40625 0 L 7.78125 0 Z \"/>\n",
       "</symbol>\n",
       "<symbol overflow=\"visible\" id=\"glyph1-2\">\n",
       "<path style=\"stroke:none;\" d=\"M 6.9375 1.515625 L -0.265625 1.515625 L -0.265625 2.109375 L 6.9375 2.109375 Z \"/>\n",
       "</symbol>\n",
       "<symbol overflow=\"visible\" id=\"glyph1-3\">\n",
       "<path style=\"stroke:none;\" d=\"M 0.84375 -6.28125 L 0.84375 0 L 1.84375 0 L 1.84375 -3.46875 C 1.84375 -4.75 2.515625 -5.59375 3.546875 -5.59375 C 4.34375 -5.59375 4.84375 -5.109375 4.84375 -4.359375 L 4.84375 0 L 5.84375 0 L 5.84375 -4.75 C 5.84375 -5.796875 5.0625 -6.46875 3.859375 -6.46875 C 2.921875 -6.46875 2.3125 -6.109375 1.765625 -5.234375 L 1.765625 -6.28125 Z \"/>\n",
       "</symbol>\n",
       "<symbol overflow=\"visible\" id=\"glyph1-4\">\n",
       "<path style=\"stroke:none;\" d=\"M 0.640625 2.609375 L 1.65625 2.609375 L 1.65625 -0.65625 C 2.1875 -0.015625 2.765625 0.28125 3.59375 0.28125 C 5.203125 0.28125 6.28125 -1.03125 6.28125 -3.03125 C 6.28125 -5.140625 5.25 -6.46875 3.578125 -6.46875 C 2.71875 -6.46875 2.046875 -6.078125 1.578125 -5.34375 L 1.578125 -6.28125 L 0.640625 -6.28125 Z M 3.40625 -5.53125 C 4.515625 -5.53125 5.234375 -4.5625 5.234375 -3.0625 C 5.234375 -1.625 4.5 -0.65625 3.40625 -0.65625 C 2.359375 -0.65625 1.65625 -1.625 1.65625 -3.09375 C 1.65625 -4.578125 2.359375 -5.53125 3.40625 -5.53125 Z \"/>\n",
       "</symbol>\n",
       "<symbol overflow=\"visible\" id=\"glyph1-5\">\n",
       "<path style=\"stroke:none;\" d=\"M 3 -8.75 L 0.765625 -8.75 L 0.765625 2.546875 L 3 2.546875 L 3 1.6875 L 1.765625 1.6875 L 1.765625 -7.890625 L 3 -7.890625 Z \"/>\n",
       "</symbol>\n",
       "<symbol overflow=\"visible\" id=\"glyph1-6\">\n",
       "<path style=\"stroke:none;\" d=\"M 1.046875 -1.25 L 1.046875 0 L 1.765625 0 L 1.765625 0.21875 C 1.765625 1.046875 1.609375 1.28125 1.046875 1.3125 L 1.046875 1.765625 C 1.890625 1.765625 2.296875 1.21875 2.296875 0.1875 L 2.296875 -1.25 Z \"/>\n",
       "</symbol>\n",
       "<symbol overflow=\"visible\" id=\"glyph1-7\">\n",
       "<path style=\"stroke:none;\" d=\"\"/>\n",
       "</symbol>\n",
       "<symbol overflow=\"visible\" id=\"glyph1-8\">\n",
       "<path style=\"stroke:none;\" d=\"M 3.109375 -6.0625 L 3.109375 0 L 4.15625 0 L 4.15625 -8.515625 L 3.46875 -8.515625 C 3.09375 -7.203125 2.859375 -7.015625 1.21875 -6.8125 L 1.21875 -6.0625 Z \"/>\n",
       "</symbol>\n",
       "<symbol overflow=\"visible\" id=\"glyph1-9\">\n",
       "<path style=\"stroke:none;\" d=\"M 0.28125 2.546875 L 2.515625 2.546875 L 2.515625 -8.75 L 0.28125 -8.75 L 0.28125 -7.890625 L 1.515625 -7.890625 L 1.515625 1.6875 L 0.28125 1.6875 Z \"/>\n",
       "</symbol>\n",
       "<symbol overflow=\"visible\" id=\"glyph1-10\">\n",
       "<path style=\"stroke:none;\" d=\"M 3.40625 -3.75 L 0.546875 -3.75 L 0.546875 -2.875 L 3.40625 -2.875 Z \"/>\n",
       "</symbol>\n",
       "<symbol overflow=\"visible\" id=\"glyph1-11\">\n",
       "<path style=\"stroke:none;\" d=\"M 6.078125 -1.046875 L 1.59375 -1.046875 C 1.703125 -1.734375 2.09375 -2.1875 3.125 -2.796875 L 4.328125 -3.4375 C 5.515625 -4.09375 6.125 -4.96875 6.125 -6.015625 C 6.125 -6.71875 5.84375 -7.375 5.34375 -7.84375 C 4.84375 -8.296875 4.21875 -8.515625 3.40625 -8.515625 C 2.328125 -8.515625 1.53125 -8.125 1.0625 -7.40625 C 0.75 -6.953125 0.625 -6.421875 0.59375 -5.5625 L 1.65625 -5.5625 C 1.6875 -6.125 1.765625 -6.484375 1.90625 -6.75 C 2.1875 -7.265625 2.734375 -7.578125 3.375 -7.578125 C 4.328125 -7.578125 5.046875 -6.90625 5.046875 -5.984375 C 5.046875 -5.3125 4.65625 -4.734375 3.90625 -4.3125 L 2.796875 -3.6875 C 1.015625 -2.671875 0.5 -1.875 0.40625 0 L 6.078125 0 Z \"/>\n",
       "</symbol>\n",
       "<symbol overflow=\"visible\" id=\"glyph1-12\">\n",
       "<path style=\"stroke:none;\" d=\"M 3.296875 -8.515625 C 2.515625 -8.515625 1.78125 -8.15625 1.34375 -7.578125 C 0.796875 -6.828125 0.515625 -5.6875 0.515625 -4.109375 C 0.515625 -1.25 1.46875 0.28125 3.296875 0.28125 C 5.09375 0.28125 6.078125 -1.25 6.078125 -4.046875 C 6.078125 -5.703125 5.8125 -6.796875 5.25 -7.578125 C 4.8125 -8.171875 4.109375 -8.515625 3.296875 -8.515625 Z M 3.296875 -7.578125 C 4.4375 -7.578125 5 -6.421875 5 -4.140625 C 5 -1.734375 4.453125 -0.59375 3.28125 -0.59375 C 2.15625 -0.59375 1.59375 -1.78125 1.59375 -4.109375 C 1.59375 -6.4375 2.15625 -7.578125 3.296875 -7.578125 Z \"/>\n",
       "</symbol>\n",
       "<symbol overflow=\"visible\" id=\"glyph1-13\">\n",
       "<path style=\"stroke:none;\" d=\"M 2.65625 -3.90625 L 3.234375 -3.90625 C 4.390625 -3.90625 4.984375 -3.390625 4.984375 -2.359375 C 4.984375 -1.296875 4.328125 -0.65625 3.234375 -0.65625 C 2.078125 -0.65625 1.515625 -1.234375 1.4375 -2.46875 L 0.390625 -2.46875 C 0.4375 -1.78125 0.546875 -1.34375 0.75 -0.953125 C 1.1875 -0.140625 2.03125 0.28125 3.1875 0.28125 C 4.9375 0.28125 6.078125 -0.765625 6.078125 -2.375 C 6.078125 -3.453125 5.65625 -4.0625 4.625 -4.40625 C 5.421875 -4.71875 5.8125 -5.3125 5.8125 -6.171875 C 5.8125 -7.625 4.84375 -8.515625 3.234375 -8.515625 C 1.515625 -8.515625 0.59375 -7.578125 0.5625 -5.765625 L 1.625 -5.765625 C 1.625 -6.28125 1.6875 -6.5625 1.8125 -6.828125 C 2.046875 -7.296875 2.578125 -7.578125 3.234375 -7.578125 C 4.171875 -7.578125 4.734375 -7.03125 4.734375 -6.125 C 4.734375 -5.53125 4.53125 -5.171875 4.0625 -4.984375 C 3.765625 -4.859375 3.390625 -4.8125 2.65625 -4.796875 Z \"/>\n",
       "</symbol>\n",
       "<symbol overflow=\"visible\" id=\"glyph2-0\">\n",
       "<path style=\"stroke:none;\" d=\"\"/>\n",
       "</symbol>\n",
       "<symbol overflow=\"visible\" id=\"glyph2-1\">\n",
       "<path style=\"stroke:none;\" d=\"M -3.984375 -2.203125 L -3.984375 -6.375 L -4.96875 -6.375 L -4.96875 -2.203125 L -7.765625 -2.203125 L -7.765625 -6.953125 L -8.75 -6.953125 L -8.75 -1.078125 L 0 -1.078125 L 0 -2.203125 Z \"/>\n",
       "</symbol>\n",
       "<symbol overflow=\"visible\" id=\"glyph2-2\">\n",
       "<path style=\"stroke:none;\" d=\"M -6.28125 -0.828125 L 0 -0.828125 L 0 -1.84375 L -3.265625 -1.84375 C -4.15625 -1.84375 -4.75 -2.0625 -5.09375 -2.546875 C -5.328125 -2.859375 -5.40625 -3.15625 -5.40625 -3.859375 L -6.4375 -3.859375 C -6.453125 -3.6875 -6.46875 -3.59375 -6.46875 -3.46875 C -6.46875 -2.8125 -6.078125 -2.328125 -5.140625 -1.75 L -6.28125 -1.75 Z \"/>\n",
       "</symbol>\n",
       "<symbol overflow=\"visible\" id=\"glyph2-3\">\n",
       "<path style=\"stroke:none;\" d=\"M -2.8125 -6.15625 C -3.765625 -6.15625 -4.34375 -6.078125 -4.8125 -5.90625 C -5.84375 -5.5 -6.46875 -4.53125 -6.46875 -3.359375 C -6.46875 -1.609375 -5.125 -0.484375 -3.0625 -0.484375 C -1 -0.484375 0.28125 -1.578125 0.28125 -3.34375 C 0.28125 -4.78125 -0.546875 -5.765625 -1.90625 -6.03125 L -1.90625 -5.015625 C -1.078125 -4.734375 -0.640625 -4.171875 -0.640625 -3.375 C -0.640625 -2.734375 -0.9375 -2.203125 -1.46875 -1.859375 C -1.828125 -1.625 -2.1875 -1.53125 -2.8125 -1.53125 Z M -3.625 -1.546875 C -4.78125 -1.625 -5.546875 -2.34375 -5.546875 -3.34375 C -5.546875 -4.328125 -4.734375 -5.09375 -3.703125 -5.09375 C -3.671875 -5.09375 -3.640625 -5.09375 -3.625 -5.078125 Z \"/>\n",
       "</symbol>\n",
       "<symbol overflow=\"visible\" id=\"glyph2-4\">\n",
       "<path style=\"stroke:none;\" d=\"M 2.609375 -5.9375 L -6.28125 -5.9375 L -6.28125 -5.046875 L -5.453125 -5.046875 C -6.109375 -4.578125 -6.46875 -3.875 -6.46875 -3.046875 C -6.46875 -1.390625 -5.109375 -0.3125 -3.03125 -0.3125 C -0.984375 -0.3125 0.28125 -1.34375 0.28125 -3 C 0.28125 -3.875 -0.03125 -4.46875 -0.71875 -4.9375 L 2.609375 -4.9375 Z M -5.53125 -3.1875 C -5.53125 -4.265625 -4.578125 -4.9375 -3.0625 -4.9375 C -1.625 -4.9375 -0.65625 -4.25 -0.65625 -3.1875 C -0.65625 -2.09375 -1.625 -1.359375 -3.09375 -1.359375 C -4.546875 -1.359375 -5.53125 -2.09375 -5.53125 -3.1875 Z \"/>\n",
       "</symbol>\n",
       "<symbol overflow=\"visible\" id=\"glyph2-5\">\n",
       "<path style=\"stroke:none;\" d=\"M 0 -5.78125 L -6.28125 -5.78125 L -6.28125 -4.78125 L -2.71875 -4.78125 C -1.4375 -4.78125 -0.59375 -4.109375 -0.59375 -3.078125 C -0.59375 -2.28125 -1.078125 -1.78125 -1.84375 -1.78125 L -6.28125 -1.78125 L -6.28125 -0.78125 L -1.4375 -0.78125 C -0.390625 -0.78125 0.28125 -1.5625 0.28125 -2.78125 C 0.28125 -3.703125 -0.046875 -4.296875 -0.875 -4.890625 L 0 -4.890625 Z \"/>\n",
       "</symbol>\n",
       "<symbol overflow=\"visible\" id=\"glyph2-6\">\n",
       "<path style=\"stroke:none;\" d=\"M -6.28125 -0.84375 L 0 -0.84375 L 0 -1.84375 L -3.46875 -1.84375 C -4.75 -1.84375 -5.59375 -2.515625 -5.59375 -3.546875 C -5.59375 -4.34375 -5.109375 -4.84375 -4.359375 -4.84375 L 0 -4.84375 L 0 -5.84375 L -4.75 -5.84375 C -5.796875 -5.84375 -6.46875 -5.0625 -6.46875 -3.859375 C -6.46875 -2.921875 -6.109375 -2.3125 -5.234375 -1.765625 L -6.28125 -1.765625 Z \"/>\n",
       "</symbol>\n",
       "<symbol overflow=\"visible\" id=\"glyph2-7\">\n",
       "<path style=\"stroke:none;\" d=\"M -4.171875 -5.65625 C -4.78125 -5.609375 -5.1875 -5.46875 -5.53125 -5.234375 C -6.125 -4.796875 -6.46875 -4.046875 -6.46875 -3.171875 C -6.46875 -1.46875 -5.125 -0.375 -3.03125 -0.375 C -1.015625 -0.375 0.28125 -1.453125 0.28125 -3.15625 C 0.28125 -4.65625 -0.625 -5.609375 -2.15625 -5.71875 L -2.15625 -4.71875 C -1.15625 -4.546875 -0.640625 -4.03125 -0.640625 -3.1875 C -0.640625 -2.078125 -1.546875 -1.421875 -3.03125 -1.421875 C -4.609375 -1.421875 -5.546875 -2.0625 -5.546875 -3.15625 C -5.546875 -4 -5.046875 -4.53125 -4.171875 -4.640625 Z \"/>\n",
       "</symbol>\n",
       "<symbol overflow=\"visible\" id=\"glyph2-8\">\n",
       "<path style=\"stroke:none;\" d=\"M -6.28125 -4.65625 L -1.390625 -2.921875 L -6.28125 -1.3125 L -6.28125 -0.234375 L 0.03125 -2.359375 L 1.015625 -1.984375 C 1.46875 -1.828125 1.625 -1.59375 1.625 -1.171875 C 1.625 -1.03125 1.609375 -0.859375 1.5625 -0.640625 L 2.453125 -0.640625 C 2.5625 -0.859375 2.609375 -1.0625 2.609375 -1.3125 C 2.609375 -1.640625 2.515625 -1.984375 2.3125 -2.25 C 2.09375 -2.5625 1.828125 -2.75 1.3125 -2.9375 L -6.28125 -5.734375 Z \"/>\n",
       "</symbol>\n",
       "<symbol overflow=\"visible\" id=\"glyph2-9\">\n",
       "<path style=\"stroke:none;\" d=\"M -8.515625 -3.296875 C -8.515625 -2.515625 -8.15625 -1.78125 -7.578125 -1.34375 C -6.828125 -0.796875 -5.6875 -0.515625 -4.109375 -0.515625 C -1.25 -0.515625 0.28125 -1.46875 0.28125 -3.296875 C 0.28125 -5.09375 -1.25 -6.078125 -4.046875 -6.078125 C -5.703125 -6.078125 -6.796875 -5.8125 -7.578125 -5.25 C -8.171875 -4.8125 -8.515625 -4.109375 -8.515625 -3.296875 Z M -7.578125 -3.296875 C -7.578125 -4.4375 -6.421875 -5 -4.140625 -5 C -1.734375 -5 -0.59375 -4.453125 -0.59375 -3.28125 C -0.59375 -2.15625 -1.78125 -1.59375 -4.109375 -1.59375 C -6.4375 -1.59375 -7.578125 -2.15625 -7.578125 -3.296875 Z \"/>\n",
       "</symbol>\n",
       "<symbol overflow=\"visible\" id=\"glyph2-10\">\n",
       "<path style=\"stroke:none;\" d=\"M -1.046875 -6.078125 L -1.046875 -1.59375 C -1.734375 -1.703125 -2.1875 -2.09375 -2.796875 -3.125 L -3.4375 -4.328125 C -4.09375 -5.515625 -4.96875 -6.125 -6.015625 -6.125 C -6.71875 -6.125 -7.375 -5.84375 -7.84375 -5.34375 C -8.296875 -4.84375 -8.515625 -4.21875 -8.515625 -3.40625 C -8.515625 -2.328125 -8.125 -1.53125 -7.40625 -1.0625 C -6.953125 -0.75 -6.421875 -0.625 -5.5625 -0.59375 L -5.5625 -1.65625 C -6.125 -1.6875 -6.484375 -1.765625 -6.75 -1.90625 C -7.265625 -2.1875 -7.578125 -2.734375 -7.578125 -3.375 C -7.578125 -4.328125 -6.90625 -5.046875 -5.984375 -5.046875 C -5.3125 -5.046875 -4.734375 -4.65625 -4.3125 -3.90625 L -3.6875 -2.796875 C -2.671875 -1.015625 -1.875 -0.5 0 -0.40625 L 0 -6.078125 Z \"/>\n",
       "</symbol>\n",
       "<symbol overflow=\"visible\" id=\"glyph2-11\">\n",
       "<path style=\"stroke:none;\" d=\"M -2.046875 -3.921875 L 0 -3.921875 L 0 -4.984375 L -2.046875 -4.984375 L -2.046875 -6.234375 L -2.984375 -6.234375 L -2.984375 -4.984375 L -8.515625 -4.984375 L -8.515625 -4.203125 L -3.15625 -0.34375 L -2.046875 -0.34375 Z M -2.984375 -3.921875 L -2.984375 -1.265625 L -6.703125 -3.921875 Z \"/>\n",
       "</symbol>\n",
       "<symbol overflow=\"visible\" id=\"glyph2-12\">\n",
       "<path style=\"stroke:none;\" d=\"M -6.28125 -5.96875 C -7.6875 -5.765625 -8.515625 -4.859375 -8.515625 -3.5625 C -8.515625 -2.625 -8.046875 -1.78125 -7.296875 -1.28125 C -6.46875 -0.75 -5.421875 -0.515625 -3.875 -0.515625 C -2.453125 -0.515625 -1.53125 -0.734375 -0.78125 -1.234375 C -0.09375 -1.6875 0.28125 -2.4375 0.28125 -3.375 C 0.28125 -4.984375 -0.921875 -6.15625 -2.59375 -6.15625 C -4.171875 -6.15625 -5.296875 -5.078125 -5.296875 -3.546875 C -5.296875 -2.71875 -4.96875 -2.046875 -4.34375 -1.59375 C -6.421875 -1.609375 -7.578125 -2.28125 -7.578125 -3.484375 C -7.578125 -4.234375 -7.109375 -4.75 -6.28125 -4.921875 Z M -4.359375 -3.421875 C -4.359375 -4.4375 -3.640625 -5.078125 -2.515625 -5.078125 C -1.4375 -5.078125 -0.65625 -4.359375 -0.65625 -3.390625 C -0.65625 -2.40625 -1.46875 -1.65625 -2.5625 -1.65625 C -3.625 -1.65625 -4.359375 -2.375 -4.359375 -3.421875 Z \"/>\n",
       "</symbol>\n",
       "<symbol overflow=\"visible\" id=\"glyph2-13\">\n",
       "<path style=\"stroke:none;\" d=\"M -4.46875 -4.6875 C -5 -5.5625 -5.4375 -5.859375 -6.234375 -5.859375 C -7.578125 -5.859375 -8.515625 -4.8125 -8.515625 -3.296875 C -8.515625 -1.796875 -7.578125 -0.75 -6.234375 -0.75 C -5.453125 -0.75 -5.015625 -1.03125 -4.46875 -1.890625 C -4.015625 -0.921875 -3.296875 -0.4375 -2.359375 -0.4375 C -0.796875 -0.4375 0.28125 -1.625 0.28125 -3.296875 C 0.28125 -4.984375 -0.796875 -6.15625 -2.359375 -6.15625 C -3.296875 -6.15625 -4.015625 -5.671875 -4.46875 -4.6875 Z M -7.578125 -3.296875 C -7.578125 -4.203125 -7.046875 -4.78125 -6.21875 -4.78125 C -5.421875 -4.78125 -4.890625 -4.1875 -4.890625 -3.296875 C -4.890625 -2.40625 -5.421875 -1.828125 -6.234375 -1.828125 C -7.046875 -1.828125 -7.578125 -2.40625 -7.578125 -3.296875 Z M -4.015625 -3.296875 C -4.015625 -4.359375 -3.34375 -5.078125 -2.34375 -5.078125 C -1.328125 -5.078125 -0.65625 -4.359375 -0.65625 -3.28125 C -0.65625 -2.25 -1.34375 -1.53125 -2.34375 -1.53125 C -3.34375 -1.53125 -4.015625 -2.25 -4.015625 -3.296875 Z \"/>\n",
       "</symbol>\n",
       "<symbol overflow=\"visible\" id=\"glyph2-14\">\n",
       "<path style=\"stroke:none;\" d=\"M -6.0625 -3.109375 L 0 -3.109375 L 0 -4.15625 L -8.515625 -4.15625 L -8.515625 -3.46875 C -7.203125 -3.09375 -7.015625 -2.859375 -6.8125 -1.21875 L -6.0625 -1.21875 Z \"/>\n",
       "</symbol>\n",
       "</g>\n",
       "</defs>\n",
       "<g id=\"surface133\">\n",
       "<rect x=\"0\" y=\"0\" width=\"504\" height=\"504\" style=\"fill:rgb(100%,100%,100%);fill-opacity:1;stroke:none;\"/>\n",
       "<g style=\"fill:rgb(0%,0%,0%);fill-opacity:1;\">\n",
       "  <use xlink:href=\"#glyph0-1\" x=\"168.898438\" y=\"34.116211\"/>\n",
       "  <use xlink:href=\"#glyph0-2\" x=\"179.299805\" y=\"34.116211\"/>\n",
       "  <use xlink:href=\"#glyph0-3\" x=\"183.304688\" y=\"34.116211\"/>\n",
       "  <use xlink:href=\"#glyph0-4\" x=\"191.314453\" y=\"34.116211\"/>\n",
       "  <use xlink:href=\"#glyph0-5\" x=\"196.111328\" y=\"34.116211\"/>\n",
       "  <use xlink:href=\"#glyph0-6\" x=\"204.913086\" y=\"34.116211\"/>\n",
       "  <use xlink:href=\"#glyph0-7\" x=\"213.714844\" y=\"34.116211\"/>\n",
       "  <use xlink:href=\"#glyph0-8\" x=\"219.319336\" y=\"34.116211\"/>\n",
       "  <use xlink:href=\"#glyph0-9\" x=\"227.329102\" y=\"34.116211\"/>\n",
       "  <use xlink:href=\"#glyph0-10\" x=\"240.135742\" y=\"34.116211\"/>\n",
       "  <use xlink:href=\"#glyph0-5\" x=\"244.140625\" y=\"34.116211\"/>\n",
       "  <use xlink:href=\"#glyph0-11\" x=\"252.942383\" y=\"34.116211\"/>\n",
       "  <use xlink:href=\"#glyph0-10\" x=\"257.739258\" y=\"34.116211\"/>\n",
       "  <use xlink:href=\"#glyph0-12\" x=\"261.744141\" y=\"34.116211\"/>\n",
       "  <use xlink:href=\"#glyph0-13\" x=\"271.353516\" y=\"34.116211\"/>\n",
       "  <use xlink:href=\"#glyph0-14\" x=\"279.363281\" y=\"34.116211\"/>\n",
       "  <use xlink:href=\"#glyph0-15\" x=\"288.165039\" y=\"34.116211\"/>\n",
       "  <use xlink:href=\"#glyph0-14\" x=\"296.966797\" y=\"34.116211\"/>\n",
       "  <use xlink:href=\"#glyph0-16\" x=\"305.768555\" y=\"34.116211\"/>\n",
       "  <use xlink:href=\"#glyph0-17\" x=\"310.56543\" y=\"34.116211\"/>\n",
       "  <use xlink:href=\"#glyph0-10\" x=\"314.570312\" y=\"34.116211\"/>\n",
       "  <use xlink:href=\"#glyph0-18\" x=\"318.575195\" y=\"34.116211\"/>\n",
       "  <use xlink:href=\"#glyph0-18\" x=\"326.584961\" y=\"34.116211\"/>\n",
       "  <use xlink:href=\"#glyph0-18\" x=\"334.594727\" y=\"34.116211\"/>\n",
       "  <use xlink:href=\"#glyph0-18\" x=\"342.604492\" y=\"34.116211\"/>\n",
       "  <use xlink:href=\"#glyph0-18\" x=\"350.614258\" y=\"34.116211\"/>\n",
       "  <use xlink:href=\"#glyph0-19\" x=\"358.624023\" y=\"34.116211\"/>\n",
       "</g>\n",
       "<g style=\"fill:rgb(0%,0%,0%);fill-opacity:1;\">\n",
       "  <use xlink:href=\"#glyph1-1\" x=\"225.398438\" y=\"484.716797\"/>\n",
       "  <use xlink:href=\"#glyph1-2\" x=\"233.402344\" y=\"484.716797\"/>\n",
       "  <use xlink:href=\"#glyph1-3\" x=\"240.074219\" y=\"484.716797\"/>\n",
       "  <use xlink:href=\"#glyph1-4\" x=\"246.746094\" y=\"484.716797\"/>\n",
       "  <use xlink:href=\"#glyph1-3\" x=\"253.417969\" y=\"484.716797\"/>\n",
       "  <use xlink:href=\"#glyph1-5\" x=\"260.089844\" y=\"484.716797\"/>\n",
       "  <use xlink:href=\"#glyph1-6\" x=\"263.425781\" y=\"484.716797\"/>\n",
       "  <use xlink:href=\"#glyph1-7\" x=\"266.761719\" y=\"484.716797\"/>\n",
       "  <use xlink:href=\"#glyph1-8\" x=\"270.097656\" y=\"484.716797\"/>\n",
       "  <use xlink:href=\"#glyph1-8\" x=\"276.769531\" y=\"484.716797\"/>\n",
       "  <use xlink:href=\"#glyph1-8\" x=\"283.441406\" y=\"484.716797\"/>\n",
       "  <use xlink:href=\"#glyph1-8\" x=\"290.113281\" y=\"484.716797\"/>\n",
       "  <use xlink:href=\"#glyph1-8\" x=\"296.785156\" y=\"484.716797\"/>\n",
       "  <use xlink:href=\"#glyph1-9\" x=\"303.457031\" y=\"484.716797\"/>\n",
       "</g>\n",
       "<g style=\"fill:rgb(0%,0%,0%);fill-opacity:1;\">\n",
       "  <use xlink:href=\"#glyph2-1\" x=\"12.396484\" y=\"273.300781\"/>\n",
       "  <use xlink:href=\"#glyph2-2\" x=\"12.396484\" y=\"265.96875\"/>\n",
       "  <use xlink:href=\"#glyph2-3\" x=\"12.396484\" y=\"261.972656\"/>\n",
       "  <use xlink:href=\"#glyph2-4\" x=\"12.396484\" y=\"255.300781\"/>\n",
       "  <use xlink:href=\"#glyph2-5\" x=\"12.396484\" y=\"248.628906\"/>\n",
       "  <use xlink:href=\"#glyph2-3\" x=\"12.396484\" y=\"241.957031\"/>\n",
       "  <use xlink:href=\"#glyph2-6\" x=\"12.396484\" y=\"235.285156\"/>\n",
       "  <use xlink:href=\"#glyph2-7\" x=\"12.396484\" y=\"228.613281\"/>\n",
       "  <use xlink:href=\"#glyph2-8\" x=\"12.396484\" y=\"222.613281\"/>\n",
       "</g>\n",
       "<path style=\"fill:none;stroke-width:0.75;stroke-linecap:round;stroke-linejoin:round;stroke:rgb(0%,0%,0%);stroke-opacity:1;stroke-miterlimit:10;\" d=\"M 74.398438 430.558594 L 458.398438 430.558594 \"/>\n",
       "<path style=\"fill:none;stroke-width:0.75;stroke-linecap:round;stroke-linejoin:round;stroke:rgb(0%,0%,0%);stroke-opacity:1;stroke-miterlimit:10;\" d=\"M 74.398438 430.558594 L 74.398438 437.761719 \"/>\n",
       "<path style=\"fill:none;stroke-width:0.75;stroke-linecap:round;stroke-linejoin:round;stroke:rgb(0%,0%,0%);stroke-opacity:1;stroke-miterlimit:10;\" d=\"M 151.199219 430.558594 L 151.199219 437.761719 \"/>\n",
       "<path style=\"fill:none;stroke-width:0.75;stroke-linecap:round;stroke-linejoin:round;stroke:rgb(0%,0%,0%);stroke-opacity:1;stroke-miterlimit:10;\" d=\"M 228 430.558594 L 228 437.761719 \"/>\n",
       "<path style=\"fill:none;stroke-width:0.75;stroke-linecap:round;stroke-linejoin:round;stroke:rgb(0%,0%,0%);stroke-opacity:1;stroke-miterlimit:10;\" d=\"M 304.800781 430.558594 L 304.800781 437.761719 \"/>\n",
       "<path style=\"fill:none;stroke-width:0.75;stroke-linecap:round;stroke-linejoin:round;stroke:rgb(0%,0%,0%);stroke-opacity:1;stroke-miterlimit:10;\" d=\"M 381.601562 430.558594 L 381.601562 437.761719 \"/>\n",
       "<path style=\"fill:none;stroke-width:0.75;stroke-linecap:round;stroke-linejoin:round;stroke:rgb(0%,0%,0%);stroke-opacity:1;stroke-miterlimit:10;\" d=\"M 458.398438 430.558594 L 458.398438 437.761719 \"/>\n",
       "<g style=\"fill:rgb(0%,0%,0%);fill-opacity:1;\">\n",
       "  <use xlink:href=\"#glyph1-10\" x=\"68.898438\" y=\"455.916016\"/>\n",
       "  <use xlink:href=\"#glyph1-11\" x=\"72.894531\" y=\"455.916016\"/>\n",
       "</g>\n",
       "<g style=\"fill:rgb(0%,0%,0%);fill-opacity:1;\">\n",
       "  <use xlink:href=\"#glyph1-10\" x=\"145.699219\" y=\"455.916016\"/>\n",
       "  <use xlink:href=\"#glyph1-8\" x=\"149.695312\" y=\"455.916016\"/>\n",
       "</g>\n",
       "<g style=\"fill:rgb(0%,0%,0%);fill-opacity:1;\">\n",
       "  <use xlink:href=\"#glyph1-12\" x=\"224.5\" y=\"455.916016\"/>\n",
       "</g>\n",
       "<g style=\"fill:rgb(0%,0%,0%);fill-opacity:1;\">\n",
       "  <use xlink:href=\"#glyph1-8\" x=\"301.300781\" y=\"455.916016\"/>\n",
       "</g>\n",
       "<g style=\"fill:rgb(0%,0%,0%);fill-opacity:1;\">\n",
       "  <use xlink:href=\"#glyph1-11\" x=\"378.101562\" y=\"455.916016\"/>\n",
       "</g>\n",
       "<g style=\"fill:rgb(0%,0%,0%);fill-opacity:1;\">\n",
       "  <use xlink:href=\"#glyph1-13\" x=\"454.898438\" y=\"455.916016\"/>\n",
       "</g>\n",
       "<path style=\"fill:none;stroke-width:0.75;stroke-linecap:round;stroke-linejoin:round;stroke:rgb(0%,0%,0%);stroke-opacity:1;stroke-miterlimit:10;\" d=\"M 59.039062 416.800781 L 59.039062 109.65625 \"/>\n",
       "<path style=\"fill:none;stroke-width:0.75;stroke-linecap:round;stroke-linejoin:round;stroke:rgb(0%,0%,0%);stroke-opacity:1;stroke-miterlimit:10;\" d=\"M 59.039062 416.800781 L 51.839844 416.800781 \"/>\n",
       "<path style=\"fill:none;stroke-width:0.75;stroke-linecap:round;stroke-linejoin:round;stroke:rgb(0%,0%,0%);stroke-opacity:1;stroke-miterlimit:10;\" d=\"M 59.039062 355.371094 L 51.839844 355.371094 \"/>\n",
       "<path style=\"fill:none;stroke-width:0.75;stroke-linecap:round;stroke-linejoin:round;stroke:rgb(0%,0%,0%);stroke-opacity:1;stroke-miterlimit:10;\" d=\"M 59.039062 293.941406 L 51.839844 293.941406 \"/>\n",
       "<path style=\"fill:none;stroke-width:0.75;stroke-linecap:round;stroke-linejoin:round;stroke:rgb(0%,0%,0%);stroke-opacity:1;stroke-miterlimit:10;\" d=\"M 59.039062 232.515625 L 51.839844 232.515625 \"/>\n",
       "<path style=\"fill:none;stroke-width:0.75;stroke-linecap:round;stroke-linejoin:round;stroke:rgb(0%,0%,0%);stroke-opacity:1;stroke-miterlimit:10;\" d=\"M 59.039062 171.085938 L 51.839844 171.085938 \"/>\n",
       "<path style=\"fill:none;stroke-width:0.75;stroke-linecap:round;stroke-linejoin:round;stroke:rgb(0%,0%,0%);stroke-opacity:1;stroke-miterlimit:10;\" d=\"M 59.039062 109.65625 L 51.839844 109.65625 \"/>\n",
       "<g style=\"fill:rgb(0%,0%,0%);fill-opacity:1;\">\n",
       "  <use xlink:href=\"#glyph2-9\" x=\"41.197266\" y=\"420.300781\"/>\n",
       "</g>\n",
       "<g style=\"fill:rgb(0%,0%,0%);fill-opacity:1;\">\n",
       "  <use xlink:href=\"#glyph2-10\" x=\"41.197266\" y=\"362.371094\"/>\n",
       "  <use xlink:href=\"#glyph2-9\" x=\"41.197266\" y=\"355.699219\"/>\n",
       "</g>\n",
       "<g style=\"fill:rgb(0%,0%,0%);fill-opacity:1;\">\n",
       "  <use xlink:href=\"#glyph2-11\" x=\"41.197266\" y=\"300.941406\"/>\n",
       "  <use xlink:href=\"#glyph2-9\" x=\"41.197266\" y=\"294.269531\"/>\n",
       "</g>\n",
       "<g style=\"fill:rgb(0%,0%,0%);fill-opacity:1;\">\n",
       "  <use xlink:href=\"#glyph2-12\" x=\"41.197266\" y=\"239.515625\"/>\n",
       "  <use xlink:href=\"#glyph2-9\" x=\"41.197266\" y=\"232.84375\"/>\n",
       "</g>\n",
       "<g style=\"fill:rgb(0%,0%,0%);fill-opacity:1;\">\n",
       "  <use xlink:href=\"#glyph2-13\" x=\"41.197266\" y=\"178.085938\"/>\n",
       "  <use xlink:href=\"#glyph2-9\" x=\"41.197266\" y=\"171.414062\"/>\n",
       "</g>\n",
       "<g style=\"fill:rgb(0%,0%,0%);fill-opacity:1;\">\n",
       "  <use xlink:href=\"#glyph2-14\" x=\"41.197266\" y=\"120.15625\"/>\n",
       "  <use xlink:href=\"#glyph2-9\" x=\"41.197266\" y=\"113.484375\"/>\n",
       "  <use xlink:href=\"#glyph2-9\" x=\"41.197266\" y=\"106.8125\"/>\n",
       "</g>\n",
       "<path style=\"fill:none;stroke-width:0.75;stroke-linecap:round;stroke-linejoin:round;stroke:rgb(0%,0%,0%);stroke-opacity:1;stroke-miterlimit:10;\" d=\"M 74.398438 416.800781 L 112.796875 416.800781 L 112.796875 290.871094 L 74.398438 290.871094 Z \"/>\n",
       "<path style=\"fill:none;stroke-width:0.75;stroke-linecap:round;stroke-linejoin:round;stroke:rgb(0%,0%,0%);stroke-opacity:1;stroke-miterlimit:10;\" d=\"M 112.800781 416.800781 L 151.199219 416.800781 L 151.199219 260.15625 L 112.800781 260.15625 Z \"/>\n",
       "<path style=\"fill:none;stroke-width:0.75;stroke-linecap:round;stroke-linejoin:round;stroke:rgb(0%,0%,0%);stroke-opacity:1;stroke-miterlimit:10;\" d=\"M 151.199219 416.800781 L 189.597656 416.800781 L 189.597656 171.085938 L 151.199219 171.085938 Z \"/>\n",
       "<path style=\"fill:none;stroke-width:0.75;stroke-linecap:round;stroke-linejoin:round;stroke:rgb(0%,0%,0%);stroke-opacity:1;stroke-miterlimit:10;\" d=\"M 189.601562 416.800781 L 228 416.800781 L 228 137.300781 L 189.601562 137.300781 Z \"/>\n",
       "<path style=\"fill:none;stroke-width:0.75;stroke-linecap:round;stroke-linejoin:round;stroke:rgb(0%,0%,0%);stroke-opacity:1;stroke-miterlimit:10;\" d=\"M 228 416.800781 L 266.398438 416.800781 L 266.398438 72.800781 L 228 72.800781 Z \"/>\n",
       "<path style=\"fill:none;stroke-width:0.75;stroke-linecap:round;stroke-linejoin:round;stroke:rgb(0%,0%,0%);stroke-opacity:1;stroke-miterlimit:10;\" d=\"M 266.398438 416.800781 L 304.796875 416.800781 L 304.796875 171.085938 L 266.398438 171.085938 Z \"/>\n",
       "<path style=\"fill:none;stroke-width:0.75;stroke-linecap:round;stroke-linejoin:round;stroke:rgb(0%,0%,0%);stroke-opacity:1;stroke-miterlimit:10;\" d=\"M 304.800781 416.800781 L 343.199219 416.800781 L 343.199219 260.15625 L 304.800781 260.15625 Z \"/>\n",
       "<path style=\"fill:none;stroke-width:0.75;stroke-linecap:round;stroke-linejoin:round;stroke:rgb(0%,0%,0%);stroke-opacity:1;stroke-miterlimit:10;\" d=\"M 343.199219 416.800781 L 381.597656 416.800781 L 381.597656 346.15625 L 343.199219 346.15625 Z \"/>\n",
       "<path style=\"fill:none;stroke-width:0.75;stroke-linecap:round;stroke-linejoin:round;stroke:rgb(0%,0%,0%);stroke-opacity:1;stroke-miterlimit:10;\" d=\"M 381.601562 416.800781 L 420 416.800781 L 420 386.085938 L 381.601562 386.085938 Z \"/>\n",
       "<path style=\"fill:none;stroke-width:0.75;stroke-linecap:round;stroke-linejoin:round;stroke:rgb(0%,0%,0%);stroke-opacity:1;stroke-miterlimit:10;\" d=\"M 420 416.800781 L 458.398438 416.800781 L 458.398438 404.515625 L 420 404.515625 Z \"/>\n",
       "</g>\n",
       "</svg>\n"
      ],
      "text/plain": [
       "Plot with title “Histogram of X_npn[, 11111]”"
      ]
     },
     "metadata": {
      "image/svg+xml": {
       "isolated": true
      }
     },
     "output_type": "display_data"
    }
   ],
   "source": [
    "hist(X_npn[,11111])"
   ]
  },
  {
   "cell_type": "code",
   "execution_count": 234,
   "metadata": {
    "collapsed": true
   },
   "outputs": [],
   "source": [
    "all_mrna_data_npn <- all_mrna_data_raw\n",
    "all_mrna_data_npn[,-c(1:11)] <- X_npn"
   ]
  },
  {
   "cell_type": "code",
   "execution_count": 237,
   "metadata": {
    "collapsed": false
   },
   "outputs": [
    {
     "data": {
      "text/html": [
       "<table>\n",
       "<thead><tr><th></th><th scope=col>PGI.Mouse.ID</th><th scope=col>observationid</th><th scope=col>Tissue</th><th scope=col>Seq.Type</th><th scope=col>GenoType</th><th scope=col>Housing.Conditions</th><th scope=col>Numeric.Q</th><th scope=col>Sex</th><th scope=col>Genotyped.CAG</th><th scope=col>Month</th><th scope=col>Sample.ID</th><th scope=col>0610005C13Rik</th><th scope=col>0610007N19Rik</th><th scope=col>0610007P14Rik</th><th scope=col>0610008F07Rik</th><th scope=col>0610009B14Rik</th><th scope=col>0610009B22Rik</th><th scope=col>0610009D07Rik</th><th scope=col>0610009L18Rik</th><th scope=col>0610009O20Rik</th></tr></thead>\n",
       "<tbody>\n",
       "\t<tr><th scope=row>645</th><td>Q20B0009.08                   </td><td>X300195_Q20B0009_08_L1.D707   </td><td>liver                         </td><td>mRNA                          </td><td>HET (Q20)                     </td><td>Housed with Q20 and WT animals</td><td>20                            </td><td>MALE                          </td><td>19.9738                       </td><td>10                            </td><td>X300195_Q20B0009_08_L1.D707   </td><td>0.8314238323527               </td><td>-2.4469175947943              </td><td>0                             </td><td>1.39185350876437              </td><td>-0.736644663299125            </td><td>0.633508441116424             </td><td>0.454425299207515             </td><td>-0.120238212362989            </td><td>1.75065610830383              </td></tr>\n",
       "\t<tr><th scope=row>384</th><td>Q20B0013.05                   </td><td>X300196_Q20B0013_05_L1.D708   </td><td>liver                         </td><td>mRNA                          </td><td>WT                            </td><td>Housed with Q20 and WT animals</td><td>20                            </td><td>FEMALE                        </td><td>7                             </td><td>10                            </td><td>X300196_Q20B0013_05_L1.D708   </td><td>1.04695072634965              </td><td>-0.377734864681174            </td><td>0.694543879329425             </td><td>1.98835370732709              </td><td>-0.736644663299125            </td><td>-0.4990206716927              </td><td>0.602432188258295             </td><td>-0.627815233923194            </td><td>-1.03115854448162             </td></tr>\n",
       "\t<tr><th scope=row>656</th><td>Q20B0009.03                   </td><td>X300197_Q20B0009_03_L1.D709   </td><td>liver                         </td><td>mRNA                          </td><td>WT                            </td><td>Housed with Q20 and WT animals</td><td>20                            </td><td>MALE                          </td><td>7                             </td><td>10                            </td><td>X300197_Q20B0009_03_L1.D709   </td><td>0.818383542227749             </td><td>-2.4469175947943              </td><td>0.208430069625774             </td><td>1.31809486564066              </td><td>-0.736644663299125            </td><td>-0.11076908136686             </td><td>0.129717697884562             </td><td>-1.07112013387049             </td><td>1.28626336425786              </td></tr>\n",
       "\t<tr><th scope=row>657</th><td>Q92B0005.05                   </td><td>X300198_Q92B0005_05_L1.D710   </td><td>liver                         </td><td>mRNA                          </td><td>HET (Q92)                     </td><td>Housed with Q92 and WT animals</td><td>92                            </td><td>FEMALE                        </td><td>102.467                       </td><td>10                            </td><td>X300198_Q92B0005_05_L1.D710   </td><td>1.13871370377917              </td><td>0.091858546935898             </td><td>0.682731914546304             </td><td>1.26571831259776              </td><td>0.360158488348969             </td><td>-0.514985854312407            </td><td>0.475298220383548             </td><td>-0.773753167076281            </td><td>-0.477921179201813            </td></tr>\n",
       "\t<tr><th scope=row>658</th><td>Q140B0001.08                   </td><td>X300199_Q140B0001_08_L1.D711   </td><td>liver                          </td><td>mRNA                           </td><td>HET (Q140)                     </td><td>Housed with Q140 and WT animals</td><td>140                            </td><td>MALE                           </td><td>148.267                        </td><td>10                             </td><td>X300199_Q140B0001_08_L1.D711   </td><td>1.12135361499196               </td><td>-0.0871360863922832            </td><td>0.454425299207515              </td><td>1.03902356084791               </td><td>-0.736644663299125             </td><td>1.86315763730484               </td><td>0.815144306719347              </td><td>-0.390358012211434             </td><td>-0.367677851080438             </td></tr>\n",
       "\t<tr><th scope=row>659</th><td>Q92B0006.05                   </td><td>X300200_Q92B0006_05_L29       </td><td>liver                         </td><td>mRNA                          </td><td>HET (Q92)                     </td><td>Housed with Q92 and WT animals</td><td>92                            </td><td>FEMALE                        </td><td>101.695                       </td><td>10                            </td><td>X300200_Q92B0006_05_L29       </td><td>0.596842270823333             </td><td>-0.786350866409705            </td><td>0.477921179201813             </td><td>0.673932615336486             </td><td>1.12135361499196              </td><td>0.337715309339834             </td><td>0.108403318476968             </td><td>-0.627815233923194            </td><td>-0.977729440243976            </td></tr>\n",
       "</tbody>\n",
       "</table>\n"
      ],
      "text/latex": [
       "\\begin{tabular}{r|llllllllllllllllllll}\n",
       "  & PGI.Mouse.ID & observationid & Tissue & Seq.Type & GenoType & Housing.Conditions & Numeric.Q & Sex & Genotyped.CAG & Month & Sample.ID & 0610005C13Rik & 0610007N19Rik & 0610007P14Rik & 0610008F07Rik & 0610009B14Rik & 0610009B22Rik & 0610009D07Rik & 0610009L18Rik & 0610009O20Rik\\\\\n",
       "\\hline\n",
       "\t645 & Q20B0009.08                       & X300195\\_Q20B0009\\_08\\_L1.D707 & liver                             & mRNA                              & HET (Q20)                         & Housed with Q20 and WT animals    & 20                                & MALE                              & 19.9738                           & 10                                & X300195\\_Q20B0009\\_08\\_L1.D707 & 0.8314238323527                   & -2.4469175947943                  & 0                                 & 1.39185350876437                  & -0.736644663299125                & 0.633508441116424                 & 0.454425299207515                 & -0.120238212362989                & 1.75065610830383                 \\\\\n",
       "\t384 & Q20B0013.05                       & X300196\\_Q20B0013\\_05\\_L1.D708 & liver                             & mRNA                              & WT                                & Housed with Q20 and WT animals    & 20                                & FEMALE                            & 7                                 & 10                                & X300196\\_Q20B0013\\_05\\_L1.D708 & 1.04695072634965                  & -0.377734864681174                & 0.694543879329425                 & 1.98835370732709                  & -0.736644663299125                & -0.4990206716927                  & 0.602432188258295                 & -0.627815233923194                & -1.03115854448162                \\\\\n",
       "\t656 & Q20B0009.03                       & X300197\\_Q20B0009\\_03\\_L1.D709 & liver                             & mRNA                              & WT                                & Housed with Q20 and WT animals    & 20                                & MALE                              & 7                                 & 10                                & X300197\\_Q20B0009\\_03\\_L1.D709 & 0.818383542227749                 & -2.4469175947943                  & 0.208430069625774                 & 1.31809486564066                  & -0.736644663299125                & -0.11076908136686                 & 0.129717697884562                 & -1.07112013387049                 & 1.28626336425786                 \\\\\n",
       "\t657 & Q92B0005.05                       & X300198\\_Q92B0005\\_05\\_L1.D710 & liver                             & mRNA                              & HET (Q92)                         & Housed with Q92 and WT animals    & 92                                & FEMALE                            & 102.467                           & 10                                & X300198\\_Q92B0005\\_05\\_L1.D710 & 1.13871370377917                  & 0.091858546935898                 & 0.682731914546304                 & 1.26571831259776                  & 0.360158488348969                 & -0.514985854312407                & 0.475298220383548                 & -0.773753167076281                & -0.477921179201813               \\\\\n",
       "\t658 & Q140B0001.08                       & X300199\\_Q140B0001\\_08\\_L1.D711 & liver                              & mRNA                               & HET (Q140)                         & Housed with Q140 and WT animals    & 140                                & MALE                               & 148.267                            & 10                                 & X300199\\_Q140B0001\\_08\\_L1.D711 & 1.12135361499196                   & -0.0871360863922832                & 0.454425299207515                  & 1.03902356084791                   & -0.736644663299125                 & 1.86315763730484                   & 0.815144306719347                  & -0.390358012211434                 & -0.367677851080438                \\\\\n",
       "\t659 & Q92B0006.05                    & X300200\\_Q92B0006\\_05\\_L29  & liver                          & mRNA                           & HET (Q92)                      & Housed with Q92 and WT animals & 92                             & FEMALE                         & 101.695                        & 10                             & X300200\\_Q92B0006\\_05\\_L29  & 0.596842270823333              & -0.786350866409705             & 0.477921179201813              & 0.673932615336486              & 1.12135361499196               & 0.337715309339834              & 0.108403318476968              & -0.627815233923194             & -0.977729440243976            \\\\\n",
       "\\end{tabular}\n"
      ],
      "text/plain": [
       "    PGI.Mouse.ID                observationid Tissue Seq.Type   GenoType\n",
       "645  Q20B0009.08  X300195_Q20B0009_08_L1.D707  liver     mRNA  HET (Q20)\n",
       "384  Q20B0013.05  X300196_Q20B0013_05_L1.D708  liver     mRNA         WT\n",
       "656  Q20B0009.03  X300197_Q20B0009_03_L1.D709  liver     mRNA         WT\n",
       "657  Q92B0005.05  X300198_Q92B0005_05_L1.D710  liver     mRNA  HET (Q92)\n",
       "658 Q140B0001.08 X300199_Q140B0001_08_L1.D711  liver     mRNA HET (Q140)\n",
       "659  Q92B0006.05      X300200_Q92B0006_05_L29  liver     mRNA  HET (Q92)\n",
       "                 Housing.Conditions Numeric.Q    Sex Genotyped.CAG Month\n",
       "645  Housed with Q20 and WT animals        20   MALE       19.9738    10\n",
       "384  Housed with Q20 and WT animals        20 FEMALE        7.0000    10\n",
       "656  Housed with Q20 and WT animals        20   MALE        7.0000    10\n",
       "657  Housed with Q92 and WT animals        92 FEMALE      102.4670    10\n",
       "658 Housed with Q140 and WT animals       140   MALE      148.2670    10\n",
       "659  Housed with Q92 and WT animals        92 FEMALE      101.6950    10\n",
       "                       Sample.ID 0610005C13Rik 0610007N19Rik 0610007P14Rik\n",
       "645  X300195_Q20B0009_08_L1.D707     0.8314238   -2.44691759     0.0000000\n",
       "384  X300196_Q20B0013_05_L1.D708     1.0469507   -0.37773486     0.6945439\n",
       "656  X300197_Q20B0009_03_L1.D709     0.8183835   -2.44691759     0.2084301\n",
       "657  X300198_Q92B0005_05_L1.D710     1.1387137    0.09185855     0.6827319\n",
       "658 X300199_Q140B0001_08_L1.D711     1.1213536   -0.08713609     0.4544253\n",
       "659      X300200_Q92B0006_05_L29     0.5968423   -0.78635087     0.4779212\n",
       "    0610008F07Rik 0610009B14Rik 0610009B22Rik 0610009D07Rik 0610009L18Rik\n",
       "645     1.3918535    -0.7366447     0.6335084     0.4544253    -0.1202382\n",
       "384     1.9883537    -0.7366447    -0.4990207     0.6024322    -0.6278152\n",
       "656     1.3180949    -0.7366447    -0.1107691     0.1297177    -1.0711201\n",
       "657     1.2657183     0.3601585    -0.5149859     0.4752982    -0.7737532\n",
       "658     1.0390236    -0.7366447     1.8631576     0.8151443    -0.3903580\n",
       "659     0.6739326     1.1213536     0.3377153     0.1084033    -0.6278152\n",
       "    0610009O20Rik\n",
       "645     1.7506561\n",
       "384    -1.0311585\n",
       "656     1.2862634\n",
       "657    -0.4779212\n",
       "658    -0.3676779\n",
       "659    -0.9777294"
      ]
     },
     "metadata": {},
     "output_type": "display_data"
    }
   ],
   "source": [
    "head(all_mrna_data_npn[1:20])"
   ]
  },
  {
   "cell_type": "code",
   "execution_count": 238,
   "metadata": {
    "collapsed": false
   },
   "outputs": [],
   "source": [
    "all_mrna_data_npn_tidy <- gather(all_mrna_data_npn, Gene, Expression,\n",
    "                             -PGI.Mouse.ID,\n",
    "                             -observationid,\n",
    "                             -Tissue,\n",
    "                             -Seq.Type,\n",
    "                             -GenoType,\n",
    "                             -Genotyped.CAG,\n",
    "                             -Housing.Conditions,\n",
    "                             -Numeric.Q,\n",
    "                             -Sex,\n",
    "                             -Genotyped.CAG,\n",
    "                             -Month,\n",
    "                             -Sample.ID\n",
    "                            )"
   ]
  },
  {
   "cell_type": "code",
   "execution_count": 239,
   "metadata": {
    "collapsed": false
   },
   "outputs": [
    {
     "data": {
      "text/html": [
       "<ol class=list-inline>\n",
       "\t<li>12679593</li>\n",
       "\t<li>13</li>\n",
       "</ol>\n"
      ],
      "text/latex": [
       "\\begin{enumerate*}\n",
       "\\item 12679593\n",
       "\\item 13\n",
       "\\end{enumerate*}\n"
      ],
      "text/markdown": [
       "1. 12679593\n",
       "2. 13\n",
       "\n",
       "\n"
      ],
      "text/plain": [
       "[1] 12679593       13"
      ]
     },
     "metadata": {},
     "output_type": "display_data"
    }
   ],
   "source": [
    "dim(all_mrna_data_npn_tidy)"
   ]
  },
  {
   "cell_type": "code",
   "execution_count": 240,
   "metadata": {
    "collapsed": false
   },
   "outputs": [
    {
     "data": {
      "text/html": [
       "<ol class=list-inline>\n",
       "\t<li>12679593</li>\n",
       "\t<li>13</li>\n",
       "</ol>\n"
      ],
      "text/latex": [
       "\\begin{enumerate*}\n",
       "\\item 12679593\n",
       "\\item 13\n",
       "\\end{enumerate*}\n"
      ],
      "text/markdown": [
       "1. 12679593\n",
       "2. 13\n",
       "\n",
       "\n"
      ],
      "text/plain": [
       "[1] 12679593       13"
      ]
     },
     "metadata": {},
     "output_type": "display_data"
    }
   ],
   "source": [
    "dim(all_mrna_data_raw_tidy)"
   ]
  },
  {
   "cell_type": "code",
   "execution_count": 241,
   "metadata": {
    "collapsed": true
   },
   "outputs": [],
   "source": [
    "save(all_mrna_data_npn,file=\"all_mrna_data_NPN.Rdata\")\n",
    "save(all_mrna_data_npn_tidy,file=\"all_mrna_data_tidy_NPN.Rdata\")"
   ]
  },
  {
   "cell_type": "code",
   "execution_count": null,
   "metadata": {
    "collapsed": true
   },
   "outputs": [],
   "source": []
  }
 ],
 "metadata": {
  "kernelspec": {
   "display_name": "SSH whovian R",
   "language": "",
   "name": "rik_ssh_whovian_r"
  },
  "language_info": {
   "codemirror_mode": "r",
   "file_extension": ".r",
   "mimetype": "text/x-r-source",
   "name": "R",
   "pygments_lexer": "r",
   "version": "3.3.1"
  }
 },
 "nbformat": 4,
 "nbformat_minor": 0
}
