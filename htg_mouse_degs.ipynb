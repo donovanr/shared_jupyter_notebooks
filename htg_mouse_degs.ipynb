{
 "cells": [
  {
   "cell_type": "code",
   "execution_count": 1,
   "metadata": {
    "collapsed": false
   },
   "outputs": [
    {
     "name": "stderr",
     "output_type": "stream",
     "text": [
      "\n",
      "Attaching package: ‘dplyr’\n",
      "\n",
      "The following objects are masked from ‘package:stats’:\n",
      "\n",
      "    filter, lag\n",
      "\n",
      "The following objects are masked from ‘package:base’:\n",
      "\n",
      "    intersect, setdiff, setequal, union\n",
      "\n",
      "Loading required package: Matrix\n",
      "\n",
      "Attaching package: ‘Matrix’\n",
      "\n",
      "The following object is masked from ‘package:tidyr’:\n",
      "\n",
      "    expand\n",
      "\n",
      "Loading required package: foreach\n",
      "Loaded glmnet 2.0-5\n",
      "\n",
      "\n",
      "Attaching package: ‘gplots’\n",
      "\n",
      "The following object is masked from ‘package:stats’:\n",
      "\n",
      "    lowess\n",
      "\n"
     ]
    }
   ],
   "source": [
    "# install.packages('gplots', repos='http://cran.us.r-project.org')\n",
    "# source(\"https://bioconductor.org/biocLite.R\")\n",
    "# biocLite(\"vsn\")\n",
    "# install.packages('RColorBrewer', repos='http://cran.us.r-project.org')\n",
    "# source(\"https://bioconductor.org/biocLite.R\")\n",
    "# biocLite(\"edgeR\")\n",
    "\n",
    "library(tidyr)\n",
    "library(dplyr)\n",
    "library(ggplot2)\n",
    "library(RColorBrewer)\n",
    "library(glmnet)\n",
    "library(glmnet)\n",
    "library(gplots)\n",
    "\n",
    "# library(missForest)\n",
    "# library(huge)\n",
    "# library(JGL)\n",
    "# library(msgl)\n",
    "# library(edgeR)"
   ]
  },
  {
   "cell_type": "code",
   "execution_count": 2,
   "metadata": {
    "collapsed": true
   },
   "outputs": [],
   "source": [
    "load(\"/proj/price1/CHDI/studies/allelic_series/HDinHD_FPKMs/all_mrna_data_NPN.Rdata\")\n",
    "load(\"/proj/price1/CHDI/studies/allelic_series/HDinHD_FPKMs/all_mrna_data_tidy_NPN.Rdata\")\n",
    "load(\"/proj/price1/CHDI/studies/allelic_series/HDinHD_FPKMs/all_mrna_data_FPKM.Rdata\")\n",
    "load(\"/proj/price1/CHDI/studies/allelic_series/HDinHD_FPKMs/all_mrna_data_tidy_FPKM.Rdata\")\n",
    "load(\"/proj/price1/CHDI/studies/allelic_series/HDinHD_FPKMs/all_mrna_data_RAW.Rdata\")\n",
    "load(\"/proj/price1/CHDI/studies/allelic_series/HDinHD_FPKMs/all_mrna_data_tidy_RAW.Rdata\")"
   ]
  },
  {
   "cell_type": "code",
   "execution_count": 3,
   "metadata": {
    "collapsed": false
   },
   "outputs": [
    {
     "data": {
      "text/html": [
       "<ol class=list-inline>\n",
       "\t<li>'all_mrna_data_FPKM'</li>\n",
       "\t<li>'all_mrna_data_FPKM_tidy'</li>\n",
       "\t<li>'all_mrna_data_npn'</li>\n",
       "\t<li>'all_mrna_data_npn_tidy'</li>\n",
       "\t<li>'all_mrna_data_raw'</li>\n",
       "\t<li>'all_mrna_data_raw_tidy'</li>\n",
       "\t<li>'q'</li>\n",
       "\t<li>'quit'</li>\n",
       "</ol>\n"
      ],
      "text/latex": [
       "\\begin{enumerate*}\n",
       "\\item 'all\\_mrna\\_data\\_FPKM'\n",
       "\\item 'all\\_mrna\\_data\\_FPKM\\_tidy'\n",
       "\\item 'all\\_mrna\\_data\\_npn'\n",
       "\\item 'all\\_mrna\\_data\\_npn\\_tidy'\n",
       "\\item 'all\\_mrna\\_data\\_raw'\n",
       "\\item 'all\\_mrna\\_data\\_raw\\_tidy'\n",
       "\\item 'q'\n",
       "\\item 'quit'\n",
       "\\end{enumerate*}\n"
      ],
      "text/markdown": [
       "1. 'all_mrna_data_FPKM'\n",
       "2. 'all_mrna_data_FPKM_tidy'\n",
       "3. 'all_mrna_data_npn'\n",
       "4. 'all_mrna_data_npn_tidy'\n",
       "5. 'all_mrna_data_raw'\n",
       "6. 'all_mrna_data_raw_tidy'\n",
       "7. 'q'\n",
       "8. 'quit'\n",
       "\n",
       "\n"
      ],
      "text/plain": [
       "[1] \"all_mrna_data_FPKM\"      \"all_mrna_data_FPKM_tidy\"\n",
       "[3] \"all_mrna_data_npn\"       \"all_mrna_data_npn_tidy\" \n",
       "[5] \"all_mrna_data_raw\"       \"all_mrna_data_raw_tidy\" \n",
       "[7] \"q\"                       \"quit\"                   "
      ]
     },
     "metadata": {},
     "output_type": "display_data"
    }
   ],
   "source": [
    "ls()"
   ]
  },
  {
   "cell_type": "code",
   "execution_count": 4,
   "metadata": {
    "collapsed": false
   },
   "outputs": [
    {
     "data": {
      "text/html": [
       "40"
      ],
      "text/latex": [
       "40"
      ],
      "text/markdown": [
       "40"
      ],
      "text/plain": [
       "[1] 40"
      ]
     },
     "metadata": {},
     "output_type": "display_data"
    }
   ],
   "source": [
    "sum(is.na(all_mrna_data_npn))"
   ]
  },
  {
   "cell_type": "code",
   "execution_count": 5,
   "metadata": {
    "collapsed": false
   },
   "outputs": [
    {
     "data": {
      "text/html": [
       "<ol class=list-inline>\n",
       "\t<li>716</li>\n",
       "\t<li>12896</li>\n",
       "</ol>\n"
      ],
      "text/latex": [
       "\\begin{enumerate*}\n",
       "\\item 716\n",
       "\\item 12896\n",
       "\\end{enumerate*}\n"
      ],
      "text/markdown": [
       "1. 716\n",
       "2. 12896\n",
       "\n",
       "\n"
      ],
      "text/plain": [
       "[1]   716 12896"
      ]
     },
     "metadata": {},
     "output_type": "display_data"
    }
   ],
   "source": [
    "dim(all_mrna_data_npn)"
   ]
  },
  {
   "cell_type": "code",
   "execution_count": 11,
   "metadata": {
    "collapsed": true
   },
   "outputs": [],
   "source": [
    "all_mrna_data_npn <-cbind(Sample.ID=rownames(all_mrna_data_npn),all_mrna_data_npn)"
   ]
  },
  {
   "cell_type": "code",
   "execution_count": 13,
   "metadata": {
    "collapsed": false
   },
   "outputs": [
    {
     "data": {
      "text/html": [
       "<table>\n",
       "<thead><tr><th></th><th scope=col>Sample.ID</th><th scope=col>Numeric.Q</th><th scope=col>Sex</th><th scope=col>Genotyped.CAG</th><th scope=col>Tissue</th><th scope=col>Timepoint</th><th scope=col>0610005C13Rik</th><th scope=col>0610007N19Rik</th><th scope=col>0610007P14Rik</th><th scope=col>0610008F07Rik</th></tr></thead>\n",
       "<tbody>\n",
       "\t<tr><th scope=row>X28210_1_641L_striatum_Q20_WT_M_L3.LB9</th><td>X28210_1_641L_striatum_Q20_WT_M_L3.LB9</td><td>20                                    </td><td>MALE                                  </td><td>7                                     </td><td>cortex                                </td><td>10                                    </td><td>-1.33965005372848                     </td><td>-1.01885354370688                     </td><td>-0.477390018583274                    </td><td>-0.332061236789903                    </td></tr>\n",
       "\t<tr><th scope=row>X299971_Q80B0021_10_L4.D709</th><td>X299971_Q80B0021_10_L4.D709</td><td>80                         </td><td>FEMALE                     </td><td>85.137                     </td><td>cortex                     </td><td>10                         </td><td>0.223967597372717          </td><td>-0.79431411467698          </td><td>-0.942484732953563         </td><td>-0.332061236789903         </td></tr>\n",
       "\t<tr><th scope=row>X299972_Q80B0021_06_L4.D710</th><td>X299972_Q80B0021_06_L4.D710</td><td>80                         </td><td>FEMALE                     </td><td>84.098                     </td><td>cortex                     </td><td>10                         </td><td>-0.426704096771064         </td><td>-0.54965360658391          </td><td>-0.541490511420735         </td><td>-0.332061236789903         </td></tr>\n",
       "\t<tr><th scope=row>X299973_Q111B0021_06_L4.D711</th><td>X299973_Q111B0021_06_L4.D711</td><td>111                         </td><td>FEMALE                      </td><td>127.973                     </td><td>cortex                      </td><td>10                          </td><td>0.16111741792323            </td><td>-0.29873533559768           </td><td>-1.04262934740195           </td><td>-0.332061236789903          </td></tr>\n",
       "\t<tr><th scope=row>X299974_Q20B0017_04_L4.D712</th><td>X299974_Q20B0017_04_L4.D712</td><td>20                         </td><td>MALE                       </td><td>20.0086                    </td><td>cortex                     </td><td>10                         </td><td>0.0176310948025585         </td><td>-1.40179375398891          </td><td>-0.907581878451486         </td><td>-0.332061236789903         </td></tr>\n",
       "\t<tr><th scope=row>X299975_Q175B0591_08_L28</th><td>X299975_Q175B0591_08_L28</td><td>175                     </td><td>MALE                    </td><td>198.141                 </td><td>cortex                  </td><td>10                      </td><td>-0.754073718017269      </td><td>-0.674763184351501      </td><td>-0.392242277472293      </td><td>-0.332061236789903      </td></tr>\n",
       "</tbody>\n",
       "</table>\n"
      ],
      "text/latex": [
       "\\begin{tabular}{r|llllllllll}\n",
       "  & Sample.ID & Numeric.Q & Sex & Genotyped.CAG & Tissue & Timepoint & 0610005C13Rik & 0610007N19Rik & 0610007P14Rik & 0610008F07Rik\\\\\n",
       "\\hline\n",
       "\tX28210\\_1\\_641L\\_striatum\\_Q20\\_WT\\_M\\_L3.LB9 & X28210\\_1\\_641L\\_striatum\\_Q20\\_WT\\_M\\_L3.LB9 & 20                                                   & MALE                                                 & 7                                                    & cortex                                               & 10                                                   & -1.33965005372848                                    & -1.01885354370688                                    & -0.477390018583274                                   & -0.332061236789903                                  \\\\\n",
       "\tX299971\\_Q80B0021\\_10\\_L4.D709 & X299971\\_Q80B0021\\_10\\_L4.D709 & 80                                & FEMALE                            & 85.137                            & cortex                            & 10                                & 0.223967597372717                 & -0.79431411467698                 & -0.942484732953563                & -0.332061236789903               \\\\\n",
       "\tX299972\\_Q80B0021\\_06\\_L4.D710 & X299972\\_Q80B0021\\_06\\_L4.D710 & 80                                & FEMALE                            & 84.098                            & cortex                            & 10                                & -0.426704096771064                & -0.54965360658391                 & -0.541490511420735                & -0.332061236789903               \\\\\n",
       "\tX299973\\_Q111B0021\\_06\\_L4.D711 & X299973\\_Q111B0021\\_06\\_L4.D711 & 111                                & FEMALE                             & 127.973                            & cortex                             & 10                                 & 0.16111741792323                   & -0.29873533559768                  & -1.04262934740195                  & -0.332061236789903                \\\\\n",
       "\tX299974\\_Q20B0017\\_04\\_L4.D712 & X299974\\_Q20B0017\\_04\\_L4.D712 & 20                                & MALE                              & 20.0086                           & cortex                            & 10                                & 0.0176310948025585                & -1.40179375398891                 & -0.907581878451486                & -0.332061236789903               \\\\\n",
       "\tX299975\\_Q175B0591\\_08\\_L28 & X299975\\_Q175B0591\\_08\\_L28 & 175                            & MALE                           & 198.141                        & cortex                         & 10                             & -0.754073718017269             & -0.674763184351501             & -0.392242277472293             & -0.332061236789903            \\\\\n",
       "\\end{tabular}\n"
      ],
      "text/plain": [
       "                                                                    Sample.ID\n",
       "X28210_1_641L_striatum_Q20_WT_M_L3.LB9 X28210_1_641L_striatum_Q20_WT_M_L3.LB9\n",
       "X299971_Q80B0021_10_L4.D709                       X299971_Q80B0021_10_L4.D709\n",
       "X299972_Q80B0021_06_L4.D710                       X299972_Q80B0021_06_L4.D710\n",
       "X299973_Q111B0021_06_L4.D711                     X299973_Q111B0021_06_L4.D711\n",
       "X299974_Q20B0017_04_L4.D712                       X299974_Q20B0017_04_L4.D712\n",
       "X299975_Q175B0591_08_L28                             X299975_Q175B0591_08_L28\n",
       "                                       Numeric.Q    Sex Genotyped.CAG Tissue\n",
       "X28210_1_641L_striatum_Q20_WT_M_L3.LB9        20   MALE        7.0000 cortex\n",
       "X299971_Q80B0021_10_L4.D709                   80 FEMALE       85.1370 cortex\n",
       "X299972_Q80B0021_06_L4.D710                   80 FEMALE       84.0980 cortex\n",
       "X299973_Q111B0021_06_L4.D711                 111 FEMALE      127.9730 cortex\n",
       "X299974_Q20B0017_04_L4.D712                   20   MALE       20.0086 cortex\n",
       "X299975_Q175B0591_08_L28                     175   MALE      198.1410 cortex\n",
       "                                       Timepoint 0610005C13Rik 0610007N19Rik\n",
       "X28210_1_641L_striatum_Q20_WT_M_L3.LB9        10   -1.33965005    -1.0188535\n",
       "X299971_Q80B0021_10_L4.D709                   10    0.22396760    -0.7943141\n",
       "X299972_Q80B0021_06_L4.D710                   10   -0.42670410    -0.5496536\n",
       "X299973_Q111B0021_06_L4.D711                  10    0.16111742    -0.2987353\n",
       "X299974_Q20B0017_04_L4.D712                   10    0.01763109    -1.4017938\n",
       "X299975_Q175B0591_08_L28                      10   -0.75407372    -0.6747632\n",
       "                                       0610007P14Rik 0610008F07Rik\n",
       "X28210_1_641L_striatum_Q20_WT_M_L3.LB9    -0.4773900    -0.3320612\n",
       "X299971_Q80B0021_10_L4.D709               -0.9424847    -0.3320612\n",
       "X299972_Q80B0021_06_L4.D710               -0.5414905    -0.3320612\n",
       "X299973_Q111B0021_06_L4.D711              -1.0426293    -0.3320612\n",
       "X299974_Q20B0017_04_L4.D712               -0.9075819    -0.3320612\n",
       "X299975_Q175B0591_08_L28                  -0.3922423    -0.3320612"
      ]
     },
     "metadata": {},
     "output_type": "display_data"
    }
   ],
   "source": [
    "head(all_mrna_data_npn[,1:10])"
   ]
  },
  {
   "cell_type": "code",
   "execution_count": 14,
   "metadata": {
    "collapsed": false
   },
   "outputs": [
    {
     "data": {
      "text/html": [
       "<ol class=list-inline>\n",
       "\t<li>56</li>\n",
       "\t<li>12897</li>\n",
       "</ol>\n"
      ],
      "text/latex": [
       "\\begin{enumerate*}\n",
       "\\item 56\n",
       "\\item 12897\n",
       "\\end{enumerate*}\n"
      ],
      "text/markdown": [
       "1. 56\n",
       "2. 12897\n",
       "\n",
       "\n"
      ],
      "text/plain": [
       "[1]    56 12897"
      ]
     },
     "metadata": {},
     "output_type": "display_data"
    }
   ],
   "source": [
    "data_subset_cortex_10 <- filter(all_mrna_data_npn, \n",
    "                    Tissue == \"cortex\",\n",
    "                    Timepoint == 6\n",
    "                    )\n",
    "dim(data_subset_cortex_10)"
   ]
  },
  {
   "cell_type": "code",
   "execution_count": 17,
   "metadata": {
    "collapsed": false
   },
   "outputs": [
    {
     "data": {
      "text/html": [
       "<ol class=list-inline>\n",
       "\t<li>56</li>\n",
       "\t<li>6</li>\n",
       "</ol>\n"
      ],
      "text/latex": [
       "\\begin{enumerate*}\n",
       "\\item 56\n",
       "\\item 6\n",
       "\\end{enumerate*}\n"
      ],
      "text/markdown": [
       "1. 56\n",
       "2. 6\n",
       "\n",
       "\n"
      ],
      "text/plain": [
       "[1] 56  6"
      ]
     },
     "metadata": {},
     "output_type": "display_data"
    }
   ],
   "source": [
    "data_subset_cortex_10_meta <- data_subset_cortex_10[,1:6]\n",
    "dim(data_subset_cortex_10_meta)"
   ]
  },
  {
   "cell_type": "code",
   "execution_count": 16,
   "metadata": {
    "collapsed": false
   },
   "outputs": [
    {
     "data": {
      "text/html": [
       "<table>\n",
       "<thead><tr><th></th><th scope=col>Sample.ID</th><th scope=col>Numeric.Q</th><th scope=col>Sex</th><th scope=col>Genotyped.CAG</th><th scope=col>Tissue</th><th scope=col>Timepoint</th></tr></thead>\n",
       "<tbody>\n",
       "\t<tr><th scope=row>3</th><td>299882_Q20B0001_05_L1</td><td>20                   </td><td>MALE                 </td><td>7                    </td><td>cortex               </td><td>6                    </td></tr>\n",
       "\t<tr><th scope=row>4</th><td>299883_Q20B0005_03_L12</td><td>20                    </td><td>FEMALE                </td><td>7                     </td><td>cortex                </td><td>6                     </td></tr>\n",
       "\t<tr><th scope=row>5</th><td>299884_Q20B0005_05_L5.D703</td><td>20                        </td><td>FEMALE                    </td><td>7                         </td><td>cortex                    </td><td>6                         </td></tr>\n",
       "\t<tr><th scope=row>6</th><td>299885_Q20B0001_03_L6.D704</td><td>20                        </td><td>MALE                      </td><td>7                         </td><td>cortex                    </td><td>6                         </td></tr>\n",
       "\t<tr><th scope=row>8</th><td>299712_Q20B0001_01_L1.D705</td><td>20                        </td><td>MALE                      </td><td>7                         </td><td>cortex                    </td><td>6                         </td></tr>\n",
       "\t<tr><th scope=row>11</th><td>299715_Q20B0005_05_L1.D708</td><td>20                        </td><td>FEMALE                    </td><td>7                         </td><td>cortex                    </td><td>6                         </td></tr>\n",
       "\t<tr><th scope=row>15</th><td>299721_Q20B0005_03_L2.D712</td><td>20                        </td><td>FEMALE                    </td><td>7                         </td><td>cortex                    </td><td>6                         </td></tr>\n",
       "\t<tr><th scope=row>16</th><td>299722_Q20B0001_07_L2.D701</td><td>20                        </td><td>MALE                      </td><td>7                         </td><td>cortex                    </td><td>6                         </td></tr>\n",
       "\t<tr><th scope=row>17</th><td>299723_Q20B0001_03_L3.D702</td><td>20                        </td><td>MALE                      </td><td>7                         </td><td>cortex                    </td><td>6                         </td></tr>\n",
       "\t<tr><th scope=row>19</th><td>299725_Q20B0005_07_L3.D704</td><td>20                        </td><td>FEMALE                    </td><td>7                         </td><td>cortex                    </td><td>6                         </td></tr>\n",
       "\t<tr><th scope=row>21</th><td>299727_Q20B0005_05_L3.D706</td><td>20                        </td><td>FEMALE                    </td><td>7                         </td><td>cortex                    </td><td>6                         </td></tr>\n",
       "\t<tr><th scope=row>22</th><td>299728_Q20B0001_03_L4.D707</td><td>20                        </td><td>MALE                      </td><td>7                         </td><td>cortex                    </td><td>6                         </td></tr>\n",
       "\t<tr><th scope=row>24</th><td>X300235_Q20B0013_09_L1.D711</td><td>20                         </td><td>FEMALE                     </td><td>7                          </td><td>cortex                     </td><td>6                          </td></tr>\n",
       "\t<tr><th scope=row>28</th><td>X300239_Q20B0013_03_L2.D703</td><td>20                         </td><td>FEMALE                     </td><td>7                          </td><td>cortex                     </td><td>6                          </td></tr>\n",
       "\t<tr><th scope=row>31</th><td>X300242_Q20B0009_05_L2.D706</td><td>20                         </td><td>MALE                       </td><td>7                          </td><td>cortex                     </td><td>6                          </td></tr>\n",
       "\t<tr><th scope=row>34</th><td>X300245_Q20B0013_01_L3.D709</td><td>20                         </td><td>FEMALE                     </td><td>7                          </td><td>cortex                     </td><td>6                          </td></tr>\n",
       "\t<tr><th scope=row>35</th><td>X300246_Q20B0009_07_L3.D710</td><td>20                         </td><td>MALE                       </td><td>20.0294                    </td><td>cortex                     </td><td>6                          </td></tr>\n",
       "\t<tr><th scope=row>37</th><td>X300248_Q20B0013_10_L3.D712</td><td>20                         </td><td>FEMALE                     </td><td>20.0433                    </td><td>cortex                     </td><td>6                          </td></tr>\n",
       "\t<tr><th scope=row>40</th><td>X299915_Q20B0017_05_L3</td><td>20                    </td><td>MALE                  </td><td>7                     </td><td>cortex                </td><td>6                     </td></tr>\n",
       "\t<tr><th scope=row>47</th><td>X299922_Q20B0021_10_L2.D708</td><td>20                         </td><td>FEMALE                     </td><td>19.9286                    </td><td>cortex                     </td><td>6                          </td></tr>\n",
       "\t<tr><th scope=row>49</th><td>X299924_Q20B0021_04_L2.D710</td><td>20                         </td><td>FEMALE                     </td><td>19.6819                    </td><td>cortex                     </td><td>6                          </td></tr>\n",
       "\t<tr><th scope=row>54</th><td>X299929_Q20B0017_09_L3.D703</td><td>20                         </td><td>MALE                       </td><td>7                          </td><td>cortex                     </td><td>6                          </td></tr>\n",
       "\t<tr><th scope=row>33</th><td>X300244_Q80B0005_08_L3.D708</td><td>80                         </td><td>FEMALE                     </td><td>90.631                     </td><td>cortex                     </td><td>6                          </td></tr>\n",
       "\t<tr><th scope=row>38</th><td>X300249_Q80B0005_10_L4.D701</td><td>80                         </td><td>FEMALE                     </td><td>89.6232                    </td><td>cortex                     </td><td>6                          </td></tr>\n",
       "\t<tr><th scope=row>41</th><td>X299916_Q80B0021_10_L1.D702</td><td>80                         </td><td>FEMALE                     </td><td>85.137                     </td><td>cortex                     </td><td>6                          </td></tr>\n",
       "\t<tr><th scope=row>42</th><td>X299917_Q80B0017_08_L1.D703</td><td>80                         </td><td>MALE                       </td><td>85.0328                    </td><td>cortex                     </td><td>6                          </td></tr>\n",
       "\t<tr><th scope=row>46</th><td>X299921_Q80B0021_08_L2.D707</td><td>80                         </td><td>FEMALE                     </td><td>85.144                     </td><td>cortex                     </td><td>6                          </td></tr>\n",
       "\t<tr><th scope=row>48</th><td>X299923_Q80B0017_06_L2.D709</td><td>80                         </td><td>MALE                       </td><td>85.0084                    </td><td>cortex                     </td><td>6                          </td></tr>\n",
       "\t<tr><th scope=row>50</th><td>X299925_Q80B0017_10_L3.D711</td><td>80                         </td><td>MALE                       </td><td>83.9868                    </td><td>cortex                     </td><td>6                          </td></tr>\n",
       "\t<tr><th scope=row>56</th><td>X299931_Q80B0017_04_L4.D705</td><td>80                         </td><td>MALE                       </td><td>81.947                     </td><td>cortex                     </td><td>6                          </td></tr>\n",
       "\t<tr><th scope=row>26</th><td>X300237_Q92B0002_05_L1.D701</td><td>92                         </td><td>MALE                       </td><td>105.699                    </td><td>cortex                     </td><td>6                          </td></tr>\n",
       "\t<tr><th scope=row>36</th><td>X300247_Q92B0001_10_L3.D711</td><td>92                         </td><td>MALE                       </td><td>101.626                    </td><td>cortex                     </td><td>6                          </td></tr>\n",
       "\t<tr><th scope=row>39</th><td>X300250_Q92B0006_03_L4.D702</td><td>92                         </td><td>FEMALE                     </td><td>101.688                    </td><td>cortex                     </td><td>6                          </td></tr>\n",
       "\t<tr><th scope=row>25</th><td>X300236_Q111B0013_04_L1.D712</td><td>111                         </td><td>FEMALE                      </td><td>125.106                     </td><td>cortex                      </td><td>6                           </td></tr>\n",
       "\t<tr><th scope=row>29</th><td>X300240_Q111B0013_10_L2.D704</td><td>111                         </td><td>FEMALE                      </td><td>124.14                      </td><td>cortex                      </td><td>6                           </td></tr>\n",
       "\t<tr><th scope=row>55</th><td>X299930_Q111B0017_06_L4.D704</td><td>111                         </td><td>MALE                        </td><td>127.529                     </td><td>cortex                      </td><td>6                           </td></tr>\n",
       "\t<tr><th scope=row>23</th><td>X300234_Q140B0005_07_L1.D710</td><td>140                         </td><td>FEMALE                      </td><td>150.245                     </td><td>cortex                      </td><td>6                           </td></tr>\n",
       "\t<tr><th scope=row>30</th><td>X300241_Q140B0005_06_L2.D705</td><td>140                         </td><td>FEMALE                      </td><td>148.194                     </td><td>cortex                      </td><td>6                           </td></tr>\n",
       "\t<tr><th scope=row>32</th><td>X300243_Q140B0005_02_L2.D707</td><td>140                         </td><td>FEMALE                      </td><td>147.287                     </td><td>cortex                      </td><td>6                           </td></tr>\n",
       "\t<tr><th scope=row>43</th><td>X299918_Q140B0017_02_L1.D704</td><td>140                         </td><td>MALE                        </td><td>138.332                     </td><td>cortex                      </td><td>6                           </td></tr>\n",
       "\t<tr><th scope=row>44</th><td>X299919_Q140B0021_06_L1.D705</td><td>140                         </td><td>FEMALE                      </td><td>141.293                     </td><td>cortex                      </td><td>6                           </td></tr>\n",
       "\t<tr><th scope=row>45</th><td>X299920_Q140B0021_10_L2.D706</td><td>140                         </td><td>FEMALE                      </td><td>150.377                     </td><td>cortex                      </td><td>6                           </td></tr>\n",
       "\t<tr><th scope=row>51</th><td>X299926_Q140B0017_04_L17</td><td>140                     </td><td>MALE                    </td><td>150.401                 </td><td>cortex                  </td><td>6                       </td></tr>\n",
       "\t<tr><th scope=row>52</th><td>X299927_Q140B0021_02_L3.D701</td><td>140                         </td><td>FEMALE                      </td><td>155.436                     </td><td>cortex                      </td><td>6                           </td></tr>\n",
       "\t<tr><th scope=row>1</th><td>299880_Q175B0574_04_L4</td><td>175                   </td><td>MALE                  </td><td>201.181               </td><td>cortex                </td><td>6                     </td></tr>\n",
       "\t<tr><th scope=row>2</th><td>299881_Q175B0575_10_L21</td><td>175                    </td><td>FEMALE                 </td><td>202.085                </td><td>cortex                 </td><td>6                      </td></tr>\n",
       "\t<tr><th scope=row>7</th><td>299711_Q175B0575_08_L1.D704</td><td>175                        </td><td>FEMALE                     </td><td>205.104                    </td><td>cortex                     </td><td>6                          </td></tr>\n",
       "\t<tr><th scope=row>9</th><td>299713_Q175B0574_04_L1.D706</td><td>175                        </td><td>MALE                       </td><td>201.181                    </td><td>cortex                     </td><td>6                          </td></tr>\n",
       "\t<tr><th scope=row>10</th><td>299714_Q175B0575_04_L1.D707</td><td>175                        </td><td>FEMALE                     </td><td>199.034                    </td><td>cortex                     </td><td>6                          </td></tr>\n",
       "\t<tr><th scope=row>12</th><td>299717_Q175B0574_06_L2.D709</td><td>175                        </td><td>MALE                       </td><td>207.082                    </td><td>cortex                     </td><td>6                          </td></tr>\n",
       "\t<tr><th scope=row>13</th><td>299718_Q175B0574_02_L2.D710</td><td>175                        </td><td>MALE                       </td><td>195.215                    </td><td>cortex                     </td><td>6                          </td></tr>\n",
       "\t<tr><th scope=row>14</th><td>299720_Q175B0574_10_L2.D711</td><td>175                        </td><td>MALE                       </td><td>209.069                    </td><td>cortex                     </td><td>6                          </td></tr>\n",
       "\t<tr><th scope=row>18</th><td>299724_Q175B0575_10_L3.D703</td><td>175                        </td><td>FEMALE                     </td><td>202.085                    </td><td>cortex                     </td><td>6                          </td></tr>\n",
       "\t<tr><th scope=row>20</th><td>299726_Q175B0575_02_L3.D705</td><td>175                        </td><td>FEMALE                     </td><td>203.871                    </td><td>cortex                     </td><td>6                          </td></tr>\n",
       "\t<tr><th scope=row>27</th><td>X300238_Q175B0582_02_L1.D702</td><td>175                         </td><td>MALE                        </td><td>209.333                     </td><td>cortex                      </td><td>6                           </td></tr>\n",
       "\t<tr><th scope=row>53</th><td>X299928_Q175B0595_08_L3.D702</td><td>175                         </td><td>FEMALE                      </td><td>204.194                     </td><td>cortex                      </td><td>6                           </td></tr>\n",
       "</tbody>\n",
       "</table>\n"
      ],
      "text/latex": [
       "\\begin{tabular}{r|llllll}\n",
       "  & Sample.ID & Numeric.Q & Sex & Genotyped.CAG & Tissue & Timepoint\\\\\n",
       "\\hline\n",
       "\t3 & 299882\\_Q20B0001\\_05\\_L1 & 20                          & MALE                        & 7                           & cortex                      & 6                          \\\\\n",
       "\t4 & 299883\\_Q20B0005\\_03\\_L12 & 20                           & FEMALE                       & 7                            & cortex                       & 6                           \\\\\n",
       "\t5 & 299884\\_Q20B0005\\_05\\_L5.D703 & 20                               & FEMALE                           & 7                                & cortex                           & 6                               \\\\\n",
       "\t6 & 299885\\_Q20B0001\\_03\\_L6.D704 & 20                               & MALE                             & 7                                & cortex                           & 6                               \\\\\n",
       "\t8 & 299712\\_Q20B0001\\_01\\_L1.D705 & 20                               & MALE                             & 7                                & cortex                           & 6                               \\\\\n",
       "\t11 & 299715\\_Q20B0005\\_05\\_L1.D708 & 20                               & FEMALE                           & 7                                & cortex                           & 6                               \\\\\n",
       "\t15 & 299721\\_Q20B0005\\_03\\_L2.D712 & 20                               & FEMALE                           & 7                                & cortex                           & 6                               \\\\\n",
       "\t16 & 299722\\_Q20B0001\\_07\\_L2.D701 & 20                               & MALE                             & 7                                & cortex                           & 6                               \\\\\n",
       "\t17 & 299723\\_Q20B0001\\_03\\_L3.D702 & 20                               & MALE                             & 7                                & cortex                           & 6                               \\\\\n",
       "\t19 & 299725\\_Q20B0005\\_07\\_L3.D704 & 20                               & FEMALE                           & 7                                & cortex                           & 6                               \\\\\n",
       "\t21 & 299727\\_Q20B0005\\_05\\_L3.D706 & 20                               & FEMALE                           & 7                                & cortex                           & 6                               \\\\\n",
       "\t22 & 299728\\_Q20B0001\\_03\\_L4.D707 & 20                               & MALE                             & 7                                & cortex                           & 6                               \\\\\n",
       "\t24 & X300235\\_Q20B0013\\_09\\_L1.D711 & 20                                & FEMALE                            & 7                                 & cortex                            & 6                                \\\\\n",
       "\t28 & X300239\\_Q20B0013\\_03\\_L2.D703 & 20                                & FEMALE                            & 7                                 & cortex                            & 6                                \\\\\n",
       "\t31 & X300242\\_Q20B0009\\_05\\_L2.D706 & 20                                & MALE                              & 7                                 & cortex                            & 6                                \\\\\n",
       "\t34 & X300245\\_Q20B0013\\_01\\_L3.D709 & 20                                & FEMALE                            & 7                                 & cortex                            & 6                                \\\\\n",
       "\t35 & X300246\\_Q20B0009\\_07\\_L3.D710 & 20                                & MALE                              & 20.0294                           & cortex                            & 6                                \\\\\n",
       "\t37 & X300248\\_Q20B0013\\_10\\_L3.D712 & 20                                & FEMALE                            & 20.0433                           & cortex                            & 6                                \\\\\n",
       "\t40 & X299915\\_Q20B0017\\_05\\_L3 & 20                           & MALE                         & 7                            & cortex                       & 6                           \\\\\n",
       "\t47 & X299922\\_Q20B0021\\_10\\_L2.D708 & 20                                & FEMALE                            & 19.9286                           & cortex                            & 6                                \\\\\n",
       "\t49 & X299924\\_Q20B0021\\_04\\_L2.D710 & 20                                & FEMALE                            & 19.6819                           & cortex                            & 6                                \\\\\n",
       "\t54 & X299929\\_Q20B0017\\_09\\_L3.D703 & 20                                & MALE                              & 7                                 & cortex                            & 6                                \\\\\n",
       "\t33 & X300244\\_Q80B0005\\_08\\_L3.D708 & 80                                & FEMALE                            & 90.631                            & cortex                            & 6                                \\\\\n",
       "\t38 & X300249\\_Q80B0005\\_10\\_L4.D701 & 80                                & FEMALE                            & 89.6232                           & cortex                            & 6                                \\\\\n",
       "\t41 & X299916\\_Q80B0021\\_10\\_L1.D702 & 80                                & FEMALE                            & 85.137                            & cortex                            & 6                                \\\\\n",
       "\t42 & X299917\\_Q80B0017\\_08\\_L1.D703 & 80                                & MALE                              & 85.0328                           & cortex                            & 6                                \\\\\n",
       "\t46 & X299921\\_Q80B0021\\_08\\_L2.D707 & 80                                & FEMALE                            & 85.144                            & cortex                            & 6                                \\\\\n",
       "\t48 & X299923\\_Q80B0017\\_06\\_L2.D709 & 80                                & MALE                              & 85.0084                           & cortex                            & 6                                \\\\\n",
       "\t50 & X299925\\_Q80B0017\\_10\\_L3.D711 & 80                                & MALE                              & 83.9868                           & cortex                            & 6                                \\\\\n",
       "\t56 & X299931\\_Q80B0017\\_04\\_L4.D705 & 80                                & MALE                              & 81.947                            & cortex                            & 6                                \\\\\n",
       "\t26 & X300237\\_Q92B0002\\_05\\_L1.D701 & 92                                & MALE                              & 105.699                           & cortex                            & 6                                \\\\\n",
       "\t36 & X300247\\_Q92B0001\\_10\\_L3.D711 & 92                                & MALE                              & 101.626                           & cortex                            & 6                                \\\\\n",
       "\t39 & X300250\\_Q92B0006\\_03\\_L4.D702 & 92                                & FEMALE                            & 101.688                           & cortex                            & 6                                \\\\\n",
       "\t25 & X300236\\_Q111B0013\\_04\\_L1.D712 & 111                                & FEMALE                             & 125.106                            & cortex                             & 6                                 \\\\\n",
       "\t29 & X300240\\_Q111B0013\\_10\\_L2.D704 & 111                                & FEMALE                             & 124.14                             & cortex                             & 6                                 \\\\\n",
       "\t55 & X299930\\_Q111B0017\\_06\\_L4.D704 & 111                                & MALE                               & 127.529                            & cortex                             & 6                                 \\\\\n",
       "\t23 & X300234\\_Q140B0005\\_07\\_L1.D710 & 140                                & FEMALE                             & 150.245                            & cortex                             & 6                                 \\\\\n",
       "\t30 & X300241\\_Q140B0005\\_06\\_L2.D705 & 140                                & FEMALE                             & 148.194                            & cortex                             & 6                                 \\\\\n",
       "\t32 & X300243\\_Q140B0005\\_02\\_L2.D707 & 140                                & FEMALE                             & 147.287                            & cortex                             & 6                                 \\\\\n",
       "\t43 & X299918\\_Q140B0017\\_02\\_L1.D704 & 140                                & MALE                               & 138.332                            & cortex                             & 6                                 \\\\\n",
       "\t44 & X299919\\_Q140B0021\\_06\\_L1.D705 & 140                                & FEMALE                             & 141.293                            & cortex                             & 6                                 \\\\\n",
       "\t45 & X299920\\_Q140B0021\\_10\\_L2.D706 & 140                                & FEMALE                             & 150.377                            & cortex                             & 6                                 \\\\\n",
       "\t51 & X299926\\_Q140B0017\\_04\\_L17 & 140                            & MALE                           & 150.401                        & cortex                         & 6                             \\\\\n",
       "\t52 & X299927\\_Q140B0021\\_02\\_L3.D701 & 140                                & FEMALE                             & 155.436                            & cortex                             & 6                                 \\\\\n",
       "\t1 & 299880\\_Q175B0574\\_04\\_L4 & 175                          & MALE                         & 201.181                      & cortex                       & 6                           \\\\\n",
       "\t2 & 299881\\_Q175B0575\\_10\\_L21 & 175                           & FEMALE                        & 202.085                       & cortex                        & 6                            \\\\\n",
       "\t7 & 299711\\_Q175B0575\\_08\\_L1.D704 & 175                               & FEMALE                            & 205.104                           & cortex                            & 6                                \\\\\n",
       "\t9 & 299713\\_Q175B0574\\_04\\_L1.D706 & 175                               & MALE                              & 201.181                           & cortex                            & 6                                \\\\\n",
       "\t10 & 299714\\_Q175B0575\\_04\\_L1.D707 & 175                               & FEMALE                            & 199.034                           & cortex                            & 6                                \\\\\n",
       "\t12 & 299717\\_Q175B0574\\_06\\_L2.D709 & 175                               & MALE                              & 207.082                           & cortex                            & 6                                \\\\\n",
       "\t13 & 299718\\_Q175B0574\\_02\\_L2.D710 & 175                               & MALE                              & 195.215                           & cortex                            & 6                                \\\\\n",
       "\t14 & 299720\\_Q175B0574\\_10\\_L2.D711 & 175                               & MALE                              & 209.069                           & cortex                            & 6                                \\\\\n",
       "\t18 & 299724\\_Q175B0575\\_10\\_L3.D703 & 175                               & FEMALE                            & 202.085                           & cortex                            & 6                                \\\\\n",
       "\t20 & 299726\\_Q175B0575\\_02\\_L3.D705 & 175                               & FEMALE                            & 203.871                           & cortex                            & 6                                \\\\\n",
       "\t27 & X300238\\_Q175B0582\\_02\\_L1.D702 & 175                                & MALE                               & 209.333                            & cortex                             & 6                                 \\\\\n",
       "\t53 & X299928\\_Q175B0595\\_08\\_L3.D702 & 175                                & FEMALE                             & 204.194                            & cortex                             & 6                                 \\\\\n",
       "\\end{tabular}\n"
      ],
      "text/plain": [
       "                      Sample.ID Numeric.Q    Sex Genotyped.CAG Tissue Timepoint\n",
       "3         299882_Q20B0001_05_L1        20   MALE        7.0000 cortex         6\n",
       "4        299883_Q20B0005_03_L12        20 FEMALE        7.0000 cortex         6\n",
       "5    299884_Q20B0005_05_L5.D703        20 FEMALE        7.0000 cortex         6\n",
       "6    299885_Q20B0001_03_L6.D704        20   MALE        7.0000 cortex         6\n",
       "8    299712_Q20B0001_01_L1.D705        20   MALE        7.0000 cortex         6\n",
       "11   299715_Q20B0005_05_L1.D708        20 FEMALE        7.0000 cortex         6\n",
       "15   299721_Q20B0005_03_L2.D712        20 FEMALE        7.0000 cortex         6\n",
       "16   299722_Q20B0001_07_L2.D701        20   MALE        7.0000 cortex         6\n",
       "17   299723_Q20B0001_03_L3.D702        20   MALE        7.0000 cortex         6\n",
       "19   299725_Q20B0005_07_L3.D704        20 FEMALE        7.0000 cortex         6\n",
       "21   299727_Q20B0005_05_L3.D706        20 FEMALE        7.0000 cortex         6\n",
       "22   299728_Q20B0001_03_L4.D707        20   MALE        7.0000 cortex         6\n",
       "24  X300235_Q20B0013_09_L1.D711        20 FEMALE        7.0000 cortex         6\n",
       "28  X300239_Q20B0013_03_L2.D703        20 FEMALE        7.0000 cortex         6\n",
       "31  X300242_Q20B0009_05_L2.D706        20   MALE        7.0000 cortex         6\n",
       "34  X300245_Q20B0013_01_L3.D709        20 FEMALE        7.0000 cortex         6\n",
       "35  X300246_Q20B0009_07_L3.D710        20   MALE       20.0294 cortex         6\n",
       "37  X300248_Q20B0013_10_L3.D712        20 FEMALE       20.0433 cortex         6\n",
       "40       X299915_Q20B0017_05_L3        20   MALE        7.0000 cortex         6\n",
       "47  X299922_Q20B0021_10_L2.D708        20 FEMALE       19.9286 cortex         6\n",
       "49  X299924_Q20B0021_04_L2.D710        20 FEMALE       19.6819 cortex         6\n",
       "54  X299929_Q20B0017_09_L3.D703        20   MALE        7.0000 cortex         6\n",
       "33  X300244_Q80B0005_08_L3.D708        80 FEMALE       90.6310 cortex         6\n",
       "38  X300249_Q80B0005_10_L4.D701        80 FEMALE       89.6232 cortex         6\n",
       "41  X299916_Q80B0021_10_L1.D702        80 FEMALE       85.1370 cortex         6\n",
       "42  X299917_Q80B0017_08_L1.D703        80   MALE       85.0328 cortex         6\n",
       "46  X299921_Q80B0021_08_L2.D707        80 FEMALE       85.1440 cortex         6\n",
       "48  X299923_Q80B0017_06_L2.D709        80   MALE       85.0084 cortex         6\n",
       "50  X299925_Q80B0017_10_L3.D711        80   MALE       83.9868 cortex         6\n",
       "56  X299931_Q80B0017_04_L4.D705        80   MALE       81.9470 cortex         6\n",
       "26  X300237_Q92B0002_05_L1.D701        92   MALE      105.6990 cortex         6\n",
       "36  X300247_Q92B0001_10_L3.D711        92   MALE      101.6260 cortex         6\n",
       "39  X300250_Q92B0006_03_L4.D702        92 FEMALE      101.6880 cortex         6\n",
       "25 X300236_Q111B0013_04_L1.D712       111 FEMALE      125.1060 cortex         6\n",
       "29 X300240_Q111B0013_10_L2.D704       111 FEMALE      124.1400 cortex         6\n",
       "55 X299930_Q111B0017_06_L4.D704       111   MALE      127.5290 cortex         6\n",
       "23 X300234_Q140B0005_07_L1.D710       140 FEMALE      150.2450 cortex         6\n",
       "30 X300241_Q140B0005_06_L2.D705       140 FEMALE      148.1940 cortex         6\n",
       "32 X300243_Q140B0005_02_L2.D707       140 FEMALE      147.2870 cortex         6\n",
       "43 X299918_Q140B0017_02_L1.D704       140   MALE      138.3320 cortex         6\n",
       "44 X299919_Q140B0021_06_L1.D705       140 FEMALE      141.2930 cortex         6\n",
       "45 X299920_Q140B0021_10_L2.D706       140 FEMALE      150.3770 cortex         6\n",
       "51     X299926_Q140B0017_04_L17       140   MALE      150.4010 cortex         6\n",
       "52 X299927_Q140B0021_02_L3.D701       140 FEMALE      155.4360 cortex         6\n",
       "1        299880_Q175B0574_04_L4       175   MALE      201.1810 cortex         6\n",
       "2       299881_Q175B0575_10_L21       175 FEMALE      202.0850 cortex         6\n",
       "7   299711_Q175B0575_08_L1.D704       175 FEMALE      205.1040 cortex         6\n",
       "9   299713_Q175B0574_04_L1.D706       175   MALE      201.1810 cortex         6\n",
       "10  299714_Q175B0575_04_L1.D707       175 FEMALE      199.0340 cortex         6\n",
       "12  299717_Q175B0574_06_L2.D709       175   MALE      207.0820 cortex         6\n",
       "13  299718_Q175B0574_02_L2.D710       175   MALE      195.2150 cortex         6\n",
       "14  299720_Q175B0574_10_L2.D711       175   MALE      209.0690 cortex         6\n",
       "18  299724_Q175B0575_10_L3.D703       175 FEMALE      202.0850 cortex         6\n",
       "20  299726_Q175B0575_02_L3.D705       175 FEMALE      203.8710 cortex         6\n",
       "27 X300238_Q175B0582_02_L1.D702       175   MALE      209.3330 cortex         6\n",
       "53 X299928_Q175B0595_08_L3.D702       175 FEMALE      204.1940 cortex         6"
      ]
     },
     "metadata": {},
     "output_type": "display_data"
    }
   ],
   "source": [
    "data_subset_cortex_10_meta[with(data_subset_cortex_10_meta,order(Numeric.Q)),]"
   ]
  },
  {
   "cell_type": "code",
   "execution_count": null,
   "metadata": {
    "collapsed": true
   },
   "outputs": [],
   "source": []
  }
 ],
 "metadata": {
  "anaconda-cloud": {},
  "kernelspec": {
   "display_name": "SSH whovian R",
   "language": "",
   "name": "rik_ssh_whovian_r"
  },
  "language_info": {
   "codemirror_mode": "r",
   "file_extension": ".r",
   "mimetype": "text/x-r-source",
   "name": "R",
   "pygments_lexer": "r",
   "version": "3.3.1"
  }
 },
 "nbformat": 4,
 "nbformat_minor": 0
}
