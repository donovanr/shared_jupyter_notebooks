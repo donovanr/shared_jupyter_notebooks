{
 "cells": [
  {
   "cell_type": "code",
   "execution_count": 6,
   "metadata": {
    "collapsed": false
   },
   "outputs": [],
   "source": [
    "# install.packages('gplots', repos='http://cran.us.r-project.org')\n",
    "# source(\"https://bioconductor.org/biocLite.R\")\n",
    "# biocLite(\"vsn\")\n",
    "# install.packages('RColorBrewer', repos='http://cran.us.r-project.org')\n",
    "# source(\"https://bioconductor.org/biocLite.R\")\n",
    "# biocLite(\"edgeR\")\n",
    "\n",
    "library(tidyr)\n",
    "library(dplyr)\n",
    "library(ggplot2)\n",
    "library(RColorBrewer)\n",
    "library(glmnet)\n",
    "library(glmnet)\n",
    "library(gplots)\n",
    "\n",
    "# library(missForest)\n",
    "# library(huge)\n",
    "# library(JGL)\n",
    "# library(msgl)\n",
    "# library(edgeR)"
   ]
  },
  {
   "cell_type": "code",
   "execution_count": 7,
   "metadata": {
    "collapsed": true
   },
   "outputs": [],
   "source": [
    "load(\"/proj/price1/CHDI/studies/allelic_series/HDinHD_FPKMs/all_mrna_data_NPN.Rdata\")\n",
    "load(\"/proj/price1/CHDI/studies/allelic_series/HDinHD_FPKMs/all_mrna_data_tidy_NPN.Rdata\")\n",
    "load(\"/proj/price1/CHDI/studies/allelic_series/HDinHD_FPKMs/all_mrna_data_FPKM.Rdata\")\n",
    "load(\"/proj/price1/CHDI/studies/allelic_series/HDinHD_FPKMs/all_mrna_data_tidy_FPKM.Rdata\")\n",
    "load(\"/proj/price1/CHDI/studies/allelic_series/HDinHD_FPKMs/all_mrna_data_RAW.Rdata\")\n",
    "load(\"/proj/price1/CHDI/studies/allelic_series/HDinHD_FPKMs/all_mrna_data_tidy_RAW.Rdata\")"
   ]
  },
  {
   "cell_type": "code",
   "execution_count": 8,
   "metadata": {
    "collapsed": false
   },
   "outputs": [
    {
     "data": {
      "text/html": [
       "<ol class=list-inline>\n",
       "\t<li>'all_mrna_data_FPKM'</li>\n",
       "\t<li>'all_mrna_data_FPKM_tidy'</li>\n",
       "\t<li>'all_mrna_data_npn'</li>\n",
       "\t<li>'all_mrna_data_npn_tidy'</li>\n",
       "\t<li>'all_mrna_data_raw'</li>\n",
       "\t<li>'all_mrna_data_raw_tidy'</li>\n",
       "\t<li>'q'</li>\n",
       "\t<li>'quit'</li>\n",
       "</ol>\n"
      ],
      "text/latex": [
       "\\begin{enumerate*}\n",
       "\\item 'all\\_mrna\\_data\\_FPKM'\n",
       "\\item 'all\\_mrna\\_data\\_FPKM\\_tidy'\n",
       "\\item 'all\\_mrna\\_data\\_npn'\n",
       "\\item 'all\\_mrna\\_data\\_npn\\_tidy'\n",
       "\\item 'all\\_mrna\\_data\\_raw'\n",
       "\\item 'all\\_mrna\\_data\\_raw\\_tidy'\n",
       "\\item 'q'\n",
       "\\item 'quit'\n",
       "\\end{enumerate*}\n"
      ],
      "text/markdown": [
       "1. 'all_mrna_data_FPKM'\n",
       "2. 'all_mrna_data_FPKM_tidy'\n",
       "3. 'all_mrna_data_npn'\n",
       "4. 'all_mrna_data_npn_tidy'\n",
       "5. 'all_mrna_data_raw'\n",
       "6. 'all_mrna_data_raw_tidy'\n",
       "7. 'q'\n",
       "8. 'quit'\n",
       "\n",
       "\n"
      ],
      "text/plain": [
       "[1] \"all_mrna_data_FPKM\"      \"all_mrna_data_FPKM_tidy\"\n",
       "[3] \"all_mrna_data_npn\"       \"all_mrna_data_npn_tidy\" \n",
       "[5] \"all_mrna_data_raw\"       \"all_mrna_data_raw_tidy\" \n",
       "[7] \"q\"                       \"quit\"                   "
      ]
     },
     "metadata": {},
     "output_type": "display_data"
    }
   ],
   "source": [
    "ls()"
   ]
  },
  {
   "cell_type": "code",
   "execution_count": 9,
   "metadata": {
    "collapsed": false
   },
   "outputs": [
    {
     "data": {
      "text/html": [
       "40"
      ],
      "text/latex": [
       "40"
      ],
      "text/markdown": [
       "40"
      ],
      "text/plain": [
       "[1] 40"
      ]
     },
     "metadata": {},
     "output_type": "display_data"
    }
   ],
   "source": [
    "sum(is.na(all_mrna_data_npn))"
   ]
  },
  {
   "cell_type": "code",
   "execution_count": 11,
   "metadata": {
    "collapsed": false
   },
   "outputs": [
    {
     "data": {
      "text/html": [
       "<ol class=list-inline>\n",
       "\t<li>716</li>\n",
       "\t<li>12896</li>\n",
       "</ol>\n"
      ],
      "text/latex": [
       "\\begin{enumerate*}\n",
       "\\item 716\n",
       "\\item 12896\n",
       "\\end{enumerate*}\n"
      ],
      "text/markdown": [
       "1. 716\n",
       "2. 12896\n",
       "\n",
       "\n"
      ],
      "text/plain": [
       "[1]   716 12896"
      ]
     },
     "metadata": {},
     "output_type": "display_data"
    }
   ],
   "source": [
    "dim(all_mrna_data_npn)"
   ]
  },
  {
   "cell_type": "code",
   "execution_count": 12,
   "metadata": {
    "collapsed": false
   },
   "outputs": [
    {
     "data": {
      "text/html": [
       "<table>\n",
       "<thead><tr><th></th><th scope=col>Numeric.Q</th><th scope=col>Sex</th><th scope=col>Genotyped.CAG</th><th scope=col>Tissue</th><th scope=col>Timepoint</th><th scope=col>0610005C13Rik</th><th scope=col>0610007N19Rik</th><th scope=col>0610007P14Rik</th><th scope=col>0610008F07Rik</th><th scope=col>0610009B14Rik</th></tr></thead>\n",
       "<tbody>\n",
       "\t<tr><th scope=row>X28210_1_641L_striatum_Q20_WT_M_L3.LB9</th><td>20                </td><td>MALE              </td><td>7                 </td><td>cortex            </td><td>10                </td><td>-1.33965005372848 </td><td>-1.01885354370688 </td><td>-0.477390018583274</td><td>-0.332061236789903</td><td>-0.719539967283642</td></tr>\n",
       "\t<tr><th scope=row>X299971_Q80B0021_10_L4.D709</th><td>80                </td><td>FEMALE            </td><td>85.137            </td><td>cortex            </td><td>10                </td><td>0.223967597372717 </td><td>-0.79431411467698 </td><td>-0.942484732953563</td><td>-0.332061236789903</td><td>-0.719539967283642</td></tr>\n",
       "\t<tr><th scope=row>X299972_Q80B0021_06_L4.D710</th><td>80                </td><td>FEMALE            </td><td>84.098            </td><td>cortex            </td><td>10                </td><td>-0.426704096771064</td><td>-0.54965360658391 </td><td>-0.541490511420735</td><td>-0.332061236789903</td><td>-0.719539967283642</td></tr>\n",
       "\t<tr><th scope=row>X299973_Q111B0021_06_L4.D711</th><td>111               </td><td>FEMALE            </td><td>127.973           </td><td>cortex            </td><td>10                </td><td>0.16111741792323  </td><td>-0.29873533559768 </td><td>-1.04262934740195 </td><td>-0.332061236789903</td><td>0.311654685122443 </td></tr>\n",
       "\t<tr><th scope=row>X299974_Q20B0017_04_L4.D712</th><td>20                </td><td>MALE              </td><td>20.0086           </td><td>cortex            </td><td>10                </td><td>0.0176310948025585</td><td>-1.40179375398891 </td><td>-0.907581878451486</td><td>-0.332061236789903</td><td>-0.719539967283642</td></tr>\n",
       "\t<tr><th scope=row>X299975_Q175B0591_08_L28</th><td>175               </td><td>MALE              </td><td>198.141           </td><td>cortex            </td><td>10                </td><td>-0.754073718017269</td><td>-0.674763184351501</td><td>-0.392242277472293</td><td>-0.332061236789903</td><td>0.311654685122443 </td></tr>\n",
       "</tbody>\n",
       "</table>\n"
      ],
      "text/latex": [
       "\\begin{tabular}{r|llllllllll}\n",
       "  & Numeric.Q & Sex & Genotyped.CAG & Tissue & Timepoint & 0610005C13Rik & 0610007N19Rik & 0610007P14Rik & 0610008F07Rik & 0610009B14Rik\\\\\n",
       "\\hline\n",
       "\tX28210\\_1\\_641L\\_striatum\\_Q20\\_WT\\_M\\_L3.LB9 & 20                 & MALE               & 7                  & cortex             & 10                 & -1.33965005372848  & -1.01885354370688  & -0.477390018583274 & -0.332061236789903 & -0.719539967283642\\\\\n",
       "\tX299971\\_Q80B0021\\_10\\_L4.D709 & 80                 & FEMALE             & 85.137             & cortex             & 10                 & 0.223967597372717  & -0.79431411467698  & -0.942484732953563 & -0.332061236789903 & -0.719539967283642\\\\\n",
       "\tX299972\\_Q80B0021\\_06\\_L4.D710 & 80                 & FEMALE             & 84.098             & cortex             & 10                 & -0.426704096771064 & -0.54965360658391  & -0.541490511420735 & -0.332061236789903 & -0.719539967283642\\\\\n",
       "\tX299973\\_Q111B0021\\_06\\_L4.D711 & 111                & FEMALE             & 127.973            & cortex             & 10                 & 0.16111741792323   & -0.29873533559768  & -1.04262934740195  & -0.332061236789903 & 0.311654685122443 \\\\\n",
       "\tX299974\\_Q20B0017\\_04\\_L4.D712 & 20                 & MALE               & 20.0086            & cortex             & 10                 & 0.0176310948025585 & -1.40179375398891  & -0.907581878451486 & -0.332061236789903 & -0.719539967283642\\\\\n",
       "\tX299975\\_Q175B0591\\_08\\_L28 & 175                & MALE               & 198.141            & cortex             & 10                 & -0.754073718017269 & -0.674763184351501 & -0.392242277472293 & -0.332061236789903 & 0.311654685122443 \\\\\n",
       "\\end{tabular}\n"
      ],
      "text/plain": [
       "                                       Numeric.Q    Sex Genotyped.CAG Tissue\n",
       "X28210_1_641L_striatum_Q20_WT_M_L3.LB9        20   MALE        7.0000 cortex\n",
       "X299971_Q80B0021_10_L4.D709                   80 FEMALE       85.1370 cortex\n",
       "X299972_Q80B0021_06_L4.D710                   80 FEMALE       84.0980 cortex\n",
       "X299973_Q111B0021_06_L4.D711                 111 FEMALE      127.9730 cortex\n",
       "X299974_Q20B0017_04_L4.D712                   20   MALE       20.0086 cortex\n",
       "X299975_Q175B0591_08_L28                     175   MALE      198.1410 cortex\n",
       "                                       Timepoint 0610005C13Rik 0610007N19Rik\n",
       "X28210_1_641L_striatum_Q20_WT_M_L3.LB9        10   -1.33965005    -1.0188535\n",
       "X299971_Q80B0021_10_L4.D709                   10    0.22396760    -0.7943141\n",
       "X299972_Q80B0021_06_L4.D710                   10   -0.42670410    -0.5496536\n",
       "X299973_Q111B0021_06_L4.D711                  10    0.16111742    -0.2987353\n",
       "X299974_Q20B0017_04_L4.D712                   10    0.01763109    -1.4017938\n",
       "X299975_Q175B0591_08_L28                      10   -0.75407372    -0.6747632\n",
       "                                       0610007P14Rik 0610008F07Rik\n",
       "X28210_1_641L_striatum_Q20_WT_M_L3.LB9    -0.4773900    -0.3320612\n",
       "X299971_Q80B0021_10_L4.D709               -0.9424847    -0.3320612\n",
       "X299972_Q80B0021_06_L4.D710               -0.5414905    -0.3320612\n",
       "X299973_Q111B0021_06_L4.D711              -1.0426293    -0.3320612\n",
       "X299974_Q20B0017_04_L4.D712               -0.9075819    -0.3320612\n",
       "X299975_Q175B0591_08_L28                  -0.3922423    -0.3320612\n",
       "                                       0610009B14Rik\n",
       "X28210_1_641L_striatum_Q20_WT_M_L3.LB9    -0.7195400\n",
       "X299971_Q80B0021_10_L4.D709               -0.7195400\n",
       "X299972_Q80B0021_06_L4.D710               -0.7195400\n",
       "X299973_Q111B0021_06_L4.D711               0.3116547\n",
       "X299974_Q20B0017_04_L4.D712               -0.7195400\n",
       "X299975_Q175B0591_08_L28                   0.3116547"
      ]
     },
     "metadata": {},
     "output_type": "display_data"
    }
   ],
   "source": [
    "head(all_mrna_data_npn[,1:10])"
   ]
  },
  {
   "cell_type": "code",
   "execution_count": 14,
   "metadata": {
    "collapsed": false
   },
   "outputs": [
    {
     "data": {
      "text/html": [
       "<ol class=list-inline>\n",
       "\t<li>56</li>\n",
       "\t<li>12896</li>\n",
       "</ol>\n"
      ],
      "text/latex": [
       "\\begin{enumerate*}\n",
       "\\item 56\n",
       "\\item 12896\n",
       "\\end{enumerate*}\n"
      ],
      "text/markdown": [
       "1. 56\n",
       "2. 12896\n",
       "\n",
       "\n"
      ],
      "text/plain": [
       "[1]    56 12896"
      ]
     },
     "metadata": {},
     "output_type": "display_data"
    }
   ],
   "source": [
    "data_subset_cortex_10 <- filter(all_mrna_data_npn, \n",
    "                    Tissue == \"cortex\",\n",
    "                    Timepoint == 10\n",
    "                    )\n",
    "dim(data_subset_cortex_10)"
   ]
  },
  {
   "cell_type": "code",
   "execution_count": 16,
   "metadata": {
    "collapsed": false
   },
   "outputs": [],
   "source": [
    "data_subset_cortex_10_meta <- data_subset_cortex_10[,1:5]"
   ]
  },
  {
   "cell_type": "code",
   "execution_count": 20,
   "metadata": {
    "collapsed": false
   },
   "outputs": [
    {
     "data": {
      "text/html": [
       "<table>\n",
       "<thead><tr><th></th><th scope=col>Numeric.Q</th><th scope=col>Sex</th><th scope=col>Genotyped.CAG</th><th scope=col>Tissue</th><th scope=col>Timepoint</th></tr></thead>\n",
       "<tbody>\n",
       "\t<tr><th scope=row>1</th><td>20    </td><td>MALE  </td><td>7     </td><td>cortex</td><td>10    </td></tr>\n",
       "\t<tr><th scope=row>5</th><td>20     </td><td>MALE   </td><td>20.0086</td><td>cortex </td><td>10     </td></tr>\n",
       "\t<tr><th scope=row>7</th><td>20     </td><td>MALE   </td><td>20.0468</td><td>cortex </td><td>10     </td></tr>\n",
       "\t<tr><th scope=row>13</th><td>20     </td><td>MALE   </td><td>19.9773</td><td>cortex </td><td>10     </td></tr>\n",
       "\t<tr><th scope=row>14</th><td>20    </td><td>FEMALE</td><td>7     </td><td>cortex</td><td>10    </td></tr>\n",
       "\t<tr><th scope=row>15</th><td>20    </td><td>MALE  </td><td>7     </td><td>cortex</td><td>10    </td></tr>\n",
       "\t<tr><th scope=row>16</th><td>20     </td><td>FEMALE </td><td>20.1024</td><td>cortex </td><td>10     </td></tr>\n",
       "\t<tr><th scope=row>24</th><td>20    </td><td>FEMALE</td><td>7     </td><td>cortex</td><td>10    </td></tr>\n",
       "\t<tr><th scope=row>25</th><td>20    </td><td>MALE  </td><td>7     </td><td>cortex</td><td>10    </td></tr>\n",
       "\t<tr><th scope=row>26</th><td>20    </td><td>MALE  </td><td>7     </td><td>cortex</td><td>10    </td></tr>\n",
       "\t<tr><th scope=row>31</th><td>20    </td><td>FEMALE</td><td>7     </td><td>cortex</td><td>10    </td></tr>\n",
       "\t<tr><th scope=row>32</th><td>20    </td><td>FEMALE</td><td>7     </td><td>cortex</td><td>10    </td></tr>\n",
       "\t<tr><th scope=row>33</th><td>20    </td><td>MALE  </td><td>7     </td><td>cortex</td><td>10    </td></tr>\n",
       "\t<tr><th scope=row>34</th><td>20    </td><td>FEMALE</td><td>7     </td><td>cortex</td><td>10    </td></tr>\n",
       "\t<tr><th scope=row>35</th><td>20    </td><td>MALE  </td><td>7     </td><td>cortex</td><td>10    </td></tr>\n",
       "\t<tr><th scope=row>40</th><td>20     </td><td>FEMALE </td><td>20.0433</td><td>cortex </td><td>10     </td></tr>\n",
       "\t<tr><th scope=row>42</th><td>20     </td><td>FEMALE </td><td>20.0259</td><td>cortex </td><td>10     </td></tr>\n",
       "\t<tr><th scope=row>44</th><td>20    </td><td>MALE  </td><td>7     </td><td>cortex</td><td>10    </td></tr>\n",
       "\t<tr><th scope=row>45</th><td>20     </td><td>FEMALE </td><td>20.0259</td><td>cortex </td><td>10     </td></tr>\n",
       "\t<tr><th scope=row>51</th><td>20    </td><td>MALE  </td><td>7     </td><td>cortex</td><td>10    </td></tr>\n",
       "\t<tr><th scope=row>55</th><td>20     </td><td>MALE   </td><td>19.9495</td><td>cortex </td><td>10     </td></tr>\n",
       "\t<tr><th scope=row>56</th><td>20    </td><td>FEMALE</td><td>7     </td><td>cortex</td><td>10    </td></tr>\n",
       "\t<tr><th scope=row>2</th><td>80    </td><td>FEMALE</td><td>85.137</td><td>cortex</td><td>10    </td></tr>\n",
       "\t<tr><th scope=row>3</th><td>80    </td><td>FEMALE</td><td>84.098</td><td>cortex</td><td>10    </td></tr>\n",
       "\t<tr><th scope=row>17</th><td>80     </td><td>MALE   </td><td>83.9868</td><td>cortex </td><td>10     </td></tr>\n",
       "\t<tr><th scope=row>22</th><td>80     </td><td>MALE   </td><td>85.0084</td><td>cortex </td><td>10     </td></tr>\n",
       "\t<tr><th scope=row>28</th><td>80     </td><td>MALE   </td><td>85.0328</td><td>cortex </td><td>10     </td></tr>\n",
       "\t<tr><th scope=row>43</th><td>80    </td><td>FEMALE</td><td>90.631</td><td>cortex</td><td>10    </td></tr>\n",
       "\t<tr><th scope=row>52</th><td>80     </td><td>MALE   </td><td>87.5382</td><td>cortex </td><td>10     </td></tr>\n",
       "\t<tr><th scope=row>54</th><td>80     </td><td>MALE   </td><td>89.4947</td><td>cortex </td><td>10     </td></tr>\n",
       "\t<tr><th scope=row>10</th><td>92     </td><td>MALE   </td><td>101.094</td><td>cortex </td><td>10     </td></tr>\n",
       "\t<tr><th scope=row>11</th><td>92     </td><td>FEMALE </td><td>105.111</td><td>cortex </td><td>10     </td></tr>\n",
       "\t<tr><th scope=row>12</th><td>92     </td><td>MALE   </td><td>105.101</td><td>cortex </td><td>10     </td></tr>\n",
       "\t<tr><th scope=row>18</th><td>92     </td><td>FEMALE </td><td>100.125</td><td>cortex </td><td>10     </td></tr>\n",
       "\t<tr><th scope=row>19</th><td>92     </td><td>MALE   </td><td>103.065</td><td>cortex </td><td>10     </td></tr>\n",
       "\t<tr><th scope=row>21</th><td>92     </td><td>FEMALE </td><td>101.146</td><td>cortex </td><td>10     </td></tr>\n",
       "\t<tr><th scope=row>29</th><td>92     </td><td>MALE   </td><td>101.289</td><td>cortex </td><td>10     </td></tr>\n",
       "\t<tr><th scope=row>39</th><td>92     </td><td>FEMALE </td><td>101.688</td><td>cortex </td><td>10     </td></tr>\n",
       "\t<tr><th scope=row>41</th><td>92     </td><td>FEMALE </td><td>101.695</td><td>cortex </td><td>10     </td></tr>\n",
       "\t<tr><th scope=row>46</th><td>92     </td><td>MALE   </td><td>103.554</td><td>cortex </td><td>10     </td></tr>\n",
       "\t<tr><th scope=row>47</th><td>92     </td><td>FEMALE </td><td>102.561</td><td>cortex </td><td>10     </td></tr>\n",
       "\t<tr><th scope=row>53</th><td>92     </td><td>MALE   </td><td>101.626</td><td>cortex </td><td>10     </td></tr>\n",
       "\t<tr><th scope=row>4</th><td>111    </td><td>FEMALE </td><td>127.973</td><td>cortex </td><td>10     </td></tr>\n",
       "\t<tr><th scope=row>8</th><td>111    </td><td>MALE   </td><td>127.529</td><td>cortex </td><td>10     </td></tr>\n",
       "\t<tr><th scope=row>9</th><td>111   </td><td>MALE  </td><td>109.99</td><td>cortex</td><td>10    </td></tr>\n",
       "\t<tr><th scope=row>36</th><td>111    </td><td>MALE   </td><td>127.952</td><td>cortex </td><td>10     </td></tr>\n",
       "\t<tr><th scope=row>48</th><td>111    </td><td>MALE   </td><td>127.094</td><td>cortex </td><td>10     </td></tr>\n",
       "\t<tr><th scope=row>50</th><td>111   </td><td>FEMALE</td><td>124.14</td><td>cortex</td><td>10    </td></tr>\n",
       "\t<tr><th scope=row>20</th><td>140    </td><td>FEMALE </td><td>150.377</td><td>cortex </td><td>10     </td></tr>\n",
       "\t<tr><th scope=row>23</th><td>140    </td><td>FEMALE </td><td>155.436</td><td>cortex </td><td>10     </td></tr>\n",
       "\t<tr><th scope=row>27</th><td>140    </td><td>MALE   </td><td>142.367</td><td>cortex </td><td>10     </td></tr>\n",
       "\t<tr><th scope=row>6</th><td>175    </td><td>MALE   </td><td>198.141</td><td>cortex </td><td>10     </td></tr>\n",
       "\t<tr><th scope=row>30</th><td>175    </td><td>FEMALE </td><td>206.074</td><td>cortex </td><td>10     </td></tr>\n",
       "\t<tr><th scope=row>37</th><td>175    </td><td>MALE   </td><td>199.454</td><td>cortex </td><td>10     </td></tr>\n",
       "\t<tr><th scope=row>38</th><td>175    </td><td>FEMALE </td><td>213.246</td><td>cortex </td><td>10     </td></tr>\n",
       "\t<tr><th scope=row>49</th><td>175    </td><td>FEMALE </td><td>206.418</td><td>cortex </td><td>10     </td></tr>\n",
       "</tbody>\n",
       "</table>\n"
      ],
      "text/latex": [
       "\\begin{tabular}{r|lllll}\n",
       "  & Numeric.Q & Sex & Genotyped.CAG & Tissue & Timepoint\\\\\n",
       "\\hline\n",
       "\t1 & 20     & MALE   & 7      & cortex & 10    \\\\\n",
       "\t5 & 20      & MALE    & 20.0086 & cortex  & 10     \\\\\n",
       "\t7 & 20      & MALE    & 20.0468 & cortex  & 10     \\\\\n",
       "\t13 & 20      & MALE    & 19.9773 & cortex  & 10     \\\\\n",
       "\t14 & 20     & FEMALE & 7      & cortex & 10    \\\\\n",
       "\t15 & 20     & MALE   & 7      & cortex & 10    \\\\\n",
       "\t16 & 20      & FEMALE  & 20.1024 & cortex  & 10     \\\\\n",
       "\t24 & 20     & FEMALE & 7      & cortex & 10    \\\\\n",
       "\t25 & 20     & MALE   & 7      & cortex & 10    \\\\\n",
       "\t26 & 20     & MALE   & 7      & cortex & 10    \\\\\n",
       "\t31 & 20     & FEMALE & 7      & cortex & 10    \\\\\n",
       "\t32 & 20     & FEMALE & 7      & cortex & 10    \\\\\n",
       "\t33 & 20     & MALE   & 7      & cortex & 10    \\\\\n",
       "\t34 & 20     & FEMALE & 7      & cortex & 10    \\\\\n",
       "\t35 & 20     & MALE   & 7      & cortex & 10    \\\\\n",
       "\t40 & 20      & FEMALE  & 20.0433 & cortex  & 10     \\\\\n",
       "\t42 & 20      & FEMALE  & 20.0259 & cortex  & 10     \\\\\n",
       "\t44 & 20     & MALE   & 7      & cortex & 10    \\\\\n",
       "\t45 & 20      & FEMALE  & 20.0259 & cortex  & 10     \\\\\n",
       "\t51 & 20     & MALE   & 7      & cortex & 10    \\\\\n",
       "\t55 & 20      & MALE    & 19.9495 & cortex  & 10     \\\\\n",
       "\t56 & 20     & FEMALE & 7      & cortex & 10    \\\\\n",
       "\t2 & 80     & FEMALE & 85.137 & cortex & 10    \\\\\n",
       "\t3 & 80     & FEMALE & 84.098 & cortex & 10    \\\\\n",
       "\t17 & 80      & MALE    & 83.9868 & cortex  & 10     \\\\\n",
       "\t22 & 80      & MALE    & 85.0084 & cortex  & 10     \\\\\n",
       "\t28 & 80      & MALE    & 85.0328 & cortex  & 10     \\\\\n",
       "\t43 & 80     & FEMALE & 90.631 & cortex & 10    \\\\\n",
       "\t52 & 80      & MALE    & 87.5382 & cortex  & 10     \\\\\n",
       "\t54 & 80      & MALE    & 89.4947 & cortex  & 10     \\\\\n",
       "\t10 & 92      & MALE    & 101.094 & cortex  & 10     \\\\\n",
       "\t11 & 92      & FEMALE  & 105.111 & cortex  & 10     \\\\\n",
       "\t12 & 92      & MALE    & 105.101 & cortex  & 10     \\\\\n",
       "\t18 & 92      & FEMALE  & 100.125 & cortex  & 10     \\\\\n",
       "\t19 & 92      & MALE    & 103.065 & cortex  & 10     \\\\\n",
       "\t21 & 92      & FEMALE  & 101.146 & cortex  & 10     \\\\\n",
       "\t29 & 92      & MALE    & 101.289 & cortex  & 10     \\\\\n",
       "\t39 & 92      & FEMALE  & 101.688 & cortex  & 10     \\\\\n",
       "\t41 & 92      & FEMALE  & 101.695 & cortex  & 10     \\\\\n",
       "\t46 & 92      & MALE    & 103.554 & cortex  & 10     \\\\\n",
       "\t47 & 92      & FEMALE  & 102.561 & cortex  & 10     \\\\\n",
       "\t53 & 92      & MALE    & 101.626 & cortex  & 10     \\\\\n",
       "\t4 & 111     & FEMALE  & 127.973 & cortex  & 10     \\\\\n",
       "\t8 & 111     & MALE    & 127.529 & cortex  & 10     \\\\\n",
       "\t9 & 111    & MALE   & 109.99 & cortex & 10    \\\\\n",
       "\t36 & 111     & MALE    & 127.952 & cortex  & 10     \\\\\n",
       "\t48 & 111     & MALE    & 127.094 & cortex  & 10     \\\\\n",
       "\t50 & 111    & FEMALE & 124.14 & cortex & 10    \\\\\n",
       "\t20 & 140     & FEMALE  & 150.377 & cortex  & 10     \\\\\n",
       "\t23 & 140     & FEMALE  & 155.436 & cortex  & 10     \\\\\n",
       "\t27 & 140     & MALE    & 142.367 & cortex  & 10     \\\\\n",
       "\t6 & 175     & MALE    & 198.141 & cortex  & 10     \\\\\n",
       "\t30 & 175     & FEMALE  & 206.074 & cortex  & 10     \\\\\n",
       "\t37 & 175     & MALE    & 199.454 & cortex  & 10     \\\\\n",
       "\t38 & 175     & FEMALE  & 213.246 & cortex  & 10     \\\\\n",
       "\t49 & 175     & FEMALE  & 206.418 & cortex  & 10     \\\\\n",
       "\\end{tabular}\n"
      ],
      "text/plain": [
       "   Numeric.Q    Sex Genotyped.CAG Tissue Timepoint\n",
       "1         20   MALE        7.0000 cortex        10\n",
       "5         20   MALE       20.0086 cortex        10\n",
       "7         20   MALE       20.0468 cortex        10\n",
       "13        20   MALE       19.9773 cortex        10\n",
       "14        20 FEMALE        7.0000 cortex        10\n",
       "15        20   MALE        7.0000 cortex        10\n",
       "16        20 FEMALE       20.1024 cortex        10\n",
       "24        20 FEMALE        7.0000 cortex        10\n",
       "25        20   MALE        7.0000 cortex        10\n",
       "26        20   MALE        7.0000 cortex        10\n",
       "31        20 FEMALE        7.0000 cortex        10\n",
       "32        20 FEMALE        7.0000 cortex        10\n",
       "33        20   MALE        7.0000 cortex        10\n",
       "34        20 FEMALE        7.0000 cortex        10\n",
       "35        20   MALE        7.0000 cortex        10\n",
       "40        20 FEMALE       20.0433 cortex        10\n",
       "42        20 FEMALE       20.0259 cortex        10\n",
       "44        20   MALE        7.0000 cortex        10\n",
       "45        20 FEMALE       20.0259 cortex        10\n",
       "51        20   MALE        7.0000 cortex        10\n",
       "55        20   MALE       19.9495 cortex        10\n",
       "56        20 FEMALE        7.0000 cortex        10\n",
       "2         80 FEMALE       85.1370 cortex        10\n",
       "3         80 FEMALE       84.0980 cortex        10\n",
       "17        80   MALE       83.9868 cortex        10\n",
       "22        80   MALE       85.0084 cortex        10\n",
       "28        80   MALE       85.0328 cortex        10\n",
       "43        80 FEMALE       90.6310 cortex        10\n",
       "52        80   MALE       87.5382 cortex        10\n",
       "54        80   MALE       89.4947 cortex        10\n",
       "10        92   MALE      101.0940 cortex        10\n",
       "11        92 FEMALE      105.1110 cortex        10\n",
       "12        92   MALE      105.1010 cortex        10\n",
       "18        92 FEMALE      100.1250 cortex        10\n",
       "19        92   MALE      103.0650 cortex        10\n",
       "21        92 FEMALE      101.1460 cortex        10\n",
       "29        92   MALE      101.2890 cortex        10\n",
       "39        92 FEMALE      101.6880 cortex        10\n",
       "41        92 FEMALE      101.6950 cortex        10\n",
       "46        92   MALE      103.5540 cortex        10\n",
       "47        92 FEMALE      102.5610 cortex        10\n",
       "53        92   MALE      101.6260 cortex        10\n",
       "4        111 FEMALE      127.9730 cortex        10\n",
       "8        111   MALE      127.5290 cortex        10\n",
       "9        111   MALE      109.9900 cortex        10\n",
       "36       111   MALE      127.9520 cortex        10\n",
       "48       111   MALE      127.0940 cortex        10\n",
       "50       111 FEMALE      124.1400 cortex        10\n",
       "20       140 FEMALE      150.3770 cortex        10\n",
       "23       140 FEMALE      155.4360 cortex        10\n",
       "27       140   MALE      142.3670 cortex        10\n",
       "6        175   MALE      198.1410 cortex        10\n",
       "30       175 FEMALE      206.0740 cortex        10\n",
       "37       175   MALE      199.4540 cortex        10\n",
       "38       175 FEMALE      213.2460 cortex        10\n",
       "49       175 FEMALE      206.4180 cortex        10"
      ]
     },
     "metadata": {},
     "output_type": "display_data"
    }
   ],
   "source": [
    "data_subset_cortex_10_meta[with(data_subset_cortex_10_meta,order(Numeric.Q)),]"
   ]
  },
  {
   "cell_type": "code",
   "execution_count": null,
   "metadata": {
    "collapsed": true
   },
   "outputs": [],
   "source": []
  }
 ],
 "metadata": {
  "kernelspec": {
   "display_name": "SSH whovian R",
   "language": "",
   "name": "rik_ssh_whovian_r"
  },
  "language_info": {
   "codemirror_mode": "r",
   "file_extension": ".r",
   "mimetype": "text/x-r-source",
   "name": "R",
   "pygments_lexer": "r",
   "version": "3.3.1"
  }
 },
 "nbformat": 4,
 "nbformat_minor": 0
}
