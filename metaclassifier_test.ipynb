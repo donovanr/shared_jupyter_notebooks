{
 "cells": [
  {
   "cell_type": "markdown",
   "metadata": {},
   "source": [
    "# using gradient boosted decision trees as a meta-classifier"
   ]
  },
  {
   "cell_type": "code",
   "execution_count": 31,
   "metadata": {
    "collapsed": false
   },
   "outputs": [
    {
     "data": {
      "text/html": [
       "<ol class=list-inline>\n",
       "\t<li>'pROC'</li>\n",
       "\t<li>'tidyr'</li>\n",
       "\t<li>'dplyr'</li>\n",
       "\t<li>'glmnet'</li>\n",
       "\t<li>'foreach'</li>\n",
       "\t<li>'Matrix'</li>\n",
       "\t<li>'xgboost'</li>\n",
       "\t<li>'ggplot2'</li>\n",
       "\t<li>'RColorBrewer'</li>\n",
       "\t<li>'stats'</li>\n",
       "\t<li>'graphics'</li>\n",
       "\t<li>'grDevices'</li>\n",
       "\t<li>'utils'</li>\n",
       "\t<li>'datasets'</li>\n",
       "\t<li>'methods'</li>\n",
       "\t<li>'base'</li>\n",
       "</ol>\n"
      ],
      "text/latex": [
       "\\begin{enumerate*}\n",
       "\\item 'pROC'\n",
       "\\item 'tidyr'\n",
       "\\item 'dplyr'\n",
       "\\item 'glmnet'\n",
       "\\item 'foreach'\n",
       "\\item 'Matrix'\n",
       "\\item 'xgboost'\n",
       "\\item 'ggplot2'\n",
       "\\item 'RColorBrewer'\n",
       "\\item 'stats'\n",
       "\\item 'graphics'\n",
       "\\item 'grDevices'\n",
       "\\item 'utils'\n",
       "\\item 'datasets'\n",
       "\\item 'methods'\n",
       "\\item 'base'\n",
       "\\end{enumerate*}\n"
      ],
      "text/markdown": [
       "1. 'pROC'\n",
       "2. 'tidyr'\n",
       "3. 'dplyr'\n",
       "4. 'glmnet'\n",
       "5. 'foreach'\n",
       "6. 'Matrix'\n",
       "7. 'xgboost'\n",
       "8. 'ggplot2'\n",
       "9. 'RColorBrewer'\n",
       "10. 'stats'\n",
       "11. 'graphics'\n",
       "12. 'grDevices'\n",
       "13. 'utils'\n",
       "14. 'datasets'\n",
       "15. 'methods'\n",
       "16. 'base'\n",
       "\n",
       "\n"
      ],
      "text/plain": [
       " [1] \"pROC\"         \"tidyr\"        \"dplyr\"        \"glmnet\"       \"foreach\"     \n",
       " [6] \"Matrix\"       \"xgboost\"      \"ggplot2\"      \"RColorBrewer\" \"stats\"       \n",
       "[11] \"graphics\"     \"grDevices\"    \"utils\"        \"datasets\"     \"methods\"     \n",
       "[16] \"base\"        "
      ]
     },
     "metadata": {},
     "output_type": "display_data"
    }
   ],
   "source": [
    "libs <- c(\n",
    "    'RColorBrewer',\n",
    "    'ggplot2',\n",
    "    'xgboost',\n",
    "    'glmnet',\n",
    "    'dplyr',\n",
    "    'tidyr',\n",
    "    'pROC'\n",
    ")\n",
    "\n",
    "for (lib in libs) {\n",
    "        if (!require(lib, character.only = TRUE, quietly = TRUE)) {\n",
    "            install.packages(lib, repos='http://cran.us.r-project.org')\n",
    "        }\n",
    "}\n",
    "\n",
    "(.packages())"
   ]
  },
  {
   "cell_type": "code",
   "execution_count": 32,
   "metadata": {
    "collapsed": true
   },
   "outputs": [],
   "source": [
    "split_data <- function(outcomes,p=0.75) {\n",
    "    n <- length(outcomes)\n",
    "    s <- floor(p*n)\n",
    "    sample_inds <- sample(seq_len(n), size = s)\n",
    "    return(sample_inds)\n",
    "}"
   ]
  },
  {
   "cell_type": "markdown",
   "metadata": {},
   "source": [
    "## classify iris data using three different base learners"
   ]
  },
  {
   "cell_type": "code",
   "execution_count": 33,
   "metadata": {
    "collapsed": true
   },
   "outputs": [],
   "source": [
    "data(iris)"
   ]
  },
  {
   "cell_type": "code",
   "execution_count": 34,
   "metadata": {
    "collapsed": false
   },
   "outputs": [],
   "source": [
    "df_nosetosa <- iris[iris$Species != \"setosa\",]\n",
    "df_nosetosa$Species <- factor(df_nosetosa$Species)\n",
    "rownames(df_nosetosa) <- NULL\n",
    "X <- df_nosetosa[,-c(5)]\n",
    "y <- as.numeric(df_nosetosa[,c(5)]) - 1\n",
    "\n",
    "traintest_inds <- split_data(y,p=0.75)\n",
    "X_traintest <- X[c(traintest_inds),]\n",
    "y_traintest <- y[traintest_inds]\n",
    "X_holdout <- X[-traintest_inds,]\n",
    "y_holdout <- y[-traintest_inds]\n",
    "\n",
    "df_nosetosa_train <- df_nosetosa[traintest_inds,]\n",
    "df_nosetosa_test <- df_nosetosa[-traintest_inds,]"
   ]
  },
  {
   "cell_type": "code",
   "execution_count": 35,
   "metadata": {
    "collapsed": true
   },
   "outputs": [],
   "source": [
    "glm_sl <- glm(Species ~ Sepal.Length, data=df_nosetosa_train, family=binomial)\n",
    "glm_sw <- glm(Species ~ Sepal.Width, data=df_nosetosa_train, family=binomial)\n",
    "glm_pl <- glm(Species ~ Petal.Length, data=df_nosetosa_train, family=binomial)"
   ]
  },
  {
   "cell_type": "markdown",
   "metadata": {},
   "source": [
    "### training accuracy for each base learner"
   ]
  },
  {
   "cell_type": "code",
   "execution_count": 36,
   "metadata": {
    "collapsed": false
   },
   "outputs": [
    {
     "data": {
      "text/html": [
       "0.72"
      ],
      "text/latex": [
       "0.72"
      ],
      "text/markdown": [
       "0.72"
      ],
      "text/plain": [
       "[1] 0.72"
      ]
     },
     "metadata": {},
     "output_type": "display_data"
    },
    {
     "data": {
      "text/html": [
       "0.546666666666667"
      ],
      "text/latex": [
       "0.546666666666667"
      ],
      "text/markdown": [
       "0.546666666666667"
      ],
      "text/plain": [
       "[1] 0.5466667"
      ]
     },
     "metadata": {},
     "output_type": "display_data"
    },
    {
     "data": {
      "text/html": [
       "0.92"
      ],
      "text/latex": [
       "0.92"
      ],
      "text/markdown": [
       "0.92"
      ],
      "text/plain": [
       "[1] 0.92"
      ]
     },
     "metadata": {},
     "output_type": "display_data"
    }
   ],
   "source": [
    "mean(round(glm_sl$fitted.values) == y_traintest)\n",
    "mean(round(glm_sw$fitted.values) == y_traintest)\n",
    "mean(round(glm_pl$fitted.values) == y_traintest)"
   ]
  },
  {
   "cell_type": "markdown",
   "metadata": {},
   "source": [
    "### construct meta-features using the predictions of the three base learners"
   ]
  },
  {
   "cell_type": "code",
   "execution_count": 37,
   "metadata": {
    "collapsed": false
   },
   "outputs": [],
   "source": [
    "df_meta <- data.frame(\"sl.score\"=glm_sl$fitted.values,\n",
    "                      \"sw.score\"=glm_sw$fitted.values,\n",
    "                      \"pl.score\"=glm_pl$fitted.values)"
   ]
  },
  {
   "cell_type": "markdown",
   "metadata": {},
   "source": [
    "### majority vote isn't that great when some of the voters are significantly worse than others"
   ]
  },
  {
   "cell_type": "code",
   "execution_count": 38,
   "metadata": {
    "collapsed": false
   },
   "outputs": [
    {
     "data": {
      "text/html": [
       "0.773333333333333"
      ],
      "text/latex": [
       "0.773333333333333"
      ],
      "text/markdown": [
       "0.773333333333333"
      ],
      "text/plain": [
       "[1] 0.7733333"
      ]
     },
     "metadata": {},
     "output_type": "display_data"
    }
   ],
   "source": [
    "mean(round(rowMeans(round(df_meta),1)) == y_traintest)"
   ]
  },
  {
   "cell_type": "markdown",
   "metadata": {},
   "source": [
    "## instead, learn a decision tree in a meta-feature space\n",
    "meta features are the scores from the base learners"
   ]
  },
  {
   "cell_type": "code",
   "execution_count": 39,
   "metadata": {
    "collapsed": false
   },
   "outputs": [],
   "source": [
    "param <- list(\"objective\" = \"binary:logistic\",\n",
    "              \"max.depth\" = 2,\n",
    "              \"eta\" = 0.25\n",
    "              )\n",
    "\n",
    "gbdt <- xgboost(\n",
    "    params = param,\n",
    "    data = as.matrix(df_meta),\n",
    "    label = as.numeric(y_traintest),\n",
    "    nround = 10,\n",
    "    verbose = FALSE,\n",
    "    missing=NA\n",
    ")"
   ]
  },
  {
   "cell_type": "markdown",
   "metadata": {},
   "source": [
    "### training accuracy of the meta-classifier "
   ]
  },
  {
   "cell_type": "code",
   "execution_count": 40,
   "metadata": {
    "collapsed": false
   },
   "outputs": [
    {
     "data": {
      "text/html": [
       "0.933333333333333"
      ],
      "text/latex": [
       "0.933333333333333"
      ],
      "text/markdown": [
       "0.933333333333333"
      ],
      "text/plain": [
       "[1] 0.9333333"
      ]
     },
     "metadata": {},
     "output_type": "display_data"
    }
   ],
   "source": [
    "preds_overfit <- predict(gbdt,as.matrix(df_meta), missing=NA)\n",
    "mean(round(preds_overfit) == y_traintest)"
   ]
  },
  {
   "cell_type": "markdown",
   "metadata": {},
   "source": [
    "### test accuracies of the base learners"
   ]
  },
  {
   "cell_type": "code",
   "execution_count": 18,
   "metadata": {
    "collapsed": false
   },
   "outputs": [
    {
     "data": {
      "text/html": [
       "0.6"
      ],
      "text/latex": [
       "0.6"
      ],
      "text/markdown": [
       "0.6"
      ],
      "text/plain": [
       "[1] 0.6"
      ]
     },
     "metadata": {},
     "output_type": "display_data"
    },
    {
     "data": {
      "text/html": [
       "0.48"
      ],
      "text/latex": [
       "0.48"
      ],
      "text/markdown": [
       "0.48"
      ],
      "text/plain": [
       "[1] 0.48"
      ]
     },
     "metadata": {},
     "output_type": "display_data"
    },
    {
     "data": {
      "text/html": [
       "0.88"
      ],
      "text/latex": [
       "0.88"
      ],
      "text/markdown": [
       "0.88"
      ],
      "text/plain": [
       "[1] 0.88"
      ]
     },
     "metadata": {},
     "output_type": "display_data"
    }
   ],
   "source": [
    "preds_holdout_sl <- predict.glm(object = glm_sl, newdata = df_nosetosa_test, type = \"response\")\n",
    "preds_holdout_sw <- predict.glm(object = glm_sw, newdata = df_nosetosa_test, type = \"response\")\n",
    "preds_holdout_pl <- predict.glm(object = glm_pl, newdata = df_nosetosa_test, type = \"response\")\n",
    "\n",
    "mean(round(preds_holdout_sl) == y_holdout)\n",
    "mean(round(preds_holdout_sw) == y_holdout)\n",
    "mean(round(preds_holdout_pl) == y_holdout)\n",
    "\n",
    "df_meta_test <- data.frame(\"sl.score\"=preds_holdout_sl,\n",
    "                           \"sw.score\"=preds_holdout_sw,\n",
    "                           \"pl.score\"=preds_holdout_pl)"
   ]
  },
  {
   "cell_type": "markdown",
   "metadata": {},
   "source": [
    "### test accuracy of the meta-classifier"
   ]
  },
  {
   "cell_type": "code",
   "execution_count": 19,
   "metadata": {
    "collapsed": false
   },
   "outputs": [
    {
     "data": {
      "text/html": [
       "0.88"
      ],
      "text/latex": [
       "0.88"
      ],
      "text/markdown": [
       "0.88"
      ],
      "text/plain": [
       "[1] 0.88"
      ]
     },
     "metadata": {},
     "output_type": "display_data"
    }
   ],
   "source": [
    "preds_holdout <- predict(gbdt,as.matrix(df_meta_test), missing=NA)\n",
    "mean(round(preds_holdout) == y_holdout)"
   ]
  },
  {
   "cell_type": "markdown",
   "metadata": {
    "collapsed": true
   },
   "source": [
    "# ROC curves"
   ]
  },
  {
   "cell_type": "code",
   "execution_count": 25,
   "metadata": {
    "collapsed": true
   },
   "outputs": [],
   "source": [
    "data(aSAH)"
   ]
  },
  {
   "cell_type": "code",
   "execution_count": 27,
   "metadata": {
    "collapsed": false
   },
   "outputs": [],
   "source": [
    "rocs100 <- roc(aSAH$outcome, aSAH$s100, percent = TRUE, partial.auc=c(100, 90))\n",
    "rocwfns <- roc(aSAH$outcome, aSAH$wfns, percent = TRUE, partial.auc=c(100, 90))"
   ]
  },
  {
   "cell_type": "code",
   "execution_count": 28,
   "metadata": {
    "collapsed": true
   },
   "outputs": [],
   "source": [
    "cis100 <- ci(rocs100, of = \"se\", sp = seq(0, 100, 5), boot.n=10000)\n",
    "ciwfns <- ci(rocwfns, of = \"threshold\", threshold=4.5, boot.n=10000)"
   ]
  },
  {
   "cell_type": "code",
   "execution_count": 29,
   "metadata": {
    "collapsed": true
   },
   "outputs": [],
   "source": [
    "rtest <- roc.test(rocs100, rocwfns, boot.n=10000)"
   ]
  },
  {
   "cell_type": "code",
   "execution_count": 30,
   "metadata": {
    "collapsed": false
   },
   "outputs": [
    {
     "data": {
      "text/plain": [
       "\n",
       "Call:\n",
       "roc.default(response = aSAH$outcome, predictor = aSAH$s100, percent = TRUE,     partial.auc = c(100, 90))\n",
       "\n",
       "Data: aSAH$s100 in 72 controls (aSAH$outcome Good) < 41 cases (aSAH$outcome Poor).\n",
       "Partial area under the curve (specificity 100%-90%): 3.276%"
      ]
     },
     "metadata": {},
     "output_type": "display_data"
    },
    {
     "data": {
      "text/plain": [
       "\n",
       "Call:\n",
       "roc.default(response = aSAH$outcome, predictor = aSAH$wfns, percent = TRUE,     partial.auc = c(100, 90))\n",
       "\n",
       "Data: aSAH$wfns in 72 controls (aSAH$outcome Good) < 41 cases (aSAH$outcome Poor).\n",
       "Partial area under the curve (specificity 100%-90%): 3.344%"
      ]
     },
     "metadata": {},
     "output_type": "display_data"
    },
    {
     "data": {
      "image/png": "[encoded data removed]",
      "text/plain": [
       "plot without title"
      ]
     },
     "metadata": {},
     "output_type": "display_data"
    }
   ],
   "source": [
    "# png(\"demo.png\")\n",
    "plot(rocs100, col=\"#008600\", max.auc.polygon=TRUE, print.auc=TRUE, print.auc.y=48)\n",
    "plot(rocwfns, col=\"#1c61b6\", add=TRUE, print.auc=TRUE, print.auc.y=42)\n",
    "plot(cis100, type=\"shape\", col=\"#00860022\", no.roc=TRUE)\n",
    "plot(ciwfns, type=\"bars\", lwd=1.5)\n",
    "text(18, 45, sprintf(\"p = %.1f\", rtest$p.value), adj=c(0,1))\n",
    "lines(c(20, 20), c(39, 48), lwd=1.5)\n",
    "# dev.off()"
   ]
  },
  {
   "cell_type": "code",
   "execution_count": 54,
   "metadata": {
    "collapsed": false
   },
   "outputs": [],
   "source": [
    "roc_iris <- roc(y_holdout, preds_holdout)\n",
    "ci_iris <- ci(roc_iris, of = \"se\", sp = seq(0, 1, 0.01))"
   ]
  },
  {
   "cell_type": "code",
   "execution_count": 55,
   "metadata": {
    "collapsed": false
   },
   "outputs": [
    {
     "data": {
      "text/plain": [
       "\n",
       "Call:\n",
       "roc.default(response = y_holdout, predictor = preds_holdout)\n",
       "\n",
       "Data: preds_holdout in 13 controls (y_holdout 0) < 12 cases (y_holdout 1).\n",
       "Area under the curve: 0.9071"
      ]
     },
     "metadata": {},
     "output_type": "display_data"
    },
    {
     "data": {
      "image/png": "[encoded data removed]",
      "text/plain": [
       "plot without title"
      ]
     },
     "metadata": {},
     "output_type": "display_data"
    }
   ],
   "source": [
    "plot(roc_iris)\n",
    "plot(ci_iris, type=\"shape\")"
   ]
  },
  {
   "cell_type": "code",
   "execution_count": 132,
   "metadata": {
    "collapsed": true
   },
   "outputs": [],
   "source": [
    "mattcc <- function(true_classes, predicted_classes) {\n",
    "        \n",
    "    pos <- true_classes == 1\n",
    "    neg <- true_classes == 0\n",
    "    \n",
    "    TP <- sum( predicted_classes[pos] == true_classes[pos] )\n",
    "    TN <- sum( predicted_classes[neg] == true_classes[neg] )\n",
    "    FP <- sum( predicted_classes[pos] != true_classes[pos] )\n",
    "    FN <- sum( predicted_classes[neg] != true_classes[neg] )  \n",
    "    \n",
    "    N1 <- TP*TN\n",
    "    N2 <- FP*FN\n",
    "    D1 <- TP+FP\n",
    "    D2 <- TP+FN\n",
    "    D3 <- TN+FP\n",
    "    D4 <- TN+FN\n",
    "    \n",
    "    N <- N1-N2\n",
    "    D <- D1*D2*D3*D4\n",
    "    \n",
    "    if (D==0) {\n",
    "        m <- 0\n",
    "    } else {\n",
    "        M <- N/sqrt(D)\n",
    "    }\n",
    "    \n",
    "    return(M)\n",
    "}"
   ]
  },
  {
   "cell_type": "code",
   "execution_count": 133,
   "metadata": {
    "collapsed": false
   },
   "outputs": [
    {
     "data": {
      "text/html": [
       "0.600012487382542"
      ],
      "text/latex": [
       "0.600012487382542"
      ],
      "text/markdown": [
       "0.600012487382542"
      ],
      "text/plain": [
       "[1] 0.6000125"
      ]
     },
     "metadata": {},
     "output_type": "display_data"
    }
   ],
   "source": [
    "mattcc(y_holdout, round(preds_holdout))"
   ]
  },
  {
   "cell_type": "code",
   "execution_count": 134,
   "metadata": {
    "collapsed": false
   },
   "outputs": [
    {
     "data": {
      "text/html": [
       "0.869293697631841"
      ],
      "text/latex": [
       "0.869293697631841"
      ],
      "text/markdown": [
       "0.869293697631841"
      ],
      "text/plain": [
       "[1] 0.8692937"
      ]
     },
     "metadata": {},
     "output_type": "display_data"
    }
   ],
   "source": [
    "mattcc(y_traintest,round(preds_overfit))"
   ]
  },
  {
   "cell_type": "code",
   "execution_count": null,
   "metadata": {
    "collapsed": true
   },
   "outputs": [],
   "source": []
  }
 ],
 "metadata": {
  "anaconda-cloud": {},
  "kernelspec": {
   "display_name": "R",
   "language": "R",
   "name": "ir"
  },
  "language_info": {
   "codemirror_mode": "r",
   "file_extension": ".r",
   "mimetype": "text/x-r-source",
   "name": "R",
   "pygments_lexer": "r",
   "version": "3.3.1"
  }
 },
 "nbformat": 4,
 "nbformat_minor": 0
}
