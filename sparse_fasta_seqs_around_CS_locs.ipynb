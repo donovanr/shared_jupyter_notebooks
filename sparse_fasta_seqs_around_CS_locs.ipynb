{
 "cells": [
  {
   "cell_type": "markdown",
   "metadata": {},
   "source": [
    "# Create data sets for Keras-genomics"
   ]
  },
  {
   "cell_type": "code",
   "execution_count": 1,
   "metadata": {
    "collapsed": false
   },
   "outputs": [
    {
     "name": "stderr",
     "output_type": "stream",
     "text": [
      "Loaded glmnet 2.0-5\n",
      "\n",
      "\n",
      "Attaching package: ‘dplyr’\n",
      "\n",
      "The following object is masked from ‘package:xgboost’:\n",
      "\n",
      "    slice\n",
      "\n",
      "The following objects are masked from ‘package:stats’:\n",
      "\n",
      "    filter, lag\n",
      "\n",
      "The following objects are masked from ‘package:base’:\n",
      "\n",
      "    intersect, setdiff, setequal, union\n",
      "\n",
      "\n",
      "Attaching package: ‘tidyr’\n",
      "\n",
      "The following object is masked from ‘package:Matrix’:\n",
      "\n",
      "    expand\n",
      "\n",
      "Type 'citation(\"pROC\")' for a citation.\n",
      "\n",
      "Attaching package: ‘pROC’\n",
      "\n",
      "The following object is masked from ‘package:glmnet’:\n",
      "\n",
      "    auc\n",
      "\n",
      "The following objects are masked from ‘package:stats’:\n",
      "\n",
      "    cov, smooth, var\n",
      "\n",
      "\n",
      "Attaching package: ‘igraph’\n",
      "\n",
      "The following object is masked from ‘package:stringr’:\n",
      "\n",
      "    %>%\n",
      "\n",
      "The following objects are masked from ‘package:tidyr’:\n",
      "\n",
      "    %>%, crossing\n",
      "\n",
      "The following objects are masked from ‘package:dplyr’:\n",
      "\n",
      "    %>%, as_data_frame, groups, union\n",
      "\n",
      "The following objects are masked from ‘package:stats’:\n",
      "\n",
      "    decompose, spectrum\n",
      "\n",
      "The following object is masked from ‘package:base’:\n",
      "\n",
      "    union\n",
      "\n",
      "\n",
      "Attaching package: ‘tibble’\n",
      "\n",
      "The following object is masked from ‘package:igraph’:\n",
      "\n",
      "    as_data_frame\n",
      "\n",
      "Loading required package: BSgenome\n",
      "Loading required package: BiocGenerics\n",
      "Loading required package: parallel\n",
      "\n",
      "Attaching package: ‘BiocGenerics’\n",
      "\n",
      "The following objects are masked from ‘package:parallel’:\n",
      "\n",
      "    clusterApply, clusterApplyLB, clusterCall, clusterEvalQ,\n",
      "    clusterExport, clusterMap, parApply, parCapply, parLapply,\n",
      "    parLapplyLB, parRapply, parSapply, parSapplyLB\n",
      "\n",
      "The following objects are masked from ‘package:igraph’:\n",
      "\n",
      "    normalize, union\n",
      "\n",
      "The following objects are masked from ‘package:dplyr’:\n",
      "\n",
      "    combine, intersect, setdiff, union\n",
      "\n",
      "The following objects are masked from ‘package:stats’:\n",
      "\n",
      "    IQR, mad, xtabs\n",
      "\n",
      "The following objects are masked from ‘package:base’:\n",
      "\n",
      "    anyDuplicated, append, as.data.frame, cbind, colnames, do.call,\n",
      "    duplicated, eval, evalq, Filter, Find, get, grep, grepl, intersect,\n",
      "    is.unsorted, lapply, lengths, Map, mapply, match, mget, order,\n",
      "    paste, pmax, pmax.int, pmin, pmin.int, Position, rank, rbind,\n",
      "    Reduce, rownames, sapply, setdiff, sort, table, tapply, union,\n",
      "    unique, unsplit\n",
      "\n",
      "Loading required package: S4Vectors\n",
      "Loading required package: stats4\n",
      "\n",
      "Attaching package: ‘S4Vectors’\n",
      "\n",
      "The following object is masked from ‘package:igraph’:\n",
      "\n",
      "    compare\n",
      "\n",
      "The following object is masked from ‘package:caTools’:\n",
      "\n",
      "    runmean\n",
      "\n",
      "The following object is masked from ‘package:tidyr’:\n",
      "\n",
      "    expand\n",
      "\n",
      "The following objects are masked from ‘package:dplyr’:\n",
      "\n",
      "    first, rename\n",
      "\n",
      "The following objects are masked from ‘package:Matrix’:\n",
      "\n",
      "    colMeans, colSums, expand, rowMeans, rowSums\n",
      "\n",
      "The following objects are masked from ‘package:base’:\n",
      "\n",
      "    colMeans, colSums, expand.grid, rowMeans, rowSums\n",
      "\n",
      "Loading required package: IRanges\n",
      "\n",
      "Attaching package: ‘IRanges’\n",
      "\n",
      "The following object is masked from ‘package:igraph’:\n",
      "\n",
      "    simplify\n",
      "\n",
      "The following objects are masked from ‘package:dplyr’:\n",
      "\n",
      "    collapse, desc, regroup, slice\n",
      "\n",
      "The following object is masked from ‘package:xgboost’:\n",
      "\n",
      "    slice\n",
      "\n",
      "Loading required package: GenomeInfoDb\n",
      "Loading required package: GenomicRanges\n",
      "Loading required package: Biostrings\n",
      "Loading required package: XVector\n",
      "Loading required package: rtracklayer\n",
      "\n",
      "Attaching package: ‘rtracklayer’\n",
      "\n",
      "The following object is masked from ‘package:igraph’:\n",
      "\n",
      "    blocks\n",
      "\n"
     ]
    },
    {
     "data": {
      "text/html": [
       "<ol class=list-inline>\n",
       "\t<li>'BSgenome.Hsapiens.UCSC.hg38'</li>\n",
       "\t<li>'BSgenome'</li>\n",
       "\t<li>'rtracklayer'</li>\n",
       "\t<li>'Biostrings'</li>\n",
       "\t<li>'XVector'</li>\n",
       "\t<li>'GenomicRanges'</li>\n",
       "\t<li>'GenomeInfoDb'</li>\n",
       "\t<li>'IRanges'</li>\n",
       "\t<li>'S4Vectors'</li>\n",
       "\t<li>'stats4'</li>\n",
       "\t<li>'BiocGenerics'</li>\n",
       "\t<li>'parallel'</li>\n",
       "\t<li>'tibble'</li>\n",
       "\t<li>'igraph'</li>\n",
       "\t<li>'RUnit'</li>\n",
       "\t<li>'RPostgreSQL'</li>\n",
       "\t<li>'DBI'</li>\n",
       "\t<li>'caTools'</li>\n",
       "\t<li>'caret'</li>\n",
       "\t<li>'lattice'</li>\n",
       "\t<li>'stringr'</li>\n",
       "\t<li>'pROC'</li>\n",
       "\t<li>'tidyr'</li>\n",
       "\t<li>'dplyr'</li>\n",
       "\t<li>'glmnet'</li>\n",
       "\t<li>'foreach'</li>\n",
       "\t<li>'Matrix'</li>\n",
       "\t<li>'xgboost'</li>\n",
       "\t<li>'ggplot2'</li>\n",
       "\t<li>'RColorBrewer'</li>\n",
       "\t<li>'stats'</li>\n",
       "\t<li>'graphics'</li>\n",
       "\t<li>'grDevices'</li>\n",
       "\t<li>'utils'</li>\n",
       "\t<li>'datasets'</li>\n",
       "\t<li>'methods'</li>\n",
       "\t<li>'base'</li>\n",
       "</ol>\n"
      ],
      "text/latex": [
       "\\begin{enumerate*}\n",
       "\\item 'BSgenome.Hsapiens.UCSC.hg38'\n",
       "\\item 'BSgenome'\n",
       "\\item 'rtracklayer'\n",
       "\\item 'Biostrings'\n",
       "\\item 'XVector'\n",
       "\\item 'GenomicRanges'\n",
       "\\item 'GenomeInfoDb'\n",
       "\\item 'IRanges'\n",
       "\\item 'S4Vectors'\n",
       "\\item 'stats4'\n",
       "\\item 'BiocGenerics'\n",
       "\\item 'parallel'\n",
       "\\item 'tibble'\n",
       "\\item 'igraph'\n",
       "\\item 'RUnit'\n",
       "\\item 'RPostgreSQL'\n",
       "\\item 'DBI'\n",
       "\\item 'caTools'\n",
       "\\item 'caret'\n",
       "\\item 'lattice'\n",
       "\\item 'stringr'\n",
       "\\item 'pROC'\n",
       "\\item 'tidyr'\n",
       "\\item 'dplyr'\n",
       "\\item 'glmnet'\n",
       "\\item 'foreach'\n",
       "\\item 'Matrix'\n",
       "\\item 'xgboost'\n",
       "\\item 'ggplot2'\n",
       "\\item 'RColorBrewer'\n",
       "\\item 'stats'\n",
       "\\item 'graphics'\n",
       "\\item 'grDevices'\n",
       "\\item 'utils'\n",
       "\\item 'datasets'\n",
       "\\item 'methods'\n",
       "\\item 'base'\n",
       "\\end{enumerate*}\n"
      ],
      "text/markdown": [
       "1. 'BSgenome.Hsapiens.UCSC.hg38'\n",
       "2. 'BSgenome'\n",
       "3. 'rtracklayer'\n",
       "4. 'Biostrings'\n",
       "5. 'XVector'\n",
       "6. 'GenomicRanges'\n",
       "7. 'GenomeInfoDb'\n",
       "8. 'IRanges'\n",
       "9. 'S4Vectors'\n",
       "10. 'stats4'\n",
       "11. 'BiocGenerics'\n",
       "12. 'parallel'\n",
       "13. 'tibble'\n",
       "14. 'igraph'\n",
       "15. 'RUnit'\n",
       "16. 'RPostgreSQL'\n",
       "17. 'DBI'\n",
       "18. 'caTools'\n",
       "19. 'caret'\n",
       "20. 'lattice'\n",
       "21. 'stringr'\n",
       "22. 'pROC'\n",
       "23. 'tidyr'\n",
       "24. 'dplyr'\n",
       "25. 'glmnet'\n",
       "26. 'foreach'\n",
       "27. 'Matrix'\n",
       "28. 'xgboost'\n",
       "29. 'ggplot2'\n",
       "30. 'RColorBrewer'\n",
       "31. 'stats'\n",
       "32. 'graphics'\n",
       "33. 'grDevices'\n",
       "34. 'utils'\n",
       "35. 'datasets'\n",
       "36. 'methods'\n",
       "37. 'base'\n",
       "\n",
       "\n"
      ],
      "text/plain": [
       " [1] \"BSgenome.Hsapiens.UCSC.hg38\" \"BSgenome\"                   \n",
       " [3] \"rtracklayer\"                 \"Biostrings\"                 \n",
       " [5] \"XVector\"                     \"GenomicRanges\"              \n",
       " [7] \"GenomeInfoDb\"                \"IRanges\"                    \n",
       " [9] \"S4Vectors\"                   \"stats4\"                     \n",
       "[11] \"BiocGenerics\"                \"parallel\"                   \n",
       "[13] \"tibble\"                      \"igraph\"                     \n",
       "[15] \"RUnit\"                       \"RPostgreSQL\"                \n",
       "[17] \"DBI\"                         \"caTools\"                    \n",
       "[19] \"caret\"                       \"lattice\"                    \n",
       "[21] \"stringr\"                     \"pROC\"                       \n",
       "[23] \"tidyr\"                       \"dplyr\"                      \n",
       "[25] \"glmnet\"                      \"foreach\"                    \n",
       "[27] \"Matrix\"                      \"xgboost\"                    \n",
       "[29] \"ggplot2\"                     \"RColorBrewer\"               \n",
       "[31] \"stats\"                       \"graphics\"                   \n",
       "[33] \"grDevices\"                   \"utils\"                      \n",
       "[35] \"datasets\"                    \"methods\"                    \n",
       "[37] \"base\"                       "
      ]
     },
     "metadata": {},
     "output_type": "display_data"
    },
    {
     "name": "stdout",
     "output_type": "stream",
     "text": [
      "[1] --- test.locStringToBedTable\n",
      "[1] --- test.getFimoHits\n",
      "[1] --- test.getHits\n",
      "[1] --- test.createHintTable\n",
      "[1] found 194 hint hits in 101 bases\n",
      "[1] found 16 hint hits in 101 bases\n",
      "[1] found 14 hint hits in 101 bases\n",
      "[1] found 10 hint hits in 19 bases\n",
      "[1] found 995 hint hits in 20019 bases\n",
      "[1] --- test.createHintTable_ignoreStrand\n",
      "[1] found 44 hint hits in 12 bases\n",
      "[1] found 44 hint hits in 12 bases\n",
      "[1] eliminating 11 double-stranded hits\n",
      "[1] --- test.createWellingtonTable\n",
      "[1] found 126 wellington hits in 19 bases\n",
      "[1] found 378 wellington hits in 20019 bases\n",
      "[1] found 68 wellington hits in 12 bases\n",
      "[1] found 4 wellington hits in 12 bases\n",
      "[1] found 126 wellington hits in 19 bases\n",
      "[1] found 64 wellington hits in 19 bases\n",
      "[1] found 24 wellington hits in 19 bases\n",
      "[1] --- test.createWellingtonTable_ignoreStrand, deferred\n",
      "[1] found 26 wellington hits in 10 bases\n",
      "[1] found 26 wellington hits in 10 bases\n",
      "[1] eliminating 13 double-stranded hits\n",
      "[1] --- test.createPiqTable\n",
      "[1] found 342 piq hits in 101 bases\n"
     ]
    }
   ],
   "source": [
    "libs <- c(\n",
    "    'RColorBrewer',\n",
    "    'ggplot2',\n",
    "    'xgboost',\n",
    "    'glmnet',\n",
    "    'dplyr',\n",
    "    'tidyr',\n",
    "    'pROC',\n",
    "    'stringr',\n",
    "    'caret',\n",
    "    'caTools',\n",
    "    'RPostgreSQL',\n",
    "    'RUnit',\n",
    "    'igraph',\n",
    "    'tibble'\n",
    ")\n",
    "\n",
    "for (lib in libs) {\n",
    "        if (!require(lib, character.only = TRUE, quietly = TRUE)) {\n",
    "            install.packages(lib, repos='http://cran.us.r-project.org')\n",
    "        }\n",
    "}\n",
    "\n",
    "# source(\"http://bioconductor.org/biocLite.R\")\n",
    "# biocLite(\"BSgenome.Hsapiens.UCSC.hg38\")\n",
    "library(BSgenome.Hsapiens.UCSC.hg38)\n",
    "hg38 = BSgenome.Hsapiens.UCSC.hg38\n",
    "\n",
    "(.packages())\n",
    "\n",
    "source(\"utility_functions.R\")\n",
    "source(\"stat_functions.R\")\n",
    "source(\"plot_functions.R\")\n",
    "source(\"~/git-repos/BDDS/trenadb/src/utils.R\")\n",
    "\n",
    "# rm(list = setdiff(ls(), lsf.str()))"
   ]
  },
  {
   "cell_type": "markdown",
   "metadata": {},
   "source": [
    "## Load Data (with overlaps)"
   ]
  },
  {
   "cell_type": "code",
   "execution_count": 2,
   "metadata": {
    "collapsed": true
   },
   "outputs": [],
   "source": [
    "load(\"train_test_valid_data_sets.Rdata\")"
   ]
  },
  {
   "cell_type": "markdown",
   "metadata": {
    "collapsed": true
   },
   "source": [
    "## tasks:\n",
    "- within each df:\n",
    " - select all cs hits\n",
    " - find subset of cs hits not within 100 bp of each other\n",
    " - remove all non cs hits within 100 bp of that set\n",
    " - of the remaining non cs hits, remove any within 100 bp of eachother"
   ]
  },
  {
   "cell_type": "markdown",
   "metadata": {},
   "source": [
    "## Function for filtering within a set"
   ]
  },
  {
   "cell_type": "code",
   "execution_count": 3,
   "metadata": {
    "collapsed": false
   },
   "outputs": [],
   "source": [
    "# NOTE: this function assumes the locations are on the same chromasome\n",
    "\n",
    "# sort centers and keep track of distance to last good center\n",
    "get.ind.locs.greedy.fast <- function(df.with.centers.and.ids, thresh=100) {\n",
    "    df.tbl <- as_data_frame(df.with.centers.and.ids)\n",
    "    df.ordered <- df.tbl[with(df.tbl, order(center)), ]\n",
    "    \n",
    "    centers <- df.ordered$center\n",
    "    locids <- df.ordered$locid\n",
    "    ind.ids <- c()\n",
    "    \n",
    "    for (r in 1:nrow(df.ordered)) {\n",
    "        if (length(ind.ids) == 0) {\n",
    "            ind.ids <- c(ind.ids, locids[r])\n",
    "            last.ind.cent <- centers[r]\n",
    "        } else {\n",
    "            this.cent <- centers[r]\n",
    "            if (this.cent - last.ind.cent > thresh) {\n",
    "                ind.ids <- c(ind.ids, locids[r])\n",
    "                last.ind.cent <- this.cent\n",
    "            }\n",
    "        }\n",
    "    }\n",
    "    return(subset(df.ordered, locid %in% ind.ids))\n",
    "}"
   ]
  },
  {
   "cell_type": "code",
   "execution_count": 43,
   "metadata": {
    "collapsed": true
   },
   "outputs": [],
   "source": [
    "# remove overlaps in df, such that:\n",
    "#  - preservation of cs hits is prioritized\n",
    "#  - there are no overlaps (within 100bp) of any location\n",
    "\n",
    "subset.overlaps.cshit.aware <- function(df, balanced=FALSE) {\n",
    "    \n",
    "    # add a key to the original df\n",
    "    df$locid <- 1:nrow(df)\n",
    "    df$center <- as.integer(round(0.5*(df$start + df$end)))\n",
    "\n",
    "    # subset out only rows with a cs hit\n",
    "    cshits.df <- df[df$csscore>0,]\n",
    "\n",
    "    # get a greedy set of independent locations\n",
    "    cshits.ind.locs.df <- get.ind.locs.greedy.fast(cshits.df)\n",
    "\n",
    "    ### double-check no overlaps in ind cs set\n",
    "    hits.gr <- GRanges(seqnames=\"chr19\",\n",
    "                     IRanges(start=cshits.ind.locs.df$center-50, end=cshits.ind.locs.df$center+50))\n",
    "    hits.hits.overlaps.df <- as_data_frame(findOverlaps(hits.gr))\n",
    "    hits.hits.noself.df <- subset(hits.hits.overlaps.df, subjectHits != queryHits)\n",
    "    stopifnot(nrow(hits.hits.noself.df)==0)\n",
    "\n",
    "    ### remove non cs hits that overlap cs hits\n",
    "    cs.misses.df <- df[df$csscore==0,]\n",
    "    misses.gr <- GRanges(seqnames=\"chr19\",\n",
    "                     IRanges(start=cs.misses.df$center-50, end=cs.misses.df$center+50))\n",
    "    hits.misses.overlaps.df <- as_data_frame(findOverlaps(misses.gr, hits.gr))\n",
    "    misses.to.remove <- unique(hits.misses.overlaps.df$queryHits)\n",
    "    misses.no.overlap.with.hits.df <- cs.misses.df[-c(misses.to.remove),]\n",
    "\n",
    "    ### double check no overlap of pruned hits with ind cs set\n",
    "    hits.no.misses.gr <- GRanges(seqnames=\"chr19\",\n",
    "                     IRanges(start=misses.no.overlap.with.hits.df$center-50,\n",
    "                             end=misses.no.overlap.with.hits.df$center+50))\n",
    "    hits.no.misses.misses.overlaps.df <- as_data_frame(findOverlaps(hits.gr, hits.no.misses.gr))\n",
    "    stopifnot(nrow(hits.no.misses.misses.overlaps.df)==0)\n",
    "\n",
    "    ### remove overlaps within set of misses pruned against ind hits\n",
    "    misses.ind.locs.df <- get.ind.locs.greedy.fast(misses.no.overlap.with.hits.df)\n",
    "\n",
    "    ### double check no overlaps within misses ind set\n",
    "    misses.ind.gr <- GRanges(seqnames=\"chr19\",\n",
    "                     IRanges(start=misses.ind.locs.df$center-50, end=misses.ind.locs.df$center+50))\n",
    "    misses.misses.overlaps.df <- as_data_frame(findOverlaps(misses.ind.gr))\n",
    "    misses.misses.noself.df <- subset(misses.misses.overlaps.df, subjectHits != queryHits)\n",
    "    stopifnot(nrow(misses.misses.noself.df)==0)\n",
    "\n",
    "    ### double check no overlaps in ind misses against hits ind set\n",
    "    final.check.overlaps.df <- as_data_frame(findOverlaps(hits.gr, misses.ind.gr))\n",
    "    stopifnot(nrow(final.check.overlaps.df)==0)\n",
    "\n",
    "    # downsample misses to balance number of hits\n",
    "    if (balanced==TRUE) {\n",
    "        n.hits <- nrow(cshits.ind.locs.df)\n",
    "        n.misses <- nrow(misses.ind.locs.df)\n",
    "        misses.ind.locs.df <- misses.ind.locs.df[sample(n.misses,n.hits,replace=FALSE),]\n",
    "    }\n",
    "    \n",
    "    ## save unified pruned data frame\n",
    "    no.overlap.df <- rbind(misses.ind.locs.df, cshits.ind.locs.df)\n",
    "    no.overlap.df <- no.overlap.df[sample(nrow(no.overlap.df), nrow(no.overlap.df), replace=FALSE),]\n",
    "\n",
    "    ### check unified df has no overlaps\n",
    "    unified.gr <- GRanges(seqnames=\"chr19\",\n",
    "                     IRanges(start=no.overlap.df$center-50, end=no.overlap.df$center+50))\n",
    "    unified.overlaps.df <- as_data_frame(findOverlaps(unified.gr))\n",
    "    unified.noself.df <- subset(unified.overlaps.df, subjectHits != queryHits)\n",
    "    stopifnot(nrow(unified.noself.df)==0)\n",
    "\n",
    "    return(no.overlap.df)\n",
    "}"
   ]
  },
  {
   "cell_type": "code",
   "execution_count": 44,
   "metadata": {
    "collapsed": false
   },
   "outputs": [
    {
     "name": "stderr",
     "output_type": "stream",
     "text": [
      "Warning message in as.data.frame(as(x, \"DataFrame\"), row.names = row.names, optional = optional, :\n",
      "“Arguments in '...' ignored”Warning message in as.data.frame(as(x, \"DataFrame\"), row.names = row.names, optional = optional, :\n",
      "“Arguments in '...' ignored”Warning message in as.data.frame(as(x, \"DataFrame\"), row.names = row.names, optional = optional, :\n",
      "“Arguments in '...' ignored”Warning message in as.data.frame(as(x, \"DataFrame\"), row.names = row.names, optional = optional, :\n",
      "“Arguments in '...' ignored”Warning message in as.data.frame(as(x, \"DataFrame\"), row.names = row.names, optional = optional, :\n",
      "“Arguments in '...' ignored”Warning message in as.data.frame(as(x, \"DataFrame\"), row.names = row.names, optional = optional, :\n",
      "“Arguments in '...' ignored”Warning message in as.data.frame(as(x, \"DataFrame\"), row.names = row.names, optional = optional, :\n",
      "“Arguments in '...' ignored”Warning message in as.data.frame(as(x, \"DataFrame\"), row.names = row.names, optional = optional, :\n",
      "“Arguments in '...' ignored”Warning message in as.data.frame(as(x, \"DataFrame\"), row.names = row.names, optional = optional, :\n",
      "“Arguments in '...' ignored”Warning message in as.data.frame(as(x, \"DataFrame\"), row.names = row.names, optional = optional, :\n",
      "“Arguments in '...' ignored”Warning message in as.data.frame(as(x, \"DataFrame\"), row.names = row.names, optional = optional, :\n",
      "“Arguments in '...' ignored”Warning message in as.data.frame(as(x, \"DataFrame\"), row.names = row.names, optional = optional, :\n",
      "“Arguments in '...' ignored”Warning message in as.data.frame(as(x, \"DataFrame\"), row.names = row.names, optional = optional, :\n",
      "“Arguments in '...' ignored”Warning message in as.data.frame(as(x, \"DataFrame\"), row.names = row.names, optional = optional, :\n",
      "“Arguments in '...' ignored”Warning message in as.data.frame(as(x, \"DataFrame\"), row.names = row.names, optional = optional, :\n",
      "“Arguments in '...' ignored”Warning message in as.data.frame(as(x, \"DataFrame\"), row.names = row.names, optional = optional, :\n",
      "“Arguments in '...' ignored”Warning message in as.data.frame(as(x, \"DataFrame\"), row.names = row.names, optional = optional, :\n",
      "“Arguments in '...' ignored”Warning message in as.data.frame(as(x, \"DataFrame\"), row.names = row.names, optional = optional, :\n",
      "“Arguments in '...' ignored”"
     ]
    }
   ],
   "source": [
    "first.half.train.no.overlaps.df <- subset.overlaps.cshit.aware(first.half.train.df,balanced=TRUE)\n",
    "first.half.test.no.overlaps.df <- subset.overlaps.cshit.aware(first.half.test.df,balanced=TRUE)\n",
    "first.half.valid.no.overlaps.df <- subset.overlaps.cshit.aware(first.half.valid.df,balanced=TRUE)"
   ]
  },
  {
   "cell_type": "code",
   "execution_count": 45,
   "metadata": {
    "collapsed": false
   },
   "outputs": [
    {
     "data": {
      "text/html": [
       "<ol class=list-inline>\n",
       "\t<li>8314</li>\n",
       "\t<li>53</li>\n",
       "</ol>\n"
      ],
      "text/latex": [
       "\\begin{enumerate*}\n",
       "\\item 8314\n",
       "\\item 53\n",
       "\\end{enumerate*}\n"
      ],
      "text/markdown": [
       "1. 8314\n",
       "2. 53\n",
       "\n",
       "\n"
      ],
      "text/plain": [
       "[1] 8314   53"
      ]
     },
     "metadata": {},
     "output_type": "display_data"
    },
    {
     "data": {
      "text/html": [
       "<ol class=list-inline>\n",
       "\t<li>2482</li>\n",
       "\t<li>53</li>\n",
       "</ol>\n"
      ],
      "text/latex": [
       "\\begin{enumerate*}\n",
       "\\item 2482\n",
       "\\item 53\n",
       "\\end{enumerate*}\n"
      ],
      "text/markdown": [
       "1. 2482\n",
       "2. 53\n",
       "\n",
       "\n"
      ],
      "text/plain": [
       "[1] 2482   53"
      ]
     },
     "metadata": {},
     "output_type": "display_data"
    },
    {
     "data": {
      "text/html": [
       "<ol class=list-inline>\n",
       "\t<li>1126</li>\n",
       "\t<li>53</li>\n",
       "</ol>\n"
      ],
      "text/latex": [
       "\\begin{enumerate*}\n",
       "\\item 1126\n",
       "\\item 53\n",
       "\\end{enumerate*}\n"
      ],
      "text/markdown": [
       "1. 1126\n",
       "2. 53\n",
       "\n",
       "\n"
      ],
      "text/plain": [
       "[1] 1126   53"
      ]
     },
     "metadata": {},
     "output_type": "display_data"
    },
    {
     "data": {
      "text/html": [
       "0.5"
      ],
      "text/latex": [
       "0.5"
      ],
      "text/markdown": [
       "0.5"
      ],
      "text/plain": [
       "[1] 0.5"
      ]
     },
     "metadata": {},
     "output_type": "display_data"
    },
    {
     "data": {
      "text/html": [
       "0.5"
      ],
      "text/latex": [
       "0.5"
      ],
      "text/markdown": [
       "0.5"
      ],
      "text/plain": [
       "[1] 0.5"
      ]
     },
     "metadata": {},
     "output_type": "display_data"
    },
    {
     "data": {
      "text/html": [
       "0.5"
      ],
      "text/latex": [
       "0.5"
      ],
      "text/markdown": [
       "0.5"
      ],
      "text/plain": [
       "[1] 0.5"
      ]
     },
     "metadata": {},
     "output_type": "display_data"
    }
   ],
   "source": [
    "dim(first.half.train.no.overlaps.df)\n",
    "dim(first.half.test.no.overlaps.df)\n",
    "dim(first.half.valid.no.overlaps.df)\n",
    "\n",
    "mean(first.half.train.no.overlaps.df$csscore > 0)\n",
    "mean(first.half.test.no.overlaps.df$csscore > 0)\n",
    "mean(first.half.valid.no.overlaps.df$csscore > 0)"
   ]
  },
  {
   "cell_type": "markdown",
   "metadata": {
    "collapsed": true
   },
   "source": [
    "## Pull 101-length seq around motifs"
   ]
  },
  {
   "cell_type": "code",
   "execution_count": 46,
   "metadata": {
    "collapsed": true
   },
   "outputs": [],
   "source": [
    "# custom function from biostars since library version hard wraps lines\n",
    "writeFASTA <- function(dna,  desc=names(dna),  file=stdout()) {\n",
    "  if (is.null(desc))\n",
    "    desc <- paste(seq(along=dna))\n",
    "  fasta = character(2 * length(dna))\n",
    "  fasta[c(TRUE, FALSE)] <- paste(\">\", desc, sep=\"\")\n",
    "  fasta[c(FALSE, TRUE)] <- as.character(dna)\n",
    "  writeLines(fasta, file)\n",
    "}"
   ]
  },
  {
   "cell_type": "code",
   "execution_count": 47,
   "metadata": {
    "collapsed": false
   },
   "outputs": [],
   "source": [
    "# take test/train/valid dfs and get seqs for writing out to fasta\n",
    "prep.for.fasta <- function(a.df, chromosome=\"chr19\", buffer=50) {\n",
    "    window.seqs <- getSeq(hg38, chromosome, a.df$center-buffer, a.df$center+buffer)\n",
    "    window.locs <- paste0(a.chr, \":\", a.df$center-buffer, \"-\", a.df$center+buffer)\n",
    "    window.char <- as.character(window.seqs)\n",
    "    names(window.char) <- window.locs\n",
    "    return(window.char)\n",
    "}"
   ]
  },
  {
   "cell_type": "code",
   "execution_count": 49,
   "metadata": {
    "collapsed": false
   },
   "outputs": [],
   "source": [
    "train.fasta <- prep.for.fasta(first.half.train.no.overlaps.df)\n",
    "test.fasta <- prep.for.fasta(first.half.test.no.overlaps.df)\n",
    "valid.fasta <- prep.for.fasta(first.half.valid.no.overlaps.df)"
   ]
  },
  {
   "cell_type": "code",
   "execution_count": 50,
   "metadata": {
    "collapsed": true
   },
   "outputs": [],
   "source": [
    "# write out fasta files\n",
    "\n",
    "writeFASTA(train.fasta, file='~/train.fa')\n",
    "writeFASTA(test.fasta, file='~/test.fa')\n",
    "writeFASTA(valid.fasta, file='~/valid.fa')"
   ]
  },
  {
   "cell_type": "code",
   "execution_count": 51,
   "metadata": {
    "collapsed": false
   },
   "outputs": [],
   "source": [
    "# write out target tsv files\n",
    "\n",
    "y.train <- first.half.train.no.overlaps.df$csscore > 0\n",
    "y.test <- first.half.test.no.overlaps.df$csscore > 0\n",
    "y.valid <- first.half.valid.no.overlaps.df$csscore > 0\n",
    "\n",
    "df.target.train <- cbind(y.train, as.numeric(!y.train))\n",
    "df.target.test <- cbind(y.test, as.numeric(!y.test))\n",
    "df.target.valid <- cbind(y.valid, as.numeric(!y.valid))\n",
    "\n",
    "write.table(df.target.train, file='~/train.target', quote=FALSE, sep='\\t', col.names = FALSE, row.names = FALSE)\n",
    "write.table(df.target.test, file='~/test.target', quote=FALSE, sep='\\t', col.names = FALSE, row.names = FALSE)\n",
    "write.table(df.target.valid, file='~/valid.target', quote=FALSE, sep='\\t', col.names = FALSE, row.names = FALSE)"
   ]
  },
  {
   "cell_type": "code",
   "execution_count": null,
   "metadata": {
    "collapsed": false
   },
   "outputs": [],
   "source": []
  },
  {
   "cell_type": "code",
   "execution_count": null,
   "metadata": {
    "collapsed": true
   },
   "outputs": [],
   "source": []
  }
 ],
 "metadata": {
  "anaconda-cloud": {},
  "kernelspec": {
   "display_name": "R",
   "language": "R",
   "name": "ir"
  },
  "language_info": {
   "codemirror_mode": "r",
   "file_extension": ".r",
   "mimetype": "text/x-r-source",
   "name": "R",
   "pygments_lexer": "r",
   "version": "3.3.1"
  }
 },
 "nbformat": 4,
 "nbformat_minor": 0
}
