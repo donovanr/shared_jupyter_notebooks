{
 "cells": [
  {
   "cell_type": "code",
   "execution_count": 1,
   "metadata": {
    "collapsed": false
   },
   "outputs": [
    {
     "name": "stderr",
     "output_type": "stream",
     "text": [
      "Loading required package: Matrix\n",
      "Loading required package: foreach\n",
      "Loaded glmnet 2.0-5\n",
      "\n"
     ]
    }
   ],
   "source": [
    "library(glmnet)\n",
    "library(Matrix)"
   ]
  },
  {
   "cell_type": "markdown",
   "metadata": {},
   "source": [
    "## Generate data at 10 time points"
   ]
  },
  {
   "cell_type": "code",
   "execution_count": 2,
   "metadata": {
    "collapsed": false
   },
   "outputs": [],
   "source": [
    "N <- 50\n",
    "P <- 100\n",
    "sigma <- 2.0\n",
    "beta_kernel <- c(1,2,3,4,5,4,3,2,1)\n",
    "X_time_corr <- 0.75\n",
    "time_points <- c(1:11)\n",
    "\n",
    "beta <- matrix(nrow = P, ncol = length(time_points))\n",
    "X <- list()\n",
    "y <- list()\n",
    "\n",
    "# crucial to scale X and y, otherwise solutions are different\n",
    "for (t in time_points) {\n",
    "    beta[,t] <- c(rep(0, t-1), beta_kernel, rep(0, P-length(beta_kernel)-(t-1)))\n",
    "    if (t==1){\n",
    "        X[[t]] <- scale(matrix(rnorm(N*P,mean=0,sd=1), N, P))\n",
    "    } else {\n",
    "        X[[t]] <- scale(X_time_corr*X[[t-1]] + (1-X_time_corr)*matrix(rnorm(N*P,mean=0,sd=1), N, P))\n",
    "    }\n",
    "    y[[t]] <- scale(X[[t]] %*% beta[,t] + rnorm(N, mean=0, sd=sigma))\n",
    "}"
   ]
  },
  {
   "cell_type": "code",
   "execution_count": 3,
   "metadata": {
    "collapsed": true
   },
   "outputs": [],
   "source": [
    "colfunc <- colorRampPalette(c(\"white\", \"black\"))"
   ]
  },
  {
   "cell_type": "code",
   "execution_count": 38,
   "metadata": {
    "collapsed": false
   },
   "outputs": [
    {
     "data": {
      "image/png": "[encoded data removed]",
      "text/plain": [
       "plot without title"
      ]
     },
     "metadata": {},
     "output_type": "display_data"
    }
   ],
   "source": [
    "image(t(beta), col=colfunc(10))"
   ]
  },
  {
   "cell_type": "markdown",
   "metadata": {},
   "source": [
    "## pick reasonable lambda and alpha values"
   ]
  },
  {
   "cell_type": "code",
   "execution_count": 5,
   "metadata": {
    "collapsed": false
   },
   "outputs": [],
   "source": [
    "alpha_reasonable_value <- 0.75\n",
    "lambda_reasonable_value <- 0.35"
   ]
  },
  {
   "cell_type": "markdown",
   "metadata": {},
   "source": [
    "## uncoupled solution"
   ]
  },
  {
   "cell_type": "code",
   "execution_count": 24,
   "metadata": {
    "collapsed": false
   },
   "outputs": [],
   "source": [
    "beta_hat <- matrix(nrow = P, ncol = length(time_points))\n",
    "for (t in time_points) {\n",
    "    fit <- glmnet(X[[t]], y[[t]], alpha=alpha_reasonable_value, lambda=lambda_reasonable_value,\n",
    "                 intercept=FALSE, standardize=FALSE)\n",
    "    beta_hat[,t] <- as.vector(fit$beta)\n",
    "}"
   ]
  },
  {
   "cell_type": "code",
   "execution_count": 39,
   "metadata": {
    "collapsed": false
   },
   "outputs": [
    {
     "data": {
      "image/png": "[encoded data removed]",
      "text/plain": [
       "plot without title"
      ]
     },
     "metadata": {},
     "output_type": "display_data"
    }
   ],
   "source": [
    "image(t(beta_hat), col=colfunc(10))"
   ]
  },
  {
   "cell_type": "markdown",
   "metadata": {},
   "source": [
    "## coupled solution"
   ]
  },
  {
   "cell_type": "markdown",
   "metadata": {},
   "source": [
    "### pick a coefficient to couple betas across time points"
   ]
  },
  {
   "cell_type": "code",
   "execution_count": 8,
   "metadata": {
    "collapsed": true
   },
   "outputs": [],
   "source": [
    "eta <- 0.0"
   ]
  },
  {
   "cell_type": "code",
   "execution_count": 9,
   "metadata": {
    "collapsed": false
   },
   "outputs": [],
   "source": [
    "X_star <- list()\n",
    "for (t in time_points) {\n",
    "    X_star[[t]] <- rbind(X[[t]], sqrt(N*eta)*diag(P))\n",
    "}"
   ]
  },
  {
   "cell_type": "markdown",
   "metadata": {},
   "source": [
    "### fit the first time point and use that to initiate the couplings"
   ]
  },
  {
   "cell_type": "code",
   "execution_count": 33,
   "metadata": {
    "collapsed": false
   },
   "outputs": [],
   "source": [
    "beta_hat_coupled <- matrix(nrow = P, ncol = length(time_points))\n",
    "y_star <- list()\n",
    "for (t in time_points) {\n",
    "    if (t==1) {\n",
    "        y_star[[t]] <- c(y[[t]], rep(0,P))\n",
    "    } else {\n",
    "        y_star[[t]] <- c(y[[t]], sqrt(N*eta)*beta_hat_coupled[,t-1])\n",
    "    }\n",
    "    fit.t <- glmnet(X_star[[t]], y_star[[t]], alpha=alpha_reasonable_value, lambda=1.0*lambda_reasonable_value,\n",
    "                    intercept=FALSE, standardize=FALSE)\n",
    "    beta_hat_coupled[,t] <- as.vector(fit.t$beta)\n",
    "}"
   ]
  },
  {
   "cell_type": "code",
   "execution_count": 40,
   "metadata": {
    "collapsed": false
   },
   "outputs": [
    {
     "data": {
      "image/png": "[encoded data removed]",
      "text/plain": [
       "plot without title"
      ]
     },
     "metadata": {},
     "output_type": "display_data"
    }
   ],
   "source": [
    "image(t(beta_hat_coupled), col=colfunc(10))"
   ]
  },
  {
   "cell_type": "code",
   "execution_count": 35,
   "metadata": {
    "collapsed": false
   },
   "outputs": [
    {
     "data": {
      "text/html": [
       "0.948181818181818"
      ],
      "text/latex": [
       "0.948181818181818"
      ],
      "text/markdown": [
       "0.948181818181818"
      ],
      "text/plain": [
       "[1] 0.9481818"
      ]
     },
     "metadata": {},
     "output_type": "display_data"
    }
   ],
   "source": [
    "mean(beta_hat == beta_hat_coupled)"
   ]
  },
  {
   "cell_type": "code",
   "execution_count": 36,
   "metadata": {
    "collapsed": false
   },
   "outputs": [
    {
     "data": {
      "text/html": [
       "0"
      ],
      "text/latex": [
       "0"
      ],
      "text/markdown": [
       "0"
      ],
      "text/plain": [
       "[1] 0"
      ]
     },
     "metadata": {},
     "output_type": "display_data"
    }
   ],
   "source": [
    "mean(beta_hat[beta_hat>0] == beta_hat_coupled[beta_hat>0])"
   ]
  },
  {
   "cell_type": "code",
   "execution_count": 37,
   "metadata": {
    "collapsed": false
   },
   "outputs": [
    {
     "data": {
      "text/html": [
       "NaN"
      ],
      "text/latex": [
       "NaN"
      ],
      "text/markdown": [
       "NaN"
      ],
      "text/plain": [
       "[1] NaN"
      ]
     },
     "metadata": {},
     "output_type": "display_data"
    }
   ],
   "source": [
    "mean(beta_hat[beta_hat_coupled>0] == beta_hat_coupled[beta_hat_coupled>0])"
   ]
  },
  {
   "cell_type": "markdown",
   "metadata": {},
   "source": [
    "## couple forwards and backwards, iterate until all betas converge"
   ]
  },
  {
   "cell_type": "code",
   "execution_count": null,
   "metadata": {
    "collapsed": true
   },
   "outputs": [],
   "source": []
  }
 ],
 "metadata": {
  "anaconda-cloud": {},
  "kernelspec": {
   "display_name": "R",
   "language": "R",
   "name": "ir"
  },
  "language_info": {
   "codemirror_mode": "r",
   "file_extension": ".r",
   "mimetype": "text/x-r-source",
   "name": "R",
   "pygments_lexer": "r",
   "version": "3.3.1"
  }
 },
 "nbformat": 4,
 "nbformat_minor": 0
}
